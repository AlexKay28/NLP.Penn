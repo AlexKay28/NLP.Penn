{
 "cells": [
  {
   "cell_type": "code",
   "execution_count": 1,
   "metadata": {},
   "outputs": [],
   "source": [
    "import pandas as pd\n",
    "from sklearn.utils import shuffle\n",
    "import numpy as np\n",
    "from sklearn.model_selection import train_test_split, StratifiedKFold"
   ]
  },
  {
   "cell_type": "code",
   "execution_count": 2,
   "metadata": {},
   "outputs": [
    {
     "data": {
      "text/plain": [
       "(            class                                              tweet\n",
       " 275    __label__0  inside 60's people needed acidity to create th...\n",
       " 2447   __label__0  “@kingkerbyy: my throat hurts so much, especia...\n",
       " 6784   __label__0  i can totally see people naming their kid latu...\n",
       " 14494  __label__0                                        why tamiflu\n",
       " 8394   __label__0                eliquis may make you bleed to death\n",
       " ...           ...                                                ...\n",
       " 13702  __label__0  24hrs went from 100-0 lol jack &amp; ginger la...\n",
       " 4491   __label__1  @furrowedfox cymbalta is especially weird i’ve...\n",
       " 6648   __label__0  idk what victoza is supposed to do but the com...\n",
       " 10397  __label__0  @thebpdqueen took geodon during 1st pregnancy ...\n",
       " 4754   __label__0  \"@uberfacts: bananas contain a natural chemica...\n",
       " \n",
       " [16435 rows x 2 columns],\n",
       "             class                                              tweet\n",
       " 16187  __label__0  i need soup, painkillers and a ventolin inhale...\n",
       " 10263  __label__0  \"@swankpharm: is thalidomide finding its way b...\n",
       " 13930  __label__0  @tanni_gt have you got plenty of imodium ! lol...\n",
       " 17871  __label__0              some guys slip roofies i slip miralax\n",
       " 17936  __label__0  serious lah kim karo antara calon time's perso...\n",
       " ...           ...                                                ...\n",
       " 4652   __label__0  time to clean, write cards, make kandi and pla...\n",
       " 11282  __label__0  @tiffsasaint i had it last week. get an rx for...\n",
       " 19204  __label__0  @gosquirrels p adalberto mejia gets 50 game su...\n",
       " 9403   __label__0  @colcam81 i've been on tysabri for about 3year...\n",
       " 18444  __label__0  meridia acts like gta is her real life. she ta...\n",
       " \n",
       " [4109 rows x 2 columns])"
      ]
     },
     "execution_count": 2,
     "metadata": {},
     "output_type": "execute_result"
    }
   ],
   "source": [
    "#df = pd.read_csv('../task2_data/data2_ex.csv')[['class', 'tweet']]\n",
    "df = pd.read_csv('../task2_data/task2_en_training.tsv', sep='\\t')[['class', 'tweet']]\n",
    "df['class'] = df['class'].apply(lambda x: '__label__' + str(x))\n",
    "\n",
    "df = df.iloc[np.random.permutation(len(df))]\n",
    "df_train, df_test = train_test_split(df , test_size=0.2)\n",
    "\n",
    "df_train[['class', 'tweet']].to_csv('TRAIN.txt', header=False, index=False, sep=\"\\t\")\n",
    "df_test[['class', 'tweet']].to_csv('TEST.txt', header=False, index=False, sep=\"\\t\")\n",
    "df_train, df_test"
   ]
  },
  {
   "cell_type": "code",
   "execution_count": 3,
   "metadata": {},
   "outputs": [
    {
     "name": "stdout",
     "output_type": "stream",
     "text": [
      "the best accuracy:\n",
      "0.9184716476028231 on the 5 epoch\n"
     ]
    }
   ],
   "source": [
    "import fasttext\n",
    "\n",
    "graph = []\n",
    "maxima, maxima_idx = 0, 0\n",
    "\n",
    "for epoch in range(15):\n",
    "    model = fasttext.train_supervised(input='TRAIN.txt', epoch=epoch)\n",
    "    All, Pos = 0, 0\n",
    "    for (clas, tweet) in zip(df_test['class'], df_test['tweet']):\n",
    "        All += 1\n",
    "        if int(clas[-1]) == int(model.predict(tweet, k=2)[0][0][-1]): \n",
    "            #print(int(clas[-1]),int(model.predict(tweet, k=2)[0][0][-1]))\n",
    "            Pos += 1\n",
    "    graph.append(Pos/All)\n",
    "    if Pos/All > maxima: maxima, maxima_idx = Pos/All, epoch\n",
    "\n",
    "print(\"the best accuracy:\")\n",
    "print(maxima, f'on the {maxima_idx} epoch')\n"
   ]
  },
  {
   "cell_type": "code",
   "execution_count": 4,
   "metadata": {},
   "outputs": [
    {
     "data": {
      "text/plain": [
       "<matplotlib.axes._subplots.AxesSubplot at 0x7fbcca41b290>"
      ]
     },
     "execution_count": 4,
     "metadata": {},
     "output_type": "execute_result"
    }
   ],
   "source": [
    "graph = pd.DataFrame(graph)\n",
    "graph.plot(figsize=(15,5))"
   ]
  },
  {
   "cell_type": "code",
   "execution_count": 5,
   "metadata": {},
   "outputs": [
    {
     "data": {
      "text/plain": [
       "array([ 0.00195665,  0.02112359, -0.00465235, -0.00536614,  0.02717513,\n",
       "        0.02771458, -0.01600133, -0.00541279,  0.03336415,  0.03271822,\n",
       "       -0.02329163,  0.02708048,  0.00403432,  0.04167367, -0.00319119,\n",
       "        0.00165758,  0.00658411, -0.00110669, -0.00489333, -0.03105083,\n",
       "       -0.01304516,  0.02943118,  0.01084871, -0.02222642, -0.00597523,\n",
       "       -0.0203521 ,  0.01402978, -0.01767584, -0.01227832,  0.03001377,\n",
       "       -0.00042087,  0.00827276, -0.03124759, -0.02529068, -0.05435429,\n",
       "        0.00383348, -0.00233029, -0.02969841, -0.01530723, -0.01727826,\n",
       "        0.01522406,  0.03464001,  0.020714  ,  0.02246993,  0.02007951,\n",
       "       -0.0104899 ,  0.02386948, -0.00921245, -0.00887349,  0.01994853,\n",
       "       -0.04415656,  0.00363868, -0.02829388,  0.01761301, -0.01937871,\n",
       "       -0.01034384,  0.00396115,  0.00301032,  0.01878952,  0.02140084,\n",
       "       -0.00506342,  0.02538495,  0.03994378,  0.02090154, -0.02159301,\n",
       "        0.00186988, -0.03033377,  0.02001515,  0.01724798,  0.0117203 ,\n",
       "       -0.03138836,  0.02929884,  0.00041217,  0.00220421, -0.01323862,\n",
       "        0.00940504,  0.03446822,  0.02418248,  0.00370323, -0.01006934,\n",
       "       -0.00845599,  0.0186213 ,  0.04365253, -0.00586791, -0.00565511,\n",
       "       -0.02357505,  0.00913086,  0.0274613 , -0.02330423, -0.01647228,\n",
       "        0.04458099,  0.00068543,  0.05990916, -0.03370321, -0.01078557,\n",
       "       -0.042713  , -0.01329727,  0.02474163, -0.02402929, -0.03229375],\n",
       "      dtype=float32)"
      ]
     },
     "execution_count": 5,
     "metadata": {},
     "output_type": "execute_result"
    }
   ],
   "source": [
    "model.get_word_vector('shot')"
   ]
  },
  {
   "cell_type": "markdown",
   "metadata": {},
   "source": [
    "# Получаем векторизованные представления твитов при помощи построенной модели..."
   ]
  },
  {
   "cell_type": "code",
   "execution_count": 6,
   "metadata": {},
   "outputs": [],
   "source": [
    "import sys\n",
    "import time\n",
    "\n",
    "def avg_sentence_fasttext(sentence):\n",
    "    set_sentence = sentence.split(' ')\n",
    "    count = len(set_sentence)\n",
    "    for n, word in enumerate(set_sentence):\n",
    "        if n == 0: \n",
    "            current_sentense = model.get_word_vector(word)\n",
    "        else:\n",
    "            current_sentense += model.get_word_vector(word)\n",
    "    return current_sentense/count\n",
    "\n",
    "# можно получить список твитов сразу\n",
    "def combine_all_tweets(df, coloumn='tweet'):\n",
    "    all_tweets = []\n",
    "    for tweet in df['tweet']:\n",
    "        vec_tweet = avg_sentence_fasttext(tweet)\n",
    "        all_tweets.append(vec_tweet)\n",
    "    return np.array(all_tweets)"
   ]
  },
  {
   "cell_type": "code",
   "execution_count": 7,
   "metadata": {},
   "outputs": [
    {
     "data": {
      "text/html": [
       "<div>\n",
       "<style scoped>\n",
       "    .dataframe tbody tr th:only-of-type {\n",
       "        vertical-align: middle;\n",
       "    }\n",
       "\n",
       "    .dataframe tbody tr th {\n",
       "        vertical-align: top;\n",
       "    }\n",
       "\n",
       "    .dataframe thead th {\n",
       "        text-align: right;\n",
       "    }\n",
       "</style>\n",
       "<table border=\"1\" class=\"dataframe\">\n",
       "  <thead>\n",
       "    <tr style=\"text-align: right;\">\n",
       "      <th></th>\n",
       "      <th>class</th>\n",
       "      <th>tweet</th>\n",
       "    </tr>\n",
       "  </thead>\n",
       "  <tbody>\n",
       "    <tr>\n",
       "      <td>8604</td>\n",
       "      <td>__label__0</td>\n",
       "      <td>my step dad just told me i need to take latuda...</td>\n",
       "    </tr>\n",
       "    <tr>\n",
       "      <td>17890</td>\n",
       "      <td>__label__0</td>\n",
       "      <td>@jusmissk @drtlaleng @anatome_ darvocet worked...</td>\n",
       "    </tr>\n",
       "    <tr>\n",
       "      <td>4549</td>\n",
       "      <td>__label__0</td>\n",
       "      <td>@skdny humira starting to help at all?</td>\n",
       "    </tr>\n",
       "    <tr>\n",
       "      <td>17888</td>\n",
       "      <td>__label__0</td>\n",
       "      <td>in the service of meridia #skyrim http://t.co/...</td>\n",
       "    </tr>\n",
       "    <tr>\n",
       "      <td>13034</td>\n",
       "      <td>__label__0</td>\n",
       "      <td>@estelle_lucas imodium tablets. always take th...</td>\n",
       "    </tr>\n",
       "    <tr>\n",
       "      <td>...</td>\n",
       "      <td>...</td>\n",
       "      <td>...</td>\n",
       "    </tr>\n",
       "    <tr>\n",
       "      <td>17415</td>\n",
       "      <td>__label__0</td>\n",
       "      <td>\"is that a nuvaring on your foot?\" @heidi_gold...</td>\n",
       "    </tr>\n",
       "    <tr>\n",
       "      <td>14276</td>\n",
       "      <td>__label__0</td>\n",
       "      <td>oxycodone is bae right meow lol</td>\n",
       "    </tr>\n",
       "    <tr>\n",
       "      <td>3788</td>\n",
       "      <td>__label__0</td>\n",
       "      <td>i want vyvanse in my life right now.</td>\n",
       "    </tr>\n",
       "    <tr>\n",
       "      <td>7286</td>\n",
       "      <td>__label__0</td>\n",
       "      <td>@tmccallahan yup metformin 500mgs x4 a day jan...</td>\n",
       "    </tr>\n",
       "    <tr>\n",
       "      <td>7804</td>\n",
       "      <td>__label__0</td>\n",
       "      <td>fuck me i g0t a right sh0ck when i saw my vide...</td>\n",
       "    </tr>\n",
       "  </tbody>\n",
       "</table>\n",
       "<p>20544 rows × 2 columns</p>\n",
       "</div>"
      ],
      "text/plain": [
       "            class                                              tweet\n",
       "8604   __label__0  my step dad just told me i need to take latuda...\n",
       "17890  __label__0  @jusmissk @drtlaleng @anatome_ darvocet worked...\n",
       "4549   __label__0             @skdny humira starting to help at all?\n",
       "17888  __label__0  in the service of meridia #skyrim http://t.co/...\n",
       "13034  __label__0  @estelle_lucas imodium tablets. always take th...\n",
       "...           ...                                                ...\n",
       "17415  __label__0  \"is that a nuvaring on your foot?\" @heidi_gold...\n",
       "14276  __label__0                    oxycodone is bae right meow lol\n",
       "3788   __label__0               i want vyvanse in my life right now.\n",
       "7286   __label__0  @tmccallahan yup metformin 500mgs x4 a day jan...\n",
       "7804   __label__0  fuck me i g0t a right sh0ck when i saw my vide...\n",
       "\n",
       "[20544 rows x 2 columns]"
      ]
     },
     "execution_count": 7,
     "metadata": {},
     "output_type": "execute_result"
    }
   ],
   "source": [
    "dff = df\n",
    "dff"
   ]
  },
  {
   "cell_type": "code",
   "execution_count": 8,
   "metadata": {},
   "outputs": [],
   "source": [
    "#df = pd.read_csv('../task2_data/data2_ex.csv')[['class', 'tweet']]\n",
    "\n",
    "for i in range(len(dff['tweet'])):\n",
    "    dff['tweet'][i] = np.array(avg_sentence_fasttext(dff['tweet'][i]))"
   ]
  },
  {
   "cell_type": "code",
   "execution_count": 9,
   "metadata": {},
   "outputs": [
    {
     "data": {
      "text/html": [
       "<div>\n",
       "<style scoped>\n",
       "    .dataframe tbody tr th:only-of-type {\n",
       "        vertical-align: middle;\n",
       "    }\n",
       "\n",
       "    .dataframe tbody tr th {\n",
       "        vertical-align: top;\n",
       "    }\n",
       "\n",
       "    .dataframe thead th {\n",
       "        text-align: right;\n",
       "    }\n",
       "</style>\n",
       "<table border=\"1\" class=\"dataframe\">\n",
       "  <thead>\n",
       "    <tr style=\"text-align: right;\">\n",
       "      <th></th>\n",
       "      <th>class</th>\n",
       "      <th>tweet</th>\n",
       "    </tr>\n",
       "  </thead>\n",
       "  <tbody>\n",
       "    <tr>\n",
       "      <td>8604</td>\n",
       "      <td>__label__0</td>\n",
       "      <td>[-0.00064820127, 0.008340099, -0.0024124484, -...</td>\n",
       "    </tr>\n",
       "    <tr>\n",
       "      <td>17890</td>\n",
       "      <td>__label__0</td>\n",
       "      <td>[0.00073093025, -0.0010084326, 0.0021366323, 0...</td>\n",
       "    </tr>\n",
       "    <tr>\n",
       "      <td>4549</td>\n",
       "      <td>__label__0</td>\n",
       "      <td>[0.00097038207, 0.0065289647, -0.0046977303, -...</td>\n",
       "    </tr>\n",
       "    <tr>\n",
       "      <td>17888</td>\n",
       "      <td>__label__0</td>\n",
       "      <td>[-0.0059357383, 0.028732834, -0.012219287, -0....</td>\n",
       "    </tr>\n",
       "    <tr>\n",
       "      <td>13034</td>\n",
       "      <td>__label__0</td>\n",
       "      <td>[-0.00036741156, 0.017712584, -0.0073990156, -...</td>\n",
       "    </tr>\n",
       "    <tr>\n",
       "      <td>...</td>\n",
       "      <td>...</td>\n",
       "      <td>...</td>\n",
       "    </tr>\n",
       "    <tr>\n",
       "      <td>17415</td>\n",
       "      <td>__label__0</td>\n",
       "      <td>[0.0011150655, 0.0143798115, -0.0075835353, -0...</td>\n",
       "    </tr>\n",
       "    <tr>\n",
       "      <td>14276</td>\n",
       "      <td>__label__0</td>\n",
       "      <td>[0.0035060775, -0.002282875, 0.0012057559, -0....</td>\n",
       "    </tr>\n",
       "    <tr>\n",
       "      <td>3788</td>\n",
       "      <td>__label__0</td>\n",
       "      <td>[0.0037786397, -0.013342995, 0.008682513, 0.00...</td>\n",
       "    </tr>\n",
       "    <tr>\n",
       "      <td>7286</td>\n",
       "      <td>__label__0</td>\n",
       "      <td>[0.00048135855, 0.00028256123, 0.0035020502, 0...</td>\n",
       "    </tr>\n",
       "    <tr>\n",
       "      <td>7804</td>\n",
       "      <td>__label__0</td>\n",
       "      <td>[0.0010437175, 6.555556e-05, 0.0012534849, -8....</td>\n",
       "    </tr>\n",
       "  </tbody>\n",
       "</table>\n",
       "<p>20544 rows × 2 columns</p>\n",
       "</div>"
      ],
      "text/plain": [
       "            class                                              tweet\n",
       "8604   __label__0  [-0.00064820127, 0.008340099, -0.0024124484, -...\n",
       "17890  __label__0  [0.00073093025, -0.0010084326, 0.0021366323, 0...\n",
       "4549   __label__0  [0.00097038207, 0.0065289647, -0.0046977303, -...\n",
       "17888  __label__0  [-0.0059357383, 0.028732834, -0.012219287, -0....\n",
       "13034  __label__0  [-0.00036741156, 0.017712584, -0.0073990156, -...\n",
       "...           ...                                                ...\n",
       "17415  __label__0  [0.0011150655, 0.0143798115, -0.0075835353, -0...\n",
       "14276  __label__0  [0.0035060775, -0.002282875, 0.0012057559, -0....\n",
       "3788   __label__0  [0.0037786397, -0.013342995, 0.008682513, 0.00...\n",
       "7286   __label__0  [0.00048135855, 0.00028256123, 0.0035020502, 0...\n",
       "7804   __label__0  [0.0010437175, 6.555556e-05, 0.0012534849, -8....\n",
       "\n",
       "[20544 rows x 2 columns]"
      ]
     },
     "execution_count": 9,
     "metadata": {},
     "output_type": "execute_result"
    }
   ],
   "source": [
    "# записал в файл\n",
    "dff.to_csv('../task2_data/data2_fasttext.csv', index=False)\n",
    "dff"
   ]
  },
  {
   "cell_type": "markdown",
   "metadata": {},
   "source": [
    "**немного кривоты.. не стал заниматься проблемами экспорта-импорта, сразу проверяю модель SVM на векторах FastText**"
   ]
  },
  {
   "cell_type": "code",
   "execution_count": 10,
   "metadata": {},
   "outputs": [
    {
     "name": "stdout",
     "output_type": "stream",
     "text": [
      "(16435,) (4109,) (16435,) (4109,)\n",
      "StratifiedKFold(n_splits=5, random_state=None, shuffle=False)\n",
      "Stratified K-Fold\n",
      "SVM F1 Score ->  88.414\n",
      "SVM F1 Score ->  85.678\n",
      "SVM F1 Score ->  85.732\n",
      "SVM F1 Score ->  84.375\n",
      "SVM F1 Score ->  83.598\n",
      "F1 average:\t 85.559 %\n",
      "F1 std:\t 1.64\n",
      "F1 var:\t 2.688\n",
      "\n"
     ]
    }
   ],
   "source": [
    "from sklearn.feature_extraction.text import CountVectorizer, TfidfVectorizer\n",
    "from sklearn.svm import SVC\n",
    "from sklearn.metrics import roc_auc_score, accuracy_score, f1_score, classification_report\n",
    "from sklearn.model_selection import train_test_split, StratifiedKFold\n",
    "\n",
    "Train = dff.iloc[np.random.permutation(len(dff))]\n",
    "\n",
    "X = Train['tweet']\n",
    "Y = Train['class']\n",
    "\n",
    "X_train, X_test, y_train, y_test = train_test_split(X, Y , test_size=0.2)\n",
    "print(X_train.shape, X_test.shape, y_train.shape, y_test.shape)\n",
    "\n",
    "f1=[] # array of f1 scores \n",
    "skf = StratifiedKFold(n_splits=5)\n",
    "skf.get_n_splits(X, Y)\n",
    "print(skf)\n",
    "\n",
    "\n",
    "print('Stratified K-Fold')\n",
    "for train_index, test_index in skf.split(X, Y):\n",
    "    X_train, X_test = X[train_index], X[test_index]\n",
    "    y_train, y_test = Y[train_index], Y[test_index]\n",
    "    \n",
    "    X_train = [np.array(X_train)[i] for i in range(len(X_train))]\n",
    "    y_train = [np.array(y_train)[i] for i in range(len(y_train))]\n",
    "\n",
    "    X_test = [np.array(X_test)[i] for i in range(len(X_test))]\n",
    "    y_test = [np.array(y_test)[i] for i in range(len(y_test))]\n",
    "\n",
    "    SVM = SVC(kernel='linear')\n",
    "    SVM.fit(X_train,y_train)\n",
    "\n",
    "    predictions_SVM = SVM.predict(X_test)\n",
    "    f1.append(round(f1_score(predictions_SVM, y_test, average='macro')*100,3))\n",
    "    print(\"SVM F1 Score -> \", f1[-1])\n",
    "\n",
    "# avg f1\n",
    "print(f'F1 average:\\t {round(np.array(f1).mean(), 3)} %')\n",
    "print(f'F1 std:\\t {round(np.array(f1).std(), 3)}')\n",
    "print(f'F1 var:\\t {round(np.array(f1).var(), 3)}')\n",
    "print()"
   ]
  },
  {
   "cell_type": "code",
   "execution_count": 11,
   "metadata": {},
   "outputs": [
    {
     "name": "stdout",
     "output_type": "stream",
     "text": [
      "              precision    recall  f1-score   support\n",
      "\n",
      "  __label__0       0.94      0.98      0.96      3572\n",
      "  __label__1       0.85      0.61      0.71       536\n",
      "\n",
      "    accuracy                           0.93      4108\n",
      "   macro avg       0.90      0.80      0.84      4108\n",
      "weighted avg       0.93      0.93      0.93      4108\n",
      "\n"
     ]
    }
   ],
   "source": [
    "print(classification_report(y_test, predictions_SVM))"
   ]
  },
  {
   "cell_type": "markdown",
   "metadata": {},
   "source": [
    "**прикол с палкой**"
   ]
  },
  {
   "cell_type": "code",
   "execution_count": 12,
   "metadata": {},
   "outputs": [
    {
     "name": "stdout",
     "output_type": "stream",
     "text": []
    }
   ],
   "source": [
    "import sys\n",
    "import time\n",
    "\n",
    "def spinning_cursor():\n",
    "    while True:\n",
    "        for cursor in '|/-\\\\':\n",
    "            yield cursor\n",
    "\n",
    "spinner = spinning_cursor()\n",
    "for _ in range(50):\n",
    "    sys.stdout.write(next(spinner))\n",
    "    sys.stdout.flush()\n",
    "    time.sleep(0.1)\n",
    "    sys.stdout.write('\\b')"
   ]
  },
  {
   "cell_type": "code",
   "execution_count": 13,
   "metadata": {},
   "outputs": [],
   "source": [
    "import numpy as np\n",
    "tweets = df_test['tweet'].to_list()"
   ]
  },
  {
   "cell_type": "code",
   "execution_count": 14,
   "metadata": {},
   "outputs": [
    {
     "name": "stdout",
     "output_type": "stream",
     "text": [
      "SVM Accuracy Score ->  91.82282793867121\n",
      "SVM F1 Score ->  39.78494623655913\n",
      "SVM Roc_auc Score ->  79.31231790466464\n"
     ]
    }
   ],
   "source": [
    "\n",
    "model = fasttext.train_supervised(input='TRAIN.txt', epoch=maxima_idx)\n",
    "predictions = model.predict(tweets, k=2)\n",
    "\n",
    "predictions = [int(pred[0][-1]) for pred in predictions[0]]\n",
    "tests = [int(test[-1]) for test in df_test['class']]\n",
    "\n",
    "from sklearn.metrics import roc_auc_score, accuracy_score, f1_score\n",
    "\n",
    "print(\"SVM Accuracy Score -> \", accuracy_score(predictions, tests)*100)\n",
    "print(\"SVM F1 Score -> \", f1_score(predictions, tests)*100)\n",
    "print(\"SVM Roc_auc Score -> \", roc_auc_score(predictions, tests)*100)"
   ]
  }
 ],
 "metadata": {
  "kernelspec": {
   "display_name": "Python 3",
   "language": "python",
   "name": "python3"
  },
  "language_info": {
   "codemirror_mode": {
    "name": "ipython",
    "version": 3
   },
   "file_extension": ".py",
   "mimetype": "text/x-python",
   "name": "python",
   "nbconvert_exporter": "python",
   "pygments_lexer": "ipython3",
   "version": "3.7.4"
  }
 },
 "nbformat": 4,
 "nbformat_minor": 2
}
