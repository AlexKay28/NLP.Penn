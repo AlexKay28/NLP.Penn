{
 "cells": [
  {
   "cell_type": "code",
   "execution_count": 8,
   "metadata": {},
   "outputs": [],
   "source": [
    "from sklearn.feature_extraction.text import CountVectorizer, TfidfVectorizer\n",
    "import pandas as pd \n",
    "import numpy as np\n",
    "from sklearn.svm import SVC\n",
    "from sklearn.metrics import roc_auc_score, accuracy_score, f1_score\n",
    "from sklearn.model_selection import train_test_split"
   ]
  },
  {
   "cell_type": "code",
   "execution_count": null,
   "metadata": {},
   "outputs": [],
   "source": [
    "#Load the data into Pandas dataframe\n",
    "df = pd.read_csv('../task2_data/task2_en_training.tsv', sep='\\t')[['class', 'tweet']]\n",
    "df['class'] = df['class'].apply(lambda x: int(x))\n",
    "\n",
    "df = df.iloc[np.random.permutation(len(df))]\n",
    "\n",
    "X = df['tweet']\n",
    "Y = df['class']\n",
    "\n",
    "X_train, X_test, y_train, y_test = train_test_split(X, Y , test_size=0.2)\n",
    "\n",
    "tfidf = TfidfVectorizer()\n",
    "tfidf.fit(X_train)\n",
    "X_train = tfidf.transform(X_train)\n",
    "X_test = tfidf.transform(X_test)\n",
    "\n",
    "type(X_train), type(y_train)"
   ]
  },
  {
   "cell_type": "code",
   "execution_count": 11,
   "metadata": {},
   "outputs": [
    {
     "name": "stdout",
     "output_type": "stream",
     "text": [
      "(2246, 2) (2246, 2)\n",
      "(560, 2) (560, 2)\n"
     ]
    }
   ],
   "source": [
    "df1 = pd.read_csv('../task3_data/task3_training.tsv', sep='\\t')[['type', 'tweet']]\n",
    "df1 = df1.fillna(0)\n",
    "df1 = df1.replace('ADR', 1)\n",
    "df1 = df1.iloc[np.random.permutation(len(df1))]\n",
    "Train = df1\n",
    "\n",
    "df2 = pd.read_csv('../task3_data/task3_validation.tsv', sep='\\t')[['type', 'tweet']]\n",
    "df2 = df2.fillna(0)\n",
    "df2 = df2.replace('ADR', 1)\n",
    "df2 = df2.iloc[np.random.permutation(len(df2))]\n",
    "df2 = df2.dropna()\n",
    "Test = df2\n",
    "\n",
    "print(Train.shape, Train.shape)\n",
    "#Train_set = pd.concat([Train_set, Test_set])\n",
    "print(Test.shape, Test.shape)\n",
    "\n",
    "X_train = Train['tweet']\n",
    "y_train = Train['type']\n",
    "\n",
    "X_test = Test['tweet']\n",
    "y_test = Test['type']\n",
    "\n",
    "tfidf = TfidfVectorizer()\n",
    "tfidf.fit(X_train)\n",
    "\n",
    "X_train = tfidf.transform(X_train)\n",
    "X_test = tfidf.transform(X_test)"
   ]
  },
  {
   "cell_type": "code",
   "execution_count": 12,
   "metadata": {},
   "outputs": [
    {
     "data": {
      "application/vnd.jupyter.widget-view+json": {
       "model_id": "",
       "version_major": 2,
       "version_minor": 0
      },
      "text/plain": [
       "HBox(children=(IntProgress(value=0, description='Optimization Progress', max=300, style=ProgressStyle(descript…"
      ]
     },
     "metadata": {},
     "output_type": "display_data"
    },
    {
     "name": "stdout",
     "output_type": "stream",
     "text": [
      "Generation 1 - Current best internal CV score: 0.8107674388811421\n",
      "Generation 2 - Current best internal CV score: 0.8107674388811421\n",
      "Generation 3 - Current best internal CV score: 0.8107674388811421\n",
      "Generation 4 - Current best internal CV score: 0.8107674388811421\n",
      "Generation 5 - Current best internal CV score: 0.8107674388811421\n",
      "\n",
      "Best pipeline: BernoulliNB(input_matrix, alpha=0.1, fit_prior=False)\n",
      "\n",
      "The best TPOT score:  0.75177304964539\n"
     ]
    }
   ],
   "source": [
    "from tpot import TPOTClassifier\n",
    "import joblib\n",
    "from sklearn.metrics import classification_report\n",
    "from sklearn.metrics import roc_auc_score, accuracy_score, f1_score\n",
    "\n",
    "tpot = TPOTClassifier(generations=5,\n",
    "                      population_size=50,\n",
    "                      verbosity=2,\n",
    "                      random_state=42,\n",
    "                      config_dict='TPOT sparse',\n",
    "                      scoring='f1_macro', use_dask=True, n_jobs=3)\n",
    "tpot.fit(X_train, y_train)\n",
    "\n",
    "print()\n",
    "print('The best TPOT score: ', tpot.score(X_test, y_test))\n",
    "\n",
    "tpot.export('TPOT_Pipeline.py')"
   ]
  },
  {
   "cell_type": "code",
   "execution_count": 13,
   "metadata": {},
   "outputs": [
    {
     "name": "stdout",
     "output_type": "stream",
     "text": [
      "import numpy as np\n",
      "import pandas as pd\n",
      "from sklearn.model_selection import train_test_split\n",
      "from sklearn.naive_bayes import BernoulliNB\n",
      "\n",
      "# NOTE: Make sure that the outcome column is labeled 'target' in the data file\n",
      "tpot_data = pd.read_csv('PATH/TO/DATA/FILE', sep='COLUMN_SEPARATOR', dtype=np.float64)\n",
      "features = tpot_data.drop('target', axis=1)\n",
      "training_features, testing_features, training_target, testing_target = \\\n",
      "            train_test_split(features, tpot_data['target'], random_state=42)\n",
      "\n",
      "# Average CV score on the training set was: 0.8107674388811421\n",
      "exported_pipeline = BernoulliNB(alpha=0.1, fit_prior=False)\n",
      "# Fix random state in exported estimator\n",
      "if hasattr(exported_pipeline, 'random_state'):\n",
      "    setattr(exported_pipeline, 'random_state', 42)\n",
      "\n",
      "exported_pipeline.fit(training_features, training_target)\n",
      "results = exported_pipeline.predict(testing_features)\n"
     ]
    }
   ],
   "source": [
    "with open('TPOT_Pipeline.py') as file:\n",
    "    for line in file:\n",
    "        print(line, end='')"
   ]
  },
  {
   "cell_type": "code",
   "execution_count": null,
   "metadata": {},
   "outputs": [],
   "source": []
  }
 ],
 "metadata": {
  "kernelspec": {
   "display_name": "Python 3",
   "language": "python",
   "name": "python3"
  },
  "language_info": {
   "codemirror_mode": {
    "name": "ipython",
    "version": 3
   },
   "file_extension": ".py",
   "mimetype": "text/x-python",
   "name": "python",
   "nbconvert_exporter": "python",
   "pygments_lexer": "ipython3",
   "version": "3.7.4"
  }
 },
 "nbformat": 4,
 "nbformat_minor": 2
}
