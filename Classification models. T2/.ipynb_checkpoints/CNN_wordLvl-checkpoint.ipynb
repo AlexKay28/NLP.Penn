{
 "cells": [
  {
   "cell_type": "code",
   "execution_count": 1,
   "metadata": {},
   "outputs": [
    {
     "name": "stderr",
     "output_type": "stream",
     "text": [
      "Using TensorFlow backend.\n"
     ]
    }
   ],
   "source": [
    "from sklearn.model_selection import train_test_split\n",
    "from sklearn.preprocessing import LabelEncoder\n",
    "from keras.models import Model\n",
    "\n",
    "from keras.layers import Activation, Dense, Dropout, Input, Embedding, Bidirectional \n",
    "from keras.layers import Flatten, Conv1D, MaxPooling1D\n",
    "from keras.models import Model\n",
    "\n",
    "from keras.optimizers import RMSprop\n",
    "\n",
    "from keras.preprocessing.text import Tokenizer\n",
    "from keras.preprocessing.text import text_to_word_sequence\n",
    "from keras.preprocessing import sequence\n",
    "\n",
    "from keras.layers.normalization import BatchNormalization\n",
    "from keras.callbacks import EarlyStopping, ModelCheckpoint\n",
    "\n",
    "from keras.utils import to_categorical\n",
    "from keras.callbacks import EarlyStopping\n",
    "import pandas as pd\n",
    "import numpy as np\n",
    "\n",
    "from sklearn.utils import shuffle\n",
    "from sklearn.metrics import confusion_matrix\n",
    "\n",
    "import re\n",
    "\n",
    "import gensim\n",
    "#from pymystem3 import Mystem\n",
    "#from stanfordcorenlp import StanfordCoreNLP\n",
    "import spacy_udpipe"
   ]
  },
  {
   "cell_type": "code",
   "execution_count": 2,
   "metadata": {},
   "outputs": [
    {
     "data": {
      "text/html": [
       "<div>\n",
       "<style scoped>\n",
       "    .dataframe tbody tr th:only-of-type {\n",
       "        vertical-align: middle;\n",
       "    }\n",
       "\n",
       "    .dataframe tbody tr th {\n",
       "        vertical-align: top;\n",
       "    }\n",
       "\n",
       "    .dataframe thead th {\n",
       "        text-align: right;\n",
       "    }\n",
       "</style>\n",
       "<table border=\"1\" class=\"dataframe\">\n",
       "  <thead>\n",
       "    <tr style=\"text-align: right;\">\n",
       "      <th></th>\n",
       "      <th>tweet_id</th>\n",
       "      <th>user_id</th>\n",
       "      <th>class</th>\n",
       "      <th>tweet</th>\n",
       "    </tr>\n",
       "  </thead>\n",
       "  <tbody>\n",
       "    <tr>\n",
       "      <th>0</th>\n",
       "      <td>344266386467606528</td>\n",
       "      <td>809439366</td>\n",
       "      <td>0</td>\n",
       "      <td>depression hurts, cymbalta can help</td>\n",
       "    </tr>\n",
       "    <tr>\n",
       "      <th>1</th>\n",
       "      <td>349220537903489025</td>\n",
       "      <td>323112996</td>\n",
       "      <td>0</td>\n",
       "      <td>@jessicama20045 right, but cipro can make thin...</td>\n",
       "    </tr>\n",
       "    <tr>\n",
       "      <th>2</th>\n",
       "      <td>351421773079781378</td>\n",
       "      <td>713100330</td>\n",
       "      <td>0</td>\n",
       "      <td>@fibby1123 are you on paxil .. i need help</td>\n",
       "    </tr>\n",
       "    <tr>\n",
       "      <th>3</th>\n",
       "      <td>326594278472171520</td>\n",
       "      <td>543113070</td>\n",
       "      <td>0</td>\n",
       "      <td>@redicine the lamotrigine and sjs just made ch...</td>\n",
       "    </tr>\n",
       "    <tr>\n",
       "      <th>4</th>\n",
       "      <td>345567138376994816</td>\n",
       "      <td>138795534</td>\n",
       "      <td>0</td>\n",
       "      <td>have decided to skip my #humira shot today. my...</td>\n",
       "    </tr>\n",
       "  </tbody>\n",
       "</table>\n",
       "</div>"
      ],
      "text/plain": [
       "             tweet_id    user_id  class  \\\n",
       "0  344266386467606528  809439366      0   \n",
       "1  349220537903489025  323112996      0   \n",
       "2  351421773079781378  713100330      0   \n",
       "3  326594278472171520  543113070      0   \n",
       "4  345567138376994816  138795534      0   \n",
       "\n",
       "                                               tweet  \n",
       "0                depression hurts, cymbalta can help  \n",
       "1  @jessicama20045 right, but cipro can make thin...  \n",
       "2         @fibby1123 are you on paxil .. i need help  \n",
       "3  @redicine the lamotrigine and sjs just made ch...  \n",
       "4  have decided to skip my #humira shot today. my...  "
      ]
     },
     "execution_count": 2,
     "metadata": {},
     "output_type": "execute_result"
    }
   ],
   "source": [
    "df = pd.read_csv('../task2_data/task2_en_training.tsv',delimiter='\\t')\n",
    "df.head()"
   ]
  },
  {
   "cell_type": "code",
   "execution_count": 3,
   "metadata": {},
   "outputs": [
    {
     "name": "stdout",
     "output_type": "stream",
     "text": [
      "Already downloaded a model for the 'en' language\n"
     ]
    }
   ],
   "source": [
    "spacy_udpipe.download(\"en\")\n",
    "nlp = spacy_udpipe.load(\"en\")\n",
    "model = gensim.models.KeyedVectors.load_word2vec_format(\"../Embeddings/model.bin\", binary=True) \n",
    "#model.vocab "
   ]
  },
  {
   "cell_type": "code",
   "execution_count": 4,
   "metadata": {},
   "outputs": [],
   "source": [
    "def lemmatize_with_postag(text = \"\"\"\"Wikipedia is a free online encyclopedia, created and \n",
    "                          edited by volunteers around the world.\"\"\",\n",
    "                          nlp=nlp):\n",
    "    doc = nlp(text)\n",
    "    tagged = []\n",
    "    for token in doc:\n",
    "        lemma = token.lemma_\n",
    "        pos = token.pos_\n",
    "        #pos = pos.split('=')[0].strip()\n",
    "        if pos not in [\"PUNCT\"]: #[\"VERB\", \"NUM\", \"ADV\", \"NOUN\", \"ADJ\", \"AUX\", \"PRON\", \"ADP\", \"DET\", \"ADV\", \"INTJ\", \"PROPN\"]:\n",
    "            tagged.append(lemma.lower() + '_' + pos)\n",
    "        #else : print(pos)\n",
    "    return tagged"
   ]
  },
  {
   "cell_type": "code",
   "execution_count": 5,
   "metadata": {},
   "outputs": [
    {
     "name": "stdout",
     "output_type": "stream",
     "text": [
      "(1000, 2)\n",
      "(400, 2)\n"
     ]
    }
   ],
   "source": [
    "X_train = df['tweet']\n",
    "y_train = df['class']\n",
    "\n",
    "Xy = pd.concat([X_train, y_train], axis=1)\n",
    "\n",
    "# paramters of the text praprations\n",
    "n_items_for_train = 500\n",
    "n_items_for_test  = 200\n",
    "max_words         = 4000 \n",
    "\n",
    "# n_items_for_train твитов для тренировки с индексом класса 1\n",
    "df_1 = Xy[Xy['class'] == 1].iloc[:n_items_for_train] \n",
    "# n_items_for_train твитов для тренировки с индексом класса 0\n",
    "df_0 = Xy[Xy['class'] == 0].iloc[:n_items_for_train] \n",
    "\n",
    "Xy_ = shuffle(pd.concat([df_0, df_1]))\n",
    "Xy_train = pd.concat([Xy_[\"tweet\"].apply(lemmatize_with_postag), Xy_[\"class\"]], axis = 1)\n",
    "\n",
    "\n",
    "\n",
    "# n_items_for_test твитов для теста с индексом класса 1\n",
    "df_1 = Xy[Xy['class'] == 1].iloc[n_items_for_train:n_items_for_train+n_items_for_test]\n",
    "# n_items_for_test твитов для теста с индексом класса 0\n",
    "df_0 = Xy[Xy['class'] == 0].iloc[n_items_for_train:n_items_for_train+n_items_for_test]\n",
    "\n",
    "Xy_ = shuffle(pd.concat([df_0, df_1]))\n",
    "Xy_test = pd.concat([Xy_[\"tweet\"].apply(lemmatize_with_postag), Xy_[\"class\"]], axis = 1)\n",
    "\n",
    "print(Xy_train.shape)\n",
    "print(Xy_test.shape)\n",
    "#Xy_train, Xy_test"
   ]
  },
  {
   "cell_type": "code",
   "execution_count": 6,
   "metadata": {},
   "outputs": [
    {
     "name": "stdout",
     "output_type": "stream",
     "text": [
      "max_len = 36\n"
     ]
    }
   ],
   "source": [
    "# replcade as parameter in the begining\n",
    "#max_words = 2000 # ограничение вокуабуляра\n",
    "\n",
    "maxima = 0\n",
    "for ar in Xy_train['tweet'].to_list():\n",
    "    if len(ar)>maxima: maxima = len(ar)\n",
    "for ar in Xy_test['tweet']:\n",
    "    if len(ar)>maxima: maxima = len(ar)\n",
    "max_len = maxima + 1\n",
    "print(f'max_len = {max_len}')\n",
    "\n",
    "tok = Tokenizer(num_words=max_words)\n",
    "tok.fit_on_texts(Xy_train[\"tweet\"]) #fit on train\n",
    "\n",
    "# exctrax features from train\n",
    "sequences_train = tok.texts_to_sequences(Xy_train[\"tweet\"])\n",
    "sequences_matrix_train = sequence.pad_sequences(sequences_train, maxlen=max_len)\n",
    "\n",
    "# exctrax features from test\n",
    "sequences_test = tok.texts_to_sequences(Xy_test[\"tweet\"])\n",
    "sequences_matrix_test = sequence.pad_sequences(sequences_test, maxlen=max_len)"
   ]
  },
  {
   "cell_type": "code",
   "execution_count": 7,
   "metadata": {},
   "outputs": [
    {
     "name": "stdout",
     "output_type": "stream",
     "text": [
      "Everything is OK\n",
      "4169\n"
     ]
    }
   ],
   "source": [
    "def fix_word_key(string):\n",
    "    upper_part = (re.findall('_.*',string))[0].upper()\n",
    "    result = re.sub(r'_.*', upper_part, string)\n",
    "    #print(f'was {string} -> became {result}')\n",
    "    return result\n",
    "\n",
    "word_index = tok.word_index\n",
    "#print('Found %s unique tokens' % len(word_index))\n",
    "\n",
    "wi1 = len(word_index)\n",
    "\n",
    "# fix tokenizer problem\n",
    "for key in word_index.keys():\n",
    "    fixed_key = fix_word_key(key)\n",
    "    word_index[fixed_key] = word_index.pop(key)\n",
    "    \n",
    "#print('Found %s unique tokens' % len(word_index))\n",
    "wi2 = len(word_index)\n",
    "\n",
    "if wi1 != wi2:\n",
    "    print()\n",
    "    error = 'lenght of word_index was changed!'\n",
    "    print(error.upper())\n",
    "    raise ValueError\n",
    "else:\n",
    "    print('Everything is OK')\n",
    "    print(len(word_index))"
   ]
  },
  {
   "cell_type": "code",
   "execution_count": 8,
   "metadata": {},
   "outputs": [
    {
     "name": "stdout",
     "output_type": "stream",
     "text": [
      "number of words = 4001\n",
      "(4001, 300)\n",
      "Null word embeddings: 2590\n"
     ]
    }
   ],
   "source": [
    "# делаем Embedding на основе w2v модели\n",
    "\n",
    "nb_words = min(max_words, len(word_index))+1 # проверяем где меньше, в нашем датасете или в токенайзере.\n",
    "EMBEDDING_DIM = 300 # размерность векторов в нашей модели w2v\n",
    "\n",
    "print(f'number of words = {nb_words}')\n",
    "\n",
    "embedding_matrix = np.zeros((nb_words, EMBEDDING_DIM))\n",
    "print(embedding_matrix.shape)\n",
    "\n",
    "counter = 0\n",
    "for word, i in word_index.items():\n",
    "    if i >= nb_words: continue\n",
    "    if word in model.vocab:\n",
    "        #print(model[word])\n",
    "        embedding_matrix[i] = model[word]\n",
    "#     if counter > nb_words: break\n",
    "#     counter += 1\n",
    "\n",
    "\n",
    "print('Null word embeddings: %d' % np.sum(np.sum(embedding_matrix, axis=1) == 0))\n",
    "#pd.DataFrame(embedding_matrix)"
   ]
  },
  {
   "cell_type": "code",
   "execution_count": 9,
   "metadata": {},
   "outputs": [
    {
     "data": {
      "text/plain": [
       "array([[   0,    0,    0, ...,   58,   16, 1310],\n",
       "       [   0,    0,    0, ...,   12,  503,   39],\n",
       "       [   0,    0,    0, ...,   26,    5,  306],\n",
       "       ...,\n",
       "       [   0,    0,    0, ...,   10,    5,   10],\n",
       "       [   0,    0,    0, ...,  113,   59,  169],\n",
       "       [   0,    0,    0, ...,    9,    4, 1271]], dtype=int32)"
      ]
     },
     "execution_count": 9,
     "metadata": {},
     "output_type": "execute_result"
    }
   ],
   "source": [
    "sequences_matrix_train"
   ]
  },
  {
   "cell_type": "markdown",
   "metadata": {},
   "source": [
    "# CNN"
   ]
  },
  {
   "cell_type": "code",
   "execution_count": 12,
   "metadata": {
    "scrolled": true
   },
   "outputs": [],
   "source": [
    "rate_drop_dense = 0.15 + np.random.rand() * 0.25\n",
    "act = 'relu'\n",
    "\n",
    "embedding_layer      = Embedding(nb_words,\n",
    "                                EMBEDDING_DIM,\n",
    "                                weights=[embedding_matrix],\n",
    "                                input_length=max_len,\n",
    "                                trainable=False) \n",
    "\n",
    "# CONFIGURATION OF CNN\n",
    "sequence_1_input     = Input(shape=(max_len,), dtype='int32')\n",
    "x                    = embedding_layer(sequence_1_input)\n",
    "\n",
    "x                    = Conv1D(filters=300, kernel_size=3, activation='relu', input_shape=(x.shape))(x)\n",
    "x                    = Dropout(0.5)(x)\n",
    "x                    = MaxPooling1D(pool_size=2)(x)\n",
    "\n",
    "x                    = Conv1D(filters=300, kernel_size=5, activation='relu', input_shape=(x.shape))(x)\n",
    "x                    = Dropout(0.5)(x)\n",
    "x                    = MaxPooling1D(pool_size=2)(x)\n",
    "\n",
    "x                    = Conv1D(filters=300, kernel_size=5, activation='relu', input_shape=(x.shape))(x)\n",
    "x                    = Dropout(0.5)(x)\n",
    "x                    = MaxPooling1D(pool_size=1)(x)\n",
    "\n",
    "x                    = Flatten()(x)\n",
    "\n",
    "\n",
    "merged               = Dropout(rate_drop_dense)(x)\n",
    "merged               = BatchNormalization()(merged)\n",
    "merged               = Dense(32, activation=act)(merged)\n",
    "merged               = Dropout(rate_drop_dense)(merged)\n",
    "merged               = BatchNormalization()(merged)\n",
    "preds                = Dense(1, activation='sigmoid')(merged)"
   ]
  },
  {
   "cell_type": "code",
   "execution_count": 17,
   "metadata": {},
   "outputs": [
    {
     "name": "stdout",
     "output_type": "stream",
     "text": [
      "Model: \"model_2\"\n",
      "_________________________________________________________________\n",
      "Layer (type)                 Output Shape              Param #   \n",
      "=================================================================\n",
      "input_3 (InputLayer)         (None, 36)                0         \n",
      "_________________________________________________________________\n",
      "embedding_3 (Embedding)      (None, 36, 300)           1200300   \n",
      "_________________________________________________________________\n",
      "conv1d_7 (Conv1D)            (None, 34, 300)           270300    \n",
      "_________________________________________________________________\n",
      "dropout_8 (Dropout)          (None, 34, 300)           0         \n",
      "_________________________________________________________________\n",
      "max_pooling1d_7 (MaxPooling1 (None, 17, 300)           0         \n",
      "_________________________________________________________________\n",
      "conv1d_8 (Conv1D)            (None, 13, 300)           450300    \n",
      "_________________________________________________________________\n",
      "dropout_9 (Dropout)          (None, 13, 300)           0         \n",
      "_________________________________________________________________\n",
      "max_pooling1d_8 (MaxPooling1 (None, 6, 300)            0         \n",
      "_________________________________________________________________\n",
      "conv1d_9 (Conv1D)            (None, 2, 300)            450300    \n",
      "_________________________________________________________________\n",
      "dropout_10 (Dropout)         (None, 2, 300)            0         \n",
      "_________________________________________________________________\n",
      "max_pooling1d_9 (MaxPooling1 (None, 2, 300)            0         \n",
      "_________________________________________________________________\n",
      "flatten_3 (Flatten)          (None, 600)               0         \n",
      "_________________________________________________________________\n",
      "dropout_11 (Dropout)         (None, 600)               0         \n",
      "_________________________________________________________________\n",
      "batch_normalization_2 (Batch (None, 600)               2400      \n",
      "_________________________________________________________________\n",
      "dense_1 (Dense)              (None, 32)                19232     \n",
      "_________________________________________________________________\n",
      "dropout_12 (Dropout)         (None, 32)                0         \n",
      "_________________________________________________________________\n",
      "batch_normalization_3 (Batch (None, 32)                128       \n",
      "_________________________________________________________________\n",
      "dense_2 (Dense)              (None, 1)                 33        \n",
      "=================================================================\n",
      "Total params: 2,392,993\n",
      "Trainable params: 1,191,429\n",
      "Non-trainable params: 1,201,564\n",
      "_________________________________________________________________\n",
      "CNN\n",
      "\n"
     ]
    }
   ],
   "source": [
    "STAMP = 'CNN'\n",
    "\n",
    "model = Model(inputs=[sequence_1_input], outputs=preds)\n",
    "model.compile(loss='binary_crossentropy', \n",
    "              optimizer='rmsprop', \n",
    "              metrics=['acc'])\n",
    "model.summary()\n",
    "print(STAMP, end='\\n\\n')"
   ]
  },
  {
   "cell_type": "code",
   "execution_count": 18,
   "metadata": {
    "scrolled": true
   },
   "outputs": [
    {
     "name": "stdout",
     "output_type": "stream",
     "text": [
      "Train on 1000 samples, validate on 100 samples\n",
      "Epoch 1/200\n",
      "1000/1000 [==============================] - 4s 4ms/step - loss: 0.8185 - acc: 0.5320 - val_loss: 0.6868 - val_acc: 0.5800\n",
      "Epoch 2/200\n",
      "1000/1000 [==============================] - 2s 2ms/step - loss: 0.7903 - acc: 0.5650 - val_loss: 0.6879 - val_acc: 0.5000\n",
      "Epoch 3/200\n",
      "1000/1000 [==============================] - 2s 2ms/step - loss: 0.7433 - acc: 0.5720 - val_loss: 0.6934 - val_acc: 0.4700\n",
      "Epoch 4/200\n",
      "1000/1000 [==============================] - 2s 2ms/step - loss: 0.7014 - acc: 0.6120 - val_loss: 0.6436 - val_acc: 0.5900\n",
      "Epoch 5/200\n",
      "1000/1000 [==============================] - 2s 2ms/step - loss: 0.6297 - acc: 0.6850 - val_loss: 0.6519 - val_acc: 0.5900\n",
      "Epoch 6/200\n",
      "1000/1000 [==============================] - 2s 2ms/step - loss: 0.5713 - acc: 0.7290 - val_loss: 0.7745 - val_acc: 0.4700\n",
      "Epoch 7/200\n",
      "1000/1000 [==============================] - 2s 2ms/step - loss: 0.4994 - acc: 0.7500 - val_loss: 0.5956 - val_acc: 0.6500\n",
      "Epoch 8/200\n",
      "1000/1000 [==============================] - 2s 2ms/step - loss: 0.4532 - acc: 0.7930 - val_loss: 0.5642 - val_acc: 0.6700\n",
      "Epoch 9/200\n",
      "1000/1000 [==============================] - 2s 2ms/step - loss: 0.4304 - acc: 0.8090 - val_loss: 0.5502 - val_acc: 0.6400\n",
      "Epoch 10/200\n",
      "1000/1000 [==============================] - 2s 2ms/step - loss: 0.3701 - acc: 0.8470 - val_loss: 0.5951 - val_acc: 0.6800\n",
      "Epoch 11/200\n",
      "1000/1000 [==============================] - 3s 3ms/step - loss: 0.3220 - acc: 0.8760 - val_loss: 0.6549 - val_acc: 0.6900\n",
      "Epoch 12/200\n",
      "1000/1000 [==============================] - 2s 2ms/step - loss: 0.3016 - acc: 0.8750 - val_loss: 0.5640 - val_acc: 0.7000\n",
      "Epoch 13/200\n",
      "1000/1000 [==============================] - 2s 2ms/step - loss: 0.2669 - acc: 0.8890 - val_loss: 0.7650 - val_acc: 0.6100\n",
      "Epoch 14/200\n",
      "1000/1000 [==============================] - 2s 2ms/step - loss: 0.2275 - acc: 0.9080 - val_loss: 0.6989 - val_acc: 0.6700\n",
      "Epoch 15/200\n",
      "1000/1000 [==============================] - 2s 2ms/step - loss: 0.1976 - acc: 0.9270 - val_loss: 0.7413 - val_acc: 0.6600\n",
      "Epoch 16/200\n",
      "1000/1000 [==============================] - 2s 2ms/step - loss: 0.2220 - acc: 0.9130 - val_loss: 0.7104 - val_acc: 0.6700\n",
      "Epoch 17/200\n",
      "1000/1000 [==============================] - 2s 2ms/step - loss: 0.1715 - acc: 0.9370 - val_loss: 0.7535 - val_acc: 0.6700\n",
      "Epoch 18/200\n",
      "1000/1000 [==============================] - 2s 2ms/step - loss: 0.1656 - acc: 0.9370 - val_loss: 0.8377 - val_acc: 0.6700\n",
      "Epoch 19/200\n",
      "1000/1000 [==============================] - 2s 2ms/step - loss: 0.1578 - acc: 0.9460 - val_loss: 0.9483 - val_acc: 0.7000\n",
      "Epoch 20/200\n",
      "1000/1000 [==============================] - 2s 2ms/step - loss: 0.1439 - acc: 0.9530 - val_loss: 0.8446 - val_acc: 0.7000\n",
      "Epoch 21/200\n",
      "1000/1000 [==============================] - 2s 2ms/step - loss: 0.1535 - acc: 0.9400 - val_loss: 1.0442 - val_acc: 0.6600\n",
      "Epoch 22/200\n",
      "1000/1000 [==============================] - 2s 2ms/step - loss: 0.1078 - acc: 0.9600 - val_loss: 0.8862 - val_acc: 0.6900\n",
      "Epoch 23/200\n",
      "1000/1000 [==============================] - 2s 2ms/step - loss: 0.1136 - acc: 0.9630 - val_loss: 0.8139 - val_acc: 0.6800\n",
      "Epoch 24/200\n",
      "1000/1000 [==============================] - 2s 2ms/step - loss: 0.1087 - acc: 0.9620 - val_loss: 0.7951 - val_acc: 0.7100\n",
      "Epoch 25/200\n",
      "1000/1000 [==============================] - 2s 2ms/step - loss: 0.1134 - acc: 0.9640 - val_loss: 0.8915 - val_acc: 0.6800\n",
      "Epoch 26/200\n",
      "1000/1000 [==============================] - 2s 2ms/step - loss: 0.1073 - acc: 0.9640 - val_loss: 1.0717 - val_acc: 0.6700\n",
      "Epoch 27/200\n",
      "1000/1000 [==============================] - 2s 2ms/step - loss: 0.1098 - acc: 0.9620 - val_loss: 0.9299 - val_acc: 0.6800\n",
      "Epoch 28/200\n",
      "1000/1000 [==============================] - 2s 2ms/step - loss: 0.0889 - acc: 0.9680 - val_loss: 0.8905 - val_acc: 0.6700\n",
      "Epoch 29/200\n",
      "1000/1000 [==============================] - 2s 2ms/step - loss: 0.0946 - acc: 0.9660 - val_loss: 0.9226 - val_acc: 0.6800\n"
     ]
    }
   ],
   "source": [
    "epochs = 200\n",
    "batch_size = 32\n",
    "patience = 20\n",
    "\n",
    "\n",
    "early_stopping =EarlyStopping(monitor='val_loss', patience=patience)\n",
    "bst_model_path = STAMP + '.h5'\n",
    "model_checkpoint = ModelCheckpoint(bst_model_path, save_best_only=True, save_weights_only=True)\n",
    "\n",
    "history = model.fit(sequences_matrix_train, Xy_train[\"class\"], \n",
    "                 validation_data=(sequences_matrix_test[:n_items_for_test//2], \n",
    "                                  Xy_test[\"class\"][:n_items_for_test//2]), \n",
    "                 epochs=epochs, batch_size=batch_size, shuffle=True,\n",
    "                 callbacks=[early_stopping, model_checkpoint])"
   ]
  },
  {
   "cell_type": "code",
   "execution_count": 19,
   "metadata": {},
   "outputs": [
    {
     "data": {
      "image/png": "[encoded data removed]",
      "text/plain": [
       "<Figure size 720x576 with 1 Axes>"
      ]
     },
     "metadata": {
      "needs_background": "light"
     },
     "output_type": "display_data"
    }
   ],
   "source": [
    "import matplotlib.pyplot as plt\n",
    "%matplotlib inline\n",
    "plt.rcParams[\"figure.figsize\"] = (10, 8) \n",
    "\n",
    "# summarize history for accuracy\n",
    "plt.plot(history.history['acc'])\n",
    "plt.plot(history.history['val_acc'])\n",
    "plt.title('model accuracy')\n",
    "plt.ylabel('acc')\n",
    "plt.xlabel('epoch')\n",
    "plt.legend(['train', 'test'], loc='upper left')\n",
    "plt.show()\n",
    "\n",
    "# # summarize history for loss\n",
    "# plt.plot(history.history['loss'])\n",
    "# plt.plot(history.history['val_loss'])\n",
    "# plt.title('model loss')\n",
    "# plt.ylabel('loss')\n",
    "# plt.xlabel('epoch')\n",
    "# plt.legend(['train', 'test'], loc='upper left')\n",
    "# plt.show()"
   ]
  },
  {
   "cell_type": "code",
   "execution_count": 20,
   "metadata": {},
   "outputs": [
    {
     "name": "stdout",
     "output_type": "stream",
     "text": [
      "              precision    recall  f1-score   support\n",
      "\n",
      "           0       0.76      0.65      0.70       155\n",
      "           1       0.67      0.79      0.73       145\n",
      "\n",
      "    accuracy                           0.71       300\n",
      "   macro avg       0.72      0.72      0.71       300\n",
      "weighted avg       0.72      0.71      0.71       300\n",
      "\n"
     ]
    }
   ],
   "source": [
    "pred = model.predict(sequences_matrix_test[n_items_for_test//2:])\n",
    "pred.shape\n",
    "bin_pred, real = [], np.array(Xy_test[\"class\"]).tolist()[n_items_for_test//2:]\n",
    "for i in range(len(pred)):\n",
    "    #print(f'pred = {int(round(float(pred[i][0]), 0))},\\t real = {real[i]}')\n",
    "    bin_pred.append(int(round(float(pred[i][0]), 0))) \n",
    "#np.array(Xy_test[\"class\"]).tolist()\n",
    "bin_pred, real\n",
    "from sklearn.metrics import classification_report\n",
    "print(classification_report(real, bin_pred))"
   ]
  },
  {
   "cell_type": "code",
   "execution_count": 21,
   "metadata": {},
   "outputs": [
    {
     "data": {
      "text/html": [
       "<div>\n",
       "<style scoped>\n",
       "    .dataframe tbody tr th:only-of-type {\n",
       "        vertical-align: middle;\n",
       "    }\n",
       "\n",
       "    .dataframe tbody tr th {\n",
       "        vertical-align: top;\n",
       "    }\n",
       "\n",
       "    .dataframe thead th {\n",
       "        text-align: right;\n",
       "    }\n",
       "</style>\n",
       "<table border=\"1\" class=\"dataframe\">\n",
       "  <thead>\n",
       "    <tr style=\"text-align: right;\">\n",
       "      <th></th>\n",
       "      <th>Pos</th>\n",
       "      <th>Neg</th>\n",
       "    </tr>\n",
       "  </thead>\n",
       "  <tbody>\n",
       "    <tr>\n",
       "      <th>0</th>\n",
       "      <td>100</td>\n",
       "      <td>55</td>\n",
       "    </tr>\n",
       "    <tr>\n",
       "      <th>1</th>\n",
       "      <td>31</td>\n",
       "      <td>114</td>\n",
       "    </tr>\n",
       "  </tbody>\n",
       "</table>\n",
       "</div>"
      ],
      "text/plain": [
       "   Pos  Neg\n",
       "0  100   55\n",
       "1   31  114"
      ]
     },
     "execution_count": 21,
     "metadata": {},
     "output_type": "execute_result"
    }
   ],
   "source": [
    "pd.DataFrame(confusion_matrix(real, bin_pred), columns=['Pos', 'Neg'])"
   ]
  },
  {
   "cell_type": "code",
   "execution_count": null,
   "metadata": {},
   "outputs": [],
   "source": []
  }
 ],
 "metadata": {
  "kernelspec": {
   "display_name": "Python 3",
   "language": "python",
   "name": "python3"
  },
  "language_info": {
   "codemirror_mode": {
    "name": "ipython",
    "version": 3
   },
   "file_extension": ".py",
   "mimetype": "text/x-python",
   "name": "python",
   "nbconvert_exporter": "python",
   "pygments_lexer": "ipython3",
   "version": "3.7.6"
  }
 },
 "nbformat": 4,
 "nbformat_minor": 2
}
