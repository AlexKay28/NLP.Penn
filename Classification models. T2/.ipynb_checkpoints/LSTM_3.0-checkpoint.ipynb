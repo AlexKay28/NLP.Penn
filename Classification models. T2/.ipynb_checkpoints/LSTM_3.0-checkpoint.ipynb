{
 "cells": [
  {
   "cell_type": "code",
   "execution_count": 1,
   "metadata": {},
   "outputs": [
    {
     "name": "stderr",
     "output_type": "stream",
     "text": [
      "Using TensorFlow backend.\n"
     ]
    }
   ],
   "source": [
    "from sklearn.model_selection import train_test_split\n",
    "from sklearn.preprocessing import LabelEncoder\n",
    "from keras.models import Model\n",
    "from keras.layers import LSTM, Activation, Dense, Dropout, Input, Embedding, Bidirectional \n",
    "from keras.optimizers import RMSprop\n",
    "\n",
    "from keras.preprocessing.text import Tokenizer\n",
    "from keras.preprocessing.text import text_to_word_sequence\n",
    "from keras.preprocessing import sequence\n",
    "\n",
    "from keras.layers.normalization import BatchNormalization\n",
    "from keras.callbacks import EarlyStopping, ModelCheckpoint\n",
    "\n",
    "from keras.utils import to_categorical\n",
    "from keras.callbacks import EarlyStopping\n",
    "import pandas as pd\n",
    "import numpy as np\n",
    "\n",
    "from sklearn.utils import shuffle\n",
    "from sklearn.metrics import confusion_matrix\n",
    "\n",
    "import re\n",
    "\n",
    "import gensim\n",
    "#from pymystem3 import Mystem\n",
    "#from stanfordcorenlp import StanfordCoreNLP\n",
    "import spacy_udpipe"
   ]
  },
  {
   "cell_type": "code",
   "execution_count": 2,
   "metadata": {},
   "outputs": [
    {
     "data": {
      "text/html": [
       "<div>\n",
       "<style scoped>\n",
       "    .dataframe tbody tr th:only-of-type {\n",
       "        vertical-align: middle;\n",
       "    }\n",
       "\n",
       "    .dataframe tbody tr th {\n",
       "        vertical-align: top;\n",
       "    }\n",
       "\n",
       "    .dataframe thead th {\n",
       "        text-align: right;\n",
       "    }\n",
       "</style>\n",
       "<table border=\"1\" class=\"dataframe\">\n",
       "  <thead>\n",
       "    <tr style=\"text-align: right;\">\n",
       "      <th></th>\n",
       "      <th>tweet_id</th>\n",
       "      <th>user_id</th>\n",
       "      <th>class</th>\n",
       "      <th>tweet</th>\n",
       "    </tr>\n",
       "  </thead>\n",
       "  <tbody>\n",
       "    <tr>\n",
       "      <td>0</td>\n",
       "      <td>344266386467606528</td>\n",
       "      <td>809439366</td>\n",
       "      <td>0</td>\n",
       "      <td>depression hurts, cymbalta can help</td>\n",
       "    </tr>\n",
       "    <tr>\n",
       "      <td>1</td>\n",
       "      <td>349220537903489025</td>\n",
       "      <td>323112996</td>\n",
       "      <td>0</td>\n",
       "      <td>@jessicama20045 right, but cipro can make thin...</td>\n",
       "    </tr>\n",
       "    <tr>\n",
       "      <td>2</td>\n",
       "      <td>351421773079781378</td>\n",
       "      <td>713100330</td>\n",
       "      <td>0</td>\n",
       "      <td>@fibby1123 are you on paxil .. i need help</td>\n",
       "    </tr>\n",
       "    <tr>\n",
       "      <td>3</td>\n",
       "      <td>326594278472171520</td>\n",
       "      <td>543113070</td>\n",
       "      <td>0</td>\n",
       "      <td>@redicine the lamotrigine and sjs just made ch...</td>\n",
       "    </tr>\n",
       "    <tr>\n",
       "      <td>4</td>\n",
       "      <td>345567138376994816</td>\n",
       "      <td>138795534</td>\n",
       "      <td>0</td>\n",
       "      <td>have decided to skip my #humira shot today. my...</td>\n",
       "    </tr>\n",
       "  </tbody>\n",
       "</table>\n",
       "</div>"
      ],
      "text/plain": [
       "             tweet_id    user_id  class  \\\n",
       "0  344266386467606528  809439366      0   \n",
       "1  349220537903489025  323112996      0   \n",
       "2  351421773079781378  713100330      0   \n",
       "3  326594278472171520  543113070      0   \n",
       "4  345567138376994816  138795534      0   \n",
       "\n",
       "                                               tweet  \n",
       "0                depression hurts, cymbalta can help  \n",
       "1  @jessicama20045 right, but cipro can make thin...  \n",
       "2         @fibby1123 are you on paxil .. i need help  \n",
       "3  @redicine the lamotrigine and sjs just made ch...  \n",
       "4  have decided to skip my #humira shot today. my...  "
      ]
     },
     "execution_count": 2,
     "metadata": {},
     "output_type": "execute_result"
    }
   ],
   "source": [
    "df = pd.read_csv('../task2_data/task2_en_training.tsv',delimiter='\\t')\n",
    "df.head()"
   ]
  },
  {
   "cell_type": "code",
   "execution_count": 3,
   "metadata": {},
   "outputs": [
    {
     "name": "stdout",
     "output_type": "stream",
     "text": [
      "Already downloaded a model for the 'en' language\n"
     ]
    }
   ],
   "source": [
    "spacy_udpipe.download(\"en\")\n",
    "nlp = spacy_udpipe.load(\"en\")\n",
    "model = gensim.models.KeyedVectors.load_word2vec_format(\"../Embeddings/model.bin\", binary=True) \n",
    "#model.vocab "
   ]
  },
  {
   "cell_type": "code",
   "execution_count": 4,
   "metadata": {},
   "outputs": [],
   "source": [
    "def lemmatize_with_postag(text = \"\"\"\"Wikipedia is a free online encyclopedia, created and \n",
    "                          edited by volunteers around the world.\"\"\",\n",
    "                          nlp=nlp):\n",
    "    doc = nlp(text)\n",
    "    tagged = []\n",
    "    for token in doc:\n",
    "        lemma = token.lemma_\n",
    "        pos = token.pos_\n",
    "        #pos = pos.split('=')[0].strip()\n",
    "        if pos not in [\"PUNCT\"]: #[\"VERB\", \"NUM\", \"ADV\", \"NOUN\", \"ADJ\", \"AUX\", \"PRON\", \"ADP\", \"DET\", \"ADV\", \"INTJ\", \"PROPN\"]:\n",
    "            tagged.append(lemma.lower() + '_' + pos)\n",
    "        #else : print(pos)\n",
    "    return tagged"
   ]
  },
  {
   "cell_type": "code",
   "execution_count": 5,
   "metadata": {},
   "outputs": [
    {
     "name": "stdout",
     "output_type": "stream",
     "text": [
      "(3000, 2)\n",
      "(903, 2)\n"
     ]
    }
   ],
   "source": [
    "X_train = df['tweet']\n",
    "y_train = df['class']\n",
    "\n",
    "Xy = pd.concat([X_train, y_train], axis=1)\n",
    "\n",
    "n_items_for_train = 1500\n",
    "n_items_for_test  = 500\n",
    "\n",
    "# n_items_for_train твитов для тренировки с индексом класса 1\n",
    "df_1 = Xy[Xy['class'] == 1].iloc[:n_items_for_train] \n",
    "# n_items_for_train твитов для тренировки с индексом класса 0\n",
    "df_0 = Xy[Xy['class'] == 0].iloc[:n_items_for_train] \n",
    "\n",
    "Xy_ = shuffle(pd.concat([df_0, df_1]))\n",
    "Xy_train = pd.concat([Xy_[\"tweet\"].apply(lemmatize_with_postag), Xy_[\"class\"]], axis = 1)\n",
    "\n",
    "\n",
    "\n",
    "# n_items_for_test твитов для теста с индексом класса 1\n",
    "df_1 = Xy[Xy['class'] == 1].iloc[n_items_for_train:n_items_for_train+n_items_for_test]\n",
    "# n_items_for_test твитов для теста с индексом класса 0\n",
    "df_0 = Xy[Xy['class'] == 0].iloc[n_items_for_train:n_items_for_train+n_items_for_test]\n",
    "\n",
    "Xy_ = shuffle(pd.concat([df_0, df_1]))\n",
    "Xy_test = pd.concat([Xy_[\"tweet\"].apply(lemmatize_with_postag), Xy_[\"class\"]], axis = 1)\n",
    "\n",
    "print(Xy_train.shape)\n",
    "print(Xy_test.shape)\n",
    "#Xy_train, Xy_test"
   ]
  },
  {
   "cell_type": "code",
   "execution_count": 6,
   "metadata": {},
   "outputs": [
    {
     "name": "stdout",
     "output_type": "stream",
     "text": [
      "max_len = 36\n"
     ]
    }
   ],
   "source": [
    "max_words = 3500 # ограничение вокуабуляра\n",
    "\n",
    "maxima = 0\n",
    "for ar in Xy_train['tweet'].to_list():\n",
    "    if len(ar)>maxima: maxima = len(ar)\n",
    "for ar in Xy_test['tweet']:\n",
    "    if len(ar)>maxima: maxima = len(ar)\n",
    "max_len = maxima + 1\n",
    "print(f'max_len = {max_len}')\n",
    "\n",
    "tok = Tokenizer(num_words=max_words)\n",
    "tok.fit_on_texts(Xy_train[\"tweet\"]) #fit on train\n",
    "\n",
    "# exctrax features from train\n",
    "sequences_train = tok.texts_to_sequences(Xy_train[\"tweet\"])\n",
    "sequences_matrix_train = sequence.pad_sequences(sequences_train, maxlen=max_len)\n",
    "\n",
    "# exctrax features from test\n",
    "sequences_test = tok.texts_to_sequences(Xy_test[\"tweet\"])\n",
    "sequences_matrix_test = sequence.pad_sequences(sequences_test, maxlen=max_len)"
   ]
  },
  {
   "cell_type": "code",
   "execution_count": 7,
   "metadata": {},
   "outputs": [
    {
     "name": "stdout",
     "output_type": "stream",
     "text": [
      "Everything is OK\n",
      "9095\n"
     ]
    }
   ],
   "source": [
    "def fix_word_key(string):\n",
    "    upper_part = (re.findall('_.*',string))[0].upper()\n",
    "    result = re.sub(r'_.*', upper_part, string)\n",
    "    #print(f'was {string} -> became {result}')\n",
    "    return result\n",
    "\n",
    "word_index = tok.word_index\n",
    "#print('Found %s unique tokens' % len(word_index))\n",
    "\n",
    "wi1 = len(word_index)\n",
    "\n",
    "# fix tokenizer problem\n",
    "for key in word_index.keys():\n",
    "    fixed_key = fix_word_key(key)\n",
    "    word_index[fixed_key] = word_index.pop(key)\n",
    "    \n",
    "#print('Found %s unique tokens' % len(word_index))\n",
    "wi2 = len(word_index)\n",
    "\n",
    "if wi1 != wi2:\n",
    "    print()\n",
    "    error = 'lenght of word_index was changed!'\n",
    "    print(error.upper())\n",
    "    raise ValueError\n",
    "else:\n",
    "    print('Everything is OK')\n",
    "    print(len(word_index))"
   ]
  },
  {
   "cell_type": "code",
   "execution_count": 8,
   "metadata": {},
   "outputs": [
    {
     "name": "stdout",
     "output_type": "stream",
     "text": [
      "number of words = 3501\n",
      "(3501, 300)\n",
      "Null word embeddings: 2311\n"
     ]
    }
   ],
   "source": [
    "# делаем Embedding на основе w2v модели\n",
    "\n",
    "nb_words = min(max_words, len(word_index))+1 # проверяем где меньше, в нашем датасете или в токенайзере.\n",
    "EMBEDDING_DIM = 300 # размерность векторов в нашей модели w2v\n",
    "\n",
    "print(f'number of words = {nb_words}')\n",
    "\n",
    "embedding_matrix = np.zeros((nb_words, EMBEDDING_DIM))\n",
    "print(embedding_matrix.shape)\n",
    "\n",
    "counter = 0\n",
    "for word, i in word_index.items():\n",
    "    if i >= nb_words: continue\n",
    "    if word in model.vocab:\n",
    "        #print(model[word])\n",
    "        embedding_matrix[i] = model[word]\n",
    "#     if counter > nb_words: break\n",
    "#     counter += 1\n",
    "\n",
    "\n",
    "print('Null word embeddings: %d' % np.sum(np.sum(embedding_matrix, axis=1) == 0))\n",
    "#pd.DataFrame(embedding_matrix)"
   ]
  },
  {
   "cell_type": "markdown",
   "metadata": {},
   "source": [
    "# BI-LSTM (3.0)\n",
    "\n",
    "https://stackoverflow.com/questions/44924690/keras-the-difference-between-lstm-dropout-and-lstm-recurrent-dropout"
   ]
  },
  {
   "cell_type": "code",
   "execution_count": 9,
   "metadata": {},
   "outputs": [],
   "source": [
    "rate_drop_lstm  = 0.15 + np.random.rand() * 0.25\n",
    "rate_drop_dense = 0.15 + np.random.rand() * 0.25\n",
    "act = 'relu'\n",
    "\n",
    "\n",
    "embedding_layer      = Embedding(nb_words,\n",
    "                                EMBEDDING_DIM,\n",
    "                                weights=[embedding_matrix],\n",
    "                                input_length=max_len,\n",
    "                                trainable=False) \n",
    "lstm_layer           = Bidirectional(LSTM(64, dropout=rate_drop_lstm, recurrent_dropout=rate_drop_lstm))\n",
    "\n",
    "# CONFIGURATION OF BI-LSTM\n",
    "sequence_1_input     = Input(shape=(max_len,), dtype='int32')\n",
    "embedded_sequences_1 = embedding_layer(sequence_1_input)\n",
    "x1                   = lstm_layer(embedded_sequences_1)\n",
    "merged               = Dropout(rate_drop_dense)(x1)\n",
    "merged               = BatchNormalization()(merged)\n",
    "merged               = Dense(32, activation=act)(merged)\n",
    "merged               = Dropout(rate_drop_dense)(merged)\n",
    "merged               = BatchNormalization()(merged)\n",
    "preds                = Dense(1, activation='sigmoid')(merged)\n",
    "#preds                = Dense(2, activation='softmax')(merged)"
   ]
  },
  {
   "cell_type": "code",
   "execution_count": 10,
   "metadata": {},
   "outputs": [
    {
     "name": "stdout",
     "output_type": "stream",
     "text": [
      "Model: \"model_1\"\n",
      "_________________________________________________________________\n",
      "Layer (type)                 Output Shape              Param #   \n",
      "=================================================================\n",
      "input_1 (InputLayer)         (None, 36)                0         \n",
      "_________________________________________________________________\n",
      "embedding_1 (Embedding)      (None, 36, 300)           1050300   \n",
      "_________________________________________________________________\n",
      "bidirectional_1 (Bidirection (None, 128)               186880    \n",
      "_________________________________________________________________\n",
      "dropout_1 (Dropout)          (None, 128)               0         \n",
      "_________________________________________________________________\n",
      "batch_normalization_1 (Batch (None, 128)               512       \n",
      "_________________________________________________________________\n",
      "dense_1 (Dense)              (None, 32)                4128      \n",
      "_________________________________________________________________\n",
      "dropout_2 (Dropout)          (None, 32)                0         \n",
      "_________________________________________________________________\n",
      "batch_normalization_2 (Batch (None, 32)                128       \n",
      "_________________________________________________________________\n",
      "dense_2 (Dense)              (None, 1)                 33        \n",
      "=================================================================\n",
      "Total params: 1,241,981\n",
      "Trainable params: 191,361\n",
      "Non-trainable params: 1,050,620\n",
      "_________________________________________________________________\n",
      "lstm_10_10_0.38_0.31\n",
      "\n"
     ]
    }
   ],
   "source": [
    "STAMP = 'lstm_%d_%d_%.2f_%.2f'%(10, 10, rate_drop_lstm, \\\n",
    "        rate_drop_dense)\n",
    "\n",
    "model = Model(inputs=[sequence_1_input], outputs=preds)\n",
    "model.compile(loss='binary_crossentropy', \n",
    "              optimizer='rmsprop', \n",
    "              metrics=['acc'])\n",
    "model.summary()\n",
    "print(STAMP, end='\\n\\n')"
   ]
  },
  {
   "cell_type": "code",
   "execution_count": 11,
   "metadata": {
    "scrolled": true
   },
   "outputs": [
    {
     "name": "stdout",
     "output_type": "stream",
     "text": [
      "Train on 3000 samples, validate on 250 samples\n",
      "Epoch 1/200\n",
      "3000/3000 [==============================] - 2s 810us/step - loss: 0.7484 - acc: 0.5760 - val_loss: 0.6952 - val_acc: 0.4200\n",
      "Epoch 2/200\n",
      "3000/3000 [==============================] - 1s 466us/step - loss: 0.6989 - acc: 0.6123 - val_loss: 0.6961 - val_acc: 0.4280\n",
      "Epoch 3/200\n",
      "3000/3000 [==============================] - 1s 457us/step - loss: 0.6489 - acc: 0.6573 - val_loss: 0.6974 - val_acc: 0.4200\n",
      "Epoch 4/200\n",
      "3000/3000 [==============================] - 1s 452us/step - loss: 0.6228 - acc: 0.6773 - val_loss: 0.6901 - val_acc: 0.4840\n",
      "Epoch 5/200\n",
      "3000/3000 [==============================] - 1s 467us/step - loss: 0.5900 - acc: 0.6980 - val_loss: 0.7024 - val_acc: 0.4240\n",
      "Epoch 6/200\n",
      "3000/3000 [==============================] - 1s 474us/step - loss: 0.5729 - acc: 0.7160 - val_loss: 0.6920 - val_acc: 0.4560\n",
      "Epoch 7/200\n",
      "3000/3000 [==============================] - 1s 466us/step - loss: 0.5678 - acc: 0.7223 - val_loss: 0.7029 - val_acc: 0.4360\n",
      "Epoch 8/200\n",
      "3000/3000 [==============================] - 1s 454us/step - loss: 0.5487 - acc: 0.7180 - val_loss: 0.6799 - val_acc: 0.5480\n",
      "Epoch 9/200\n",
      "3000/3000 [==============================] - 1s 472us/step - loss: 0.5352 - acc: 0.7323 - val_loss: 0.6757 - val_acc: 0.5440\n",
      "Epoch 10/200\n",
      "3000/3000 [==============================] - 1s 468us/step - loss: 0.5236 - acc: 0.7513 - val_loss: 0.6739 - val_acc: 0.5360\n",
      "Epoch 11/200\n",
      "3000/3000 [==============================] - 1s 469us/step - loss: 0.5229 - acc: 0.7350 - val_loss: 0.6522 - val_acc: 0.6600\n",
      "Epoch 12/200\n",
      "3000/3000 [==============================] - 1s 466us/step - loss: 0.5284 - acc: 0.7427 - val_loss: 0.6654 - val_acc: 0.5560\n",
      "Epoch 13/200\n",
      "3000/3000 [==============================] - 1s 454us/step - loss: 0.5228 - acc: 0.7450 - val_loss: 0.6228 - val_acc: 0.6840\n",
      "Epoch 14/200\n",
      "3000/3000 [==============================] - 1s 468us/step - loss: 0.5269 - acc: 0.7380 - val_loss: 0.6419 - val_acc: 0.6760\n",
      "Epoch 15/200\n",
      "3000/3000 [==============================] - 1s 452us/step - loss: 0.5166 - acc: 0.7540 - val_loss: 0.6268 - val_acc: 0.6800\n",
      "Epoch 16/200\n",
      "3000/3000 [==============================] - 1s 450us/step - loss: 0.5133 - acc: 0.7493 - val_loss: 0.6190 - val_acc: 0.6800\n",
      "Epoch 17/200\n",
      "3000/3000 [==============================] - 1s 469us/step - loss: 0.5034 - acc: 0.7553 - val_loss: 0.6168 - val_acc: 0.6800\n",
      "Epoch 18/200\n",
      "3000/3000 [==============================] - 1s 466us/step - loss: 0.5024 - acc: 0.7487 - val_loss: 0.6147 - val_acc: 0.6760\n",
      "Epoch 19/200\n",
      "3000/3000 [==============================] - 1s 466us/step - loss: 0.4911 - acc: 0.7580 - val_loss: 0.6106 - val_acc: 0.6840\n",
      "Epoch 20/200\n",
      "3000/3000 [==============================] - 1s 473us/step - loss: 0.4889 - acc: 0.7640 - val_loss: 0.5893 - val_acc: 0.6760\n",
      "Epoch 21/200\n",
      "3000/3000 [==============================] - 1s 471us/step - loss: 0.4907 - acc: 0.7693 - val_loss: 0.5814 - val_acc: 0.6920\n",
      "Epoch 22/200\n",
      "3000/3000 [==============================] - 1s 478us/step - loss: 0.4757 - acc: 0.7773 - val_loss: 0.5872 - val_acc: 0.7120\n",
      "Epoch 23/200\n",
      "3000/3000 [==============================] - 1s 458us/step - loss: 0.4868 - acc: 0.7667 - val_loss: 0.5841 - val_acc: 0.6920\n",
      "Epoch 24/200\n",
      "3000/3000 [==============================] - 1s 452us/step - loss: 0.4845 - acc: 0.7683 - val_loss: 0.6107 - val_acc: 0.6880\n",
      "Epoch 25/200\n",
      "3000/3000 [==============================] - 1s 452us/step - loss: 0.4739 - acc: 0.7677 - val_loss: 0.6157 - val_acc: 0.6720\n",
      "Epoch 26/200\n",
      "3000/3000 [==============================] - 1s 452us/step - loss: 0.4771 - acc: 0.7667 - val_loss: 0.5782 - val_acc: 0.7000\n",
      "Epoch 27/200\n",
      "3000/3000 [==============================] - 1s 468us/step - loss: 0.4677 - acc: 0.7847 - val_loss: 0.5851 - val_acc: 0.6800\n",
      "Epoch 28/200\n",
      "3000/3000 [==============================] - 1s 448us/step - loss: 0.4757 - acc: 0.7840 - val_loss: 0.6183 - val_acc: 0.6680\n",
      "Epoch 29/200\n",
      "3000/3000 [==============================] - 1s 452us/step - loss: 0.4800 - acc: 0.7717 - val_loss: 0.5929 - val_acc: 0.6960\n",
      "Epoch 30/200\n",
      "3000/3000 [==============================] - 1s 455us/step - loss: 0.4671 - acc: 0.7830 - val_loss: 0.5814 - val_acc: 0.6880\n",
      "Epoch 31/200\n",
      "3000/3000 [==============================] - 1s 453us/step - loss: 0.4508 - acc: 0.7870 - val_loss: 0.6054 - val_acc: 0.6960\n",
      "Epoch 32/200\n",
      "3000/3000 [==============================] - 1s 452us/step - loss: 0.4566 - acc: 0.7887 - val_loss: 0.5883 - val_acc: 0.6920\n",
      "Epoch 33/200\n",
      "3000/3000 [==============================] - 1s 453us/step - loss: 0.4605 - acc: 0.7743 - val_loss: 0.6035 - val_acc: 0.6720\n",
      "Epoch 34/200\n",
      "3000/3000 [==============================] - 1s 451us/step - loss: 0.4655 - acc: 0.7797 - val_loss: 0.5984 - val_acc: 0.6840\n",
      "Epoch 35/200\n",
      "3000/3000 [==============================] - 1s 450us/step - loss: 0.4561 - acc: 0.7910 - val_loss: 0.6025 - val_acc: 0.6880\n",
      "Epoch 36/200\n",
      "3000/3000 [==============================] - 1s 448us/step - loss: 0.4582 - acc: 0.7837 - val_loss: 0.5813 - val_acc: 0.6800\n",
      "Epoch 37/200\n",
      "3000/3000 [==============================] - 1s 455us/step - loss: 0.4592 - acc: 0.7780 - val_loss: 0.5793 - val_acc: 0.6960\n",
      "Epoch 38/200\n",
      "3000/3000 [==============================] - 1s 455us/step - loss: 0.4567 - acc: 0.7823 - val_loss: 0.5822 - val_acc: 0.6760\n",
      "Epoch 39/200\n",
      "3000/3000 [==============================] - 1s 452us/step - loss: 0.4552 - acc: 0.7847 - val_loss: 0.5960 - val_acc: 0.6960\n",
      "Epoch 40/200\n",
      "3000/3000 [==============================] - 1s 454us/step - loss: 0.4529 - acc: 0.7873 - val_loss: 0.5945 - val_acc: 0.6800\n",
      "Epoch 41/200\n",
      "3000/3000 [==============================] - 1s 467us/step - loss: 0.4502 - acc: 0.7910 - val_loss: 0.5974 - val_acc: 0.6880\n",
      "Epoch 42/200\n",
      "3000/3000 [==============================] - 1s 458us/step - loss: 0.4488 - acc: 0.7970 - val_loss: 0.5923 - val_acc: 0.6960\n",
      "Epoch 43/200\n",
      "3000/3000 [==============================] - 1s 453us/step - loss: 0.4443 - acc: 0.7937 - val_loss: 0.5913 - val_acc: 0.6840\n",
      "Epoch 44/200\n",
      "3000/3000 [==============================] - 1s 448us/step - loss: 0.4428 - acc: 0.7933 - val_loss: 0.5971 - val_acc: 0.6800\n",
      "Epoch 45/200\n",
      "3000/3000 [==============================] - 1s 450us/step - loss: 0.4424 - acc: 0.7900 - val_loss: 0.5831 - val_acc: 0.6840\n",
      "Epoch 46/200\n",
      "3000/3000 [==============================] - 1s 447us/step - loss: 0.4451 - acc: 0.7930 - val_loss: 0.5866 - val_acc: 0.6880\n"
     ]
    }
   ],
   "source": [
    "epochs = 200\n",
    "batch_size = 100\n",
    "patience = 20\n",
    "\n",
    "\n",
    "early_stopping =EarlyStopping(monitor='val_loss', patience=patience)\n",
    "bst_model_path = STAMP + '.h5'\n",
    "model_checkpoint = ModelCheckpoint(bst_model_path, save_best_only=True, save_weights_only=True)\n",
    "\n",
    "history = model.fit(sequences_matrix_train, Xy_train[\"class\"], \n",
    "                 validation_data=(sequences_matrix_test[:n_items_for_test//2], \n",
    "                                  Xy_test[\"class\"][:n_items_for_test//2]), \n",
    "                 epochs=epochs, batch_size=batch_size, shuffle=True,\n",
    "                 callbacks=[early_stopping, model_checkpoint])"
   ]
  },
  {
   "cell_type": "code",
   "execution_count": 12,
   "metadata": {},
   "outputs": [
    {
     "data": {
      "image/png": "[encoded data removed]",
      "text/plain": [
       "<Figure size 720x576 with 1 Axes>"
      ]
     },
     "metadata": {
      "needs_background": "light"
     },
     "output_type": "display_data"
    }
   ],
   "source": [
    "import matplotlib.pyplot as plt\n",
    "%matplotlib inline\n",
    "plt.rcParams[\"figure.figsize\"] = (10, 8) \n",
    "\n",
    "# summarize history for accuracy\n",
    "plt.plot(history.history['acc'])\n",
    "plt.plot(history.history['val_acc'])\n",
    "plt.title('model accuracy')\n",
    "plt.ylabel('acc')\n",
    "plt.xlabel('epoch')\n",
    "plt.legend(['train', 'test'], loc='upper left')\n",
    "plt.show()\n",
    "\n",
    "# # summarize history for loss\n",
    "# plt.plot(history.history['loss'])\n",
    "# plt.plot(history.history['val_loss'])\n",
    "# plt.title('model loss')\n",
    "# plt.ylabel('loss')\n",
    "# plt.xlabel('epoch')\n",
    "# plt.legend(['train', 'test'], loc='upper left')\n",
    "# plt.show()"
   ]
  },
  {
   "cell_type": "code",
   "execution_count": 13,
   "metadata": {},
   "outputs": [
    {
     "name": "stdout",
     "output_type": "stream",
     "text": [
      "              precision    recall  f1-score   support\n",
      "\n",
      "           0       0.69      0.79      0.74       355\n",
      "           1       0.70      0.57      0.63       298\n",
      "\n",
      "    accuracy                           0.69       653\n",
      "   macro avg       0.69      0.68      0.68       653\n",
      "weighted avg       0.69      0.69      0.69       653\n",
      "\n"
     ]
    }
   ],
   "source": [
    "pred = model.predict(sequences_matrix_test[n_items_for_test//2:])\n",
    "pred.shape\n",
    "bin_pred, real = [], np.array(Xy_test[\"class\"]).tolist()[n_items_for_test//2:]\n",
    "for i in range(len(pred)):\n",
    "    #print(f'pred = {int(round(float(pred[i][0]), 0))},\\t real = {real[i]}')\n",
    "    bin_pred.append(int(round(float(pred[i][0]), 0))) \n",
    "#np.array(Xy_test[\"class\"]).tolist()\n",
    "bin_pred, real\n",
    "from sklearn.metrics import classification_report\n",
    "print(classification_report(real, bin_pred))"
   ]
  },
  {
   "cell_type": "code",
   "execution_count": 14,
   "metadata": {},
   "outputs": [
    {
     "data": {
      "text/html": [
       "<div>\n",
       "<style scoped>\n",
       "    .dataframe tbody tr th:only-of-type {\n",
       "        vertical-align: middle;\n",
       "    }\n",
       "\n",
       "    .dataframe tbody tr th {\n",
       "        vertical-align: top;\n",
       "    }\n",
       "\n",
       "    .dataframe thead th {\n",
       "        text-align: right;\n",
       "    }\n",
       "</style>\n",
       "<table border=\"1\" class=\"dataframe\">\n",
       "  <thead>\n",
       "    <tr style=\"text-align: right;\">\n",
       "      <th></th>\n",
       "      <th>Pos</th>\n",
       "      <th>Neg</th>\n",
       "    </tr>\n",
       "  </thead>\n",
       "  <tbody>\n",
       "    <tr>\n",
       "      <td>0</td>\n",
       "      <td>281</td>\n",
       "      <td>74</td>\n",
       "    </tr>\n",
       "    <tr>\n",
       "      <td>1</td>\n",
       "      <td>128</td>\n",
       "      <td>170</td>\n",
       "    </tr>\n",
       "  </tbody>\n",
       "</table>\n",
       "</div>"
      ],
      "text/plain": [
       "   Pos  Neg\n",
       "0  281   74\n",
       "1  128  170"
      ]
     },
     "execution_count": 14,
     "metadata": {},
     "output_type": "execute_result"
    }
   ],
   "source": [
    "pd.DataFrame(confusion_matrix(real, bin_pred), columns=['Pos', 'Neg'])"
   ]
  },
  {
   "attachments": {
    "confusion_matrix.jpg": {
     "image/jpeg": "[encoded data removed]"
    }
   },
   "cell_type": "markdown",
   "metadata": {},
   "source": [
    "![confusion_matrix.jpg](attachment:confusion_matrix.jpg)"
   ]
  },
  {
   "cell_type": "markdown",
   "metadata": {},
   "source": [
    "# LSTM_2.0"
   ]
  },
  {
   "cell_type": "code",
   "execution_count": 15,
   "metadata": {},
   "outputs": [
    {
     "name": "stdout",
     "output_type": "stream",
     "text": [
      "Model: \"sequential_1\"\n",
      "_________________________________________________________________\n",
      "Layer (type)                 Output Shape              Param #   \n",
      "=================================================================\n",
      "embedding_1 (Embedding)      (None, 36, 300)           1050300   \n",
      "_________________________________________________________________\n",
      "lstm_2 (LSTM)                (None, 128)               219648    \n",
      "_________________________________________________________________\n",
      "dense_3 (Dense)              (None, 1)                 129       \n",
      "=================================================================\n",
      "Total params: 1,270,077\n",
      "Trainable params: 219,777\n",
      "Non-trainable params: 1,050,300\n",
      "_________________________________________________________________\n",
      "None\n"
     ]
    }
   ],
   "source": [
    "from keras.models import Model, Sequential\n",
    "\n",
    "model1 = Sequential()\n",
    "model1.add(embedding_layer)\n",
    "model1.add(LSTM(128, dropout=rate_drop_lstm, recurrent_dropout=rate_drop_lstm))\n",
    "model1.add(Dense(1, activation='sigmoid'))\n",
    "\n",
    "model1.compile(loss='binary_crossentropy', \n",
    "              optimizer='rmsprop', \n",
    "              metrics=['acc'])\n",
    "print(model1.summary())"
   ]
  },
  {
   "cell_type": "code",
   "execution_count": 16,
   "metadata": {},
   "outputs": [
    {
     "name": "stdout",
     "output_type": "stream",
     "text": [
      "Train on 3000 samples, validate on 250 samples\n",
      "Epoch 1/200\n",
      "3000/3000 [==============================] - 2s 666us/step - loss: 0.6508 - acc: 0.6327 - val_loss: 0.6661 - val_acc: 0.6600\n",
      "Epoch 2/200\n",
      "3000/3000 [==============================] - 2s 551us/step - loss: 0.6209 - acc: 0.6847 - val_loss: 0.6352 - val_acc: 0.6440\n",
      "Epoch 3/200\n",
      "3000/3000 [==============================] - 2s 559us/step - loss: 0.5956 - acc: 0.7007 - val_loss: 0.6420 - val_acc: 0.6520\n",
      "Epoch 4/200\n",
      "3000/3000 [==============================] - 2s 534us/step - loss: 0.5676 - acc: 0.7207 - val_loss: 0.6570 - val_acc: 0.6400\n",
      "Epoch 5/200\n",
      "3000/3000 [==============================] - 2s 557us/step - loss: 0.5615 - acc: 0.7257 - val_loss: 0.6165 - val_acc: 0.6640\n",
      "Epoch 6/200\n",
      "3000/3000 [==============================] - 2s 552us/step - loss: 0.5474 - acc: 0.7320 - val_loss: 0.6270 - val_acc: 0.6760\n",
      "Epoch 7/200\n",
      "3000/3000 [==============================] - 2s 536us/step - loss: 0.5492 - acc: 0.7283 - val_loss: 0.6219 - val_acc: 0.6720\n",
      "Epoch 8/200\n",
      "3000/3000 [==============================] - 2s 534us/step - loss: 0.5436 - acc: 0.7360 - val_loss: 0.6139 - val_acc: 0.6720\n",
      "Epoch 9/200\n",
      "3000/3000 [==============================] - 2s 546us/step - loss: 0.5308 - acc: 0.7437 - val_loss: 0.6024 - val_acc: 0.6880\n",
      "Epoch 10/200\n",
      "3000/3000 [==============================] - 2s 548us/step - loss: 0.5288 - acc: 0.7413 - val_loss: 0.6275 - val_acc: 0.6600\n",
      "Epoch 11/200\n",
      "3000/3000 [==============================] - 2s 533us/step - loss: 0.5219 - acc: 0.7437 - val_loss: 0.6003 - val_acc: 0.6720\n",
      "Epoch 12/200\n",
      "3000/3000 [==============================] - 2s 547us/step - loss: 0.5125 - acc: 0.7553 - val_loss: 0.5967 - val_acc: 0.6800\n",
      "Epoch 13/200\n",
      "3000/3000 [==============================] - 2s 561us/step - loss: 0.5220 - acc: 0.7487 - val_loss: 0.5947 - val_acc: 0.6840\n",
      "Epoch 14/200\n",
      "3000/3000 [==============================] - 2s 549us/step - loss: 0.5164 - acc: 0.7560 - val_loss: 0.5952 - val_acc: 0.6920\n",
      "Epoch 15/200\n",
      "3000/3000 [==============================] - 2s 527us/step - loss: 0.5171 - acc: 0.7483 - val_loss: 0.6053 - val_acc: 0.6920\n",
      "Epoch 16/200\n",
      "3000/3000 [==============================] - 2s 530us/step - loss: 0.5171 - acc: 0.7467 - val_loss: 0.5893 - val_acc: 0.6840\n",
      "Epoch 17/200\n",
      "3000/3000 [==============================] - 2s 545us/step - loss: 0.4996 - acc: 0.7487 - val_loss: 0.5930 - val_acc: 0.6880\n",
      "Epoch 18/200\n",
      "3000/3000 [==============================] - 2s 531us/step - loss: 0.5097 - acc: 0.7543 - val_loss: 0.6010 - val_acc: 0.6960\n",
      "Epoch 19/200\n",
      "3000/3000 [==============================] - 2s 543us/step - loss: 0.5011 - acc: 0.7573 - val_loss: 0.5846 - val_acc: 0.6920\n",
      "Epoch 20/200\n",
      "3000/3000 [==============================] - 2s 558us/step - loss: 0.4994 - acc: 0.7623 - val_loss: 0.5853 - val_acc: 0.7000\n",
      "Epoch 21/200\n",
      "3000/3000 [==============================] - 2s 539us/step - loss: 0.4887 - acc: 0.7630 - val_loss: 0.5836 - val_acc: 0.7040\n",
      "Epoch 22/200\n",
      "3000/3000 [==============================] - 2s 548us/step - loss: 0.4965 - acc: 0.7600 - val_loss: 0.6065 - val_acc: 0.7000\n",
      "Epoch 23/200\n",
      "3000/3000 [==============================] - 2s 538us/step - loss: 0.4890 - acc: 0.7627 - val_loss: 0.5840 - val_acc: 0.6920\n",
      "Epoch 24/200\n",
      "3000/3000 [==============================] - 2s 527us/step - loss: 0.4829 - acc: 0.7687 - val_loss: 0.6009 - val_acc: 0.6960\n",
      "Epoch 25/200\n",
      "3000/3000 [==============================] - 2s 545us/step - loss: 0.4923 - acc: 0.7683 - val_loss: 0.5841 - val_acc: 0.7000\n",
      "Epoch 26/200\n",
      "3000/3000 [==============================] - 2s 537us/step - loss: 0.4812 - acc: 0.7707 - val_loss: 0.5967 - val_acc: 0.6840\n",
      "Epoch 27/200\n",
      "3000/3000 [==============================] - 2s 565us/step - loss: 0.4854 - acc: 0.7723 - val_loss: 0.5928 - val_acc: 0.6880\n",
      "Epoch 28/200\n",
      "3000/3000 [==============================] - 2s 547us/step - loss: 0.4794 - acc: 0.7760 - val_loss: 0.5870 - val_acc: 0.6920\n",
      "Epoch 29/200\n",
      "3000/3000 [==============================] - 2s 670us/step - loss: 0.4731 - acc: 0.7700 - val_loss: 0.5885 - val_acc: 0.6840\n",
      "Epoch 30/200\n",
      "3000/3000 [==============================] - 2s 556us/step - loss: 0.4880 - acc: 0.7627 - val_loss: 0.5833 - val_acc: 0.7040\n",
      "Epoch 31/200\n",
      "3000/3000 [==============================] - 2s 575us/step - loss: 0.4745 - acc: 0.7690 - val_loss: 0.5822 - val_acc: 0.7040\n",
      "Epoch 32/200\n",
      "3000/3000 [==============================] - 2s 568us/step - loss: 0.4678 - acc: 0.7737 - val_loss: 0.5890 - val_acc: 0.6960\n",
      "Epoch 33/200\n",
      "3000/3000 [==============================] - 2s 548us/step - loss: 0.4695 - acc: 0.7713 - val_loss: 0.5842 - val_acc: 0.7120\n",
      "Epoch 34/200\n",
      "3000/3000 [==============================] - 2s 552us/step - loss: 0.4663 - acc: 0.7817 - val_loss: 0.5986 - val_acc: 0.6840\n",
      "Epoch 35/200\n",
      "3000/3000 [==============================] - 2s 551us/step - loss: 0.4608 - acc: 0.7823 - val_loss: 0.5921 - val_acc: 0.7040\n",
      "Epoch 36/200\n",
      "3000/3000 [==============================] - 2s 550us/step - loss: 0.4545 - acc: 0.7807 - val_loss: 0.5834 - val_acc: 0.7120\n",
      "Epoch 37/200\n",
      "3000/3000 [==============================] - 2s 593us/step - loss: 0.4499 - acc: 0.7863 - val_loss: 0.5929 - val_acc: 0.7080\n",
      "Epoch 38/200\n",
      "3000/3000 [==============================] - 2s 617us/step - loss: 0.4554 - acc: 0.7823 - val_loss: 0.5904 - val_acc: 0.7040\n",
      "Epoch 39/200\n",
      "3000/3000 [==============================] - 2s 600us/step - loss: 0.4565 - acc: 0.7817 - val_loss: 0.6103 - val_acc: 0.6960\n",
      "Epoch 40/200\n",
      "3000/3000 [==============================] - 2s 594us/step - loss: 0.4598 - acc: 0.7803 - val_loss: 0.6068 - val_acc: 0.7120\n",
      "Epoch 41/200\n",
      "3000/3000 [==============================] - 2s 550us/step - loss: 0.4632 - acc: 0.7713 - val_loss: 0.6004 - val_acc: 0.7000\n",
      "Epoch 42/200\n",
      "3000/3000 [==============================] - 2s 567us/step - loss: 0.4605 - acc: 0.7760 - val_loss: 0.5871 - val_acc: 0.7080\n",
      "Epoch 43/200\n",
      "3000/3000 [==============================] - 2s 552us/step - loss: 0.4516 - acc: 0.7833 - val_loss: 0.5962 - val_acc: 0.7040\n",
      "Epoch 44/200\n",
      "3000/3000 [==============================] - 2s 712us/step - loss: 0.4593 - acc: 0.7827 - val_loss: 0.6057 - val_acc: 0.6880\n",
      "Epoch 45/200\n",
      "3000/3000 [==============================] - 2s 745us/step - loss: 0.4443 - acc: 0.7890 - val_loss: 0.6054 - val_acc: 0.7120\n",
      "Epoch 46/200\n",
      "3000/3000 [==============================] - 2s 615us/step - loss: 0.4387 - acc: 0.7833 - val_loss: 0.6059 - val_acc: 0.7000\n",
      "Epoch 47/200\n",
      "3000/3000 [==============================] - 2s 547us/step - loss: 0.4358 - acc: 0.7930 - val_loss: 0.6286 - val_acc: 0.7040\n",
      "Epoch 48/200\n",
      "3000/3000 [==============================] - 2s 532us/step - loss: 0.4465 - acc: 0.7870 - val_loss: 0.5994 - val_acc: 0.6920\n",
      "Epoch 49/200\n",
      "3000/3000 [==============================] - 2s 530us/step - loss: 0.4397 - acc: 0.7890 - val_loss: 0.6034 - val_acc: 0.7160\n",
      "Epoch 50/200\n",
      "3000/3000 [==============================] - 2s 542us/step - loss: 0.4335 - acc: 0.7983 - val_loss: 0.5996 - val_acc: 0.6800\n",
      "Epoch 51/200\n",
      "3000/3000 [==============================] - 2s 571us/step - loss: 0.4282 - acc: 0.7963 - val_loss: 0.6070 - val_acc: 0.6960\n"
     ]
    }
   ],
   "source": [
    "epochs = 200\n",
    "batch_size = 100\n",
    "patience = 20\n",
    "\n",
    "\n",
    "early_stopping =EarlyStopping(monitor='val_loss', patience=patience)\n",
    "bst_model_path = STAMP + '.h5'\n",
    "\n",
    "model_checkpoint = ModelCheckpoint(bst_model_path, save_best_only=True, save_weights_only=True)\n",
    "\n",
    "history1 = model1.fit(sequences_matrix_train, Xy_train[\"class\"], \n",
    "                 validation_data=(sequences_matrix_test[:n_items_for_test//2], \n",
    "                                  Xy_test[\"class\"][:n_items_for_test//2]), \n",
    "                 epochs=epochs, batch_size=batch_size, shuffle=True,\n",
    "                 callbacks=[early_stopping, model_checkpoint])"
   ]
  },
  {
   "cell_type": "code",
   "execution_count": 17,
   "metadata": {},
   "outputs": [
    {
     "data": {
      "image/png": "[encoded data removed]",
      "text/plain": [
       "<Figure size 720x576 with 1 Axes>"
      ]
     },
     "metadata": {
      "needs_background": "light"
     },
     "output_type": "display_data"
    }
   ],
   "source": [
    "plt.rcParams[\"figure.figsize\"] = (10, 8) \n",
    "\n",
    "# summarize history for accuracy\n",
    "plt.plot(history1.history['acc'])\n",
    "plt.plot(history1.history['val_acc'])\n",
    "plt.title('model accuracy')\n",
    "plt.ylabel('acc')\n",
    "plt.xlabel('epoch')\n",
    "plt.legend(['train', 'test'], loc='upper left')\n",
    "plt.show()"
   ]
  },
  {
   "cell_type": "code",
   "execution_count": 18,
   "metadata": {},
   "outputs": [
    {
     "name": "stdout",
     "output_type": "stream",
     "text": [
      "              precision    recall  f1-score   support\n",
      "\n",
      "           0       0.74      0.74      0.74       355\n",
      "           1       0.69      0.69      0.69       298\n",
      "\n",
      "    accuracy                           0.72       653\n",
      "   macro avg       0.72      0.72      0.72       653\n",
      "weighted avg       0.72      0.72      0.72       653\n",
      "\n"
     ]
    }
   ],
   "source": [
    "pred = model1.predict(sequences_matrix_test[n_items_for_test//2:])\n",
    "pred.shape\n",
    "bin_pred, real = [], np.array(Xy_test[\"class\"]).tolist()[n_items_for_test//2:]\n",
    "for i in range(len(pred)):\n",
    "    #print(f'pred = {int(round(float(pred[i][0]), 0))},\\t real = {real[i]}')\n",
    "    bin_pred.append(int(round(float(pred[i][0]), 0))) \n",
    "#np.array(Xy_test[\"class\"]).tolist()\n",
    "bin_pred, real\n",
    "from sklearn.metrics import classification_report\n",
    "print(classification_report(real, bin_pred))"
   ]
  },
  {
   "cell_type": "code",
   "execution_count": 19,
   "metadata": {},
   "outputs": [
    {
     "data": {
      "text/html": [
       "<div>\n",
       "<style scoped>\n",
       "    .dataframe tbody tr th:only-of-type {\n",
       "        vertical-align: middle;\n",
       "    }\n",
       "\n",
       "    .dataframe tbody tr th {\n",
       "        vertical-align: top;\n",
       "    }\n",
       "\n",
       "    .dataframe thead th {\n",
       "        text-align: right;\n",
       "    }\n",
       "</style>\n",
       "<table border=\"1\" class=\"dataframe\">\n",
       "  <thead>\n",
       "    <tr style=\"text-align: right;\">\n",
       "      <th></th>\n",
       "      <th>Pos</th>\n",
       "      <th>Neg</th>\n",
       "    </tr>\n",
       "  </thead>\n",
       "  <tbody>\n",
       "    <tr>\n",
       "      <td>0</td>\n",
       "      <td>263</td>\n",
       "      <td>92</td>\n",
       "    </tr>\n",
       "    <tr>\n",
       "      <td>1</td>\n",
       "      <td>91</td>\n",
       "      <td>207</td>\n",
       "    </tr>\n",
       "  </tbody>\n",
       "</table>\n",
       "</div>"
      ],
      "text/plain": [
       "   Pos  Neg\n",
       "0  263   92\n",
       "1   91  207"
      ]
     },
     "execution_count": 19,
     "metadata": {},
     "output_type": "execute_result"
    }
   ],
   "source": [
    "pd.DataFrame(confusion_matrix(real, bin_pred), columns=['Pos', 'Neg'])"
   ]
  },
  {
   "cell_type": "markdown",
   "metadata": {},
   "source": [
    "# Models comparing"
   ]
  },
  {
   "cell_type": "code",
   "execution_count": 20,
   "metadata": {},
   "outputs": [
    {
     "data": {
      "text/html": [
       "<div>\n",
       "<style scoped>\n",
       "    .dataframe tbody tr th:only-of-type {\n",
       "        vertical-align: middle;\n",
       "    }\n",
       "\n",
       "    .dataframe tbody tr th {\n",
       "        vertical-align: top;\n",
       "    }\n",
       "\n",
       "    .dataframe thead th {\n",
       "        text-align: right;\n",
       "    }\n",
       "</style>\n",
       "<table border=\"1\" class=\"dataframe\">\n",
       "  <thead>\n",
       "    <tr style=\"text-align: right;\">\n",
       "      <th></th>\n",
       "      <th>Model</th>\n",
       "      <th>MEAN</th>\n",
       "      <th>STD</th>\n",
       "    </tr>\n",
       "  </thead>\n",
       "  <tbody>\n",
       "    <tr>\n",
       "      <td>0</td>\n",
       "      <td>Model 1</td>\n",
       "      <td>0.685714</td>\n",
       "      <td>0.005174</td>\n",
       "    </tr>\n",
       "    <tr>\n",
       "      <td>1</td>\n",
       "      <td>Model 2</td>\n",
       "      <td>0.700000</td>\n",
       "      <td>0.011314</td>\n",
       "    </tr>\n",
       "  </tbody>\n",
       "</table>\n",
       "</div>"
      ],
      "text/plain": [
       "     Model      MEAN       STD\n",
       "0  Model 1  0.685714  0.005174\n",
       "1  Model 2  0.700000  0.011314"
      ]
     },
     "execution_count": 20,
     "metadata": {},
     "output_type": "execute_result"
    }
   ],
   "source": [
    "comapring = pd.DataFrame()\n",
    "comapring['Model'] = ['Model 1', 'Model 2']\n",
    "\n",
    "last_e = 7\n",
    "m_h1, m_h2 = np.array(history.history['val_acc'][-last_e:]), np.array(history1.history['val_acc'][-last_e:])\n",
    "comapring['MEAN'] = [m_h1.mean(), m_h2.mean()]\n",
    "comapring['STD'] = [m_h1.std(), m_h2.std()]\n",
    "\n",
    "comapring"
   ]
  },
  {
   "cell_type": "code",
   "execution_count": null,
   "metadata": {},
   "outputs": [],
   "source": []
  }
 ],
 "metadata": {
  "kernelspec": {
   "display_name": "Python 3",
   "language": "python",
   "name": "python3"
  },
  "language_info": {
   "codemirror_mode": {
    "name": "ipython",
    "version": 3
   },
   "file_extension": ".py",
   "mimetype": "text/x-python",
   "name": "python",
   "nbconvert_exporter": "python",
   "pygments_lexer": "ipython3",
   "version": "3.7.4"
  }
 },
 "nbformat": 4,
 "nbformat_minor": 2
}
