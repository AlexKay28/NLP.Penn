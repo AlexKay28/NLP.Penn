{
 "cells": [
  {
   "cell_type": "code",
   "execution_count": 1,
   "metadata": {},
   "outputs": [],
   "source": [
    "import pandas as pd \n",
    "import numpy as np\n",
    "\n",
    "from sklearn.feature_extraction.text import CountVectorizer, TfidfVectorizer\n",
    "from sklearn.svm import SVC\n",
    "from sklearn.metrics import roc_auc_score, accuracy_score, f1_score, classification_report\n",
    "from sklearn.model_selection import train_test_split, StratifiedKFold"
   ]
  },
  {
   "cell_type": "code",
   "execution_count": 2,
   "metadata": {},
   "outputs": [],
   "source": [
    "# Train set 3\n",
    "df = pd.read_csv('../task2_data/task2_en_training.tsv', sep='\\t')[['class', 'tweet']]\n",
    "df['class'] = df['class'].apply(lambda x: int(x))\n",
    "\n",
    "Train = df.iloc[np.random.permutation(len(df))]"
   ]
  },
  {
   "cell_type": "code",
   "execution_count": 3,
   "metadata": {},
   "outputs": [
    {
     "name": "stdout",
     "output_type": "stream",
     "text": [
      "StratifiedKFold(n_splits=5, random_state=None, shuffle=False)\n",
      "Stratified K-Fold\n",
      "SVM F1 Score ->  62.393\n",
      "SVM F1 Score ->  66.3\n",
      "SVM F1 Score ->  69.119\n",
      "SVM F1 Score ->  70.144\n",
      "SVM F1 Score ->  53.581\n",
      "F1 average: 64.307 %\n",
      "\n"
     ]
    }
   ],
   "source": [
    "from sklearn.metrics import classification_report\n",
    "from sklearn.model_selection import StratifiedKFold\n",
    "\n",
    "# Tokenization \n",
    "X = Train['tweet']\n",
    "Y = Train['class']\n",
    "\n",
    "X_train, X_test, y_train, y_test = train_test_split(X, Y , test_size=0.2)\n",
    "tfidf = TfidfVectorizer()\n",
    "# feature_extraction = TfidfVectorizer()\n",
    "# X = feature_extraction.fit_transform(X)\n",
    "\n",
    "\n",
    "skf = StratifiedKFold(n_splits=5)\n",
    "skf.get_n_splits(X, Y)\n",
    "print(skf) \n",
    "\n",
    "print('Stratified K-Fold')\n",
    "f1=[] # array of f1 scores \n",
    "for train_index, test_index in skf.split(X, Y):\n",
    "    X_train, X_test = X[train_index], X[test_index]\n",
    "    y_train, y_test = Y[train_index], Y[test_index]\n",
    "    \n",
    "    tfidf.fit(X_train)\n",
    "    X_train = tfidf.transform(X_train)\n",
    "    X_test = tfidf.transform(X_test)\n",
    "    \n",
    "    SVM = SVC(kernel='linear')\n",
    "    SVM.fit(X_train,y_train)\n",
    "\n",
    "    predictions_SVM = SVM.predict(X_test)\n",
    "    f1.append(round(f1_score(predictions_SVM, y_test, average='macro')*100,3))\n",
    "    print(\"SVM F1 Score -> \", f1[-1])\n",
    "\n",
    "# avg f1\n",
    "print(f'F1 average: {round(np.array(f1).mean(), 3)} %')\n",
    "print()"
   ]
  },
  {
   "cell_type": "code",
   "execution_count": 4,
   "metadata": {},
   "outputs": [
    {
     "name": "stdout",
     "output_type": "stream",
     "text": [
      "              precision    recall  f1-score   support\n",
      "\n",
      "           0       0.88      1.00      0.93      3571\n",
      "           1       0.75      0.08      0.14       537\n",
      "\n",
      "    accuracy                           0.88      4108\n",
      "   macro avg       0.81      0.54      0.54      4108\n",
      "weighted avg       0.86      0.88      0.83      4108\n",
      "\n"
     ]
    }
   ],
   "source": [
    "# для последней модели \n",
    "print(classification_report(y_test, predictions_SVM))"
   ]
  },
  {
   "cell_type": "code",
   "execution_count": 5,
   "metadata": {},
   "outputs": [],
   "source": [
    "# # cross_val_score\n",
    "# from sklearn.model_selection import ShuffleSplit, cross_val_score, cross_val_predict\n",
    "# scores = cross_val_score(SVM, X_train, y_train, cv=5, scoring='f1_macro')\n",
    "# print('Cross val score')\n",
    "# print('CVS scores:', scores)\n",
    "# print(f'CVS scores mean: {round(scores.mean()*100, 3)} %')\n",
    "# print(f'CVS scores std: {round(scores.std()*100, 3)}')"
   ]
  },
  {
   "cell_type": "markdown",
   "metadata": {},
   "source": [
    "# Dataset task_3"
   ]
  },
  {
   "cell_type": "code",
   "execution_count": 6,
   "metadata": {},
   "outputs": [
    {
     "name": "stdout",
     "output_type": "stream",
     "text": [
      "(2246, 2) (2246, 2)\n",
      "(560, 2) (560, 2)\n"
     ]
    },
    {
     "data": {
      "text/html": [
       "<div>\n",
       "<style scoped>\n",
       "    .dataframe tbody tr th:only-of-type {\n",
       "        vertical-align: middle;\n",
       "    }\n",
       "\n",
       "    .dataframe tbody tr th {\n",
       "        vertical-align: top;\n",
       "    }\n",
       "\n",
       "    .dataframe thead th {\n",
       "        text-align: right;\n",
       "    }\n",
       "</style>\n",
       "<table border=\"1\" class=\"dataframe\">\n",
       "  <thead>\n",
       "    <tr style=\"text-align: right;\">\n",
       "      <th></th>\n",
       "      <th>type</th>\n",
       "      <th>tweet</th>\n",
       "    </tr>\n",
       "  </thead>\n",
       "  <tbody>\n",
       "    <tr>\n",
       "      <td>1894</td>\n",
       "      <td>1</td>\n",
       "      <td>@crazyindapeg 3 seroquel?? hell i take half of...</td>\n",
       "    </tr>\n",
       "    <tr>\n",
       "      <td>1964</td>\n",
       "      <td>1</td>\n",
       "      <td>exhausted...can't fall asleep. don't wanna tak...</td>\n",
       "    </tr>\n",
       "    <tr>\n",
       "      <td>915</td>\n",
       "      <td>0</td>\n",
       "      <td>@jasminejean89 @herodfel @amelia_draws i'm on ...</td>\n",
       "    </tr>\n",
       "    <tr>\n",
       "      <td>1746</td>\n",
       "      <td>1</td>\n",
       "      <td>one of the things i hate most about quetiapine...</td>\n",
       "    </tr>\n",
       "    <tr>\n",
       "      <td>382</td>\n",
       "      <td>1</td>\n",
       "      <td>anyone on cymbalta it is making me like a zomb...</td>\n",
       "    </tr>\n",
       "    <tr>\n",
       "      <td>1819</td>\n",
       "      <td>1</td>\n",
       "      <td>@exitingcorpse @luckystubbs seroquel was my bo...</td>\n",
       "    </tr>\n",
       "    <tr>\n",
       "      <td>1302</td>\n",
       "      <td>0</td>\n",
       "      <td>no seriously, someone really needs to get stel...</td>\n",
       "    </tr>\n",
       "    <tr>\n",
       "      <td>281</td>\n",
       "      <td>0</td>\n",
       "      <td>@k_mowers i think very tired; maybe more depre...</td>\n",
       "    </tr>\n",
       "    <tr>\n",
       "      <td>1970</td>\n",
       "      <td>0</td>\n",
       "      <td>i'm taking six of my trazodone pills and i swe...</td>\n",
       "    </tr>\n",
       "    <tr>\n",
       "      <td>1087</td>\n",
       "      <td>0</td>\n",
       "      <td>and my fluoxetine. hmm, hot dayum prozac</td>\n",
       "    </tr>\n",
       "  </tbody>\n",
       "</table>\n",
       "</div>"
      ],
      "text/plain": [
       "      type                                              tweet\n",
       "1894     1  @crazyindapeg 3 seroquel?? hell i take half of...\n",
       "1964     1  exhausted...can't fall asleep. don't wanna tak...\n",
       "915      0  @jasminejean89 @herodfel @amelia_draws i'm on ...\n",
       "1746     1  one of the things i hate most about quetiapine...\n",
       "382      1  anyone on cymbalta it is making me like a zomb...\n",
       "1819     1  @exitingcorpse @luckystubbs seroquel was my bo...\n",
       "1302     0  no seriously, someone really needs to get stel...\n",
       "281      0  @k_mowers i think very tired; maybe more depre...\n",
       "1970     0  i'm taking six of my trazodone pills and i swe...\n",
       "1087     0           and my fluoxetine. hmm, hot dayum prozac"
      ]
     },
     "execution_count": 6,
     "metadata": {},
     "output_type": "execute_result"
    }
   ],
   "source": [
    "#Load the data into Pandas dataframe\n",
    "df1 = pd.read_csv('../task3_data/task3_training.tsv', sep='\\t')[['type', 'tweet']]\n",
    "df1 = df1.fillna(0)\n",
    "df1 = df1.replace('ADR', 1)\n",
    "df1 = df1.iloc[np.random.permutation(len(df1))]\n",
    "Train = df1\n",
    "\n",
    "df2 = pd.read_csv('../task3_data/task3_validation.tsv', sep='\\t')[['type', 'tweet']]\n",
    "df2 = df2.fillna(0)\n",
    "df2 = df2.replace('ADR', 1)\n",
    "df2 = df2.iloc[np.random.permutation(len(df2))]\n",
    "df2 = df2.dropna()\n",
    "Test = df2\n",
    "\n",
    "print(Train.shape, Train.shape)\n",
    "#Train_set = pd.concat([Train_set, Test_set])\n",
    "print(Test.shape, Test.shape)\n",
    "\n",
    "Train.head(10)"
   ]
  },
  {
   "cell_type": "code",
   "execution_count": 7,
   "metadata": {},
   "outputs": [
    {
     "name": "stdout",
     "output_type": "stream",
     "text": [
      "SVM F1 Score ->  74.321\n"
     ]
    }
   ],
   "source": [
    "X_train = Train['tweet']\n",
    "y_train = Train['type']\n",
    "\n",
    "X_test = Test['tweet']\n",
    "y_test = Test['type']\n",
    "\n",
    "tfidf = TfidfVectorizer()\n",
    "tfidf.fit(X_train)\n",
    "\n",
    "X_train = tfidf.transform(X_train)\n",
    "X_test = tfidf.transform(X_test)\n",
    "\n",
    "SVM = SVC(kernel='linear')\n",
    "SVM.fit(X_train,y_train)\n",
    "predictions_SVM = SVM.predict(X_test)\n",
    "f1.append(round(f1_score(predictions_SVM, y_test, average='macro')*100,3))\n",
    "print(\"SVM F1 Score -> \", f1[-1])"
   ]
  },
  {
   "cell_type": "code",
   "execution_count": 8,
   "metadata": {},
   "outputs": [
    {
     "name": "stdout",
     "output_type": "stream",
     "text": [
      "              precision    recall  f1-score   support\n",
      "\n",
      "           0       0.74      0.57      0.65       195\n",
      "           1       0.80      0.89      0.84       365\n",
      "\n",
      "    accuracy                           0.78       560\n",
      "   macro avg       0.77      0.73      0.74       560\n",
      "weighted avg       0.78      0.78      0.77       560\n",
      "\n"
     ]
    }
   ],
   "source": [
    "print(classification_report(y_test, predictions_SVM))"
   ]
  },
  {
   "cell_type": "code",
   "execution_count": null,
   "metadata": {},
   "outputs": [],
   "source": []
  }
 ],
 "metadata": {
  "kernelspec": {
   "display_name": "Python 3",
   "language": "python",
   "name": "python3"
  },
  "language_info": {
   "codemirror_mode": {
    "name": "ipython",
    "version": 3
   },
   "file_extension": ".py",
   "mimetype": "text/x-python",
   "name": "python",
   "nbconvert_exporter": "python",
   "pygments_lexer": "ipython3",
   "version": "3.7.4"
  }
 },
 "nbformat": 4,
 "nbformat_minor": 2
}
