{
 "cells": [
  {
   "cell_type": "code",
   "execution_count": 23,
   "metadata": {},
   "outputs": [
    {
     "data": {
      "text/plain": [
       "(<1x35181 sparse matrix of type '<class 'numpy.float64'>'\n",
       " \twith 13 stored elements in Compressed Sparse Row format>,\n",
       " <1x35181 sparse matrix of type '<class 'numpy.float64'>'\n",
       " \twith 20 stored elements in Compressed Sparse Row format>)"
      ]
     },
     "execution_count": 23,
     "metadata": {},
     "output_type": "execute_result"
    }
   ],
   "source": [
    "from sklearn.feature_extraction.text import CountVectorizer, TfidfVectorizer\n",
    "import pandas as pd \n",
    "import numpy as np\n",
    "from sklearn.svm import SVC\n",
    "from sklearn.metrics import roc_auc_score, accuracy_score, f1_score\n",
    "from sklearn.model_selection import train_test_split\n",
    "\n",
    "\n",
    "#Load the data into Pandas dataframe\n",
    "df = pd.read_csv('../task2_data/task2_en_training.tsv', sep='\\t')[['class', 'tweet']]\n",
    "df['class'] = df['class'].apply(lambda x: int(x))\n",
    "\n",
    "df = df.iloc[np.random.permutation(len(df))]\n",
    "\n",
    "X = df['tweet']\n",
    "Y = df['class']\n",
    "\n",
    "feature_extraction = TfidfVectorizer()\n",
    "X = feature_extraction.fit_transform(X)\n",
    "\n",
    "X_train, X_test, y_train, y_test = train_test_split(X, Y , test_size=0.2)\n",
    "\n",
    "# X_train = feature_extraction.fit_transform(X_train)\n",
    "# X_test = feature_extraction.fit_transform(X_test)\n",
    "X_train[0], X_test[0]"
   ]
  },
  {
   "cell_type": "code",
   "execution_count": null,
   "metadata": {},
   "outputs": [
    {
     "data": {
      "application/vnd.jupyter.widget-view+json": {
       "model_id": "cde8dfefe0b04728b301e12966d12ed0",
       "version_major": 2,
       "version_minor": 0
      },
      "text/plain": [
       "HBox(children=(IntProgress(value=0, description='Optimization Progress', max=300, style=ProgressStyle(descript…"
      ]
     },
     "metadata": {},
     "output_type": "display_data"
    }
   ],
   "source": [
    "from tpot import TPOTClassifier\n",
    "import joblib\n",
    "from sklearn.metrics import classification_report\n",
    "from sklearn.metrics import roc_auc_score, accuracy_score, f1_score\n",
    "\n",
    "tpot = TPOTClassifier(generations=5,\n",
    "                      population_size=50,\n",
    "                      verbosity=2,\n",
    "                      random_state=42,\n",
    "                      config_dict='TPOT sparse',\n",
    "                      scoring='f1')\n",
    "tpot.fit(X_train, y_train)\n",
    "\n",
    "print(tpot.score(X_test, y_test))\n",
    "\n",
    "tpot.export('TPOT_Pipeline.py')"
   ]
  },
  {
   "cell_type": "code",
   "execution_count": 22,
   "metadata": {},
   "outputs": [
    {
     "name": "stdout",
     "output_type": "stream",
     "text": [
      "import numpy as np\n",
      "import pandas as pd\n",
      "from sklearn.feature_selection import SelectPercentile, f_classif\n",
      "from sklearn.model_selection import train_test_split\n",
      "from sklearn.naive_bayes import MultinomialNB\n",
      "from sklearn.pipeline import make_pipeline\n",
      "from tpot.export_utils import set_param_recursive\n",
      "\n",
      "# NOTE: Make sure that the outcome column is labeled 'target' in the data file\n",
      "tpot_data = pd.read_csv('PATH/TO/DATA/FILE', sep='COLUMN_SEPARATOR', dtype=np.float64)\n",
      "features = tpot_data.drop('target', axis=1)\n",
      "training_features, testing_features, training_target, testing_target = \\\n",
      "            train_test_split(features, tpot_data['target'], random_state=42)\n",
      "\n",
      "# Average CV score on the training set was: 0.19359254786958774\n",
      "exported_pipeline = make_pipeline(\n",
      "    SelectPercentile(score_func=f_classif, percentile=47),\n",
      "    MultinomialNB(alpha=0.001, fit_prior=False)\n",
      ")\n",
      "# Fix random state for all the steps in exported pipeline\n",
      "set_param_recursive(exported_pipeline.steps, 'random_state', 42)\n",
      "\n",
      "exported_pipeline.fit(training_features, training_target)\n",
      "results = exported_pipeline.predict(testing_features)\n"
     ]
    }
   ],
   "source": [
    "with open('TPOT_Pipeline.py') as file:\n",
    "    for line in file:\n",
    "        print(line, end='')"
   ]
  },
  {
   "cell_type": "code",
   "execution_count": null,
   "metadata": {},
   "outputs": [],
   "source": []
  }
 ],
 "metadata": {
  "kernelspec": {
   "display_name": "Python 3",
   "language": "python",
   "name": "python3"
  },
  "language_info": {
   "codemirror_mode": {
    "name": "ipython",
    "version": 3
   },
   "file_extension": ".py",
   "mimetype": "text/x-python",
   "name": "python",
   "nbconvert_exporter": "python",
   "pygments_lexer": "ipython3",
   "version": "3.7.4"
  }
 },
 "nbformat": 4,
 "nbformat_minor": 2
}
