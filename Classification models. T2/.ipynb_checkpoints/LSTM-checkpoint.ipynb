{
 "cells": [
  {
   "cell_type": "code",
   "execution_count": 72,
   "metadata": {},
   "outputs": [],
   "source": [
    "#visualisation and work with dfs\n",
    "import pandas as pd\n",
    "import numpy as np\n",
    "import matplotlib.pyplot as plt\n",
    "import seaborn as sns\n",
    "\n",
    "from sklearn.model_selection import train_test_split\n",
    "from sklearn.preprocessing import LabelEncoder\n",
    "\n",
    "from keras.models import Model\n",
    "from keras.layers import LSTM, Activation, Dense, Dropout, Input, Embedding,  Bidirectional, TimeDistributed, Flatten\n",
    "from keras.optimizers import RMSprop\n",
    "from keras.preprocessing.text import Tokenizer\n",
    "from keras.preprocessing import sequence\n",
    "from keras.utils import to_categorical\n",
    "from keras.callbacks import EarlyStopping\n",
    "\n",
    "%matplotlib inline"
   ]
  },
  {
   "cell_type": "code",
   "execution_count": 12,
   "metadata": {},
   "outputs": [
    {
     "name": "stdout",
     "output_type": "stream",
     "text": [
      "<class 'pandas.core.frame.DataFrame'>\n",
      "RangeIndex: 20544 entries, 0 to 20543\n",
      "Data columns (total 2 columns):\n",
      "class    20544 non-null int64\n",
      "tweet    20544 non-null object\n",
      "dtypes: int64(1), object(1)\n",
      "memory usage: 321.1+ KB\n"
     ]
    },
    {
     "data": {
      "text/plain": [
       "(       class                                              tweet\n",
       " 0          0                depression hurts, cymbalta can help\n",
       " 1          0  @jessicama20045 right, but cipro can make thin...\n",
       " 2          0         @fibby1123 are you on paxil .. i need help\n",
       " 3          0  @redicine the lamotrigine and sjs just made ch...\n",
       " 4          0  have decided to skip my #humira shot today. my...\n",
       " ...      ...                                                ...\n",
       " 20539      1  @hornetweb my mri scan shows when it happens b...\n",
       " 20540      1  remember 2003. vioxx costs $65m to ontario dru...\n",
       " 20541      1  asians are at higher risk for severe allergic ...\n",
       " 20542      1  5. so what caused the #estrogen surges in #nuv...\n",
       " 20543      1  @twittalesskels 😂😂😂😂 i'm high off this tamiflu...\n",
       " \n",
       " [20544 rows x 2 columns], None)"
      ]
     },
     "execution_count": 12,
     "metadata": {},
     "output_type": "execute_result"
    }
   ],
   "source": [
    "#Load the data into Pandas dataframe\n",
    "df = pd.read_csv('task2_en_training.tsv', sep='\\t')[['class', 'tweet']]\n",
    "df['class'] = df['class'].apply(lambda x: int(x))\n",
    "df, df.info()"
   ]
  },
  {
   "cell_type": "code",
   "execution_count": 47,
   "metadata": {},
   "outputs": [
    {
     "data": {
      "text/plain": [
       "Text(0.5, 1.0, 'Number of labeled messages')"
      ]
     },
     "execution_count": 47,
     "metadata": {},
     "output_type": "execute_result"
    },
    {
     "data": {
      "image/png": "[encoded data removed]",
      "text/plain": [
       "<Figure size 432x288 with 1 Axes>"
      ]
     },
     "metadata": {
      "needs_background": "light"
     },
     "output_type": "display_data"
    }
   ],
   "source": [
    "#Understand the distribution better.\n",
    "# 0 meand NO ADR, 1 ADR exists\n",
    "sns.countplot(df['class'])\n",
    "plt.xlabel('Label')\n",
    "plt.title('Number of labeled messages')"
   ]
  },
  {
   "cell_type": "code",
   "execution_count": 63,
   "metadata": {},
   "outputs": [
    {
     "name": "stdout",
     "output_type": "stream",
     "text": [
      "++ 0        0\n",
      "1        0\n",
      "2        0\n",
      "3        0\n",
      "4        0\n",
      "        ..\n",
      "20539    1\n",
      "20540    1\n",
      "20541    1\n",
      "20542    1\n",
      "20543    1\n",
      "Name: class, Length: 20544, dtype: int64\n",
      "+++ [0 0 0 ... 1 1 1]\n",
      "++++ [[0]\n",
      " [0]\n",
      " [0]\n",
      " ...\n",
      " [1]\n",
      " [1]\n",
      " [1]]\n"
     ]
    },
    {
     "data": {
      "text/plain": [
       "0                      depression hurts, cymbalta can help\n",
       "1        @jessicama20045 right, but cipro can make thin...\n",
       "2               @fibby1123 are you on paxil .. i need help\n",
       "3        @redicine the lamotrigine and sjs just made ch...\n",
       "4        have decided to skip my #humira shot today. my...\n",
       "                               ...                        \n",
       "20539    @hornetweb my mri scan shows when it happens b...\n",
       "20540    remember 2003. vioxx costs $65m to ontario dru...\n",
       "20541    asians are at higher risk for severe allergic ...\n",
       "20542    5. so what caused the #estrogen surges in #nuv...\n",
       "20543    @twittalesskels 😂😂😂😂 i'm high off this tamiflu...\n",
       "Name: tweet, Length: 20544, dtype: object"
      ]
     },
     "execution_count": 63,
     "metadata": {},
     "output_type": "execute_result"
    }
   ],
   "source": [
    "#Create input and output vectors just by splitting them on 2! \n",
    "X = df['tweet']\n",
    "Y = df['class']\n",
    "\n",
    "#Process the labels\n",
    "le = LabelEncoder() # Encode target labels with value between 0 and n_classes-1. BTW it ain't required here..\n",
    "print('++', Y)\n",
    "Y = le.fit_transform(Y) #Fit to data, then transform it. ??\n",
    "print('+++',Y)\n",
    "Y = Y.reshape(-1,1) #just make the arr from that..\n",
    "print('++++', Y)\n",
    "X"
   ]
  },
  {
   "cell_type": "code",
   "execution_count": 26,
   "metadata": {},
   "outputs": [],
   "source": [
    "#Split into training and test data.\n",
    "X_train, X_test, Y_train, Y_test = train_test_split(X, Y, test_size=0.15)"
   ]
  },
  {
   "cell_type": "code",
   "execution_count": 56,
   "metadata": {},
   "outputs": [
    {
     "data": {
      "text/plain": [
       "(15891    \"@imryanoakes: adderall and coffee diet starts...\n",
       " 11930    pervez rasheed should take imodium for chronic...\n",
       " 8378     who needs a bird to snuggle up when you got te...\n",
       " 11831    really enjoyed the panel yesterday at the exel...\n",
       " 3575     am i only person who sees cymbalta commercial ...\n",
       "                                ...                        \n",
       " 13073    i wanna stay up all night but i dont have the ...\n",
       " 13198                tf finna buy some high ass tamiflu 😩😩\n",
       " 14015    @loraxofsex @_laura33_ had to recheck what lop...\n",
       " 16083             @vruno i'm more of a crestor man myself.\n",
       " 10007    whatever the fuck is in viibryd must be really...\n",
       " Name: tweet, Length: 17462, dtype: object,\n",
       " '   =======================     ==============================    ',\n",
       " 6910     @lyrashaunte11 hahaha you i be thinkin the sam...\n",
       " 15869         @merelyvertigo you own the beacon of meridia\n",
       " 5624     this week has had so many highs and lows i mig...\n",
       " 17039    ask @katzunga tonic clonic. pero wala sa choic...\n",
       " 4605     attach to postcard lozenge balance the books l...\n",
       "                                ...                        \n",
       " 1043     i have #humira -exp. date june2013..is it stil...\n",
       " 20171    being white doesnt help with this suboxone wit...\n",
       " 19356    ranitadine, co-codamol, ibuprofen, vitamin b t...\n",
       " 17135    @mollywallop i take nexium 40mg. i'm surprised...\n",
       " 3306     @crohnsgirlprobs i hope they get it figured ou...\n",
       " Name: tweet, Length: 3082, dtype: object)"
      ]
     },
     "execution_count": 56,
     "metadata": {},
     "output_type": "execute_result"
    }
   ],
   "source": [
    "X_train,'   =======================     ==============================    ' ,X_test"
   ]
  },
  {
   "cell_type": "code",
   "execution_count": 65,
   "metadata": {},
   "outputs": [
    {
     "name": "stdout",
     "output_type": "stream",
     "text": [
      "15891    \"@imryanoakes: adderall and coffee diet starts...\n",
      "11930    pervez rasheed should take imodium for chronic...\n",
      "Name: tweet, dtype: object [[46, 5, 406, 728, 92, 22, 12, 442], [133, 28, 80, 6, 826, 717, 581]] etc\n"
     ]
    },
    {
     "data": {
      "text/plain": [
       "array([[  0,   0,   0, ...,  22,  12, 442],\n",
       "       [  0,   0,   0, ..., 826, 717, 581],\n",
       "       [  0,   0,   0, ..., 291,   5,   4],\n",
       "       ...,\n",
       "       [  0,   0,   0, ...,  15, 209,  96],\n",
       "       [  0,   0,   0, ..., 137, 333, 427],\n",
       "       [  0,   0,   0, ...,  11,  91, 595]], dtype=int32)"
      ]
     },
     "execution_count": 65,
     "metadata": {},
     "output_type": "execute_result"
    }
   ],
   "source": [
    "# Process the data\n",
    "#   Tokenize the data and convert the text to sequences.\n",
    "#   Add padding to ensure that all the sequences have the same shape.\n",
    "#   There are many ways of taking the max_len and here an arbitrary length of 150 is chosen.\n",
    "max_words = 1000\n",
    "max_len = 150\n",
    "tok = Tokenizer(num_words=max_words) #just tokenization... probably like BOF\n",
    "tok.fit_on_texts(X_train)\n",
    "sequences = tok.texts_to_sequences(X_train) # got the arr of sequences which appear like array of array_of_tokens\n",
    "\n",
    "print(X_train[:2], sequences[:2], 'etc') # here we write that ARR of ARRs\n",
    "\n",
    "sequences_matrix = sequence.pad_sequences(sequences, maxlen=max_len) #pads sequences.. makes it softly? \n",
    "# https://keras.io/preprocessing/sequence/\n",
    "sequences_matrix"
   ]
  },
  {
   "cell_type": "code",
   "execution_count": 36,
   "metadata": {},
   "outputs": [],
   "source": [
    "#Define the RNN structure\n",
    "def RNN():\n",
    "    inputs = Input(name='inputs', shape=[max_len])\n",
    "    layer = Embedding(max_words, 50, input_length=max_len)(inputs)\n",
    "    layer = LSTM(64)(layer)\n",
    "    layer = Dense(256, name='FC1')(layer)\n",
    "    layer = Activation('relu')(layer)\n",
    "    layer = Dropout(0.5)(layer)\n",
    "    layer = Dense(1, name='out_layer')(layer)\n",
    "    layer = Activation('sigmoid')(layer)\n",
    "    model = Model(inputs=inputs, outputs=layer)\n",
    "    return model"
   ]
  },
  {
   "cell_type": "code",
   "execution_count": 37,
   "metadata": {},
   "outputs": [
    {
     "name": "stdout",
     "output_type": "stream",
     "text": [
      "Model: \"model_1\"\n",
      "_________________________________________________________________\n",
      "Layer (type)                 Output Shape              Param #   \n",
      "=================================================================\n",
      "inputs (InputLayer)          (None, 150)               0         \n",
      "_________________________________________________________________\n",
      "embedding_2 (Embedding)      (None, 150, 50)           50000     \n",
      "_________________________________________________________________\n",
      "lstm_3 (LSTM)                (None, 64)                29440     \n",
      "_________________________________________________________________\n",
      "FC1 (Dense)                  (None, 256)               16640     \n",
      "_________________________________________________________________\n",
      "activation_2 (Activation)    (None, 256)               0         \n",
      "_________________________________________________________________\n",
      "dropout_2 (Dropout)          (None, 256)               0         \n",
      "_________________________________________________________________\n",
      "out_layer (Dense)            (None, 1)                 257       \n",
      "_________________________________________________________________\n",
      "activation_3 (Activation)    (None, 1)                 0         \n",
      "=================================================================\n",
      "Total params: 96,337\n",
      "Trainable params: 96,337\n",
      "Non-trainable params: 0\n",
      "_________________________________________________________________\n"
     ]
    }
   ],
   "source": [
    "# Call the function and compile the model\n",
    "model = RNN()\n",
    "model.summary()\n",
    "model.compile(loss='binary_crossentropy',optimizer=RMSprop(),metrics=['accuracy'])"
   ]
  },
  {
   "cell_type": "code",
   "execution_count": 38,
   "metadata": {},
   "outputs": [
    {
     "name": "stderr",
     "output_type": "stream",
     "text": [
      "/home/alexkay/anaconda3/lib/python3.7/site-packages/tensorflow_core/python/framework/indexed_slices.py:433: UserWarning: Converting sparse IndexedSlices to a dense Tensor of unknown shape. This may consume a large amount of memory.\n",
      "  \"Converting sparse IndexedSlices to a dense Tensor of unknown shape. \"\n"
     ]
    },
    {
     "name": "stdout",
     "output_type": "stream",
     "text": [
      "Train on 13969 samples, validate on 3493 samples\n",
      "Epoch 1/10\n",
      "13969/13969 [==============================] - 12s 861us/step - loss: 0.2996 - accuracy: 0.9017 - val_loss: 0.2466 - val_accuracy: 0.9121\n",
      "Epoch 2/10\n",
      "13969/13969 [==============================] - 11s 812us/step - loss: 0.2269 - accuracy: 0.9157 - val_loss: 0.2235 - val_accuracy: 0.9187\n",
      "Epoch 3/10\n",
      "13969/13969 [==============================] - 11s 808us/step - loss: 0.2083 - accuracy: 0.9223 - val_loss: 0.2200 - val_accuracy: 0.9204\n",
      "Epoch 4/10\n",
      "13969/13969 [==============================] - 11s 813us/step - loss: 0.2006 - accuracy: 0.9236 - val_loss: 0.2160 - val_accuracy: 0.9210\n",
      "Epoch 5/10\n",
      "13969/13969 [==============================] - 12s 835us/step - loss: 0.1931 - accuracy: 0.9260 - val_loss: 0.2260 - val_accuracy: 0.9233\n"
     ]
    },
    {
     "data": {
      "text/plain": [
       "<keras.callbacks.callbacks.History at 0x7f9adbfffb50>"
      ]
     },
     "execution_count": 38,
     "metadata": {},
     "output_type": "execute_result"
    }
   ],
   "source": [
    "# Fit on the training data\n",
    "model.fit(sequences_matrix,Y_train,batch_size=128,epochs=10,\n",
    "          validation_split=0.2,callbacks=[EarlyStopping(monitor='val_loss',min_delta=0.0001)])"
   ]
  },
  {
   "cell_type": "code",
   "execution_count": 39,
   "metadata": {},
   "outputs": [],
   "source": [
    "# Process the test set data\n",
    "test_sequences = tok.texts_to_sequences(X_test)\n",
    "test_sequences_matrix = sequence.pad_sequences(test_sequences,maxlen=max_len)"
   ]
  },
  {
   "cell_type": "code",
   "execution_count": 40,
   "metadata": {},
   "outputs": [
    {
     "name": "stdout",
     "output_type": "stream",
     "text": [
      "3082/3082 [==============================] - 1s 340us/step\n"
     ]
    }
   ],
   "source": [
    "# Evaluate the model on the test set\n",
    "accr = model.evaluate(test_sequences_matrix,Y_test)"
   ]
  },
  {
   "cell_type": "code",
   "execution_count": 41,
   "metadata": {},
   "outputs": [
    {
     "name": "stdout",
     "output_type": "stream",
     "text": [
      "Test set\n",
      "  Loss: 0.275\n",
      "  Accuracy: 0.910\n"
     ]
    }
   ],
   "source": [
    "print('Test set\\n  Loss: {:0.3f}\\n  Accuracy: {:0.3f}'.format(accr[0],accr[1]))"
   ]
  },
  {
   "cell_type": "markdown",
   "metadata": {},
   "source": [
    "# RNN2 , just playing with layers and features..."
   ]
  },
  {
   "cell_type": "code",
   "execution_count": 82,
   "metadata": {},
   "outputs": [],
   "source": [
    "#Define the RNN2 structure BI-LSTM\n",
    "def RNN2():\n",
    "    inputs = Input(name='inputs', shape=[max_len])\n",
    "    layer = Embedding(max_words, 50, input_length=max_len)(inputs)\n",
    "    layer = Bidirectional(LSTM(100, return_sequences=True, dropout=0.50), merge_mode='concat')(layer)\n",
    "    layer = TimeDistributed(Dense(100, activation='relu'))(layer)\n",
    "    layer = Flatten()(layer)\n",
    "    layer = Dense(100, activation='relu')(layer)\n",
    "    layer = Dense(1, activation='softmax')(layer)\n",
    "    model = Model(inputs=inputs, outputs=layer)\n",
    "    return model\n",
    "\n",
    "#model.summary()\n",
    "#model.compile(loss='sparse_categorical_crossentropy',optimizer='adam', metrics=['accuracy'])\n",
    "#return model"
   ]
  },
  {
   "cell_type": "code",
   "execution_count": 83,
   "metadata": {},
   "outputs": [
    {
     "name": "stdout",
     "output_type": "stream",
     "text": [
      "Model: \"model_4\"\n",
      "_________________________________________________________________\n",
      "Layer (type)                 Output Shape              Param #   \n",
      "=================================================================\n",
      "inputs (InputLayer)          (None, 150)               0         \n",
      "_________________________________________________________________\n",
      "embedding_8 (Embedding)      (None, 150, 50)           50000     \n",
      "_________________________________________________________________\n",
      "bidirectional_5 (Bidirection (None, 150, 200)          120800    \n",
      "_________________________________________________________________\n",
      "time_distributed_4 (TimeDist (None, 150, 100)          20100     \n",
      "_________________________________________________________________\n",
      "flatten_3 (Flatten)          (None, 15000)             0         \n",
      "_________________________________________________________________\n",
      "dense_10 (Dense)             (None, 100)               1500100   \n",
      "_________________________________________________________________\n",
      "dense_11 (Dense)             (None, 1)                 101       \n",
      "=================================================================\n",
      "Total params: 1,691,101\n",
      "Trainable params: 1,691,101\n",
      "Non-trainable params: 0\n",
      "_________________________________________________________________\n"
     ]
    }
   ],
   "source": [
    "model2 = RNN2()\n",
    "model2.summary()\n",
    "model2.compile(loss='binary_crossentropy',optimizer=RMSprop(),metrics=['accuracy'])"
   ]
  },
  {
   "cell_type": "code",
   "execution_count": 84,
   "metadata": {},
   "outputs": [
    {
     "name": "stderr",
     "output_type": "stream",
     "text": [
      "/home/alexkay/anaconda3/lib/python3.7/site-packages/tensorflow_core/python/framework/indexed_slices.py:433: UserWarning: Converting sparse IndexedSlices to a dense Tensor of unknown shape. This may consume a large amount of memory.\n",
      "  \"Converting sparse IndexedSlices to a dense Tensor of unknown shape. \"\n"
     ]
    },
    {
     "name": "stdout",
     "output_type": "stream",
     "text": [
      "Train on 13969 samples, validate on 3493 samples\n",
      "Epoch 1/10\n",
      "13969/13969 [==============================] - 32s 2ms/step - loss: 13.9173 - accuracy: 0.0923 - val_loss: 13.8915 - val_accuracy: 0.0890\n",
      "Epoch 2/10\n",
      "13969/13969 [==============================] - 31s 2ms/step - loss: 13.9173 - accuracy: 0.0923 - val_loss: 13.8915 - val_accuracy: 0.0890\n"
     ]
    },
    {
     "data": {
      "text/plain": [
       "<keras.callbacks.callbacks.History at 0x7f9adfa31110>"
      ]
     },
     "execution_count": 84,
     "metadata": {},
     "output_type": "execute_result"
    }
   ],
   "source": [
    "# Fit on the training data\n",
    "model2.fit(sequences_matrix, \n",
    "           Y_train, \n",
    "           batch_size=128,\n",
    "           epochs=10,\n",
    "           validation_split=0.2, \n",
    "           callbacks=[EarlyStopping(monitor='val_loss',min_delta=0.0001)])\n",
    "\n",
    "#model.fit(X_train,Y_train,validation_split=0.25, nb_epoch = 10, verbose = 2)"
   ]
  },
  {
   "cell_type": "code",
   "execution_count": null,
   "metadata": {},
   "outputs": [],
   "source": []
  }
 ],
 "metadata": {
  "kernelspec": {
   "display_name": "Python 3",
   "language": "python",
   "name": "python3"
  },
  "language_info": {
   "codemirror_mode": {
    "name": "ipython",
    "version": 3
   },
   "file_extension": ".py",
   "mimetype": "text/x-python",
   "name": "python",
   "nbconvert_exporter": "python",
   "pygments_lexer": "ipython3",
   "version": "3.7.4"
  }
 },
 "nbformat": 4,
 "nbformat_minor": 2
}
