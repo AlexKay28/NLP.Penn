{
 "cells": [
  {
   "cell_type": "code",
   "execution_count": 1,
   "metadata": {},
   "outputs": [],
   "source": [
    "from sklearn.feature_extraction.text import CountVectorizer, TfidfVectorizer\n",
    "import pandas as pd \n",
    "import numpy as np\n",
    "from sklearn.svm import SVC\n",
    "from sklearn.metrics import roc_auc_score, accuracy_score, f1_score\n",
    "from sklearn.model_selection import train_test_split"
   ]
  },
  {
   "cell_type": "code",
   "execution_count": 2,
   "metadata": {},
   "outputs": [
    {
     "data": {
      "text/html": [
       "<div>\n",
       "<style scoped>\n",
       "    .dataframe tbody tr th:only-of-type {\n",
       "        vertical-align: middle;\n",
       "    }\n",
       "\n",
       "    .dataframe tbody tr th {\n",
       "        vertical-align: top;\n",
       "    }\n",
       "\n",
       "    .dataframe thead th {\n",
       "        text-align: right;\n",
       "    }\n",
       "</style>\n",
       "<table border=\"1\" class=\"dataframe\">\n",
       "  <thead>\n",
       "    <tr style=\"text-align: right;\">\n",
       "      <th></th>\n",
       "      <th>class</th>\n",
       "      <th>tweet</th>\n",
       "    </tr>\n",
       "  </thead>\n",
       "  <tbody>\n",
       "    <tr>\n",
       "      <td>0</td>\n",
       "      <td>0</td>\n",
       "      <td>depression hurts, cymbalta can help</td>\n",
       "    </tr>\n",
       "    <tr>\n",
       "      <td>1</td>\n",
       "      <td>0</td>\n",
       "      <td>@jessicama20045 right, but cipro can make thin...</td>\n",
       "    </tr>\n",
       "    <tr>\n",
       "      <td>2</td>\n",
       "      <td>0</td>\n",
       "      <td>@fibby1123 are you on paxil .. i need help</td>\n",
       "    </tr>\n",
       "    <tr>\n",
       "      <td>3</td>\n",
       "      <td>0</td>\n",
       "      <td>@redicine the lamotrigine and sjs just made ch...</td>\n",
       "    </tr>\n",
       "    <tr>\n",
       "      <td>4</td>\n",
       "      <td>0</td>\n",
       "      <td>have decided to skip my #humira shot today. my...</td>\n",
       "    </tr>\n",
       "  </tbody>\n",
       "</table>\n",
       "</div>"
      ],
      "text/plain": [
       "   class                                              tweet\n",
       "0      0                depression hurts, cymbalta can help\n",
       "1      0  @jessicama20045 right, but cipro can make thin...\n",
       "2      0         @fibby1123 are you on paxil .. i need help\n",
       "3      0  @redicine the lamotrigine and sjs just made ch...\n",
       "4      0  have decided to skip my #humira shot today. my..."
      ]
     },
     "execution_count": 2,
     "metadata": {},
     "output_type": "execute_result"
    }
   ],
   "source": [
    "#Load the data into Pandas dataframe\n",
    "df = pd.read_csv('task2_en_training.tsv', sep='\\t')[['class', 'tweet']]\n",
    "df['class'] = df['class'].apply(lambda x: int(x))\n",
    "df.head()"
   ]
  },
  {
   "cell_type": "code",
   "execution_count": 3,
   "metadata": {},
   "outputs": [
    {
     "data": {
      "text/html": [
       "<div>\n",
       "<style scoped>\n",
       "    .dataframe tbody tr th:only-of-type {\n",
       "        vertical-align: middle;\n",
       "    }\n",
       "\n",
       "    .dataframe tbody tr th {\n",
       "        vertical-align: top;\n",
       "    }\n",
       "\n",
       "    .dataframe thead th {\n",
       "        text-align: right;\n",
       "    }\n",
       "</style>\n",
       "<table border=\"1\" class=\"dataframe\">\n",
       "  <thead>\n",
       "    <tr style=\"text-align: right;\">\n",
       "      <th></th>\n",
       "      <th>class</th>\n",
       "      <th>tweet</th>\n",
       "    </tr>\n",
       "  </thead>\n",
       "  <tbody>\n",
       "    <tr>\n",
       "      <td>11534</td>\n",
       "      <td>0</td>\n",
       "      <td>just went to cuba usde cocky shun diarrhea gil...</td>\n",
       "    </tr>\n",
       "    <tr>\n",
       "      <td>1182</td>\n",
       "      <td>0</td>\n",
       "      <td>#camh #badpharma - causes - drug-induced #psyc...</td>\n",
       "    </tr>\n",
       "    <tr>\n",
       "      <td>13235</td>\n",
       "      <td>0</td>\n",
       "      <td>i had an advair inhaler for a cough. no asthma...</td>\n",
       "    </tr>\n",
       "    <tr>\n",
       "      <td>12012</td>\n",
       "      <td>0</td>\n",
       "      <td>cymbalta cialis interaction</td>\n",
       "    </tr>\n",
       "    <tr>\n",
       "      <td>482</td>\n",
       "      <td>0</td>\n",
       "      <td>@sto_plc baclofen 10mg out of stock and pharma...</td>\n",
       "    </tr>\n",
       "  </tbody>\n",
       "</table>\n",
       "</div>"
      ],
      "text/plain": [
       "       class                                              tweet\n",
       "11534      0  just went to cuba usde cocky shun diarrhea gil...\n",
       "1182       0  #camh #badpharma - causes - drug-induced #psyc...\n",
       "13235      0  i had an advair inhaler for a cough. no asthma...\n",
       "12012      0                        cymbalta cialis interaction\n",
       "482        0  @sto_plc baclofen 10mg out of stock and pharma..."
      ]
     },
     "execution_count": 3,
     "metadata": {},
     "output_type": "execute_result"
    }
   ],
   "source": [
    "df = df.iloc[np.random.permutation(len(df))]\n",
    "df.head()"
   ]
  },
  {
   "cell_type": "code",
   "execution_count": 4,
   "metadata": {},
   "outputs": [
    {
     "data": {
      "text/plain": [
       "(scipy.sparse.csr.csr_matrix, pandas.core.series.Series)"
      ]
     },
     "execution_count": 4,
     "metadata": {},
     "output_type": "execute_result"
    }
   ],
   "source": [
    "X = df['tweet']\n",
    "Y = df['class']\n",
    "\n",
    "feature_extraction = TfidfVectorizer()\n",
    "X = feature_extraction.fit_transform(X)\n",
    "\n",
    "X_train, X_test, y_train, y_test = train_test_split(X, Y , test_size=0.2)\n",
    "type(X_train), type(y_train)"
   ]
  },
  {
   "cell_type": "code",
   "execution_count": 5,
   "metadata": {},
   "outputs": [],
   "source": [
    "# class sklearn.svm.SVC(C=1.0, \n",
    "#                       kernel='rbf', \n",
    "#                       degree=3, \n",
    "#                       gamma='scale', \n",
    "#                       coef0=0.0, \n",
    "#                       shrinking=True, \n",
    "#                       probability=False, \n",
    "#                       tol=0.001, \n",
    "#                       cache_size=200, \n",
    "#                       class_weight=None, \n",
    "#                       verbose=False, \n",
    "#                       max_iter=-1, \n",
    "#                       decision_function_shape='ovr', \n",
    "#                       break_ties=False, \n",
    "#                       random_state=None)[source]"
   ]
  },
  {
   "cell_type": "code",
   "execution_count": 6,
   "metadata": {},
   "outputs": [],
   "source": [
    "SVM = SVC(kernel='linear')\n",
    "SVM.fit(X_train,y_train)\n",
    "\n",
    "predictions_SVM = SVM.predict(X_test)"
   ]
  },
  {
   "cell_type": "code",
   "execution_count": 7,
   "metadata": {},
   "outputs": [
    {
     "name": "stdout",
     "output_type": "stream",
     "text": [
      "SVM Accuracy Score ->  91.74981747383791\n",
      "SVM F1 Score ->  27.71855010660981\n",
      "SVM Roc_auc Score ->  85.63613293197744\n"
     ]
    }
   ],
   "source": [
    "print(\"SVM Accuracy Score -> \", accuracy_score(predictions_SVM, y_test)*100)\n",
    "print(\"SVM F1 Score -> \", f1_score(predictions_SVM, y_test)*100)\n",
    "print(\"SVM Roc_auc Score -> \", roc_auc_score(predictions_SVM, y_test)*100)"
   ]
  },
  {
   "cell_type": "markdown",
   "metadata": {},
   "source": [
    "# SHUFFLE SPLIT + Cross Val."
   ]
  },
  {
   "cell_type": "code",
   "execution_count": 22,
   "metadata": {},
   "outputs": [
    {
     "data": {
      "text/html": [
       "<div>\n",
       "<style scoped>\n",
       "    .dataframe tbody tr th:only-of-type {\n",
       "        vertical-align: middle;\n",
       "    }\n",
       "\n",
       "    .dataframe tbody tr th {\n",
       "        vertical-align: top;\n",
       "    }\n",
       "\n",
       "    .dataframe thead th {\n",
       "        text-align: right;\n",
       "    }\n",
       "</style>\n",
       "<table border=\"1\" class=\"dataframe\">\n",
       "  <thead>\n",
       "    <tr style=\"text-align: right;\">\n",
       "      <th></th>\n",
       "      <th>class</th>\n",
       "      <th>tweet</th>\n",
       "    </tr>\n",
       "  </thead>\n",
       "  <tbody>\n",
       "    <tr>\n",
       "      <td>8802</td>\n",
       "      <td>0</td>\n",
       "      <td>i've had some bad reactions with the gabapenti...</td>\n",
       "    </tr>\n",
       "    <tr>\n",
       "      <td>1219</td>\n",
       "      <td>0</td>\n",
       "      <td>depression hurts, cymbalta will help</td>\n",
       "    </tr>\n",
       "    <tr>\n",
       "      <td>6793</td>\n",
       "      <td>0</td>\n",
       "      <td>@danmallia_ i need alvesco but id be ok with a...</td>\n",
       "    </tr>\n",
       "    <tr>\n",
       "      <td>7671</td>\n",
       "      <td>0</td>\n",
       "      <td>@thedalyplanet xarelto commercial?</td>\n",
       "    </tr>\n",
       "    <tr>\n",
       "      <td>19033</td>\n",
       "      <td>0</td>\n",
       "      <td>to jesus through miralax</td>\n",
       "    </tr>\n",
       "  </tbody>\n",
       "</table>\n",
       "</div>"
      ],
      "text/plain": [
       "       class                                              tweet\n",
       "8802       0  i've had some bad reactions with the gabapenti...\n",
       "1219       0               depression hurts, cymbalta will help\n",
       "6793       0  @danmallia_ i need alvesco but id be ok with a...\n",
       "7671       0                 @thedalyplanet xarelto commercial?\n",
       "19033      0                           to jesus through miralax"
      ]
     },
     "execution_count": 22,
     "metadata": {},
     "output_type": "execute_result"
    }
   ],
   "source": [
    "from sklearn.model_selection import ShuffleSplit, cross_val_score, cross_val_predict\n",
    "from scipy.sparse import hstack\n",
    "\n",
    "data = df\n",
    "data = data.iloc[np.random.permutation(len(df))]\n",
    "data.head()"
   ]
  },
  {
   "cell_type": "code",
   "execution_count": 23,
   "metadata": {},
   "outputs": [
    {
     "data": {
      "text/plain": [
       "(scipy.sparse.csr.csr_matrix, pandas.core.series.Series)"
      ]
     },
     "execution_count": 23,
     "metadata": {},
     "output_type": "execute_result"
    }
   ],
   "source": [
    "X = data['tweet']\n",
    "Y = data['class']\n",
    "\n",
    "feature_extraction = TfidfVectorizer()\n",
    "X = feature_extraction.fit_transform(X)\n",
    "\n",
    "X_train, X_test, y_train, y_test = train_test_split(X, Y , test_size=0.2)\n",
    "type(X_train), type(y_train)"
   ]
  },
  {
   "cell_type": "code",
   "execution_count": 34,
   "metadata": {},
   "outputs": [
    {
     "name": "stdout",
     "output_type": "stream",
     "text": [
      "tol = 0.1 score = 0.6098072651260243\n",
      "tol = 0.01 score = 0.6092685461890435\n",
      "tol = 0.001 score = 0.6097606193357457\n",
      "tol = 0.0001 score = 0.6092685461890435\n",
      "best_tol = 0.1 best_score = 0.6098072651260243\n"
     ]
    }
   ],
   "source": [
    "SVM2 = SVC(kernel='linear', C=1) #.fit(X_train,y_train)\n",
    "tols = [0.1, 0.01, 0.001, 0.0001]\n",
    "best_score = 0\n",
    "best_tol = 0\n",
    "for tol in tols:\n",
    "    SVM2 = SVC(kernel='linear', C=1, tol=tol)\n",
    "    scores = cross_val_score(SVM2, X_train, y_train, cv=3, scoring='f1_macro')\n",
    "    m = scores.mean()\n",
    "    if m > best_score:\n",
    "        best_score = m\n",
    "        best_tol = tol\n",
    "    print('tol =', tol, 'score =', scores.mean())\n",
    "    \n",
    "print('best_tol =', best_tol, 'best_score =', best_score)"
   ]
  },
  {
   "cell_type": "code",
   "execution_count": 36,
   "metadata": {},
   "outputs": [
    {
     "name": "stdout",
     "output_type": "stream",
     "text": [
      "              precision    recall  f1-score   support\n",
      "\n",
      "           0       0.93      0.99      0.96      3754\n",
      "           1       0.81      0.23      0.35       355\n",
      "\n",
      "    accuracy                           0.93      4109\n",
      "   macro avg       0.87      0.61      0.66      4109\n",
      "weighted avg       0.92      0.93      0.91      4109\n",
      "\n"
     ]
    }
   ],
   "source": [
    "from sklearn.metrics import classification_report\n",
    "SVM2 = SVC(kernel='linear', C=1, tol=best_tol).fit(X_train, y_train)\n",
    "predictions_SVM2 = SVM2.predict(X_test)\n",
    "print(classification_report(y_test, predictions_SVM2))"
   ]
  },
  {
   "cell_type": "code",
   "execution_count": 9,
   "metadata": {},
   "outputs": [],
   "source": [
    "# k = 6\n",
    "# samp = len(data)//6\n",
    "\n",
    "# training_data = data[:samp]\n",
    "# control_data = data[samp:]\n",
    "\n",
    "# #training_data, control_data"
   ]
  },
  {
   "cell_type": "markdown",
   "metadata": {},
   "source": [
    "***Проблема с конкатенацией массивов...***"
   ]
  },
  {
   "cell_type": "code",
   "execution_count": 10,
   "metadata": {},
   "outputs": [],
   "source": [
    "# split = ShuffleSplit(n_splits=5, test_size=1/4, random_state=5)\n",
    "\n",
    "# for fold in range(k):\n",
    "#     print(fold+1)\n",
    "\n",
    "#     #X_train = np.append(X.toarray()[:samp*fold], X.toarray()[samp*(fold+1):])\n",
    "#     X_train = np.append(data['tweet'][:samp*fold], data['tweet'][samp*(fold+1):])\n",
    "#     X_test = X[samp*fold:samp*(fold+1)]\n",
    "#     #y_train = np.append(np.array(Y[:samp*fold]), np.array(Y[samp*(fold+1):]))\n",
    "#     y_train = np.append(data['tweet'][:samp*fold], data['tweet'][samp*(fold+1):])\n",
    "#     y_test = Y[samp*fold:samp*(fold+1)]\n",
    "    \n",
    "#     SVM2 = SVC(kernel='linear')\n",
    "#     SVM2.fit(X_train, y_train)\n",
    "    \n",
    "#     predictions_SVM2 = SVM2.predict(X_test)\n",
    "    \n",
    "#     f1.append(f1_score(predictions_SVM2, y_test)*100)\n",
    "#     print(\"SVM Accuracy Score -> \", accuracy_score(predictions_SVM2, y_test)*100)\n",
    "#     print(\"SVM F1 Score -> \", f1[-1])\n",
    "#     print(\"SVM Roc_auc Score -> \", roc_auc_score(predictions_SVM2, y_test)*100)\n",
    "    \n",
    "# predictions_SVM = SVM2.predict(X_test)"
   ]
  },
  {
   "cell_type": "code",
   "execution_count": null,
   "metadata": {},
   "outputs": [],
   "source": []
  }
 ],
 "metadata": {
  "kernelspec": {
   "display_name": "Python 3",
   "language": "python",
   "name": "python3"
  },
  "language_info": {
   "codemirror_mode": {
    "name": "ipython",
    "version": 3
   },
   "file_extension": ".py",
   "mimetype": "text/x-python",
   "name": "python",
   "nbconvert_exporter": "python",
   "pygments_lexer": "ipython3",
   "version": "3.7.4"
  }
 },
 "nbformat": 4,
 "nbformat_minor": 2
}
