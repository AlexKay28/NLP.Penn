{
 "cells": [
  {
   "cell_type": "code",
   "execution_count": 14,
   "metadata": {},
   "outputs": [],
   "source": [
    "from sklearn.model_selection import train_test_split\n",
    "from sklearn.preprocessing import LabelEncoder\n",
    "from keras.models import Model\n",
    "from keras.layers import LSTM, Activation, Dense, Dropout, Input, Embedding, Bidirectional \n",
    "from keras.optimizers import RMSprop\n",
    "\n",
    "from keras.preprocessing.text import Tokenizer\n",
    "from keras.preprocessing.text import text_to_word_sequence\n",
    "from keras.preprocessing import sequence\n",
    "\n",
    "from keras.layers.merge import concatenate\n",
    "from keras.layers.normalization import BatchNormalization\n",
    "from keras.callbacks import EarlyStopping, ModelCheckpoint\n",
    "\n",
    "from keras.utils import to_categorical\n",
    "from keras.callbacks import EarlyStopping\n",
    "import pandas as pd\n",
    "import numpy as np\n",
    "\n",
    "from sklearn.utils import shuffle\n",
    "from sklearn.metrics import confusion_matrix\n",
    "\n",
    "import re\n",
    "\n",
    "import gensim\n",
    "#from pymystem3 import Mystem\n",
    "#from stanfordcorenlp import StanfordCoreNLP\n",
    "import spacy_udpipe\n",
    "\n",
    "#from CNN\n",
    "\n",
    "from keras.preprocessing.sequence import pad_sequences\n",
    "\n",
    "from keras.layers import Input, Embedding, Activation, Flatten, Dense\n",
    "from keras.layers import Conv1D, MaxPooling1D, Dropout\n",
    "from keras.models import Model\n"
   ]
  },
  {
   "cell_type": "code",
   "execution_count": 15,
   "metadata": {},
   "outputs": [
    {
     "name": "stdout",
     "output_type": "stream",
     "text": [
      "Already downloaded a model for the 'en' language\n"
     ]
    }
   ],
   "source": [
    "df = pd.read_csv('../task2_data/task2_en_training.tsv',delimiter='\\t')\n",
    "df.head()\n",
    "\n",
    "spacy_udpipe.download(\"en\")\n",
    "nlp = spacy_udpipe.load(\"en\")\n",
    "model = gensim.models.KeyedVectors.load_word2vec_format(\"../Embeddings/model.bin\", binary=True) \n",
    "#model.vocab \n",
    "\n",
    "def lemmatize_with_postag(text = \"\"\"\"Wikipedia is a free online encyclopedia, created and \n",
    "                          edited by volunteers around the world.\"\"\",\n",
    "                          nlp=nlp):\n",
    "    doc = nlp(text)\n",
    "    tagged = []\n",
    "    for token in doc:\n",
    "        lemma = token.lemma_\n",
    "        pos = token.pos_\n",
    "        #pos = pos.split('=')[0].strip()\n",
    "        if pos not in [\"PUNCT\"]: #[\"VERB\", \"NUM\", \"ADV\", \"NOUN\", \"ADJ\", \"AUX\", \"PRON\", \"ADP\", \"DET\", \"ADV\", \"INTJ\", \"PROPN\"]:\n",
    "            tagged.append(lemma.lower() + '_' + pos)\n",
    "        #else : print(pos)\n",
    "    return tagged"
   ]
  },
  {
   "cell_type": "code",
   "execution_count": 16,
   "metadata": {},
   "outputs": [
    {
     "name": "stdout",
     "output_type": "stream",
     "text": [
      "(1000, 2)\n",
      "(400, 2)\n"
     ]
    }
   ],
   "source": [
    "X_train = df['tweet']\n",
    "y_train = df['class']\n",
    "\n",
    "Xy = pd.concat([X_train, y_train], axis=1)\n",
    "\n",
    "# paramters of the text praprations\n",
    "n_items_for_train = 500\n",
    "n_items_for_test  = 200\n",
    "max_words         = 2000 \n",
    "\n",
    "df_1 = Xy[Xy['class'] == 1].iloc[:n_items_for_train] \n",
    "df_0 = Xy[Xy['class'] == 0].iloc[:n_items_for_train] \n",
    "\n",
    "\n",
    "Xy_ = shuffle(pd.concat([df_0, df_1]))\n",
    "\n",
    "train_texts_char = Xy_['tweet'].values\n",
    "train_texts_char = [s.lower() for s in train_texts_char]\n",
    "\n",
    "Xy_train = pd.concat([Xy_[\"tweet\"].apply(lemmatize_with_postag), Xy_[\"class\"]], axis = 1)\n",
    "\n",
    "\n",
    "\n",
    "# n_items_for_test твитов для теста с индексом класса 1\n",
    "df_1 = Xy[Xy['class'] == 1].iloc[n_items_for_train:n_items_for_train+n_items_for_test]\n",
    "# n_items_for_test твитов для теста с индексом класса 0\n",
    "df_0 = Xy[Xy['class'] == 0].iloc[n_items_for_train:n_items_for_train+n_items_for_test]\n",
    "\n",
    "Xy_ = shuffle(pd.concat([df_0, df_1]))\n",
    "\n",
    "test_texts_char = Xy_['tweet'].values  # !!!!!!!!!!!!!!!!!!!!!!!!!!!!\n",
    "test_texts_char = [s.lower() for s in test_texts_char]\n",
    "\n",
    "Xy_test = pd.concat([Xy_[\"tweet\"].apply(lemmatize_with_postag), Xy_[\"class\"]], axis = 1)\n",
    "\n",
    "print(Xy_train.shape)\n",
    "print(Xy_test.shape)\n",
    "#Xy_train, Xy_test"
   ]
  },
  {
   "cell_type": "code",
   "execution_count": 17,
   "metadata": {},
   "outputs": [
    {
     "data": {
      "text/plain": [
       "'depression_NOUN'"
      ]
     },
     "execution_count": 17,
     "metadata": {},
     "output_type": "execute_result"
    }
   ],
   "source": [
    "Xy_train['tweet'][0][0]"
   ]
  },
  {
   "cell_type": "code",
   "execution_count": 18,
   "metadata": {},
   "outputs": [
    {
     "name": "stdout",
     "output_type": "stream",
     "text": [
      "max_len = 36\n"
     ]
    }
   ],
   "source": [
    "# was replacing in the begining as hyperparameter\n",
    "#max_words = 3500 # ограничение вокуабуляра\n",
    "\n",
    "maxima = 0\n",
    "for ar in Xy_train['tweet'].to_list():\n",
    "    if len(ar)>maxima: maxima = len(ar)\n",
    "for ar in Xy_test['tweet']:\n",
    "    if len(ar)>maxima: maxima = len(ar)\n",
    "max_len = maxima + 1\n",
    "print(f'max_len = {max_len}')\n",
    "\n",
    "tok = Tokenizer(num_words=max_words)\n",
    "tok.fit_on_texts(Xy_train[\"tweet\"]) #fit on train\n",
    "\n",
    "# exctrax features from train\n",
    "sequences_train = tok.texts_to_sequences(Xy_train[\"tweet\"])\n",
    "sequences_matrix_train = sequence.pad_sequences(sequences_train, maxlen=max_len)\n",
    "\n",
    "# exctrax features from test\n",
    "sequences_test = tok.texts_to_sequences(Xy_test[\"tweet\"])\n",
    "sequences_matrix_test = sequence.pad_sequences(sequences_test, maxlen=max_len)"
   ]
  },
  {
   "cell_type": "code",
   "execution_count": 19,
   "metadata": {},
   "outputs": [
    {
     "name": "stdout",
     "output_type": "stream",
     "text": [
      "Everything is OK\n",
      "4169\n"
     ]
    }
   ],
   "source": [
    "def fix_word_key(string):\n",
    "    upper_part = (re.findall('_.*',string))[0].upper()\n",
    "    result = re.sub(r'_.*', upper_part, string)\n",
    "    #print(f'was {string} -> became {result}')\n",
    "    return result\n",
    "\n",
    "word_index = tok.word_index\n",
    "#print('Found %s unique tokens' % len(word_index))\n",
    "\n",
    "wi1 = len(word_index)\n",
    "\n",
    "# fix tokenizer problem\n",
    "for key in word_index.keys():\n",
    "    fixed_key = fix_word_key(key)\n",
    "    word_index[fixed_key] = word_index.pop(key)\n",
    "    \n",
    "#print('Found %s unique tokens' % len(word_index))\n",
    "wi2 = len(word_index)\n",
    "\n",
    "if wi1 != wi2:\n",
    "    print()\n",
    "    error = 'lenght of word_index was changed!'\n",
    "    print(error.upper())\n",
    "    raise ValueError\n",
    "else:\n",
    "    print('Everything is OK')\n",
    "    print(len(word_index))"
   ]
  },
  {
   "cell_type": "code",
   "execution_count": 20,
   "metadata": {},
   "outputs": [
    {
     "name": "stdout",
     "output_type": "stream",
     "text": [
      "number of words = 2001\n",
      "(2001, 300)\n",
      "Null word embeddings: 1170\n"
     ]
    }
   ],
   "source": [
    "# делаем Embedding на основе w2v модели\n",
    "\n",
    "nb_words = min(max_words, len(word_index))+1 # проверяем где меньше, в нашем датасете или в токенайзере.\n",
    "EMBEDDING_DIM = 300 # размерность векторов в нашей модели w2v\n",
    "\n",
    "print(f'number of words = {nb_words}')\n",
    "\n",
    "embedding_matrix = np.zeros((nb_words, EMBEDDING_DIM))\n",
    "print(embedding_matrix.shape)\n",
    "\n",
    "counter = 0\n",
    "for word, i in word_index.items():\n",
    "    if i >= nb_words: continue\n",
    "    if word in model.vocab:\n",
    "        #print(model[word])\n",
    "        embedding_matrix[i] = model[word]\n",
    "#     if counter > nb_words: break\n",
    "#     counter += 1\n",
    "\n",
    "\n",
    "print('Null word embeddings: %d' % np.sum(np.sum(embedding_matrix, axis=1) == 0))\n",
    "#pd.DataFrame(embedding_matrix)"
   ]
  },
  {
   "cell_type": "markdown",
   "metadata": {},
   "source": [
    "# CNN part\n"
   ]
  },
  {
   "cell_type": "code",
   "execution_count": 21,
   "metadata": {},
   "outputs": [],
   "source": [
    "alphabet = \"abcdefghijklmnopqrstuvwxyz0123456789,;.!?:'\\\"/\\\\|_@#$%^&*~`+-=<>()[]{}\"\n",
    "char_dict = {}\n",
    "for i, char in enumerate(alphabet):\n",
    "    char_dict[char] = i + 1\n",
    "\n",
    "tk = Tokenizer(num_words=None, char_level=True, oov_token='UNK')\n",
    "tk.fit_on_texts(train_texts_char)\n",
    "tk.word_index = char_dict.copy()\n",
    "tk.word_index[tk.oov_token] = max(char_dict.values()) + 1"
   ]
  },
  {
   "cell_type": "code",
   "execution_count": 22,
   "metadata": {},
   "outputs": [
    {
     "data": {
      "text/plain": [
       "(1000, 200)"
      ]
     },
     "execution_count": 22,
     "metadata": {},
     "output_type": "execute_result"
    }
   ],
   "source": [
    "train_sequences = tk.texts_to_sequences(train_texts_char)\n",
    "test_texts_char = tk.texts_to_sequences(test_texts_char)\n",
    "\n",
    "maxlen_chars = 200\n",
    "# Padding\n",
    "train_data = pad_sequences(train_sequences, maxlen=maxlen_chars, padding='post')\n",
    "test_data =  pad_sequences(test_texts_char, maxlen=maxlen_chars, padding='post')\n",
    "\n",
    "# Convert to numpy array\n",
    "train_data = np.array(train_data, dtype='float32')\n",
    "test_data = np.array(test_data, dtype='float32')\n",
    "\n",
    "train_data.shape#, test_data.shape"
   ]
  },
  {
   "cell_type": "code",
   "execution_count": 23,
   "metadata": {},
   "outputs": [
    {
     "data": {
      "text/plain": [
       "(200, 69)"
      ]
     },
     "execution_count": 23,
     "metadata": {},
     "output_type": "execute_result"
    }
   ],
   "source": [
    "train_classes = Xy_train['class'].values\n",
    "train_class_list = [x for x in train_classes]\n",
    "\n",
    "test_classes = Xy_test['class'].values\n",
    "test_class_list = [x for x in test_classes]\n",
    "\n",
    "char_vocab = len(tk.word_index) # !!!\n",
    "\n",
    "from keras.utils import to_categorical\n",
    "\n",
    "train_classes = to_categorical(train_class_list)\n",
    "test_classes = to_categorical(test_class_list)\n",
    "\n",
    "embedding_weights = []\n",
    "embedding_weights.append(np.zeros(char_vocab))\n",
    "\n",
    "for char, i in tk.word_index.items():\n",
    "    onehot = np.zeros(char_vocab)\n",
    "    onehot[i-1] = 1\n",
    "    embedding_weights.append(onehot)\n",
    "embedding_weights = np.array(embedding_weights)\n",
    "\n",
    "input_size = train_data.shape[1]\n",
    "embedding_size = embedding_weights.shape[1]\n",
    "\n",
    "conv_layers = [[256,7, 3],\n",
    "               [256,7, 3],\n",
    "               [256,7, -1],\n",
    "               [256,7, 3]] #filter_num, filter_size, pooling_size\n",
    "\n",
    "fully_connected_layers = [200, 200] \n",
    "num_of_classes = 2\n",
    "dropout_p = 0.5\n",
    "optimizer = 'rmsprop'\n",
    "loss = 'binary_crossentropy'\n",
    "\n",
    "input_size, char_vocab"
   ]
  },
  {
   "cell_type": "markdown",
   "metadata": {},
   "source": [
    "# BI-LSTM + CNN\n",
    "\n",
    "\n",
    "https://stackoverflow.com/questions/44924690/keras-the-difference-between-lstm-dropout-and-lstm-recurrent-dropout"
   ]
  },
  {
   "cell_type": "code",
   "execution_count": 24,
   "metadata": {},
   "outputs": [
    {
     "data": {
      "text/plain": [
       "200"
      ]
     },
     "execution_count": 24,
     "metadata": {},
     "output_type": "execute_result"
    }
   ],
   "source": [
    "input_size"
   ]
  },
  {
   "cell_type": "code",
   "execution_count": 25,
   "metadata": {
    "scrolled": true
   },
   "outputs": [],
   "source": [
    "rate_drop_lstm  = 0.15 + np.random.rand() * 0.25\n",
    "rate_drop_dense = 0.15 + np.random.rand() * 0.25\n",
    "act = 'relu'\n",
    "\n",
    "\n",
    "embedding_layer_fr   = Embedding(nb_words,\n",
    "                                EMBEDDING_DIM,\n",
    "                                weights=[embedding_matrix],\n",
    "                                input_length=max_len,\n",
    "                                trainable=True) \n",
    "\n",
    "embedding_layer      = Embedding(nb_words,\n",
    "                                EMBEDDING_DIM,\n",
    "                                weights=[embedding_matrix],\n",
    "                                input_length=max_len,\n",
    "                                trainable=False) \n",
    "        \n",
    "embedding_layer_char = Embedding(char_vocab+1,\n",
    "                                embedding_size,\n",
    "                                input_length=input_size,\n",
    "                                weights=[embedding_weights],\n",
    "                                trainable=True)\n",
    "\n",
    "# CONFIGURATION OF BI-LSTM\n",
    "lstm_layer           = Bidirectional(LSTM(64, dropout=rate_drop_lstm, recurrent_dropout=rate_drop_lstm))\n",
    "\n",
    "sequence_1_input     = Input(shape=(max_len,), dtype='int32')\n",
    "embedded_sequences_1 = embedding_layer_fr(sequence_1_input)\n",
    "x1                   = lstm_layer(embedded_sequences_1)\n",
    "\n",
    "sequence_2_input     = Input(shape=(max_len,), dtype='int32')\n",
    "embedded_sequences_2 = embedding_layer(sequence_2_input)\n",
    "y1                   = lstm_layer(embedded_sequences_2)\n",
    "\n",
    "# CNN topology\n",
    "sequence_3_input     = Input(shape=(input_size,), dtype='int64', name='input_CHARS')\n",
    "z1                   = embedding_layer_char(sequence_3_input)\n",
    "\n",
    "for filter_num, filter_size, pooling_size in conv_layers:\n",
    "    z1 = Conv1D(filter_num, filter_size)(z1)\n",
    "    z1 = Activation('relu')(z1)\n",
    "    if pooling_size != -1:\n",
    "        z1 = MaxPooling1D(pool_size=pooling_size)(z1)\n",
    "        \n",
    "z1 = Flatten()(z1)\n",
    "\n",
    "for dense_size in fully_connected_layers:\n",
    "    z1 = Dense(dense_size, activation='relu')(z1)\n",
    "    z1 = Dropout(dropout_p)(z1)\n",
    "\n",
    "\n",
    "\n",
    "merged               = concatenate([x1, y1, z1])\n",
    "merged               = Dropout(rate_drop_dense)(merged)\n",
    "merged               = BatchNormalization()(merged)\n",
    "merged               = Dense(32, activation=act)(merged)\n",
    "merged               = Dropout(rate_drop_dense)(merged)\n",
    "merged               = BatchNormalization()(merged)\n",
    "preds                = Dense(1, activation='sigmoid')(merged)\n",
    "#preds                = Dense(2, activation='softmax')(merged)"
   ]
  },
  {
   "cell_type": "code",
   "execution_count": 26,
   "metadata": {},
   "outputs": [
    {
     "name": "stdout",
     "output_type": "stream",
     "text": [
      "Model: \"model_1\"\n",
      "__________________________________________________________________________________________________\n",
      "Layer (type)                    Output Shape         Param #     Connected to                     \n",
      "==================================================================================================\n",
      "input_CHARS (InputLayer)        (None, 200)          0                                            \n",
      "__________________________________________________________________________________________________\n",
      "embedding_3 (Embedding)         (None, 200, 69)      4830        input_CHARS[0][0]                \n",
      "__________________________________________________________________________________________________\n",
      "conv1d_1 (Conv1D)               (None, 194, 256)     123904      embedding_3[0][0]                \n",
      "__________________________________________________________________________________________________\n",
      "activation_1 (Activation)       (None, 194, 256)     0           conv1d_1[0][0]                   \n",
      "__________________________________________________________________________________________________\n",
      "max_pooling1d_1 (MaxPooling1D)  (None, 64, 256)      0           activation_1[0][0]               \n",
      "__________________________________________________________________________________________________\n",
      "conv1d_2 (Conv1D)               (None, 58, 256)      459008      max_pooling1d_1[0][0]            \n",
      "__________________________________________________________________________________________________\n",
      "activation_2 (Activation)       (None, 58, 256)      0           conv1d_2[0][0]                   \n",
      "__________________________________________________________________________________________________\n",
      "max_pooling1d_2 (MaxPooling1D)  (None, 19, 256)      0           activation_2[0][0]               \n",
      "__________________________________________________________________________________________________\n",
      "conv1d_3 (Conv1D)               (None, 13, 256)      459008      max_pooling1d_2[0][0]            \n",
      "__________________________________________________________________________________________________\n",
      "activation_3 (Activation)       (None, 13, 256)      0           conv1d_3[0][0]                   \n",
      "__________________________________________________________________________________________________\n",
      "conv1d_4 (Conv1D)               (None, 7, 256)       459008      activation_3[0][0]               \n",
      "__________________________________________________________________________________________________\n",
      "activation_4 (Activation)       (None, 7, 256)       0           conv1d_4[0][0]                   \n",
      "__________________________________________________________________________________________________\n",
      "max_pooling1d_3 (MaxPooling1D)  (None, 2, 256)       0           activation_4[0][0]               \n",
      "__________________________________________________________________________________________________\n",
      "flatten_1 (Flatten)             (None, 512)          0           max_pooling1d_3[0][0]            \n",
      "__________________________________________________________________________________________________\n",
      "dense_1 (Dense)                 (None, 200)          102600      flatten_1[0][0]                  \n",
      "__________________________________________________________________________________________________\n",
      "input_1 (InputLayer)            (None, 36)           0                                            \n",
      "__________________________________________________________________________________________________\n",
      "input_2 (InputLayer)            (None, 36)           0                                            \n",
      "__________________________________________________________________________________________________\n",
      "dropout_1 (Dropout)             (None, 200)          0           dense_1[0][0]                    \n",
      "__________________________________________________________________________________________________\n",
      "embedding_1 (Embedding)         (None, 36, 300)      600300      input_1[0][0]                    \n",
      "__________________________________________________________________________________________________\n",
      "embedding_2 (Embedding)         (None, 36, 300)      600300      input_2[0][0]                    \n",
      "__________________________________________________________________________________________________\n",
      "dense_2 (Dense)                 (None, 200)          40200       dropout_1[0][0]                  \n",
      "__________________________________________________________________________________________________\n",
      "bidirectional_1 (Bidirectional) (None, 128)          186880      embedding_1[0][0]                \n",
      "                                                                 embedding_2[0][0]                \n",
      "__________________________________________________________________________________________________\n",
      "dropout_2 (Dropout)             (None, 200)          0           dense_2[0][0]                    \n",
      "__________________________________________________________________________________________________\n",
      "concatenate_1 (Concatenate)     (None, 456)          0           bidirectional_1[0][0]            \n",
      "                                                                 bidirectional_1[1][0]            \n",
      "                                                                 dropout_2[0][0]                  \n",
      "__________________________________________________________________________________________________\n",
      "dropout_3 (Dropout)             (None, 456)          0           concatenate_1[0][0]              \n",
      "__________________________________________________________________________________________________\n",
      "batch_normalization_1 (BatchNor (None, 456)          1824        dropout_3[0][0]                  \n",
      "__________________________________________________________________________________________________\n",
      "dense_3 (Dense)                 (None, 32)           14624       batch_normalization_1[0][0]      \n",
      "__________________________________________________________________________________________________\n",
      "dropout_4 (Dropout)             (None, 32)           0           dense_3[0][0]                    \n",
      "__________________________________________________________________________________________________\n",
      "batch_normalization_2 (BatchNor (None, 32)           128         dropout_4[0][0]                  \n",
      "__________________________________________________________________________________________________\n",
      "dense_4 (Dense)                 (None, 1)            33          batch_normalization_2[0][0]      \n",
      "==================================================================================================\n",
      "Total params: 3,052,647\n",
      "Trainable params: 2,451,371\n",
      "Non-trainable params: 601,276\n",
      "__________________________________________________________________________________________________\n",
      "lstm_10_10_0.20_0.33\n",
      "\n"
     ]
    }
   ],
   "source": [
    "STAMP = 'lstm_%d_%d_%.2f_%.2f'%(10, 10, rate_drop_lstm, \\\n",
    "        rate_drop_dense)\n",
    "\n",
    "model = Model(inputs=[sequence_1_input, sequence_2_input, sequence_3_input], outputs=preds)\n",
    "model.compile(loss='binary_crossentropy', \n",
    "              optimizer='rmsprop', \n",
    "              metrics=['acc'])\n",
    "model.summary()\n",
    "print(STAMP, end='\\n\\n')"
   ]
  },
  {
   "cell_type": "code",
   "execution_count": 27,
   "metadata": {},
   "outputs": [],
   "source": [
    "from myclass import DataGenerator\n",
    "\n",
    "epochs = 200\n",
    "batch_size = 32\n",
    "patience = 10\n",
    "\n",
    "\n",
    "early_stopping =EarlyStopping(monitor='val_loss', patience=patience)\n",
    "bst_model_path = STAMP + '.h5'\n",
    "model_checkpoint = ModelCheckpoint(bst_model_path, save_best_only=True, save_weights_only=True)\n",
    "\n",
    "# Parameters\n",
    "params = {'batch_size': batch_size, \n",
    "          'dim': max_len,\n",
    "          'n_classes': 1,\n",
    "          'shuffle': True}\n",
    "\n",
    "params_CNN = {'batch_size': batch_size, \n",
    "              'dim': input_size,\n",
    "              'n_classes': 1,\n",
    "              'shuffle': True}\n",
    "\n",
    "# Datasets\n",
    "partition_train = sequences_matrix_train\n",
    "partition_val   = sequences_matrix_test[:n_items_for_test//2]\n",
    "partition_test  = sequences_matrix_test[n_items_for_test//2:]\n",
    "\n",
    "# = = CHAR\n",
    "indices = np.arange(train_data.shape[0])\n",
    "char_train = train_data[indices]\n",
    "char_test = test_data\n",
    "\n",
    "labels_train = np.array(Xy_train[\"class\"]).tolist()\n",
    "labels_val   = np.array(Xy_test[\"class\"]).tolist()[:n_items_for_test//2]\n",
    "\n",
    "# Train model on dataset\n",
    "coeff = 1\n",
    "steps_per_epoch = coeff * (n_items_for_train // batch_size)\n",
    "\n",
    "# generator of generators\n",
    "def DEmb_gen(partition_train1, partition_train2, partition_train3, \n",
    "             labels_train, labels_char, params, params_CNN):\n",
    "    \n",
    "    ceed = np.random.randint(100)\n",
    "    \n",
    "    genX1 = DataGenerator(partition_train1, labels_train, **params)\n",
    "    genX2 = DataGenerator(partition_train2, labels_train, **params)\n",
    "    genX3 = DataGenerator(partition_train3, labels_char, **params_CNN)\n",
    "    \n",
    "    while 1:\n",
    "        randy = np.random.randint(len(genX1), size=3)\n",
    "        X1i = genX1.__getitem__(randy[0])\n",
    "        X2i = genX2.__getitem__(randy[1])\n",
    "        X3i = genX3.__getitem__(randy[2])\n",
    "        yield [X1i[0], X2i[0], X3i[0]], X1i[1]\n",
    "\n",
    "# gg =DEmb_gen(partition_train, partition_train, char_train, labels_train, params, params_CNN)\n",
    "# for i in gg:\n",
    "#     print(i[1])\n",
    "\n",
    "#train_classes = to_categorical(train_class_list)\n",
    "#test_classes = to_categorical(test_class_list)"
   ]
  },
  {
   "cell_type": "code",
   "execution_count": 30,
   "metadata": {},
   "outputs": [
    {
     "data": {
      "text/plain": [
       "((1000, 36), (1000, 200))"
      ]
     },
     "execution_count": 30,
     "metadata": {},
     "output_type": "execute_result"
    }
   ],
   "source": [
    "partition_train.shape, char_train.shape"
   ]
  },
  {
   "cell_type": "code",
   "execution_count": 14,
   "metadata": {
    "scrolled": true
   },
   "outputs": [
    {
     "name": "stderr",
     "output_type": "stream",
     "text": [
      "/home/alexkay/anaconda3/lib/python3.7/site-packages/tensorflow_core/python/framework/indexed_slices.py:433: UserWarning: Converting sparse IndexedSlices to a dense Tensor of unknown shape. This may consume a large amount of memory.\n",
      "  \"Converting sparse IndexedSlices to a dense Tensor of unknown shape. \"\n",
      "/home/alexkay/anaconda3/lib/python3.7/site-packages/keras/engine/training_generator.py:49: UserWarning: Using a generator with `use_multiprocessing=True` and multiple workers may duplicate your data. Please consider using the `keras.utils.Sequence class.\n",
      "  UserWarning('Using a generator with `use_multiprocessing=True`'\n"
     ]
    },
    {
     "name": "stdout",
     "output_type": "stream",
     "text": [
      "Epoch 1/200\n",
      "15/15 [==============================] - 10s 668ms/step - loss: 0.7167 - acc: 0.6000 - val_loss: 0.6996 - val_acc: 0.4375\n",
      "Epoch 2/200\n",
      "15/15 [==============================] - 4s 234ms/step - loss: 0.5949 - acc: 0.6917 - val_loss: 0.6843 - val_acc: 0.6000\n",
      "Epoch 3/200\n",
      "15/15 [==============================] - 3s 233ms/step - loss: 0.5116 - acc: 0.7542 - val_loss: 0.6858 - val_acc: 0.5750\n",
      "Epoch 4/200\n",
      "15/15 [==============================] - 4s 238ms/step - loss: 0.3805 - acc: 0.8083 - val_loss: 0.6427 - val_acc: 0.7125\n",
      "Epoch 5/200\n",
      "15/15 [==============================] - 4s 276ms/step - loss: 0.2468 - acc: 0.9167 - val_loss: 0.6679 - val_acc: 0.5437\n",
      "Epoch 6/200\n",
      "15/15 [==============================] - 4s 249ms/step - loss: 0.2966 - acc: 0.8854 - val_loss: 0.6108 - val_acc: 0.6938\n",
      "Epoch 7/200\n",
      "15/15 [==============================] - 4s 260ms/step - loss: 0.2814 - acc: 0.8875 - val_loss: 0.6041 - val_acc: 0.6500\n",
      "Epoch 8/200\n",
      "15/15 [==============================] - 4s 272ms/step - loss: 0.2708 - acc: 0.9042 - val_loss: 0.5893 - val_acc: 0.7063\n",
      "Epoch 9/200\n",
      "15/15 [==============================] - 4s 257ms/step - loss: 0.2783 - acc: 0.9104 - val_loss: 0.5583 - val_acc: 0.7625\n",
      "Epoch 10/200\n",
      "15/15 [==============================] - 4s 251ms/step - loss: 0.2468 - acc: 0.9042 - val_loss: 0.6164 - val_acc: 0.7063\n",
      "Epoch 11/200\n",
      "15/15 [==============================] - 4s 243ms/step - loss: 0.1972 - acc: 0.9354 - val_loss: 0.5505 - val_acc: 0.7375\n",
      "Epoch 12/200\n",
      "15/15 [==============================] - 4s 256ms/step - loss: 0.3201 - acc: 0.8813 - val_loss: 0.5395 - val_acc: 0.7563\n",
      "Epoch 13/200\n",
      "15/15 [==============================] - 4s 241ms/step - loss: 0.2495 - acc: 0.9083 - val_loss: 0.5068 - val_acc: 0.7750\n",
      "Epoch 14/200\n",
      "15/15 [==============================] - 4s 248ms/step - loss: 0.1710 - acc: 0.9354 - val_loss: 0.4789 - val_acc: 0.7625\n",
      "Epoch 15/200\n",
      "15/15 [==============================] - 4s 299ms/step - loss: 0.1643 - acc: 0.9479 - val_loss: 0.5491 - val_acc: 0.7625\n",
      "Epoch 16/200\n",
      "15/15 [==============================] - 5s 356ms/step - loss: 0.1821 - acc: 0.9375 - val_loss: 0.4775 - val_acc: 0.7188\n",
      "Epoch 17/200\n",
      "15/15 [==============================] - 5s 340ms/step - loss: 0.2259 - acc: 0.9250 - val_loss: 0.4812 - val_acc: 0.7563\n",
      "Epoch 18/200\n",
      "15/15 [==============================] - 7s 458ms/step - loss: 0.1861 - acc: 0.9312 - val_loss: 0.5599 - val_acc: 0.7688\n",
      "Epoch 19/200\n",
      "15/15 [==============================] - 5s 317ms/step - loss: 0.1684 - acc: 0.9479 - val_loss: 0.4859 - val_acc: 0.7375\n",
      "Epoch 20/200\n",
      "15/15 [==============================] - 9s 567ms/step - loss: 0.1760 - acc: 0.9458 - val_loss: 0.5355 - val_acc: 0.8125\n",
      "Epoch 21/200\n",
      "15/15 [==============================] - 5s 361ms/step - loss: 0.1196 - acc: 0.9667 - val_loss: 0.5745 - val_acc: 0.7437\n",
      "Epoch 22/200\n",
      "15/15 [==============================] - 5s 325ms/step - loss: 0.1003 - acc: 0.9729 - val_loss: 0.5421 - val_acc: 0.7875\n",
      "Epoch 23/200\n",
      "15/15 [==============================] - 5s 305ms/step - loss: 0.0686 - acc: 0.9812 - val_loss: 0.6213 - val_acc: 0.7563\n",
      "Epoch 24/200\n",
      "15/15 [==============================] - 4s 284ms/step - loss: 0.0779 - acc: 0.9792 - val_loss: 0.7016 - val_acc: 0.7250\n",
      "Epoch 25/200\n",
      "15/15 [==============================] - 5s 309ms/step - loss: 0.0739 - acc: 0.9833 - val_loss: 0.6946 - val_acc: 0.7750\n",
      "Epoch 26/200\n",
      "15/15 [==============================] - 5s 308ms/step - loss: 0.1681 - acc: 0.9458 - val_loss: 0.6342 - val_acc: 0.7250\n"
     ]
    }
   ],
   "source": [
    "# fit model\n",
    "history = model.fit_generator(\n",
    "    generator=        DEmb_gen(partition_train, partition_train, char_train, \n",
    "                               labels_train, train_class_list, params, params_CNN),\n",
    "    validation_data  =DEmb_gen(partition_val,   partition_val,   char_test,  \n",
    "                               labels_val, test_class_list,   params, params_CNN),\n",
    "    validation_steps =5,\n",
    "    steps_per_epoch  =steps_per_epoch,                          \n",
    "    use_multiprocessing=True, \n",
    "    workers=2,\n",
    "    epochs=epochs, \n",
    "    shuffle=True,\n",
    "    callbacks=[early_stopping, model_checkpoint])"
   ]
  },
  {
   "cell_type": "code",
   "execution_count": 15,
   "metadata": {},
   "outputs": [
    {
     "data": {
      "image/png": "[encoded data removed]",
      "text/plain": [
       "<Figure size 720x576 with 1 Axes>"
      ]
     },
     "metadata": {
      "needs_background": "light"
     },
     "output_type": "display_data"
    },
    {
     "data": {
      "image/png": "[encoded data removed]",
      "text/plain": [
       "<Figure size 720x576 with 1 Axes>"
      ]
     },
     "metadata": {
      "needs_background": "light"
     },
     "output_type": "display_data"
    }
   ],
   "source": [
    "import matplotlib.pyplot as plt\n",
    "%matplotlib inline\n",
    "plt.rcParams[\"figure.figsize\"] = (10, 8) \n",
    "\n",
    "# summarize history for accuracy\n",
    "plt.plot(history.history['acc'])\n",
    "plt.plot(history.history['val_acc'])\n",
    "plt.title('model accuracy')\n",
    "plt.ylabel('acc')\n",
    "plt.xlabel('epoch')\n",
    "plt.legend(['train', 'test'], loc='upper left')\n",
    "plt.show()\n",
    "\n",
    "# summarize history for loss\n",
    "plt.plot(history.history['loss'])\n",
    "plt.plot(history.history['val_loss'])\n",
    "plt.title('model loss')\n",
    "plt.ylabel('loss')\n",
    "plt.xlabel('epoch')\n",
    "plt.legend(['train', 'test'], loc='upper left')\n",
    "plt.show()"
   ]
  },
  {
   "cell_type": "code",
   "execution_count": 16,
   "metadata": {
    "scrolled": true
   },
   "outputs": [
    {
     "name": "stdout",
     "output_type": "stream",
     "text": [
      "              precision    recall  f1-score   support\n",
      "\n",
      "           0       0.86      0.65      0.74       152\n",
      "           1       0.71      0.89      0.79       148\n",
      "\n",
      "    accuracy                           0.77       300\n",
      "   macro avg       0.79      0.77      0.77       300\n",
      "weighted avg       0.79      0.77      0.77       300\n",
      "\n"
     ]
    },
    {
     "data": {
      "text/html": [
       "<div>\n",
       "<style scoped>\n",
       "    .dataframe tbody tr th:only-of-type {\n",
       "        vertical-align: middle;\n",
       "    }\n",
       "\n",
       "    .dataframe tbody tr th {\n",
       "        vertical-align: top;\n",
       "    }\n",
       "\n",
       "    .dataframe thead th {\n",
       "        text-align: right;\n",
       "    }\n",
       "</style>\n",
       "<table border=\"1\" class=\"dataframe\">\n",
       "  <thead>\n",
       "    <tr style=\"text-align: right;\">\n",
       "      <th></th>\n",
       "      <th>Pos</th>\n",
       "      <th>Neg</th>\n",
       "    </tr>\n",
       "  </thead>\n",
       "  <tbody>\n",
       "    <tr>\n",
       "      <th>0</th>\n",
       "      <td>99</td>\n",
       "      <td>53</td>\n",
       "    </tr>\n",
       "    <tr>\n",
       "      <th>1</th>\n",
       "      <td>16</td>\n",
       "      <td>132</td>\n",
       "    </tr>\n",
       "  </tbody>\n",
       "</table>\n",
       "</div>"
      ],
      "text/plain": [
       "   Pos  Neg\n",
       "0   99   53\n",
       "1   16  132"
      ]
     },
     "execution_count": 16,
     "metadata": {},
     "output_type": "execute_result"
    }
   ],
   "source": [
    "pred = model.predict([partition_test, partition_test, char_test])\n",
    "pred.shape\n",
    "bin_pred, real = [], np.array(Xy_test[\"class\"]).tolist()[n_items_for_test//2:]\n",
    "for i in range(len(pred)):\n",
    "    #print(f'pred = {int(round(float(pred[i][0]), 0))},\\t real = {real[i]}')\n",
    "    bin_pred.append(int(round(float(pred[i][0]), 0))) \n",
    "#np.array(Xy_test[\"class\"]).tolist()\n",
    "bin_pred, real\n",
    "from sklearn.metrics import classification_report\n",
    "print(classification_report(real, bin_pred))\n",
    "pd.DataFrame(confusion_matrix(real, bin_pred), columns=['Pos', 'Neg'])"
   ]
  },
  {
   "cell_type": "code",
   "execution_count": null,
   "metadata": {},
   "outputs": [],
   "source": []
  }
 ],
 "metadata": {
  "celltoolbar": "Raw Cell Format",
  "kernelspec": {
   "display_name": "Python 3",
   "language": "python",
   "name": "python3"
  },
  "language_info": {
   "codemirror_mode": {
    "name": "ipython",
    "version": 3
   },
   "file_extension": ".py",
   "mimetype": "text/x-python",
   "name": "python",
   "nbconvert_exporter": "python",
   "pygments_lexer": "ipython3",
   "version": "3.7.6"
  }
 },
 "nbformat": 4,
 "nbformat_minor": 2
}
