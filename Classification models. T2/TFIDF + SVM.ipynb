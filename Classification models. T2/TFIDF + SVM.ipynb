{
 "cells": [
  {
   "cell_type": "code",
   "execution_count": 23,
   "metadata": {},
   "outputs": [],
   "source": [
    "from sklearn.feature_extraction.text import CountVectorizer, TfidfVectorizer\n",
    "import pandas as pd \n",
    "import numpy as np\n",
    "from sklearn.svm import SVC\n",
    "from sklearn.metrics import roc_auc_score, accuracy_score, f1_score\n",
    "from sklearn.model_selection import train_test_split"
   ]
  },
  {
   "cell_type": "code",
   "execution_count": 2,
   "metadata": {},
   "outputs": [
    {
     "data": {
      "text/html": [
       "<div>\n",
       "<style scoped>\n",
       "    .dataframe tbody tr th:only-of-type {\n",
       "        vertical-align: middle;\n",
       "    }\n",
       "\n",
       "    .dataframe tbody tr th {\n",
       "        vertical-align: top;\n",
       "    }\n",
       "\n",
       "    .dataframe thead th {\n",
       "        text-align: right;\n",
       "    }\n",
       "</style>\n",
       "<table border=\"1\" class=\"dataframe\">\n",
       "  <thead>\n",
       "    <tr style=\"text-align: right;\">\n",
       "      <th></th>\n",
       "      <th>class</th>\n",
       "      <th>tweet</th>\n",
       "    </tr>\n",
       "  </thead>\n",
       "  <tbody>\n",
       "    <tr>\n",
       "      <td>0</td>\n",
       "      <td>0</td>\n",
       "      <td>depression hurts, cymbalta can help</td>\n",
       "    </tr>\n",
       "    <tr>\n",
       "      <td>1</td>\n",
       "      <td>0</td>\n",
       "      <td>@jessicama20045 right, but cipro can make thin...</td>\n",
       "    </tr>\n",
       "    <tr>\n",
       "      <td>2</td>\n",
       "      <td>0</td>\n",
       "      <td>@fibby1123 are you on paxil .. i need help</td>\n",
       "    </tr>\n",
       "    <tr>\n",
       "      <td>3</td>\n",
       "      <td>0</td>\n",
       "      <td>@redicine the lamotrigine and sjs just made ch...</td>\n",
       "    </tr>\n",
       "    <tr>\n",
       "      <td>4</td>\n",
       "      <td>0</td>\n",
       "      <td>have decided to skip my #humira shot today. my...</td>\n",
       "    </tr>\n",
       "  </tbody>\n",
       "</table>\n",
       "</div>"
      ],
      "text/plain": [
       "   class                                              tweet\n",
       "0      0                depression hurts, cymbalta can help\n",
       "1      0  @jessicama20045 right, but cipro can make thin...\n",
       "2      0         @fibby1123 are you on paxil .. i need help\n",
       "3      0  @redicine the lamotrigine and sjs just made ch...\n",
       "4      0  have decided to skip my #humira shot today. my..."
      ]
     },
     "execution_count": 2,
     "metadata": {},
     "output_type": "execute_result"
    }
   ],
   "source": [
    "#Load the data into Pandas dataframe\n",
    "df = pd.read_csv('task2_en_training.tsv', sep='\\t')[['class', 'tweet']]\n",
    "df['class'] = df['class'].apply(lambda x: int(x))\n",
    "df.head()"
   ]
  },
  {
   "cell_type": "code",
   "execution_count": 3,
   "metadata": {},
   "outputs": [
    {
     "data": {
      "text/html": [
       "<div>\n",
       "<style scoped>\n",
       "    .dataframe tbody tr th:only-of-type {\n",
       "        vertical-align: middle;\n",
       "    }\n",
       "\n",
       "    .dataframe tbody tr th {\n",
       "        vertical-align: top;\n",
       "    }\n",
       "\n",
       "    .dataframe thead th {\n",
       "        text-align: right;\n",
       "    }\n",
       "</style>\n",
       "<table border=\"1\" class=\"dataframe\">\n",
       "  <thead>\n",
       "    <tr style=\"text-align: right;\">\n",
       "      <th></th>\n",
       "      <th>class</th>\n",
       "      <th>tweet</th>\n",
       "    </tr>\n",
       "  </thead>\n",
       "  <tbody>\n",
       "    <tr>\n",
       "      <td>795</td>\n",
       "      <td>0</td>\n",
       "      <td>my trazodone has b een ready since tuesday but...</td>\n",
       "    </tr>\n",
       "    <tr>\n",
       "      <td>6570</td>\n",
       "      <td>0</td>\n",
       "      <td>medical marijuana now being compared to thalid...</td>\n",
       "    </tr>\n",
       "    <tr>\n",
       "      <td>5427</td>\n",
       "      <td>0</td>\n",
       "      <td>#unpopularopinion cymbalta doesn't help</td>\n",
       "    </tr>\n",
       "    <tr>\n",
       "      <td>7926</td>\n",
       "      <td>0</td>\n",
       "      <td>@reuters_health of course they do. aspirin is ...</td>\n",
       "    </tr>\n",
       "    <tr>\n",
       "      <td>11878</td>\n",
       "      <td>0</td>\n",
       "      <td>life's a bitch she tryna do me in, but i fuck ...</td>\n",
       "    </tr>\n",
       "  </tbody>\n",
       "</table>\n",
       "</div>"
      ],
      "text/plain": [
       "       class                                              tweet\n",
       "795        0  my trazodone has b een ready since tuesday but...\n",
       "6570       0  medical marijuana now being compared to thalid...\n",
       "5427       0            #unpopularopinion cymbalta doesn't help\n",
       "7926       0  @reuters_health of course they do. aspirin is ...\n",
       "11878      0  life's a bitch she tryna do me in, but i fuck ..."
      ]
     },
     "execution_count": 3,
     "metadata": {},
     "output_type": "execute_result"
    }
   ],
   "source": [
    "df = df.iloc[np.random.permutation(len(df))]\n",
    "df.head()"
   ]
  },
  {
   "cell_type": "code",
   "execution_count": 25,
   "metadata": {},
   "outputs": [],
   "source": [
    "X = df['tweet']\n",
    "Y = df['class']\n",
    "\n",
    "feature_extraction = TfidfVectorizer()\n",
    "X = feature_extraction.fit_transform(X)\n",
    "\n",
    "X_train, X_test, y_train, y_test = train_test_split(X, Y , test_size=0.2)"
   ]
  },
  {
   "cell_type": "code",
   "execution_count": 26,
   "metadata": {},
   "outputs": [],
   "source": [
    "SVM = SVC(kernel='linear')\n",
    "SVM.fit(X_train,y_train)\n",
    "\n",
    "predictions_SVM = SVM.predict(X_test)"
   ]
  },
  {
   "cell_type": "code",
   "execution_count": 27,
   "metadata": {},
   "outputs": [
    {
     "name": "stdout",
     "output_type": "stream",
     "text": [
      "SVM Accuracy Score ->  92.13920661961548\n",
      "SVM F1 Score ->  31.422505307855626\n",
      "SVM Roc_auc Score ->  82.25283434072193\n"
     ]
    }
   ],
   "source": [
    "print(\"SVM Accuracy Score -> \", accuracy_score(predictions_SVM, y_test)*100)\n",
    "print(\"SVM F1 Score -> \", f1_score(predictions_SVM, y_test)*100)\n",
    "print(\"SVM Roc_auc Score -> \", roc_auc_score(predictions_SVM, y_test)*100)"
   ]
  },
  {
   "cell_type": "code",
   "execution_count": null,
   "metadata": {},
   "outputs": [],
   "source": []
  }
 ],
 "metadata": {
  "kernelspec": {
   "display_name": "Python 3",
   "language": "python",
   "name": "python3"
  },
  "language_info": {
   "codemirror_mode": {
    "name": "ipython",
    "version": 3
   },
   "file_extension": ".py",
   "mimetype": "text/x-python",
   "name": "python",
   "nbconvert_exporter": "python",
   "pygments_lexer": "ipython3",
   "version": "3.7.4"
  }
 },
 "nbformat": 4,
 "nbformat_minor": 2
}
