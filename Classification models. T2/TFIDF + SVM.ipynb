{
 "cells": [
  {
   "cell_type": "code",
   "execution_count": 1,
   "metadata": {},
   "outputs": [],
   "source": [
    "from sklearn.feature_extraction.text import CountVectorizer, TfidfVectorizer\n",
    "import pandas as pd \n",
    "import numpy as np\n",
    "from sklearn.svm import SVC\n",
    "from sklearn.metrics import roc_auc_score, accuracy_score, f1_score\n",
    "from sklearn.model_selection import train_test_split"
   ]
  },
  {
   "cell_type": "code",
   "execution_count": 2,
   "metadata": {},
   "outputs": [
    {
     "data": {
      "text/html": [
       "<div>\n",
       "<style scoped>\n",
       "    .dataframe tbody tr th:only-of-type {\n",
       "        vertical-align: middle;\n",
       "    }\n",
       "\n",
       "    .dataframe tbody tr th {\n",
       "        vertical-align: top;\n",
       "    }\n",
       "\n",
       "    .dataframe thead th {\n",
       "        text-align: right;\n",
       "    }\n",
       "</style>\n",
       "<table border=\"1\" class=\"dataframe\">\n",
       "  <thead>\n",
       "    <tr style=\"text-align: right;\">\n",
       "      <th></th>\n",
       "      <th>class</th>\n",
       "      <th>tweet</th>\n",
       "    </tr>\n",
       "  </thead>\n",
       "  <tbody>\n",
       "    <tr>\n",
       "      <td>0</td>\n",
       "      <td>0</td>\n",
       "      <td>depression hurts, cymbalta can help</td>\n",
       "    </tr>\n",
       "    <tr>\n",
       "      <td>1</td>\n",
       "      <td>0</td>\n",
       "      <td>@jessicama20045 right, but cipro can make thin...</td>\n",
       "    </tr>\n",
       "    <tr>\n",
       "      <td>2</td>\n",
       "      <td>0</td>\n",
       "      <td>@fibby1123 are you on paxil .. i need help</td>\n",
       "    </tr>\n",
       "    <tr>\n",
       "      <td>3</td>\n",
       "      <td>0</td>\n",
       "      <td>@redicine the lamotrigine and sjs just made ch...</td>\n",
       "    </tr>\n",
       "    <tr>\n",
       "      <td>4</td>\n",
       "      <td>0</td>\n",
       "      <td>have decided to skip my #humira shot today. my...</td>\n",
       "    </tr>\n",
       "  </tbody>\n",
       "</table>\n",
       "</div>"
      ],
      "text/plain": [
       "   class                                              tweet\n",
       "0      0                depression hurts, cymbalta can help\n",
       "1      0  @jessicama20045 right, but cipro can make thin...\n",
       "2      0         @fibby1123 are you on paxil .. i need help\n",
       "3      0  @redicine the lamotrigine and sjs just made ch...\n",
       "4      0  have decided to skip my #humira shot today. my..."
      ]
     },
     "execution_count": 2,
     "metadata": {},
     "output_type": "execute_result"
    }
   ],
   "source": [
    "#Load the data into Pandas dataframe\n",
    "df = pd.read_csv('task2_en_training.tsv', sep='\\t')[['class', 'tweet']]\n",
    "df['class'] = df['class'].apply(lambda x: int(x))\n",
    "df.head()"
   ]
  },
  {
   "cell_type": "code",
   "execution_count": 3,
   "metadata": {},
   "outputs": [
    {
     "data": {
      "text/html": [
       "<div>\n",
       "<style scoped>\n",
       "    .dataframe tbody tr th:only-of-type {\n",
       "        vertical-align: middle;\n",
       "    }\n",
       "\n",
       "    .dataframe tbody tr th {\n",
       "        vertical-align: top;\n",
       "    }\n",
       "\n",
       "    .dataframe thead th {\n",
       "        text-align: right;\n",
       "    }\n",
       "</style>\n",
       "<table border=\"1\" class=\"dataframe\">\n",
       "  <thead>\n",
       "    <tr style=\"text-align: right;\">\n",
       "      <th></th>\n",
       "      <th>class</th>\n",
       "      <th>tweet</th>\n",
       "    </tr>\n",
       "  </thead>\n",
       "  <tbody>\n",
       "    <tr>\n",
       "      <td>17125</td>\n",
       "      <td>0</td>\n",
       "      <td>@panderp i've got a friend who's on synthroid ...</td>\n",
       "    </tr>\n",
       "    <tr>\n",
       "      <td>14085</td>\n",
       "      <td>0</td>\n",
       "      <td>imodium ad senioritis</td>\n",
       "    </tr>\n",
       "    <tr>\n",
       "      <td>907</td>\n",
       "      <td>0</td>\n",
       "      <td>rt @danchancellor: fycompa addresses big unmet...</td>\n",
       "    </tr>\n",
       "    <tr>\n",
       "      <td>15147</td>\n",
       "      <td>0</td>\n",
       "      <td>exelon acknowledges commission granted pumc in...</td>\n",
       "    </tr>\n",
       "    <tr>\n",
       "      <td>13261</td>\n",
       "      <td>0</td>\n",
       "      <td>@dloesch most of the kids at my daughter's pre...</td>\n",
       "    </tr>\n",
       "  </tbody>\n",
       "</table>\n",
       "</div>"
      ],
      "text/plain": [
       "       class                                              tweet\n",
       "17125      0  @panderp i've got a friend who's on synthroid ...\n",
       "14085      0                              imodium ad senioritis\n",
       "907        0  rt @danchancellor: fycompa addresses big unmet...\n",
       "15147      0  exelon acknowledges commission granted pumc in...\n",
       "13261      0  @dloesch most of the kids at my daughter's pre..."
      ]
     },
     "execution_count": 3,
     "metadata": {},
     "output_type": "execute_result"
    }
   ],
   "source": [
    "df = df.iloc[np.random.permutation(len(df))]\n",
    "df.head()"
   ]
  },
  {
   "cell_type": "code",
   "execution_count": 4,
   "metadata": {},
   "outputs": [
    {
     "data": {
      "text/plain": [
       "(scipy.sparse.csr.csr_matrix, pandas.core.series.Series)"
      ]
     },
     "execution_count": 4,
     "metadata": {},
     "output_type": "execute_result"
    }
   ],
   "source": [
    "X = df['tweet']\n",
    "Y = df['class']\n",
    "\n",
    "feature_extraction = TfidfVectorizer()\n",
    "X = feature_extraction.fit_transform(X)\n",
    "\n",
    "X_train, X_test, y_train, y_test = train_test_split(X, Y , test_size=0.2)\n",
    "type(X_train), type(y_train)"
   ]
  },
  {
   "cell_type": "code",
   "execution_count": 5,
   "metadata": {},
   "outputs": [],
   "source": [
    "# SVM = SVC(kernel='linear')\n",
    "# SVM.fit(X_train,y_train)\n",
    "\n",
    "# predictions_SVM = SVM.predict(X_test)"
   ]
  },
  {
   "cell_type": "code",
   "execution_count": 6,
   "metadata": {},
   "outputs": [],
   "source": [
    "# print(\"SVM Accuracy Score -> \", accuracy_score(predictions_SVM, y_test)*100)\n",
    "# print(\"SVM F1 Score -> \", f1_score(predictions_SVM, y_test)*100)\n",
    "# print(\"SVM Roc_auc Score -> \", roc_auc_score(predictions_SVM, y_test)*100)"
   ]
  },
  {
   "cell_type": "markdown",
   "metadata": {},
   "source": [
    "# SHUFFLE SPLIT"
   ]
  },
  {
   "cell_type": "code",
   "execution_count": 7,
   "metadata": {},
   "outputs": [
    {
     "data": {
      "text/html": [
       "<div>\n",
       "<style scoped>\n",
       "    .dataframe tbody tr th:only-of-type {\n",
       "        vertical-align: middle;\n",
       "    }\n",
       "\n",
       "    .dataframe tbody tr th {\n",
       "        vertical-align: top;\n",
       "    }\n",
       "\n",
       "    .dataframe thead th {\n",
       "        text-align: right;\n",
       "    }\n",
       "</style>\n",
       "<table border=\"1\" class=\"dataframe\">\n",
       "  <thead>\n",
       "    <tr style=\"text-align: right;\">\n",
       "      <th></th>\n",
       "      <th>class</th>\n",
       "      <th>tweet</th>\n",
       "    </tr>\n",
       "  </thead>\n",
       "  <tbody>\n",
       "    <tr>\n",
       "      <td>12266</td>\n",
       "      <td>0</td>\n",
       "      <td>metformin for weight loss ???</td>\n",
       "    </tr>\n",
       "    <tr>\n",
       "      <td>1454</td>\n",
       "      <td>0</td>\n",
       "      <td>@etpc1  if they don't work for you try fexofen...</td>\n",
       "    </tr>\n",
       "    <tr>\n",
       "      <td>7009</td>\n",
       "      <td>0</td>\n",
       "      <td>i've had three gabapentin and two codeine tabs...</td>\n",
       "    </tr>\n",
       "    <tr>\n",
       "      <td>2569</td>\n",
       "      <td>1</td>\n",
       "      <td>@thebeecharmer97 @deadfanclub i would not reco...</td>\n",
       "    </tr>\n",
       "    <tr>\n",
       "      <td>14881</td>\n",
       "      <td>0</td>\n",
       "      <td>maybe he's asking the doctor if crestor is rig...</td>\n",
       "    </tr>\n",
       "  </tbody>\n",
       "</table>\n",
       "</div>"
      ],
      "text/plain": [
       "       class                                              tweet\n",
       "12266      0                      metformin for weight loss ???\n",
       "1454       0  @etpc1  if they don't work for you try fexofen...\n",
       "7009       0  i've had three gabapentin and two codeine tabs...\n",
       "2569       1  @thebeecharmer97 @deadfanclub i would not reco...\n",
       "14881      0  maybe he's asking the doctor if crestor is rig..."
      ]
     },
     "execution_count": 7,
     "metadata": {},
     "output_type": "execute_result"
    }
   ],
   "source": [
    "from sklearn.model_selection import ShuffleSplit\n",
    "from scipy.sparse import hstack\n",
    "\n",
    "data = df\n",
    "data = data.iloc[np.random.permutation(len(df))]\n",
    "data.head()"
   ]
  },
  {
   "cell_type": "code",
   "execution_count": 8,
   "metadata": {},
   "outputs": [],
   "source": [
    "k = 6\n",
    "samp = len(data)//6\n",
    "\n",
    "training_data = data[:samp]\n",
    "control_data = data[samp:]\n",
    "\n",
    "#training_data, control_data"
   ]
  },
  {
   "cell_type": "code",
   "execution_count": null,
   "metadata": {},
   "outputs": [],
   "source": [
    "split = ShuffleSplit(n_splits=5, test_size=1/4, random_state=5)\n",
    "\n",
    "for fold in range(k):\n",
    "    print(fold+1)\n",
    "\n",
    "    #X_train = np.append(X.toarray()[:samp*fold], X.toarray()[samp*(fold+1):])\n",
    "    X_train = np.append(data['tweet'][:samp*fold], data['tweet'][samp*(fold+1):])\n",
    "    X_test = X[samp*fold:samp*(fold+1)]\n",
    "    #y_train = np.append(np.array(Y[:samp*fold]), np.array(Y[samp*(fold+1):]))\n",
    "    y_train = np.append(data['tweet'][:samp*fold], data['tweet'][samp*(fold+1):])\n",
    "    y_test = Y[samp*fold:samp*(fold+1)]\n",
    "    \n",
    "    SVM2 = SVC(kernel='linear')\n",
    "    SVM2.fit(X_train, y_train)\n",
    "    \n",
    "    predictions_SVM2 = SVM2.predict(X_test)\n",
    "    \n",
    "    f1.append(f1_score(predictions_SVM2, y_test)*100)\n",
    "    print(\"SVM Accuracy Score -> \", accuracy_score(predictions_SVM2, y_test)*100)\n",
    "    print(\"SVM F1 Score -> \", f1[-1])\n",
    "    print(\"SVM Roc_auc Score -> \", roc_auc_score(predictions_SVM2, y_test)*100)\n",
    "    \n",
    "predictions_SVM = SVM2.predict(X_test)"
   ]
  },
  {
   "cell_type": "code",
   "execution_count": null,
   "metadata": {},
   "outputs": [],
   "source": []
  },
  {
   "cell_type": "code",
   "execution_count": null,
   "metadata": {},
   "outputs": [],
   "source": []
  }
 ],
 "metadata": {
  "kernelspec": {
   "display_name": "Python 3",
   "language": "python",
   "name": "python3"
  },
  "language_info": {
   "codemirror_mode": {
    "name": "ipython",
    "version": 3
   },
   "file_extension": ".py",
   "mimetype": "text/x-python",
   "name": "python",
   "nbconvert_exporter": "python",
   "pygments_lexer": "ipython3",
   "version": "3.7.4"
  }
 },
 "nbformat": 4,
 "nbformat_minor": 2
}
