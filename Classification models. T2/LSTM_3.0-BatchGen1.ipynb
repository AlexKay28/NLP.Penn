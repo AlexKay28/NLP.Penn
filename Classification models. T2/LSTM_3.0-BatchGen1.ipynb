{
 "cells": [
  {
   "cell_type": "code",
   "execution_count": 1,
   "metadata": {},
   "outputs": [
    {
     "name": "stderr",
     "output_type": "stream",
     "text": [
      "Using TensorFlow backend.\n"
     ]
    }
   ],
   "source": [
    "from sklearn.model_selection import train_test_split\n",
    "from sklearn.preprocessing import LabelEncoder\n",
    "from keras.models import Model\n",
    "from keras.layers import LSTM, Activation, Dense, Dropout, Input, Embedding, Bidirectional \n",
    "from keras.optimizers import RMSprop\n",
    "\n",
    "from keras.preprocessing.text import Tokenizer\n",
    "from keras.preprocessing.text import text_to_word_sequence\n",
    "from keras.preprocessing import sequence\n",
    "\n",
    "from keras.layers.normalization import BatchNormalization\n",
    "from keras.callbacks import EarlyStopping, ModelCheckpoint\n",
    "\n",
    "from keras.utils import to_categorical\n",
    "from keras.callbacks import EarlyStopping\n",
    "import pandas as pd\n",
    "import numpy as np\n",
    "\n",
    "from sklearn.utils import shuffle\n",
    "from sklearn.metrics import confusion_matrix\n",
    "\n",
    "import re\n",
    "\n",
    "import gensim\n",
    "#from pymystem3 import Mystem\n",
    "#from stanfordcorenlp import StanfordCoreNLP\n",
    "import spacy_udpipe"
   ]
  },
  {
   "cell_type": "code",
   "execution_count": 2,
   "metadata": {},
   "outputs": [
    {
     "data": {
      "text/html": [
       "<div>\n",
       "<style scoped>\n",
       "    .dataframe tbody tr th:only-of-type {\n",
       "        vertical-align: middle;\n",
       "    }\n",
       "\n",
       "    .dataframe tbody tr th {\n",
       "        vertical-align: top;\n",
       "    }\n",
       "\n",
       "    .dataframe thead th {\n",
       "        text-align: right;\n",
       "    }\n",
       "</style>\n",
       "<table border=\"1\" class=\"dataframe\">\n",
       "  <thead>\n",
       "    <tr style=\"text-align: right;\">\n",
       "      <th></th>\n",
       "      <th>tweet_id</th>\n",
       "      <th>user_id</th>\n",
       "      <th>class</th>\n",
       "      <th>tweet</th>\n",
       "    </tr>\n",
       "  </thead>\n",
       "  <tbody>\n",
       "    <tr>\n",
       "      <th>0</th>\n",
       "      <td>344266386467606528</td>\n",
       "      <td>809439366</td>\n",
       "      <td>0</td>\n",
       "      <td>depression hurts, cymbalta can help</td>\n",
       "    </tr>\n",
       "    <tr>\n",
       "      <th>1</th>\n",
       "      <td>349220537903489025</td>\n",
       "      <td>323112996</td>\n",
       "      <td>0</td>\n",
       "      <td>@jessicama20045 right, but cipro can make thin...</td>\n",
       "    </tr>\n",
       "    <tr>\n",
       "      <th>2</th>\n",
       "      <td>351421773079781378</td>\n",
       "      <td>713100330</td>\n",
       "      <td>0</td>\n",
       "      <td>@fibby1123 are you on paxil .. i need help</td>\n",
       "    </tr>\n",
       "    <tr>\n",
       "      <th>3</th>\n",
       "      <td>326594278472171520</td>\n",
       "      <td>543113070</td>\n",
       "      <td>0</td>\n",
       "      <td>@redicine the lamotrigine and sjs just made ch...</td>\n",
       "    </tr>\n",
       "    <tr>\n",
       "      <th>4</th>\n",
       "      <td>345567138376994816</td>\n",
       "      <td>138795534</td>\n",
       "      <td>0</td>\n",
       "      <td>have decided to skip my #humira shot today. my...</td>\n",
       "    </tr>\n",
       "  </tbody>\n",
       "</table>\n",
       "</div>"
      ],
      "text/plain": [
       "             tweet_id    user_id  class  \\\n",
       "0  344266386467606528  809439366      0   \n",
       "1  349220537903489025  323112996      0   \n",
       "2  351421773079781378  713100330      0   \n",
       "3  326594278472171520  543113070      0   \n",
       "4  345567138376994816  138795534      0   \n",
       "\n",
       "                                               tweet  \n",
       "0                depression hurts, cymbalta can help  \n",
       "1  @jessicama20045 right, but cipro can make thin...  \n",
       "2         @fibby1123 are you on paxil .. i need help  \n",
       "3  @redicine the lamotrigine and sjs just made ch...  \n",
       "4  have decided to skip my #humira shot today. my...  "
      ]
     },
     "execution_count": 2,
     "metadata": {},
     "output_type": "execute_result"
    }
   ],
   "source": [
    "df = pd.read_csv('../task2_data/task2_en_training.tsv',delimiter='\\t')\n",
    "df.head()"
   ]
  },
  {
   "cell_type": "code",
   "execution_count": 3,
   "metadata": {},
   "outputs": [
    {
     "name": "stdout",
     "output_type": "stream",
     "text": [
      "Already downloaded a model for the 'en' language\n"
     ]
    }
   ],
   "source": [
    "spacy_udpipe.download(\"en\")\n",
    "nlp = spacy_udpipe.load(\"en\")\n",
    "w2v_model = gensim.models.KeyedVectors.load_word2vec_format(\"../Embeddings/model.bin\", binary=True) \n",
    "#model.vocab "
   ]
  },
  {
   "cell_type": "code",
   "execution_count": 4,
   "metadata": {},
   "outputs": [],
   "source": [
    "def lemmatize_with_postag(text = \"\"\"\"Wikipedia is a free online encyclopedia, created and \n",
    "                          edited by volunteers around the world.\"\"\",\n",
    "                          nlp=nlp):\n",
    "    doc = nlp(text)\n",
    "    tagged = []\n",
    "    for token in doc:\n",
    "        lemma = token.lemma_\n",
    "        pos = token.pos_\n",
    "        #pos = pos.split('=')[0].strip()\n",
    "        if pos not in [\"PUNCT\"]: #[\"VERB\", \"NUM\", \"ADV\", \"NOUN\", \"ADJ\", \"AUX\", \"PRON\", \"ADP\", \"DET\", \"ADV\", \"INTJ\", \"PROPN\"]:\n",
    "            tagged.append(lemma.lower() + '_' + pos)\n",
    "        #else : print(pos)\n",
    "    return tagged"
   ]
  },
  {
   "cell_type": "code",
   "execution_count": 5,
   "metadata": {},
   "outputs": [
    {
     "name": "stdout",
     "output_type": "stream",
     "text": [
      "(100, 2)\n",
      "(200, 2)\n"
     ]
    }
   ],
   "source": [
    "X_train = df['tweet']\n",
    "y_train = df['class']\n",
    "\n",
    "Xy = pd.concat([X_train, y_train], axis=1)\n",
    "\n",
    "# paramters of the text praprations\n",
    "n_items_for_train = 50\n",
    "n_items_for_test  = 100\n",
    "max_words         = 500 \n",
    "\n",
    "# n_items_for_train твитов для тренировки с индексом класса 1\n",
    "df_1 = Xy[Xy['class'] == 1].iloc[:n_items_for_train] \n",
    "# n_items_for_train твитов для тренировки с индексом класса 0\n",
    "df_0 = Xy[Xy['class'] == 0].iloc[:n_items_for_train] \n",
    "\n",
    "Xy_ = shuffle(pd.concat([df_0, df_1]))\n",
    "Xy_train = pd.concat([Xy_[\"tweet\"].apply(lemmatize_with_postag), Xy_[\"class\"]], axis = 1)\n",
    "\n",
    "\n",
    "\n",
    "# n_items_for_test твитов для теста с индексом класса 1\n",
    "df_1 = Xy[Xy['class'] == 1].iloc[n_items_for_train:n_items_for_train+n_items_for_test]\n",
    "# n_items_for_test твитов для теста с индексом класса 0\n",
    "df_0 = Xy[Xy['class'] == 0].iloc[n_items_for_train:n_items_for_train+n_items_for_test]\n",
    "\n",
    "Xy_ = shuffle(pd.concat([df_0, df_1]))\n",
    "Xy_test = pd.concat([Xy_[\"tweet\"].apply(lemmatize_with_postag), Xy_[\"class\"]], axis = 1)\n",
    "\n",
    "print(Xy_train.shape)\n",
    "print(Xy_test.shape)\n",
    "#Xy_train, Xy_test"
   ]
  },
  {
   "cell_type": "code",
   "execution_count": 6,
   "metadata": {
    "scrolled": true
   },
   "outputs": [
    {
     "data": {
      "text/html": [
       "<div>\n",
       "<style scoped>\n",
       "    .dataframe tbody tr th:only-of-type {\n",
       "        vertical-align: middle;\n",
       "    }\n",
       "\n",
       "    .dataframe tbody tr th {\n",
       "        vertical-align: top;\n",
       "    }\n",
       "\n",
       "    .dataframe thead th {\n",
       "        text-align: right;\n",
       "    }\n",
       "</style>\n",
       "<table border=\"1\" class=\"dataframe\">\n",
       "  <thead>\n",
       "    <tr style=\"text-align: right;\">\n",
       "      <th></th>\n",
       "      <th>tweet</th>\n",
       "      <th>class</th>\n",
       "    </tr>\n",
       "  </thead>\n",
       "  <tbody>\n",
       "    <tr>\n",
       "      <th>1159</th>\n",
       "      <td>[i_PRON, should_AUX, not_PART, tweet_VERB, on_...</td>\n",
       "      <td>1</td>\n",
       "    </tr>\n",
       "    <tr>\n",
       "      <th>123</th>\n",
       "      <td>[oh_INTJ, you_PRON, guy_NOUN, be_AUX, so_ADV, ...</td>\n",
       "      <td>0</td>\n",
       "    </tr>\n",
       "    <tr>\n",
       "      <th>92</th>\n",
       "      <td>[over_ADP, here_ADV, pop_VERB, that_DET, cymba...</td>\n",
       "      <td>0</td>\n",
       "    </tr>\n",
       "    <tr>\n",
       "      <th>85</th>\n",
       "      <td>[@funnyfelipe_NOUN, yea_NOUN, prozac_NOUN, and...</td>\n",
       "      <td>0</td>\n",
       "    </tr>\n",
       "    <tr>\n",
       "      <th>1302</th>\n",
       "      <td>[@_cimmy__SYM, thanks_NOUN, yes_INTJ, after_SC...</td>\n",
       "      <td>1</td>\n",
       "    </tr>\n",
       "    <tr>\n",
       "      <th>...</th>\n",
       "      <td>...</td>\n",
       "      <td>...</td>\n",
       "    </tr>\n",
       "    <tr>\n",
       "      <th>1278</th>\n",
       "      <td>[@cascgurl_VERB, if_SCONJ, they_PRON, force_VE...</td>\n",
       "      <td>1</td>\n",
       "    </tr>\n",
       "    <tr>\n",
       "      <th>104</th>\n",
       "      <td>[shit_NOUN, wait_NOUN, be_AUX, the_DET, nicoti...</td>\n",
       "      <td>0</td>\n",
       "    </tr>\n",
       "    <tr>\n",
       "      <th>1131</th>\n",
       "      <td>[i_PRON, think_VERB, this_PRON, olanzapine_PRO...</td>\n",
       "      <td>1</td>\n",
       "    </tr>\n",
       "    <tr>\n",
       "      <th>1869</th>\n",
       "      <td>[rt_ADV, @brassiest_ADJ, @mikedelic_ADJ, if_SC...</td>\n",
       "      <td>1</td>\n",
       "    </tr>\n",
       "    <tr>\n",
       "      <th>1424</th>\n",
       "      <td>[day_NOUN, 4_NUM, the_DET, initial_ADJ, lamotr...</td>\n",
       "      <td>1</td>\n",
       "    </tr>\n",
       "  </tbody>\n",
       "</table>\n",
       "<p>200 rows × 2 columns</p>\n",
       "</div>"
      ],
      "text/plain": [
       "                                                  tweet  class\n",
       "1159  [i_PRON, should_AUX, not_PART, tweet_VERB, on_...      1\n",
       "123   [oh_INTJ, you_PRON, guy_NOUN, be_AUX, so_ADV, ...      0\n",
       "92    [over_ADP, here_ADV, pop_VERB, that_DET, cymba...      0\n",
       "85    [@funnyfelipe_NOUN, yea_NOUN, prozac_NOUN, and...      0\n",
       "1302  [@_cimmy__SYM, thanks_NOUN, yes_INTJ, after_SC...      1\n",
       "...                                                 ...    ...\n",
       "1278  [@cascgurl_VERB, if_SCONJ, they_PRON, force_VE...      1\n",
       "104   [shit_NOUN, wait_NOUN, be_AUX, the_DET, nicoti...      0\n",
       "1131  [i_PRON, think_VERB, this_PRON, olanzapine_PRO...      1\n",
       "1869  [rt_ADV, @brassiest_ADJ, @mikedelic_ADJ, if_SC...      1\n",
       "1424  [day_NOUN, 4_NUM, the_DET, initial_ADJ, lamotr...      1\n",
       "\n",
       "[200 rows x 2 columns]"
      ]
     },
     "execution_count": 6,
     "metadata": {},
     "output_type": "execute_result"
    }
   ],
   "source": [
    "Xy_test"
   ]
  },
  {
   "cell_type": "code",
   "execution_count": 7,
   "metadata": {},
   "outputs": [
    {
     "name": "stdout",
     "output_type": "stream",
     "text": [
      "max_len = 33\n"
     ]
    }
   ],
   "source": [
    "# replcade as parameter in the begining\n",
    "#max_words = 2000 # ограничение вокуабуляра\n",
    "\n",
    "maxima = 0\n",
    "for ar in Xy_train['tweet'].to_list():\n",
    "    if len(ar)>maxima: maxima = len(ar)\n",
    "for ar in Xy_test['tweet']:\n",
    "    if len(ar)>maxima: maxima = len(ar)\n",
    "max_len = maxima + 1\n",
    "print(f'max_len = {max_len}')\n",
    "\n",
    "tok = Tokenizer(num_words=max_words)\n",
    "tok.fit_on_texts(Xy_train[\"tweet\"]) #fit on train\n",
    "\n",
    "# exctrax features from train\n",
    "sequences_train = tok.texts_to_sequences(Xy_train[\"tweet\"])\n",
    "sequences_matrix_train = sequence.pad_sequences(sequences_train, maxlen=max_len)\n",
    "\n",
    "# exctrax features from test\n",
    "sequences_test = tok.texts_to_sequences(Xy_test[\"tweet\"])\n",
    "sequences_matrix_test = sequence.pad_sequences(sequences_test, maxlen=max_len)"
   ]
  },
  {
   "cell_type": "code",
   "execution_count": 8,
   "metadata": {},
   "outputs": [
    {
     "data": {
      "text/plain": [
       "(200, 33)"
      ]
     },
     "execution_count": 8,
     "metadata": {},
     "output_type": "execute_result"
    }
   ],
   "source": [
    "sequences_matrix_test.shape"
   ]
  },
  {
   "cell_type": "code",
   "execution_count": 9,
   "metadata": {},
   "outputs": [
    {
     "name": "stdout",
     "output_type": "stream",
     "text": [
      "Everything is OK\n",
      "839\n"
     ]
    }
   ],
   "source": [
    "def fix_word_key(string):\n",
    "    upper_part = (re.findall('_.*',string))[0].upper()\n",
    "    result = re.sub(r'_.*', upper_part, string)\n",
    "    #print(f'was {string} -> became {result}')\n",
    "    return result\n",
    "\n",
    "word_index = tok.word_index\n",
    "#print('Found %s unique tokens' % len(word_index))\n",
    "\n",
    "wi1 = len(word_index)\n",
    "\n",
    "# fix tokenizer problem\n",
    "for key in word_index.keys():\n",
    "    fixed_key = fix_word_key(key)\n",
    "    word_index[fixed_key] = word_index.pop(key)\n",
    "    \n",
    "#print('Found %s unique tokens' % len(word_index))\n",
    "wi2 = len(word_index)\n",
    "\n",
    "if wi1 != wi2:\n",
    "    print()\n",
    "    error = 'lenght of word_index was changed!'\n",
    "    print(error.upper())\n",
    "    raise ValueError\n",
    "else:\n",
    "    print('Everything is OK')\n",
    "    print(len(word_index))"
   ]
  },
  {
   "cell_type": "code",
   "execution_count": null,
   "metadata": {
    "scrolled": true
   },
   "outputs": [],
   "source": []
  },
  {
   "cell_type": "code",
   "execution_count": 10,
   "metadata": {},
   "outputs": [
    {
     "name": "stdout",
     "output_type": "stream",
     "text": [
      "number of words = 501\n",
      "(501, 300)\n",
      "Null word embeddings: 248\n"
     ]
    }
   ],
   "source": [
    "# делаем Embedding на основе w2v модели\n",
    "\n",
    "nb_words = min(max_words, len(word_index))+1 # проверяем где меньше, в нашем датасете или в токенайзере.\n",
    "EMBEDDING_DIM = 300 # размерность векторов в нашей модели w2v\n",
    "\n",
    "print(f'number of words = {nb_words}')\n",
    "\n",
    "embedding_matrix = np.zeros((nb_words, EMBEDDING_DIM))\n",
    "print(embedding_matrix.shape)\n",
    "\n",
    "counter = 0\n",
    "for word, i in word_index.items():\n",
    "    if i >= nb_words: continue\n",
    "    if word in w2v_model.vocab:\n",
    "        #print(word, i)\n",
    "        embedding_matrix[i] = w2v_model[word]\n",
    "        #break\n",
    "#     if counter > nb_words: break\n",
    "#     counter += 1\n",
    "\n",
    "\n",
    "print('Null word embeddings: %d' % np.sum(np.sum(embedding_matrix, axis=1) == 0))\n",
    "#pd.DataFrame(embedding_matrix)"
   ]
  },
  {
   "cell_type": "markdown",
   "metadata": {},
   "source": [
    "# BI-LSTM (3.0)\n",
    "\n",
    "https://stackoverflow.com/questions/44924690/keras-the-difference-between-lstm-dropout-and-lstm-recurrent-dropout"
   ]
  },
  {
   "cell_type": "code",
   "execution_count": 12,
   "metadata": {},
   "outputs": [],
   "source": [
    "rate_drop_lstm  = 0.15 + np.random.rand() * 0.25\n",
    "rate_drop_dense = 0.15 + np.random.rand() * 0.25\n",
    "act = 'relu'\n",
    "\n",
    "\n",
    "embedding_layer      = Embedding(nb_words,\n",
    "                                EMBEDDING_DIM,\n",
    "                                weights=[embedding_matrix],\n",
    "                                input_length=max_len,\n",
    "                                trainable=False) \n",
    "lstm_layer           = Bidirectional(LSTM(64, dropout=rate_drop_lstm, recurrent_dropout=rate_drop_lstm))\n",
    "\n",
    "# CONFIGURATION OF BI-LSTM\n",
    "sequence_1_input     = Input(shape=(max_len,), dtype='int32')\n",
    "embedded_sequences_1 = embedding_layer(sequence_1_input)\n",
    "x1                   = lstm_layer(embedded_sequences_1)\n",
    "merged               = Dropout(rate_drop_dense)(x1)\n",
    "merged               = BatchNormalization()(merged)\n",
    "merged               = Dense(32, activation=act)(merged)\n",
    "merged               = Dropout(rate_drop_dense)(merged)\n",
    "merged               = BatchNormalization()(merged)\n",
    "preds                = Dense(1, activation='sigmoid')(merged)\n",
    "#preds                = Dense(2, activation='softmax')(merged)"
   ]
  },
  {
   "cell_type": "code",
   "execution_count": 13,
   "metadata": {},
   "outputs": [
    {
     "name": "stdout",
     "output_type": "stream",
     "text": [
      "Model: \"model_1\"\n",
      "_________________________________________________________________\n",
      "Layer (type)                 Output Shape              Param #   \n",
      "=================================================================\n",
      "input_1 (InputLayer)         (None, 33)                0         \n",
      "_________________________________________________________________\n",
      "embedding_1 (Embedding)      (None, 33, 300)           150300    \n",
      "_________________________________________________________________\n",
      "bidirectional_1 (Bidirection (None, 128)               186880    \n",
      "_________________________________________________________________\n",
      "dropout_1 (Dropout)          (None, 128)               0         \n",
      "_________________________________________________________________\n",
      "batch_normalization_1 (Batch (None, 128)               512       \n",
      "_________________________________________________________________\n",
      "dense_1 (Dense)              (None, 32)                4128      \n",
      "_________________________________________________________________\n",
      "dropout_2 (Dropout)          (None, 32)                0         \n",
      "_________________________________________________________________\n",
      "batch_normalization_2 (Batch (None, 32)                128       \n",
      "_________________________________________________________________\n",
      "dense_2 (Dense)              (None, 1)                 33        \n",
      "=================================================================\n",
      "Total params: 341,981\n",
      "Trainable params: 191,361\n",
      "Non-trainable params: 150,620\n",
      "_________________________________________________________________\n",
      "lstm_10_10_0.18_0.31\n",
      "\n"
     ]
    }
   ],
   "source": [
    "STAMP = 'lstm_%d_%d_%.2f_%.2f'%(10, 10, rate_drop_lstm, \\\n",
    "        rate_drop_dense)\n",
    "\n",
    "model = Model(inputs=[sequence_1_input], outputs=preds)\n",
    "model.compile(loss='binary_crossentropy', \n",
    "              optimizer='rmsprop', \n",
    "              metrics=['acc'])\n",
    "model.summary()\n",
    "print(STAMP, end='\\n\\n')"
   ]
  },
  {
   "cell_type": "code",
   "execution_count": 14,
   "metadata": {
    "scrolled": true
   },
   "outputs": [],
   "source": [
    "from myclass import DataGenerator\n",
    "\n",
    "epochs = 200\n",
    "batch_size = 32\n",
    "patience = 20\n",
    "\n",
    "\n",
    "early_stopping =EarlyStopping(monitor='val_loss', patience=patience)\n",
    "bst_model_path = STAMP + '.h5'\n",
    "model_checkpoint = ModelCheckpoint(bst_model_path, save_best_only=True, save_weights_only=True)\n",
    "\n",
    "# Parameters\n",
    "params = {'batch_size': batch_size, #(n_items_for_train, max_len, EMBEDDING_DIM)\n",
    "          'dim': max_len,\n",
    "          'n_classes': 1,\n",
    "          'shuffle': True}\n",
    "\n",
    "# Datasets\n",
    "partition_train = sequences_matrix_train#.tolist()\n",
    "partition_val   = sequences_matrix_test[:n_items_for_test//2] #.tolist()[:n_items_for_test//2]\n",
    "partition_test  = sequences_matrix_test[n_items_for_test//2:] #.tolist()[n_items_for_test//2:]\n",
    "\n",
    "labels_train = np.array(Xy_train[\"class\"]).tolist()\n",
    "labels_val = np.array(Xy_test[\"class\"]).tolist()[:n_items_for_test//2]\n",
    "#print(labels_train)\n",
    "#print(partition_val)\n",
    "# Generators\n",
    "training_generator   = DataGenerator(partition_train, labels_train, **params)\n",
    "validation_generator = DataGenerator(partition_val, labels_val, **params)"
   ]
  },
  {
   "cell_type": "code",
   "execution_count": 15,
   "metadata": {
    "scrolled": true
   },
   "outputs": [
    {
     "data": {
      "text/plain": [
       "(32,)"
      ]
     },
     "execution_count": 15,
     "metadata": {},
     "output_type": "execute_result"
    }
   ],
   "source": [
    "# partition_train.shape\n",
    "# len(training_generator)\n",
    "# np.empty((32, 2, 1))\n",
    "# partition_train\n",
    "# training_generator[1]\n",
    "# np.empty((32), dtype=int)\n",
    "X, y = training_generator[0]\n",
    "# print(y)\n",
    "#validation_generator[0]\n",
    "X.shape\n",
    "y.shape"
   ]
  },
  {
   "cell_type": "code",
   "execution_count": 16,
   "metadata": {
    "scrolled": true
   },
   "outputs": [
    {
     "name": "stdout",
     "output_type": "stream",
     "text": [
      "Epoch 1/200\n",
      " - 4s - loss: 0.7338 - acc: 0.5521 - val_loss: 0.6922 - val_acc: 0.4375\n",
      "Epoch 2/200\n",
      " - 0s - loss: 0.6430 - acc: 0.6562 - val_loss: 0.6921 - val_acc: 0.5312\n",
      "Epoch 3/200\n",
      " - 0s - loss: 0.6467 - acc: 0.6667 - val_loss: 0.6913 - val_acc: 0.5938\n",
      "Epoch 4/200\n",
      " - 0s - loss: 0.7604 - acc: 0.5521 - val_loss: 0.6906 - val_acc: 0.6562\n",
      "Epoch 5/200\n",
      " - 0s - loss: 0.5504 - acc: 0.7604 - val_loss: 0.6898 - val_acc: 0.6875\n",
      "Epoch 6/200\n",
      " - 0s - loss: 0.5865 - acc: 0.6771 - val_loss: 0.6905 - val_acc: 0.6875\n",
      "Epoch 7/200\n",
      " - 0s - loss: 0.5015 - acc: 0.7604 - val_loss: 0.6921 - val_acc: 0.4688\n",
      "Epoch 8/200\n",
      " - 0s - loss: 0.5271 - acc: 0.7396 - val_loss: 0.6910 - val_acc: 0.4688\n",
      "Epoch 9/200\n",
      " - 0s - loss: 0.4819 - acc: 0.7188 - val_loss: 0.6885 - val_acc: 0.5312\n",
      "Epoch 10/200\n",
      " - 0s - loss: 0.4964 - acc: 0.7812 - val_loss: 0.6902 - val_acc: 0.5000\n",
      "Epoch 11/200\n",
      " - 0s - loss: 0.4416 - acc: 0.8125 - val_loss: 0.6867 - val_acc: 0.5625\n",
      "Epoch 12/200\n",
      " - 0s - loss: 0.4563 - acc: 0.8125 - val_loss: 0.6890 - val_acc: 0.5000\n",
      "Epoch 13/200\n",
      " - 0s - loss: 0.3392 - acc: 0.8542 - val_loss: 0.6884 - val_acc: 0.4688\n",
      "Epoch 14/200\n",
      " - 0s - loss: 0.3730 - acc: 0.8229 - val_loss: 0.6886 - val_acc: 0.5312\n",
      "Epoch 15/200\n",
      " - 0s - loss: 0.3389 - acc: 0.8646 - val_loss: 0.6889 - val_acc: 0.5312\n",
      "Epoch 16/200\n",
      " - 0s - loss: 0.3116 - acc: 0.8438 - val_loss: 0.6843 - val_acc: 0.5000\n",
      "Epoch 17/200\n",
      " - 0s - loss: 0.3253 - acc: 0.8333 - val_loss: 0.6868 - val_acc: 0.4375\n",
      "Epoch 18/200\n",
      " - 0s - loss: 0.3008 - acc: 0.8438 - val_loss: 0.6976 - val_acc: 0.4062\n",
      "Epoch 19/200\n",
      " - 0s - loss: 0.2933 - acc: 0.8750 - val_loss: 0.6935 - val_acc: 0.4688\n",
      "Epoch 20/200\n",
      " - 0s - loss: 0.2638 - acc: 0.9062 - val_loss: 0.6867 - val_acc: 0.5312\n",
      "Epoch 21/200\n",
      " - 0s - loss: 0.2767 - acc: 0.8750 - val_loss: 0.6876 - val_acc: 0.4688\n",
      "Epoch 22/200\n",
      " - 0s - loss: 0.3214 - acc: 0.8542 - val_loss: 0.6825 - val_acc: 0.5000\n",
      "Epoch 23/200\n",
      " - 0s - loss: 0.2884 - acc: 0.8750 - val_loss: 0.6782 - val_acc: 0.5000\n",
      "Epoch 24/200\n",
      " - 0s - loss: 0.2703 - acc: 0.8750 - val_loss: 0.6915 - val_acc: 0.4375\n",
      "Epoch 25/200\n",
      " - 0s - loss: 0.2090 - acc: 0.8958 - val_loss: 0.6941 - val_acc: 0.4375\n",
      "Epoch 26/200\n",
      " - 0s - loss: 0.2366 - acc: 0.9167 - val_loss: 0.6868 - val_acc: 0.5312\n",
      "Epoch 27/200\n",
      " - 0s - loss: 0.2215 - acc: 0.9062 - val_loss: 0.6942 - val_acc: 0.4375\n",
      "Epoch 28/200\n",
      " - 0s - loss: 0.2387 - acc: 0.9062 - val_loss: 0.6862 - val_acc: 0.5000\n",
      "Epoch 29/200\n",
      " - 0s - loss: 0.2065 - acc: 0.8958 - val_loss: 0.6742 - val_acc: 0.5625\n",
      "Epoch 30/200\n",
      " - 0s - loss: 0.2598 - acc: 0.8958 - val_loss: 0.6853 - val_acc: 0.4688\n",
      "Epoch 31/200\n",
      " - 0s - loss: 0.1709 - acc: 0.9479 - val_loss: 0.6682 - val_acc: 0.6562\n",
      "Epoch 32/200\n",
      " - 0s - loss: 0.1752 - acc: 0.9375 - val_loss: 0.6730 - val_acc: 0.4375\n",
      "Epoch 33/200\n",
      " - 0s - loss: 0.1707 - acc: 0.9375 - val_loss: 0.6742 - val_acc: 0.5625\n",
      "Epoch 34/200\n",
      " - 0s - loss: 0.1884 - acc: 0.9479 - val_loss: 0.6798 - val_acc: 0.4375\n",
      "Epoch 35/200\n",
      " - 0s - loss: 0.2477 - acc: 0.8750 - val_loss: 0.6755 - val_acc: 0.5312\n",
      "Epoch 36/200\n",
      " - 0s - loss: 0.1601 - acc: 0.9375 - val_loss: 0.6624 - val_acc: 0.5625\n",
      "Epoch 37/200\n",
      " - 0s - loss: 0.2099 - acc: 0.9062 - val_loss: 0.6888 - val_acc: 0.5000\n",
      "Epoch 38/200\n",
      " - 0s - loss: 0.1718 - acc: 0.9479 - val_loss: 0.6842 - val_acc: 0.5625\n",
      "Epoch 39/200\n",
      " - 0s - loss: 0.1707 - acc: 0.9271 - val_loss: 0.6545 - val_acc: 0.5938\n",
      "Epoch 40/200\n",
      " - 0s - loss: 0.1727 - acc: 0.9271 - val_loss: 0.6603 - val_acc: 0.6250\n",
      "Epoch 41/200\n",
      " - 0s - loss: 0.1407 - acc: 0.9479 - val_loss: 0.7010 - val_acc: 0.4062\n",
      "Epoch 42/200\n",
      " - 0s - loss: 0.1445 - acc: 0.9375 - val_loss: 0.6827 - val_acc: 0.5312\n",
      "Epoch 43/200\n",
      " - 0s - loss: 0.1359 - acc: 0.9375 - val_loss: 0.6514 - val_acc: 0.5312\n",
      "Epoch 44/200\n",
      " - 0s - loss: 0.1257 - acc: 0.9583 - val_loss: 0.6697 - val_acc: 0.6250\n",
      "Epoch 45/200\n",
      " - 0s - loss: 0.1258 - acc: 0.9479 - val_loss: 0.7011 - val_acc: 0.4688\n",
      "Epoch 46/200\n",
      " - 0s - loss: 0.1898 - acc: 0.9062 - val_loss: 0.6783 - val_acc: 0.5625\n",
      "Epoch 47/200\n",
      " - 0s - loss: 0.1583 - acc: 0.9479 - val_loss: 0.6672 - val_acc: 0.5312\n",
      "Epoch 48/200\n",
      " - 0s - loss: 0.1319 - acc: 0.9479 - val_loss: 0.6793 - val_acc: 0.5000\n",
      "Epoch 49/200\n",
      " - 0s - loss: 0.1568 - acc: 0.9479 - val_loss: 0.7193 - val_acc: 0.4688\n",
      "Epoch 50/200\n",
      " - 0s - loss: 0.1173 - acc: 0.9583 - val_loss: 0.6956 - val_acc: 0.4688\n",
      "Epoch 51/200\n",
      " - 0s - loss: 0.1808 - acc: 0.9375 - val_loss: 0.6533 - val_acc: 0.5625\n",
      "Epoch 52/200\n",
      " - 0s - loss: 0.1167 - acc: 0.9479 - val_loss: 0.6984 - val_acc: 0.4375\n",
      "Epoch 53/200\n",
      " - 0s - loss: 0.1223 - acc: 0.9583 - val_loss: 0.6786 - val_acc: 0.4688\n",
      "Epoch 54/200\n",
      " - 0s - loss: 0.1133 - acc: 0.9583 - val_loss: 0.6829 - val_acc: 0.4688\n",
      "Epoch 55/200\n",
      " - 0s - loss: 0.1106 - acc: 0.9688 - val_loss: 0.7310 - val_acc: 0.3750\n",
      "Epoch 56/200\n",
      " - 0s - loss: 0.1312 - acc: 0.9583 - val_loss: 0.6442 - val_acc: 0.5938\n",
      "Epoch 57/200\n",
      " - 0s - loss: 0.1379 - acc: 0.9479 - val_loss: 0.6810 - val_acc: 0.5000\n",
      "Epoch 58/200\n",
      " - 0s - loss: 0.1298 - acc: 0.9479 - val_loss: 0.6486 - val_acc: 0.5312\n",
      "Epoch 59/200\n",
      " - 0s - loss: 0.1379 - acc: 0.9479 - val_loss: 0.6388 - val_acc: 0.5938\n",
      "Epoch 60/200\n",
      " - 0s - loss: 0.0939 - acc: 0.9583 - val_loss: 0.6765 - val_acc: 0.5312\n",
      "Epoch 61/200\n",
      " - 0s - loss: 0.1139 - acc: 0.9375 - val_loss: 0.7199 - val_acc: 0.5000\n",
      "Epoch 62/200\n",
      " - 0s - loss: 0.0950 - acc: 0.9479 - val_loss: 0.6628 - val_acc: 0.5000\n",
      "Epoch 63/200\n",
      " - 0s - loss: 0.1384 - acc: 0.9271 - val_loss: 0.6843 - val_acc: 0.6250\n",
      "Epoch 64/200\n",
      " - 0s - loss: 0.1076 - acc: 0.9688 - val_loss: 0.6608 - val_acc: 0.5938\n",
      "Epoch 65/200\n",
      " - 0s - loss: 0.1270 - acc: 0.9271 - val_loss: 0.7215 - val_acc: 0.5000\n",
      "Epoch 66/200\n",
      " - 0s - loss: 0.1228 - acc: 0.9583 - val_loss: 0.6576 - val_acc: 0.5625\n",
      "Epoch 67/200\n",
      " - 0s - loss: 0.1474 - acc: 0.9375 - val_loss: 0.7214 - val_acc: 0.5625\n",
      "Epoch 68/200\n",
      " - 0s - loss: 0.0795 - acc: 0.9896 - val_loss: 0.6816 - val_acc: 0.4375\n",
      "Epoch 69/200\n",
      " - 0s - loss: 0.1509 - acc: 0.9062 - val_loss: 0.6989 - val_acc: 0.5000\n",
      "Epoch 70/200\n",
      " - 0s - loss: 0.1186 - acc: 0.9583 - val_loss: 0.7101 - val_acc: 0.5000\n",
      "Epoch 71/200\n",
      " - 0s - loss: 0.1029 - acc: 0.9479 - val_loss: 0.7114 - val_acc: 0.5625\n",
      "Epoch 72/200\n",
      " - 0s - loss: 0.1035 - acc: 0.9375 - val_loss: 0.6655 - val_acc: 0.5625\n",
      "Epoch 73/200\n",
      " - 0s - loss: 0.1088 - acc: 0.9375 - val_loss: 0.7222 - val_acc: 0.5312\n",
      "Epoch 74/200\n",
      " - 0s - loss: 0.1033 - acc: 0.9583 - val_loss: 0.6725 - val_acc: 0.5625\n",
      "Epoch 75/200\n",
      " - 0s - loss: 0.0890 - acc: 0.9688 - val_loss: 0.6906 - val_acc: 0.5625\n",
      "Epoch 76/200\n",
      " - 0s - loss: 0.0898 - acc: 0.9688 - val_loss: 0.6625 - val_acc: 0.5312\n",
      "Epoch 77/200\n",
      " - 0s - loss: 0.0760 - acc: 0.9583 - val_loss: 0.7479 - val_acc: 0.4062\n",
      "Epoch 78/200\n",
      " - 0s - loss: 0.1204 - acc: 0.9375 - val_loss: 0.6664 - val_acc: 0.5312\n",
      "Epoch 79/200\n",
      " - 0s - loss: 0.1441 - acc: 0.9583 - val_loss: 0.7426 - val_acc: 0.4062\n"
     ]
    }
   ],
   "source": [
    "# Train model on dataset\n",
    "history = model.fit_generator(generator=training_generator,\n",
    "                              validation_data=validation_generator,\n",
    "                              #steps_per_epoch=100,\n",
    "                              #use_multiprocessing=True, workers=4,\n",
    "                              epochs=epochs, shuffle=True,\n",
    "                              verbose=2,\n",
    "                              callbacks=[early_stopping, model_checkpoint])\n"
   ]
  },
  {
   "cell_type": "code",
   "execution_count": 17,
   "metadata": {},
   "outputs": [
    {
     "data": {
      "image/png": "[encoded data removed]",
      "text/plain": [
       "<Figure size 720x576 with 1 Axes>"
      ]
     },
     "metadata": {
      "needs_background": "light"
     },
     "output_type": "display_data"
    }
   ],
   "source": [
    "import matplotlib.pyplot as plt\n",
    "%matplotlib inline\n",
    "plt.rcParams[\"figure.figsize\"] = (10, 8) \n",
    "\n",
    "# summarize history for accuracy\n",
    "plt.plot(history.history['acc'])\n",
    "plt.plot(history.history['val_acc'])\n",
    "plt.title('model accuracy')\n",
    "plt.ylabel('acc')\n",
    "plt.xlabel('epoch')\n",
    "plt.legend(['train', 'test'], loc='upper left')\n",
    "plt.show()\n",
    "\n",
    "# # summarize history for loss\n",
    "# plt.plot(history.history['loss'])\n",
    "# plt.plot(dgclasshistory.history['val_loss'])\n",
    "# plt.title('model loss')\n",
    "# plt.ylabel('loss')\n",
    "# plt.xlabel('epoch')\n",
    "# plt.legend(['train', 'test'], loc='upper left')\n",
    "# plt.show()"
   ]
  },
  {
   "cell_type": "code",
   "execution_count": 18,
   "metadata": {},
   "outputs": [
    {
     "name": "stdout",
     "output_type": "stream",
     "text": [
      "              precision    recall  f1-score   support\n",
      "\n",
      "           0       0.51      0.48      0.50        77\n",
      "           1       0.49      0.52      0.50        73\n",
      "\n",
      "    accuracy                           0.50       150\n",
      "   macro avg       0.50      0.50      0.50       150\n",
      "weighted avg       0.50      0.50      0.50       150\n",
      "\n"
     ]
    }
   ],
   "source": [
    "pred = model.predict(sequences_matrix_test[n_items_for_test//2:])\n",
    "pred.shape\n",
    "bin_pred, real = [], np.array(Xy_test[\"class\"]).tolist()[n_items_for_test//2:]\n",
    "for i in range(len(pred)):\n",
    "    #print(f'pred = {int(round(float(pred[i][0]), 0))},\\t real = {real[i]}')\n",
    "    bin_pred.append(int(round(float(pred[i][0]), 0))) \n",
    "#np.array(Xy_test[\"class\"]).tolist()\n",
    "bin_pred, real\n",
    "from sklearn.metrics import classification_report\n",
    "print(classification_report(real, bin_pred))"
   ]
  },
  {
   "cell_type": "code",
   "execution_count": 19,
   "metadata": {},
   "outputs": [
    {
     "data": {
      "text/html": [
       "<div>\n",
       "<style scoped>\n",
       "    .dataframe tbody tr th:only-of-type {\n",
       "        vertical-align: middle;\n",
       "    }\n",
       "\n",
       "    .dataframe tbody tr th {\n",
       "        vertical-align: top;\n",
       "    }\n",
       "\n",
       "    .dataframe thead th {\n",
       "        text-align: right;\n",
       "    }\n",
       "</style>\n",
       "<table border=\"1\" class=\"dataframe\">\n",
       "  <thead>\n",
       "    <tr style=\"text-align: right;\">\n",
       "      <th></th>\n",
       "      <th>Pos</th>\n",
       "      <th>Neg</th>\n",
       "    </tr>\n",
       "  </thead>\n",
       "  <tbody>\n",
       "    <tr>\n",
       "      <th>0</th>\n",
       "      <td>37</td>\n",
       "      <td>40</td>\n",
       "    </tr>\n",
       "    <tr>\n",
       "      <th>1</th>\n",
       "      <td>35</td>\n",
       "      <td>38</td>\n",
       "    </tr>\n",
       "  </tbody>\n",
       "</table>\n",
       "</div>"
      ],
      "text/plain": [
       "   Pos  Neg\n",
       "0   37   40\n",
       "1   35   38"
      ]
     },
     "execution_count": 19,
     "metadata": {},
     "output_type": "execute_result"
    }
   ],
   "source": [
    "pd.DataFrame(confusion_matrix(real, bin_pred), columns=['Pos', 'Neg'])"
   ]
  },
  {
   "cell_type": "code",
   "execution_count": null,
   "metadata": {},
   "outputs": [],
   "source": [
    "\n"
   ]
  }
 ],
 "metadata": {
  "kernelspec": {
   "display_name": "Python 3",
   "language": "python",
   "name": "python3"
  },
  "language_info": {
   "codemirror_mode": {
    "name": "ipython",
    "version": 3
   },
   "file_extension": ".py",
   "mimetype": "text/x-python",
   "name": "python",
   "nbconvert_exporter": "python",
   "pygments_lexer": "ipython3",
   "version": "3.7.6"
  }
 },
 "nbformat": 4,
 "nbformat_minor": 2
}
