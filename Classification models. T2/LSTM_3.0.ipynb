{
 "cells": [
  {
   "cell_type": "code",
   "execution_count": 1,
   "metadata": {},
   "outputs": [
    {
     "name": "stderr",
     "output_type": "stream",
     "text": [
      "Using TensorFlow backend.\n"
     ]
    }
   ],
   "source": [
    "from sklearn.model_selection import train_test_split\n",
    "from sklearn.preprocessing import LabelEncoder\n",
    "from keras.models import Model\n",
    "from keras.layers import LSTM, Activation, Dense, Dropout, Input, Embedding, Bidirectional \n",
    "from keras.optimizers import RMSprop\n",
    "\n",
    "from keras.preprocessing.text import Tokenizer\n",
    "from keras.preprocessing.text import text_to_word_sequence\n",
    "from keras.preprocessing import sequence\n",
    "\n",
    "from keras.layers.normalization import BatchNormalization\n",
    "from keras.callbacks import EarlyStopping, ModelCheckpoint\n",
    "\n",
    "from keras.utils import to_categorical\n",
    "from keras.callbacks import EarlyStopping\n",
    "import pandas as pd\n",
    "import numpy as np\n",
    "\n",
    "from sklearn.utils import shuffle\n",
    "from sklearn.metrics import confusion_matrix\n",
    "\n",
    "import re\n",
    "\n",
    "import gensim\n",
    "#from pymystem3 import Mystem\n",
    "#from stanfordcorenlp import StanfordCoreNLP\n",
    "import spacy_udpipe"
   ]
  },
  {
   "cell_type": "code",
   "execution_count": 2,
   "metadata": {},
   "outputs": [
    {
     "data": {
      "text/html": [
       "<div>\n",
       "<style scoped>\n",
       "    .dataframe tbody tr th:only-of-type {\n",
       "        vertical-align: middle;\n",
       "    }\n",
       "\n",
       "    .dataframe tbody tr th {\n",
       "        vertical-align: top;\n",
       "    }\n",
       "\n",
       "    .dataframe thead th {\n",
       "        text-align: right;\n",
       "    }\n",
       "</style>\n",
       "<table border=\"1\" class=\"dataframe\">\n",
       "  <thead>\n",
       "    <tr style=\"text-align: right;\">\n",
       "      <th></th>\n",
       "      <th>tweet_id</th>\n",
       "      <th>user_id</th>\n",
       "      <th>class</th>\n",
       "      <th>tweet</th>\n",
       "    </tr>\n",
       "  </thead>\n",
       "  <tbody>\n",
       "    <tr>\n",
       "      <th>0</th>\n",
       "      <td>344266386467606528</td>\n",
       "      <td>809439366</td>\n",
       "      <td>0</td>\n",
       "      <td>depression hurts, cymbalta can help</td>\n",
       "    </tr>\n",
       "    <tr>\n",
       "      <th>1</th>\n",
       "      <td>349220537903489025</td>\n",
       "      <td>323112996</td>\n",
       "      <td>0</td>\n",
       "      <td>@jessicama20045 right, but cipro can make thin...</td>\n",
       "    </tr>\n",
       "    <tr>\n",
       "      <th>2</th>\n",
       "      <td>351421773079781378</td>\n",
       "      <td>713100330</td>\n",
       "      <td>0</td>\n",
       "      <td>@fibby1123 are you on paxil .. i need help</td>\n",
       "    </tr>\n",
       "    <tr>\n",
       "      <th>3</th>\n",
       "      <td>326594278472171520</td>\n",
       "      <td>543113070</td>\n",
       "      <td>0</td>\n",
       "      <td>@redicine the lamotrigine and sjs just made ch...</td>\n",
       "    </tr>\n",
       "    <tr>\n",
       "      <th>4</th>\n",
       "      <td>345567138376994816</td>\n",
       "      <td>138795534</td>\n",
       "      <td>0</td>\n",
       "      <td>have decided to skip my #humira shot today. my...</td>\n",
       "    </tr>\n",
       "  </tbody>\n",
       "</table>\n",
       "</div>"
      ],
      "text/plain": [
       "             tweet_id    user_id  class  \\\n",
       "0  344266386467606528  809439366      0   \n",
       "1  349220537903489025  323112996      0   \n",
       "2  351421773079781378  713100330      0   \n",
       "3  326594278472171520  543113070      0   \n",
       "4  345567138376994816  138795534      0   \n",
       "\n",
       "                                               tweet  \n",
       "0                depression hurts, cymbalta can help  \n",
       "1  @jessicama20045 right, but cipro can make thin...  \n",
       "2         @fibby1123 are you on paxil .. i need help  \n",
       "3  @redicine the lamotrigine and sjs just made ch...  \n",
       "4  have decided to skip my #humira shot today. my...  "
      ]
     },
     "execution_count": 2,
     "metadata": {},
     "output_type": "execute_result"
    }
   ],
   "source": [
    "df = pd.read_csv('../task2_data/task2_en_training.tsv',delimiter='\\t')\n",
    "df.head()"
   ]
  },
  {
   "cell_type": "code",
   "execution_count": 3,
   "metadata": {},
   "outputs": [
    {
     "name": "stdout",
     "output_type": "stream",
     "text": [
      "Already downloaded a model for the 'en' language\n"
     ]
    }
   ],
   "source": [
    "spacy_udpipe.download(\"en\")\n",
    "nlp = spacy_udpipe.load(\"en\")\n",
    "model = gensim.models.KeyedVectors.load_word2vec_format(\"../Embeddings/model.bin\", binary=True) \n",
    "#model.vocab "
   ]
  },
  {
   "cell_type": "code",
   "execution_count": 4,
   "metadata": {},
   "outputs": [],
   "source": [
    "def lemmatize_with_postag(text = \"\"\"\"Wikipedia is a free online encyclopedia, created and \n",
    "                          edited by volunteers around the world.\"\"\",\n",
    "                          nlp=nlp):\n",
    "    doc = nlp(text)\n",
    "    tagged = []\n",
    "    for token in doc:\n",
    "        lemma = token.lemma_\n",
    "        pos = token.pos_\n",
    "        #pos = pos.split('=')[0].strip()\n",
    "        if pos not in [\"PUNCT\"]: #[\"VERB\", \"NUM\", \"ADV\", \"NOUN\", \"ADJ\", \"AUX\", \"PRON\", \"ADP\", \"DET\", \"ADV\", \"INTJ\", \"PROPN\"]:\n",
    "            tagged.append(lemma.lower() + '_' + pos)\n",
    "        #else : print(pos)\n",
    "    return tagged"
   ]
  },
  {
   "cell_type": "code",
   "execution_count": 5,
   "metadata": {},
   "outputs": [
    {
     "name": "stdout",
     "output_type": "stream",
     "text": [
      "(1000, 2)\n",
      "(200, 2)\n"
     ]
    }
   ],
   "source": [
    "X_train = df['tweet']\n",
    "y_train = df['class']\n",
    "\n",
    "Xy = pd.concat([X_train, y_train], axis=1)\n",
    "\n",
    "# paramters of the text praprations\n",
    "n_items_for_train = 500\n",
    "n_items_for_test  = 100\n",
    "max_words         = 2000 \n",
    "\n",
    "# n_items_for_train твитов для тренировки с индексом класса 1\n",
    "df_1 = Xy[Xy['class'] == 1].iloc[:n_items_for_train] \n",
    "# n_items_for_train твитов для тренировки с индексом класса 0\n",
    "df_0 = Xy[Xy['class'] == 0].iloc[:n_items_for_train] \n",
    "\n",
    "Xy_ = shuffle(pd.concat([df_0, df_1]))\n",
    "Xy_train = pd.concat([Xy_[\"tweet\"].apply(lemmatize_with_postag), Xy_[\"class\"]], axis = 1)\n",
    "\n",
    "\n",
    "\n",
    "# n_items_for_test твитов для теста с индексом класса 1\n",
    "df_1 = Xy[Xy['class'] == 1].iloc[n_items_for_train:n_items_for_train+n_items_for_test]\n",
    "# n_items_for_test твитов для теста с индексом класса 0\n",
    "df_0 = Xy[Xy['class'] == 0].iloc[n_items_for_train:n_items_for_train+n_items_for_test]\n",
    "\n",
    "Xy_ = shuffle(pd.concat([df_0, df_1]))\n",
    "Xy_test = pd.concat([Xy_[\"tweet\"].apply(lemmatize_with_postag), Xy_[\"class\"]], axis = 1)\n",
    "\n",
    "print(Xy_train.shape)\n",
    "print(Xy_test.shape)\n",
    "#Xy_train, Xy_test"
   ]
  },
  {
   "cell_type": "code",
   "execution_count": 6,
   "metadata": {},
   "outputs": [
    {
     "name": "stdout",
     "output_type": "stream",
     "text": [
      "max_len = 36\n"
     ]
    }
   ],
   "source": [
    "# replcade as parameter in the begining\n",
    "#max_words = 2000 # ограничение вокуабуляра\n",
    "\n",
    "maxima = 0\n",
    "for ar in Xy_train['tweet'].to_list():\n",
    "    if len(ar)>maxima: maxima = len(ar)\n",
    "for ar in Xy_test['tweet']:\n",
    "    if len(ar)>maxima: maxima = len(ar)\n",
    "max_len = maxima + 1\n",
    "print(f'max_len = {max_len}')\n",
    "\n",
    "tok = Tokenizer(num_words=max_words)\n",
    "tok.fit_on_texts(Xy_train[\"tweet\"]) #fit on train\n",
    "\n",
    "# exctrax features from train\n",
    "sequences_train = tok.texts_to_sequences(Xy_train[\"tweet\"])\n",
    "sequences_matrix_train = sequence.pad_sequences(sequences_train, maxlen=max_len)\n",
    "\n",
    "# exctrax features from test\n",
    "sequences_test = tok.texts_to_sequences(Xy_test[\"tweet\"])\n",
    "sequences_matrix_test = sequence.pad_sequences(sequences_test, maxlen=max_len)"
   ]
  },
  {
   "cell_type": "code",
   "execution_count": 7,
   "metadata": {},
   "outputs": [
    {
     "name": "stdout",
     "output_type": "stream",
     "text": [
      "Everything is OK\n",
      "4169\n"
     ]
    }
   ],
   "source": [
    "def fix_word_key(string):\n",
    "    upper_part = (re.findall('_.*',string))[0].upper()\n",
    "    result = re.sub(r'_.*', upper_part, string)\n",
    "    #print(f'was {string} -> became {result}')\n",
    "    return result\n",
    "\n",
    "word_index = tok.word_index\n",
    "#print('Found %s unique tokens' % len(word_index))\n",
    "\n",
    "wi1 = len(word_index)\n",
    "\n",
    "# fix tokenizer problem\n",
    "for key in word_index.keys():\n",
    "    fixed_key = fix_word_key(key)\n",
    "    word_index[fixed_key] = word_index.pop(key)\n",
    "    \n",
    "#print('Found %s unique tokens' % len(word_index))\n",
    "wi2 = len(word_index)\n",
    "\n",
    "if wi1 != wi2:\n",
    "    print()\n",
    "    error = 'lenght of word_index was changed!'\n",
    "    print(error.upper())\n",
    "    raise ValueError\n",
    "else:\n",
    "    print('Everything is OK')\n",
    "    print(len(word_index))"
   ]
  },
  {
   "cell_type": "code",
   "execution_count": 8,
   "metadata": {},
   "outputs": [
    {
     "name": "stdout",
     "output_type": "stream",
     "text": [
      "number of words = 2001\n",
      "(2001, 300)\n",
      "Null word embeddings: 1174\n"
     ]
    }
   ],
   "source": [
    "# делаем Embedding на основе w2v модели\n",
    "\n",
    "nb_words = min(max_words, len(word_index))+1 # проверяем где меньше, в нашем датасете или в токенайзере.\n",
    "EMBEDDING_DIM = 300 # размерность векторов в нашей модели w2v\n",
    "\n",
    "print(f'number of words = {nb_words}')\n",
    "\n",
    "embedding_matrix = np.zeros((nb_words, EMBEDDING_DIM))\n",
    "print(embedding_matrix.shape)\n",
    "\n",
    "counter = 0\n",
    "for word, i in word_index.items():\n",
    "    if i >= nb_words: continue\n",
    "    if word in model.vocab:\n",
    "        #print(model[word])\n",
    "        embedding_matrix[i] = model[word]\n",
    "#     if counter > nb_words: break\n",
    "#     counter += 1\n",
    "\n",
    "\n",
    "print('Null word embeddings: %d' % np.sum(np.sum(embedding_matrix, axis=1) == 0))\n",
    "#pd.DataFrame(embedding_matrix)"
   ]
  },
  {
   "cell_type": "markdown",
   "metadata": {},
   "source": [
    "# BI-LSTM (3.0)\n",
    "\n",
    "https://stackoverflow.com/questions/44924690/keras-the-difference-between-lstm-dropout-and-lstm-recurrent-dropout"
   ]
  },
  {
   "cell_type": "code",
   "execution_count": 9,
   "metadata": {},
   "outputs": [],
   "source": [
    "rate_drop_lstm  = 0.15 + np.random.rand() * 0.25\n",
    "rate_drop_dense = 0.15 + np.random.rand() * 0.25\n",
    "act = 'relu'\n",
    "\n",
    "\n",
    "embedding_layer      = Embedding(nb_words,\n",
    "                                EMBEDDING_DIM,\n",
    "                                weights=[embedding_matrix],\n",
    "                                input_length=max_len,\n",
    "                                trainable=False) \n",
    "lstm_layer           = Bidirectional(LSTM(64, dropout=rate_drop_lstm, recurrent_dropout=rate_drop_lstm))\n",
    "\n",
    "# CONFIGURATION OF BI-LSTM\n",
    "sequence_1_input     = Input(shape=(max_len,), dtype='int32')\n",
    "embedded_sequences_1 = embedding_layer(sequence_1_input)\n",
    "x1                   = lstm_layer(embedded_sequences_1)\n",
    "merged               = Dropout(rate_drop_dense)(x1)\n",
    "merged               = BatchNormalization()(merged)\n",
    "merged               = Dense(32, activation=act)(merged)\n",
    "merged               = Dropout(rate_drop_dense)(merged)\n",
    "merged               = BatchNormalization()(merged)\n",
    "preds                = Dense(1, activation='sigmoid')(merged)\n",
    "#preds                = Dense(2, activation='softmax')(merged)"
   ]
  },
  {
   "cell_type": "code",
   "execution_count": 10,
   "metadata": {},
   "outputs": [
    {
     "name": "stdout",
     "output_type": "stream",
     "text": [
      "Model: \"model_1\"\n",
      "_________________________________________________________________\n",
      "Layer (type)                 Output Shape              Param #   \n",
      "=================================================================\n",
      "input_1 (InputLayer)         (None, 36)                0         \n",
      "_________________________________________________________________\n",
      "embedding_1 (Embedding)      (None, 36, 300)           600300    \n",
      "_________________________________________________________________\n",
      "bidirectional_1 (Bidirection (None, 128)               186880    \n",
      "_________________________________________________________________\n",
      "dropout_1 (Dropout)          (None, 128)               0         \n",
      "_________________________________________________________________\n",
      "batch_normalization_1 (Batch (None, 128)               512       \n",
      "_________________________________________________________________\n",
      "dense_1 (Dense)              (None, 32)                4128      \n",
      "_________________________________________________________________\n",
      "dropout_2 (Dropout)          (None, 32)                0         \n",
      "_________________________________________________________________\n",
      "batch_normalization_2 (Batch (None, 32)                128       \n",
      "_________________________________________________________________\n",
      "dense_2 (Dense)              (None, 1)                 33        \n",
      "=================================================================\n",
      "Total params: 791,981\n",
      "Trainable params: 191,361\n",
      "Non-trainable params: 600,620\n",
      "_________________________________________________________________\n",
      "lstm_10_10_0.21_0.18\n",
      "\n"
     ]
    }
   ],
   "source": [
    "STAMP = 'lstm_%d_%d_%.2f_%.2f'%(10, 10, rate_drop_lstm, \\\n",
    "        rate_drop_dense)\n",
    "\n",
    "model = Model(inputs=[sequence_1_input], outputs=preds)\n",
    "model.compile(loss='binary_crossentropy', \n",
    "              optimizer='rmsprop', \n",
    "              metrics=['acc'])\n",
    "model.summary()\n",
    "print(STAMP, end='\\n\\n')"
   ]
  },
  {
   "cell_type": "code",
   "execution_count": 11,
   "metadata": {
    "scrolled": true
   },
   "outputs": [
    {
     "name": "stdout",
     "output_type": "stream",
     "text": [
      "Train on 1000 samples, validate on 50 samples\n",
      "Epoch 1/200\n",
      "1000/1000 [==============================] - 5s 5ms/step - loss: 0.7823 - acc: 0.5700 - val_loss: 0.6896 - val_acc: 0.6400\n",
      "Epoch 2/200\n",
      "1000/1000 [==============================] - 1s 1ms/step - loss: 0.6709 - acc: 0.6530 - val_loss: 0.6866 - val_acc: 0.6800\n",
      "Epoch 3/200\n",
      "1000/1000 [==============================] - 2s 2ms/step - loss: 0.5953 - acc: 0.6730 - val_loss: 0.6872 - val_acc: 0.6400\n",
      "Epoch 4/200\n",
      "1000/1000 [==============================] - 1s 1ms/step - loss: 0.5653 - acc: 0.7200 - val_loss: 0.6851 - val_acc: 0.6000\n",
      "Epoch 5/200\n",
      "1000/1000 [==============================] - 1s 1ms/step - loss: 0.5317 - acc: 0.7290 - val_loss: 0.6853 - val_acc: 0.5000\n",
      "Epoch 6/200\n",
      "1000/1000 [==============================] - 1s 1ms/step - loss: 0.5004 - acc: 0.7610 - val_loss: 0.6873 - val_acc: 0.4400\n",
      "Epoch 7/200\n",
      "1000/1000 [==============================] - 2s 2ms/step - loss: 0.4779 - acc: 0.7650 - val_loss: 0.6882 - val_acc: 0.4200\n",
      "Epoch 8/200\n",
      "1000/1000 [==============================] - 1s 1ms/step - loss: 0.4636 - acc: 0.7870 - val_loss: 0.6932 - val_acc: 0.4200\n",
      "Epoch 9/200\n",
      "1000/1000 [==============================] - 1s 1ms/step - loss: 0.4497 - acc: 0.7820 - val_loss: 0.6972 - val_acc: 0.4200\n",
      "Epoch 10/200\n",
      "1000/1000 [==============================] - 1s 1ms/step - loss: 0.4047 - acc: 0.8020 - val_loss: 0.7041 - val_acc: 0.4200\n",
      "Epoch 11/200\n",
      "1000/1000 [==============================] - 1s 951us/step - loss: 0.4452 - acc: 0.7840 - val_loss: 0.7066 - val_acc: 0.4200\n",
      "Epoch 12/200\n",
      "1000/1000 [==============================] - 1s 936us/step - loss: 0.4116 - acc: 0.8140 - val_loss: 0.7115 - val_acc: 0.4200\n",
      "Epoch 13/200\n",
      "1000/1000 [==============================] - 1s 923us/step - loss: 0.4040 - acc: 0.8090 - val_loss: 0.7079 - val_acc: 0.4200\n",
      "Epoch 14/200\n",
      "1000/1000 [==============================] - 1s 924us/step - loss: 0.3728 - acc: 0.8330 - val_loss: 0.7104 - val_acc: 0.4200\n",
      "Epoch 15/200\n",
      "1000/1000 [==============================] - 1s 947us/step - loss: 0.3640 - acc: 0.8450 - val_loss: 0.7163 - val_acc: 0.4200\n",
      "Epoch 16/200\n",
      "1000/1000 [==============================] - 1s 977us/step - loss: 0.4109 - acc: 0.7970 - val_loss: 0.7172 - val_acc: 0.4200\n",
      "Epoch 17/200\n",
      "1000/1000 [==============================] - 1s 1ms/step - loss: 0.3469 - acc: 0.8400 - val_loss: 0.7355 - val_acc: 0.4200\n",
      "Epoch 18/200\n",
      "1000/1000 [==============================] - 2s 2ms/step - loss: 0.3540 - acc: 0.8280 - val_loss: 0.7517 - val_acc: 0.4200\n",
      "Epoch 19/200\n",
      "1000/1000 [==============================] - 2s 2ms/step - loss: 0.3676 - acc: 0.8360 - val_loss: 0.7452 - val_acc: 0.4200\n",
      "Epoch 20/200\n",
      "1000/1000 [==============================] - 1s 1ms/step - loss: 0.3386 - acc: 0.8470 - val_loss: 0.7640 - val_acc: 0.4200\n",
      "Epoch 21/200\n",
      "1000/1000 [==============================] - 1s 1ms/step - loss: 0.3344 - acc: 0.8580 - val_loss: 0.7547 - val_acc: 0.4200\n",
      "Epoch 22/200\n",
      "1000/1000 [==============================] - 1s 1ms/step - loss: 0.3378 - acc: 0.8480 - val_loss: 0.7329 - val_acc: 0.4200\n",
      "Epoch 23/200\n",
      "1000/1000 [==============================] - 1s 1ms/step - loss: 0.3341 - acc: 0.8590 - val_loss: 0.7509 - val_acc: 0.4200\n",
      "Epoch 24/200\n",
      "1000/1000 [==============================] - 1s 1ms/step - loss: 0.3114 - acc: 0.8590 - val_loss: 0.7434 - val_acc: 0.4200\n"
     ]
    }
   ],
   "source": [
    "epochs = 200\n",
    "batch_size = 100\n",
    "patience = 20\n",
    "\n",
    "\n",
    "early_stopping =EarlyStopping(monitor='val_loss', patience=patience)\n",
    "bst_model_path = STAMP + '.h5'\n",
    "model_checkpoint = ModelCheckpoint(bst_model_path, save_best_only=True, save_weights_only=True)\n",
    "\n",
    "history = model.fit(sequences_matrix_train, Xy_train[\"class\"], \n",
    "                 validation_data=(sequences_matrix_test[:n_items_for_test//2], \n",
    "                                  Xy_test[\"class\"][:n_items_for_test//2]), \n",
    "                 epochs=epochs, batch_size=batch_size, shuffle=True,\n",
    "                 callbacks=[early_stopping, model_checkpoint])"
   ]
  },
  {
   "cell_type": "code",
   "execution_count": 12,
   "metadata": {},
   "outputs": [
    {
     "data": {
      "image/png": "[encoded data removed]",
      "text/plain": [
       "<Figure size 720x576 with 1 Axes>"
      ]
     },
     "metadata": {
      "needs_background": "light"
     },
     "output_type": "display_data"
    }
   ],
   "source": [
    "import matplotlib.pyplot as plt\n",
    "%matplotlib inline\n",
    "plt.rcParams[\"figure.figsize\"] = (10, 8) \n",
    "\n",
    "# summarize history for accuracy\n",
    "plt.plot(history.history['acc'])\n",
    "plt.plot(history.history['val_acc'])\n",
    "plt.title('model accuracy')\n",
    "plt.ylabel('acc')\n",
    "plt.xlabel('epoch')\n",
    "plt.legend(['train', 'test'], loc='upper left')\n",
    "plt.show()\n",
    "\n",
    "# # summarize history for loss\n",
    "# plt.plot(history.history['loss'])\n",
    "# plt.plot(history.history['val_loss'])\n",
    "# plt.title('model loss')\n",
    "# plt.ylabel('loss')\n",
    "# plt.xlabel('epoch')\n",
    "# plt.legend(['train', 'test'], loc='upper left')\n",
    "# plt.show()"
   ]
  },
  {
   "cell_type": "code",
   "execution_count": 13,
   "metadata": {},
   "outputs": [
    {
     "name": "stdout",
     "output_type": "stream",
     "text": [
      "              precision    recall  f1-score   support\n",
      "\n",
      "           0       1.00      0.01      0.03        71\n",
      "           1       0.53      1.00      0.69        79\n",
      "\n",
      "    accuracy                           0.53       150\n",
      "   macro avg       0.77      0.51      0.36       150\n",
      "weighted avg       0.75      0.53      0.38       150\n",
      "\n"
     ]
    }
   ],
   "source": [
    "pred = model.predict(sequences_matrix_test[n_items_for_test//2:])\n",
    "pred.shape\n",
    "bin_pred, real = [], np.array(Xy_test[\"class\"]).tolist()[n_items_for_test//2:]\n",
    "for i in range(len(pred)):\n",
    "    #print(f'pred = {int(round(float(pred[i][0]), 0))},\\t real = {real[i]}')\n",
    "    bin_pred.append(int(round(float(pred[i][0]), 0))) \n",
    "#np.array(Xy_test[\"class\"]).tolist()\n",
    "bin_pred, real\n",
    "from sklearn.metrics import classification_report\n",
    "print(classification_report(real, bin_pred))"
   ]
  },
  {
   "cell_type": "code",
   "execution_count": 14,
   "metadata": {},
   "outputs": [
    {
     "data": {
      "text/html": [
       "<div>\n",
       "<style scoped>\n",
       "    .dataframe tbody tr th:only-of-type {\n",
       "        vertical-align: middle;\n",
       "    }\n",
       "\n",
       "    .dataframe tbody tr th {\n",
       "        vertical-align: top;\n",
       "    }\n",
       "\n",
       "    .dataframe thead th {\n",
       "        text-align: right;\n",
       "    }\n",
       "</style>\n",
       "<table border=\"1\" class=\"dataframe\">\n",
       "  <thead>\n",
       "    <tr style=\"text-align: right;\">\n",
       "      <th></th>\n",
       "      <th>Pos</th>\n",
       "      <th>Neg</th>\n",
       "    </tr>\n",
       "  </thead>\n",
       "  <tbody>\n",
       "    <tr>\n",
       "      <th>0</th>\n",
       "      <td>1</td>\n",
       "      <td>70</td>\n",
       "    </tr>\n",
       "    <tr>\n",
       "      <th>1</th>\n",
       "      <td>0</td>\n",
       "      <td>79</td>\n",
       "    </tr>\n",
       "  </tbody>\n",
       "</table>\n",
       "</div>"
      ],
      "text/plain": [
       "   Pos  Neg\n",
       "0    1   70\n",
       "1    0   79"
      ]
     },
     "execution_count": 14,
     "metadata": {},
     "output_type": "execute_result"
    }
   ],
   "source": [
    "pd.DataFrame(confusion_matrix(real, bin_pred), columns=['Pos', 'Neg'])"
   ]
  },
  {
   "attachments": {
    "confusion_matrix.jpg": {
     "image/jpeg": "[encoded data removed]"
    }
   },
   "cell_type": "markdown",
   "metadata": {},
   "source": [
    "![confusion_matrix.jpg](attachment:confusion_matrix.jpg)"
   ]
  },
  {
   "cell_type": "markdown",
   "metadata": {},
   "source": [
    "# LSTM_2.0"
   ]
  },
  {
   "cell_type": "code",
   "execution_count": 15,
   "metadata": {},
   "outputs": [
    {
     "name": "stdout",
     "output_type": "stream",
     "text": [
      "Model: \"sequential_1\"\n",
      "_________________________________________________________________\n",
      "Layer (type)                 Output Shape              Param #   \n",
      "=================================================================\n",
      "embedding_1 (Embedding)      (None, 36, 300)           600300    \n",
      "_________________________________________________________________\n",
      "lstm_2 (LSTM)                (None, 128)               219648    \n",
      "_________________________________________________________________\n",
      "dense_3 (Dense)              (None, 1)                 129       \n",
      "=================================================================\n",
      "Total params: 820,077\n",
      "Trainable params: 219,777\n",
      "Non-trainable params: 600,300\n",
      "_________________________________________________________________\n",
      "None\n"
     ]
    }
   ],
   "source": [
    "from keras.models import Model, Sequential\n",
    "\n",
    "model1 = Sequential()\n",
    "model1.add(embedding_layer)\n",
    "model1.add(LSTM(128, dropout=rate_drop_lstm, recurrent_dropout=rate_drop_lstm))\n",
    "model1.add(Dense(1, activation='sigmoid'))\n",
    "\n",
    "model1.compile(loss='binary_crossentropy', \n",
    "              optimizer='rmsprop', \n",
    "              metrics=['acc'])\n",
    "print(model1.summary())"
   ]
  },
  {
   "cell_type": "code",
   "execution_count": 16,
   "metadata": {},
   "outputs": [
    {
     "name": "stdout",
     "output_type": "stream",
     "text": [
      "Train on 1000 samples, validate on 50 samples\n",
      "Epoch 1/200\n",
      "1000/1000 [==============================] - 2s 2ms/step - loss: 0.6812 - acc: 0.5990 - val_loss: 0.6556 - val_acc: 0.6200\n",
      "Epoch 2/200\n",
      "1000/1000 [==============================] - 1s 1ms/step - loss: 0.6375 - acc: 0.6730 - val_loss: 0.5976 - val_acc: 0.7000\n",
      "Epoch 3/200\n",
      "1000/1000 [==============================] - 1s 1ms/step - loss: 0.6038 - acc: 0.7010 - val_loss: 0.6055 - val_acc: 0.7000\n",
      "Epoch 4/200\n",
      "1000/1000 [==============================] - 1s 1ms/step - loss: 0.5837 - acc: 0.7080 - val_loss: 0.5431 - val_acc: 0.7800\n",
      "Epoch 5/200\n",
      "1000/1000 [==============================] - 1s 1ms/step - loss: 0.5883 - acc: 0.6990 - val_loss: 0.5816 - val_acc: 0.6600\n",
      "Epoch 6/200\n",
      "1000/1000 [==============================] - 1s 998us/step - loss: 0.5524 - acc: 0.7330 - val_loss: 0.5496 - val_acc: 0.7400\n",
      "Epoch 7/200\n",
      "1000/1000 [==============================] - 1s 1ms/step - loss: 0.5364 - acc: 0.7470 - val_loss: 0.6486 - val_acc: 0.5600\n",
      "Epoch 8/200\n",
      "1000/1000 [==============================] - 1s 1ms/step - loss: 0.5263 - acc: 0.7470 - val_loss: 0.5607 - val_acc: 0.7600\n",
      "Epoch 9/200\n",
      "1000/1000 [==============================] - 1s 960us/step - loss: 0.5202 - acc: 0.7610 - val_loss: 0.5662 - val_acc: 0.7200\n",
      "Epoch 10/200\n",
      "1000/1000 [==============================] - 1s 1ms/step - loss: 0.5251 - acc: 0.7690 - val_loss: 0.5271 - val_acc: 0.7600\n",
      "Epoch 11/200\n",
      "1000/1000 [==============================] - 1s 1ms/step - loss: 0.4945 - acc: 0.7710 - val_loss: 0.5951 - val_acc: 0.7200\n",
      "Epoch 12/200\n",
      "1000/1000 [==============================] - 1s 949us/step - loss: 0.4765 - acc: 0.7770 - val_loss: 0.5126 - val_acc: 0.7800\n",
      "Epoch 13/200\n",
      "1000/1000 [==============================] - 1s 1ms/step - loss: 0.4891 - acc: 0.7550 - val_loss: 0.6451 - val_acc: 0.6400\n",
      "Epoch 14/200\n",
      "1000/1000 [==============================] - 1s 1ms/step - loss: 0.4663 - acc: 0.7960 - val_loss: 0.5199 - val_acc: 0.7800\n",
      "Epoch 15/200\n",
      "1000/1000 [==============================] - 1s 1ms/step - loss: 0.5006 - acc: 0.7640 - val_loss: 0.7052 - val_acc: 0.6200\n",
      "Epoch 16/200\n",
      "1000/1000 [==============================] - 1s 942us/step - loss: 0.4826 - acc: 0.7850 - val_loss: 0.4967 - val_acc: 0.7800\n",
      "Epoch 17/200\n",
      "1000/1000 [==============================] - 1s 1ms/step - loss: 0.4537 - acc: 0.7980 - val_loss: 0.5357 - val_acc: 0.7600\n",
      "Epoch 18/200\n",
      "1000/1000 [==============================] - 1s 1ms/step - loss: 0.4623 - acc: 0.7860 - val_loss: 0.5074 - val_acc: 0.7200\n",
      "Epoch 19/200\n",
      "1000/1000 [==============================] - 1s 1ms/step - loss: 0.4482 - acc: 0.8110 - val_loss: 0.4979 - val_acc: 0.8200\n",
      "Epoch 20/200\n",
      "1000/1000 [==============================] - 1s 1ms/step - loss: 0.4738 - acc: 0.7740 - val_loss: 0.5704 - val_acc: 0.7400\n",
      "Epoch 21/200\n",
      "1000/1000 [==============================] - 1s 1ms/step - loss: 0.4306 - acc: 0.8070 - val_loss: 0.5034 - val_acc: 0.7600\n",
      "Epoch 22/200\n",
      "1000/1000 [==============================] - 2s 2ms/step - loss: 0.4387 - acc: 0.7990 - val_loss: 0.5049 - val_acc: 0.7600\n",
      "Epoch 23/200\n",
      "1000/1000 [==============================] - 1s 1ms/step - loss: 0.4450 - acc: 0.7900 - val_loss: 0.6156 - val_acc: 0.7400\n",
      "Epoch 24/200\n",
      "1000/1000 [==============================] - 1s 1ms/step - loss: 0.4108 - acc: 0.8190 - val_loss: 0.5208 - val_acc: 0.7800\n",
      "Epoch 25/200\n",
      "1000/1000 [==============================] - 1s 977us/step - loss: 0.4188 - acc: 0.8110 - val_loss: 0.5211 - val_acc: 0.7600\n",
      "Epoch 26/200\n",
      "1000/1000 [==============================] - 1s 1ms/step - loss: 0.4162 - acc: 0.8150 - val_loss: 0.5218 - val_acc: 0.7600\n",
      "Epoch 27/200\n",
      "1000/1000 [==============================] - 1s 1ms/step - loss: 0.4254 - acc: 0.8110 - val_loss: 0.5669 - val_acc: 0.7200\n",
      "Epoch 28/200\n",
      "1000/1000 [==============================] - 1s 900us/step - loss: 0.3995 - acc: 0.8180 - val_loss: 0.6620 - val_acc: 0.6800\n",
      "Epoch 29/200\n",
      "1000/1000 [==============================] - 1s 907us/step - loss: 0.4332 - acc: 0.8010 - val_loss: 0.5327 - val_acc: 0.7600\n",
      "Epoch 30/200\n",
      "1000/1000 [==============================] - 1s 1ms/step - loss: 0.4069 - acc: 0.8320 - val_loss: 0.5134 - val_acc: 0.7800\n",
      "Epoch 31/200\n",
      "1000/1000 [==============================] - 1s 1ms/step - loss: 0.3800 - acc: 0.8230 - val_loss: 0.6069 - val_acc: 0.7600\n",
      "Epoch 32/200\n",
      "1000/1000 [==============================] - 1s 1ms/step - loss: 0.3951 - acc: 0.8270 - val_loss: 0.5507 - val_acc: 0.7800\n",
      "Epoch 33/200\n",
      "1000/1000 [==============================] - 1s 1ms/step - loss: 0.3888 - acc: 0.8270 - val_loss: 0.5413 - val_acc: 0.7600\n",
      "Epoch 34/200\n",
      "1000/1000 [==============================] - 1s 1ms/step - loss: 0.3734 - acc: 0.8370 - val_loss: 0.5807 - val_acc: 0.7800\n",
      "Epoch 35/200\n",
      "1000/1000 [==============================] - 1s 1ms/step - loss: 0.3712 - acc: 0.8340 - val_loss: 0.4934 - val_acc: 0.7800\n",
      "Epoch 36/200\n",
      "1000/1000 [==============================] - 1s 1ms/step - loss: 0.3608 - acc: 0.8540 - val_loss: 0.5101 - val_acc: 0.8200\n",
      "Epoch 37/200\n",
      "1000/1000 [==============================] - 1s 1ms/step - loss: 0.3857 - acc: 0.8240 - val_loss: 0.4929 - val_acc: 0.8200\n",
      "Epoch 38/200\n",
      "1000/1000 [==============================] - 1s 1ms/step - loss: 0.3501 - acc: 0.8470 - val_loss: 0.5970 - val_acc: 0.7600\n",
      "Epoch 39/200\n",
      "1000/1000 [==============================] - 1s 1ms/step - loss: 0.3558 - acc: 0.8360 - val_loss: 0.6277 - val_acc: 0.7200\n",
      "Epoch 40/200\n",
      "1000/1000 [==============================] - 1s 1ms/step - loss: 0.3578 - acc: 0.8500 - val_loss: 0.5533 - val_acc: 0.8000\n",
      "Epoch 41/200\n",
      "1000/1000 [==============================] - 1s 1ms/step - loss: 0.3608 - acc: 0.8430 - val_loss: 0.6000 - val_acc: 0.7800\n",
      "Epoch 42/200\n",
      "1000/1000 [==============================] - 1s 1ms/step - loss: 0.3612 - acc: 0.8460 - val_loss: 0.5298 - val_acc: 0.8200\n",
      "Epoch 43/200\n",
      "1000/1000 [==============================] - 1s 952us/step - loss: 0.3447 - acc: 0.8430 - val_loss: 0.6904 - val_acc: 0.7600\n",
      "Epoch 44/200\n",
      "1000/1000 [==============================] - 1s 843us/step - loss: 0.3313 - acc: 0.8510 - val_loss: 0.6314 - val_acc: 0.7600\n",
      "Epoch 45/200\n",
      "1000/1000 [==============================] - 1s 836us/step - loss: 0.3306 - acc: 0.8620 - val_loss: 0.5391 - val_acc: 0.8000\n",
      "Epoch 46/200\n",
      "1000/1000 [==============================] - 1s 834us/step - loss: 0.3312 - acc: 0.8560 - val_loss: 0.5573 - val_acc: 0.7800\n",
      "Epoch 47/200\n",
      "1000/1000 [==============================] - 1s 910us/step - loss: 0.3360 - acc: 0.8620 - val_loss: 0.5678 - val_acc: 0.8000\n",
      "Epoch 48/200\n",
      "1000/1000 [==============================] - 1s 867us/step - loss: 0.3230 - acc: 0.8630 - val_loss: 0.5657 - val_acc: 0.8000\n",
      "Epoch 49/200\n",
      "1000/1000 [==============================] - 1s 885us/step - loss: 0.3230 - acc: 0.8600 - val_loss: 0.6146 - val_acc: 0.8200\n",
      "Epoch 50/200\n",
      "1000/1000 [==============================] - 1s 877us/step - loss: 0.3185 - acc: 0.8580 - val_loss: 0.5448 - val_acc: 0.8000\n",
      "Epoch 51/200\n",
      "1000/1000 [==============================] - 1s 1ms/step - loss: 0.3138 - acc: 0.8740 - val_loss: 0.5605 - val_acc: 0.7800\n",
      "Epoch 52/200\n",
      "1000/1000 [==============================] - 1s 1ms/step - loss: 0.3250 - acc: 0.8610 - val_loss: 0.5525 - val_acc: 0.7800\n",
      "Epoch 53/200\n",
      "1000/1000 [==============================] - 1s 879us/step - loss: 0.3139 - acc: 0.8660 - val_loss: 0.6049 - val_acc: 0.7800\n",
      "Epoch 54/200\n",
      "1000/1000 [==============================] - 1s 873us/step - loss: 0.3062 - acc: 0.8780 - val_loss: 0.5521 - val_acc: 0.8000\n",
      "Epoch 55/200\n",
      "1000/1000 [==============================] - 1s 881us/step - loss: 0.2982 - acc: 0.8780 - val_loss: 0.6521 - val_acc: 0.8000\n",
      "Epoch 56/200\n",
      "1000/1000 [==============================] - 1s 888us/step - loss: 0.3057 - acc: 0.8770 - val_loss: 0.5780 - val_acc: 0.7800\n",
      "Epoch 57/200\n",
      "1000/1000 [==============================] - 1s 887us/step - loss: 0.3175 - acc: 0.8700 - val_loss: 0.6177 - val_acc: 0.7600\n"
     ]
    }
   ],
   "source": [
    "epochs = 200\n",
    "batch_size = 100\n",
    "patience = 20\n",
    "\n",
    "\n",
    "early_stopping =EarlyStopping(monitor='val_loss', patience=patience)\n",
    "bst_model_path = STAMP + '.h5'\n",
    "\n",
    "model_checkpoint = ModelCheckpoint(bst_model_path, save_best_only=True, save_weights_only=True)\n",
    "\n",
    "history1 = model1.fit(sequences_matrix_train, Xy_train[\"class\"], \n",
    "                 validation_data=(sequences_matrix_test[:n_items_for_test//2], \n",
    "                                  Xy_test[\"class\"][:n_items_for_test//2]), \n",
    "                 epochs=epochs, batch_size=batch_size, shuffle=True,\n",
    "                 callbacks=[early_stopping, model_checkpoint])"
   ]
  },
  {
   "cell_type": "code",
   "execution_count": 17,
   "metadata": {},
   "outputs": [
    {
     "data": {
      "image/png": "[encoded data removed]",
      "text/plain": [
       "<Figure size 720x576 with 1 Axes>"
      ]
     },
     "metadata": {
      "needs_background": "light"
     },
     "output_type": "display_data"
    }
   ],
   "source": [
    "plt.rcParams[\"figure.figsize\"] = (10, 8) \n",
    "\n",
    "# summarize history for accuracy\n",
    "plt.plot(history1.history['acc'])\n",
    "plt.plot(history1.history['val_acc'])\n",
    "plt.title('model accuracy')\n",
    "plt.ylabel('acc')\n",
    "plt.xlabel('epoch')\n",
    "plt.legend(['train', 'test'], loc='upper left')\n",
    "plt.show()"
   ]
  },
  {
   "cell_type": "code",
   "execution_count": 18,
   "metadata": {},
   "outputs": [
    {
     "name": "stdout",
     "output_type": "stream",
     "text": [
      "              precision    recall  f1-score   support\n",
      "\n",
      "           0       0.69      0.83      0.75        71\n",
      "           1       0.81      0.66      0.73        79\n",
      "\n",
      "    accuracy                           0.74       150\n",
      "   macro avg       0.75      0.74      0.74       150\n",
      "weighted avg       0.75      0.74      0.74       150\n",
      "\n"
     ]
    }
   ],
   "source": [
    "pred = model1.predict(sequences_matrix_test[n_items_for_test//2:])\n",
    "pred.shape\n",
    "bin_pred, real = [], np.array(Xy_test[\"class\"]).tolist()[n_items_for_test//2:]\n",
    "for i in range(len(pred)):\n",
    "    #print(f'pred = {int(round(float(pred[i][0]), 0))},\\t real = {real[i]}')\n",
    "    bin_pred.append(int(round(float(pred[i][0]), 0))) \n",
    "#np.array(Xy_test[\"class\"]).tolist()\n",
    "bin_pred, real\n",
    "from sklearn.metrics import classification_report\n",
    "print(classification_report(real, bin_pred))"
   ]
  },
  {
   "cell_type": "code",
   "execution_count": 19,
   "metadata": {},
   "outputs": [
    {
     "data": {
      "text/html": [
       "<div>\n",
       "<style scoped>\n",
       "    .dataframe tbody tr th:only-of-type {\n",
       "        vertical-align: middle;\n",
       "    }\n",
       "\n",
       "    .dataframe tbody tr th {\n",
       "        vertical-align: top;\n",
       "    }\n",
       "\n",
       "    .dataframe thead th {\n",
       "        text-align: right;\n",
       "    }\n",
       "</style>\n",
       "<table border=\"1\" class=\"dataframe\">\n",
       "  <thead>\n",
       "    <tr style=\"text-align: right;\">\n",
       "      <th></th>\n",
       "      <th>Pos</th>\n",
       "      <th>Neg</th>\n",
       "    </tr>\n",
       "  </thead>\n",
       "  <tbody>\n",
       "    <tr>\n",
       "      <th>0</th>\n",
       "      <td>59</td>\n",
       "      <td>12</td>\n",
       "    </tr>\n",
       "    <tr>\n",
       "      <th>1</th>\n",
       "      <td>27</td>\n",
       "      <td>52</td>\n",
       "    </tr>\n",
       "  </tbody>\n",
       "</table>\n",
       "</div>"
      ],
      "text/plain": [
       "   Pos  Neg\n",
       "0   59   12\n",
       "1   27   52"
      ]
     },
     "execution_count": 19,
     "metadata": {},
     "output_type": "execute_result"
    }
   ],
   "source": [
    "pd.DataFrame(confusion_matrix(real, bin_pred), columns=['Pos', 'Neg'])"
   ]
  },
  {
   "cell_type": "markdown",
   "metadata": {},
   "source": [
    "# Models comparing"
   ]
  },
  {
   "cell_type": "code",
   "execution_count": 20,
   "metadata": {},
   "outputs": [
    {
     "data": {
      "text/html": [
       "<div>\n",
       "<style scoped>\n",
       "    .dataframe tbody tr th:only-of-type {\n",
       "        vertical-align: middle;\n",
       "    }\n",
       "\n",
       "    .dataframe tbody tr th {\n",
       "        vertical-align: top;\n",
       "    }\n",
       "\n",
       "    .dataframe thead th {\n",
       "        text-align: right;\n",
       "    }\n",
       "</style>\n",
       "<table border=\"1\" class=\"dataframe\">\n",
       "  <thead>\n",
       "    <tr style=\"text-align: right;\">\n",
       "      <th></th>\n",
       "      <th>Model</th>\n",
       "      <th>MEAN</th>\n",
       "      <th>STD</th>\n",
       "    </tr>\n",
       "  </thead>\n",
       "  <tbody>\n",
       "    <tr>\n",
       "      <th>0</th>\n",
       "      <td>Model 1</td>\n",
       "      <td>0.420000</td>\n",
       "      <td>0.000000</td>\n",
       "    </tr>\n",
       "    <tr>\n",
       "      <th>1</th>\n",
       "      <td>Model 2</td>\n",
       "      <td>0.782857</td>\n",
       "      <td>0.012778</td>\n",
       "    </tr>\n",
       "  </tbody>\n",
       "</table>\n",
       "</div>"
      ],
      "text/plain": [
       "     Model      MEAN       STD\n",
       "0  Model 1  0.420000  0.000000\n",
       "1  Model 2  0.782857  0.012778"
      ]
     },
     "execution_count": 20,
     "metadata": {},
     "output_type": "execute_result"
    }
   ],
   "source": [
    "comapring = pd.DataFrame()\n",
    "comapring['Model'] = ['Model 1', 'Model 2']\n",
    "\n",
    "last_e = 7\n",
    "m_h1, m_h2 = np.array(history.history['val_acc'][-last_e:]), np.array(history1.history['val_acc'][-last_e:])\n",
    "comapring['MEAN'] = [m_h1.mean(), m_h2.mean()]\n",
    "comapring['STD'] = [m_h1.std(), m_h2.std()]\n",
    "\n",
    "comapring"
   ]
  },
  {
   "cell_type": "code",
   "execution_count": null,
   "metadata": {},
   "outputs": [],
   "source": []
  }
 ],
 "metadata": {
  "kernelspec": {
   "display_name": "Python 3",
   "language": "python",
   "name": "python3"
  },
  "language_info": {
   "codemirror_mode": {
    "name": "ipython",
    "version": 3
   },
   "file_extension": ".py",
   "mimetype": "text/x-python",
   "name": "python",
   "nbconvert_exporter": "python",
   "pygments_lexer": "ipython3",
   "version": "3.7.6"
  }
 },
 "nbformat": 4,
 "nbformat_minor": 2
}
