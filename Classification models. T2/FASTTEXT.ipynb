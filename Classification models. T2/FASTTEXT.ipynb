{
 "cells": [
  {
   "cell_type": "code",
   "execution_count": 1,
   "metadata": {},
   "outputs": [],
   "source": [
    "import pandas as pd\n",
    "from sklearn.utils import shuffle\n"
   ]
  },
  {
   "cell_type": "code",
   "execution_count": 2,
   "metadata": {},
   "outputs": [
    {
     "data": {
      "text/plain": [
       "(            class                                              tweet\n",
       " 3063   __label__1  @theeastmovie thank you so much for getting th...\n",
       " 17635  __label__0  i watched a guy overdose on buprenorphine toda...\n",
       " 7945   __label__0  @geek2nurse yeah- saphris needs a pa, but it's...\n",
       " 5445   __label__0  i have enough vyvanse for all the.women who ar...\n",
       " 7148   __label__0  @wishuponabar @jnapodano @jefflstein solitromy...\n",
       " ...           ...                                                ...\n",
       " 10651  __label__0  after 1 albuterol treatment i feel 10x better....\n",
       " 9460   __label__0  neurontin to the rescue!!  thanks to this frea...\n",
       " 6662   __label__0  one day that will be me lyrica proved anything...\n",
       " 8247   __label__0  @rupertmurdoch hats off to you for funding the...\n",
       " 11508  __label__0            linagliptin can be used as monotheraphy\n",
       " \n",
       " [16400 rows x 2 columns],\n",
       "             class                                              tweet\n",
       " 17248  __label__0  i take diclofenac even when i'm sad 😂 or tired...\n",
       " 10436  __label__0  eliquis to keep from worrying bout afib..........\n",
       " 7475   __label__0  tysabri sales fell 2% y-o-y but revenues incre...\n",
       " 17009  __label__0  oh good, the nexium is working! i'm taking a p...\n",
       " 15766  __label__0                              levothyroxine sodium.\n",
       " ...           ...                                                ...\n",
       " 10812  __label__0  @hellywhiting i cant libe without enbrel tho c...\n",
       " 3805   __label__0  @rabyak how do u feel now that u didnt help ur...\n",
       " 4797   __label__0  @legalaware @jodyaberdein @nchadborn re cei's ...\n",
       " 19743  __label__0  rimonabant is the reverse of marijuana. its a ...\n",
       " 9642   __label__0  a close calls with the milk can escape, gettin...\n",
       " \n",
       " [4144 rows x 2 columns])"
      ]
     },
     "execution_count": 2,
     "metadata": {},
     "output_type": "execute_result"
    }
   ],
   "source": [
    "df = pd.read_csv('task2_en_training.tsv', sep='\\t')[['class', 'tweet']]\n",
    "df['class'] = df['class'].apply(lambda x: '__label__' + str(x))\n",
    "\n",
    "df = shuffle(df)\n",
    "#df[['class', 'tweet']].to_csv('TRAIN.txt', header=False, index=False, sep=\"\\t\")\n",
    "\n",
    "df_train = df[['class', 'tweet']][:16400]\n",
    "df_train[['class', 'tweet']].to_csv('TRAIN.txt', header=False, index=False, sep=\"\\t\")\n",
    "\n",
    "df_test= df[['class', 'tweet']][16400:]\n",
    "df_test[['class', 'tweet']].to_csv('TEST.txt', header=False, index=False, sep=\"\\t\")\n",
    "(df_train, df_test)"
   ]
  },
  {
   "cell_type": "code",
   "execution_count": 3,
   "metadata": {},
   "outputs": [
    {
     "name": "stdout",
     "output_type": "stream",
     "text": [
      "the best accuracy:\n",
      "0.9181949806949807 on the 12 epoch\n"
     ]
    }
   ],
   "source": [
    "import fasttext\n",
    "\n",
    "graph = []\n",
    "maxima, maxima_idx = 0, 0\n",
    "\n",
    "for epoch in range(15):\n",
    "    model = fasttext.train_supervised(input='TRAIN.txt', epoch=epoch)\n",
    "    All, Pos = 0, 0\n",
    "    for (clas, tweet) in zip(df_test['class'], df_test['tweet']):\n",
    "        All += 1\n",
    "        if int(clas[-1]) == int(model.predict(tweet, k=2)[0][0][-1]): \n",
    "            #print(int(clas[-1]),int(model.predict(tweet, k=2)[0][0][-1]))\n",
    "            Pos += 1\n",
    "    graph.append(Pos/All)\n",
    "    if Pos/All > maxima: maxima, maxima_idx = Pos/All, epoch\n",
    "\n",
    "print(\"the best accuracy:\")\n",
    "print(maxima, f'on the {maxima_idx} epoch')\n"
   ]
  },
  {
   "cell_type": "code",
   "execution_count": 12,
   "metadata": {},
   "outputs": [
    {
     "data": {
      "text/plain": [
       "<matplotlib.axes._subplots.AxesSubplot at 0x7f4b98088450>"
      ]
     },
     "execution_count": 12,
     "metadata": {},
     "output_type": "execute_result"
    },
    {
     "data": {
      "image/png": "[encoded data removed]",
      "text/plain": [
       "<Figure size 1080x360 with 1 Axes>"
      ]
     },
     "metadata": {
      "needs_background": "light"
     },
     "output_type": "display_data"
    }
   ],
   "source": [
    "graph = pd.DataFrame(graph)\n",
    "graph.plot(figsize=(15,5))"
   ]
  },
  {
   "cell_type": "code",
   "execution_count": 13,
   "metadata": {},
   "outputs": [
    {
     "data": {
      "text/plain": [
       "(['</s>', 'i', 'the', 'to', 'a', 'and', 'of', 'for', 'is', 'my'],\n",
       " array([ 0.00198486, -0.01311096,  0.0206498 ,  0.00238326, -0.01523213,\n",
       "        -0.00606019, -0.00195393,  0.00613475, -0.0300159 , -0.02483183,\n",
       "         0.01161037, -0.01555048, -0.00512566,  0.00575361, -0.00554198,\n",
       "        -0.00811313,  0.00214951,  0.00673528, -0.00773191,  0.00424628,\n",
       "        -0.00625396, -0.00145532, -0.00076351,  0.0143181 , -0.00672506,\n",
       "        -0.00035832, -0.01847155,  0.0081014 ,  0.00052129, -0.01052208,\n",
       "        -0.00523822, -0.00015788,  0.0049852 , -0.00401628, -0.00248579,\n",
       "        -0.00022412, -0.00702328,  0.00206682, -0.00218954, -0.00348415,\n",
       "        -0.00753114,  0.01480638, -0.00455364,  0.00664743,  0.00587378,\n",
       "         0.00359442,  0.00609   , -0.0031895 , -0.00059902, -0.00098792,\n",
       "         0.00986935, -0.00812234,  0.01003768,  0.00063841, -0.00585799,\n",
       "         0.00707442, -0.00866959, -0.00226116,  0.00331482, -0.00574939,\n",
       "         0.00131375,  0.00581103,  0.0046372 ,  0.00772377,  0.00440032,\n",
       "        -0.00458075, -0.00741964, -0.00446829, -0.0037528 , -0.00575086,\n",
       "         0.001057  ,  0.00468145,  0.00480799, -0.00654495, -0.00111244,\n",
       "        -0.00264144, -0.00516413,  0.00098626,  0.00476756,  0.00537093,\n",
       "        -0.0028927 , -0.00321898,  0.00657526, -0.00081622,  0.00460926,\n",
       "         0.00153747, -0.00094741, -0.00739462, -0.00751791,  0.00570029,\n",
       "         0.00647459,  0.00226056, -0.01432941,  0.01416085,  0.0109711 ,\n",
       "         0.01749344,  0.00055375, -0.00330383, -0.00291374, -0.00421238],\n",
       "       dtype=float32))"
      ]
     },
     "execution_count": 13,
     "metadata": {},
     "output_type": "execute_result"
    }
   ],
   "source": [
    "model.words[:10],[model.get_word_vector(word) for word in model.words][1]"
   ]
  }
 ],
 "metadata": {
  "kernelspec": {
   "display_name": "Python 3",
   "language": "python",
   "name": "python3"
  },
  "language_info": {
   "codemirror_mode": {
    "name": "ipython",
    "version": 3
   },
   "file_extension": ".py",
   "mimetype": "text/x-python",
   "name": "python",
   "nbconvert_exporter": "python",
   "pygments_lexer": "ipython3",
   "version": "3.7.4"
  }
 },
 "nbformat": 4,
 "nbformat_minor": 2
}
