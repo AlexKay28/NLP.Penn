{
 "cells": [
  {
   "cell_type": "code",
   "execution_count": 1,
   "metadata": {},
   "outputs": [],
   "source": [
    "import pandas as pd\n",
    "from sklearn.utils import shuffle\n"
   ]
  },
  {
   "cell_type": "code",
   "execution_count": 2,
   "metadata": {},
   "outputs": [
    {
     "data": {
      "text/plain": [
       "(            class                                              tweet\n",
       " 10945  __label__0  @dralmulaifi @tkmem  sibutramine i think, whic...\n",
       " 12214  __label__0  anybody know what a buzzy bee is for enbrel sh...\n",
       " 1985   __label__1  what i lack in money and personality, i make u...\n",
       " 11857  __label__0  @andystu1212 found this 'you can also buy a sh...\n",
       " 11423  __label__1  i'm allergic to tramadol, codeine, buprenorphi...\n",
       " ...           ...                                                ...\n",
       " 382    __label__0  “@kylethompson168: working out on vyvanse is s...\n",
       " 16608  __label__0  \"mom, dad... januvia and i broke up. i want yo...\n",
       " 15527  __label__0  @waaitwhaa cause my adderall hasn't kicked in yet\n",
       " 277    __label__0  rt @pdrennert: @omicsomicsblog @matthewherper ...\n",
       " 13179  __label__0  @4wannabes @hustlerhaze it's not even medicati...\n",
       " \n",
       " [16400 rows x 2 columns],\n",
       "             class                                              tweet\n",
       " 13458  __label__0  i forgot to take my nexium last night. major h...\n",
       " 15001  __label__0  @fcn1622 right it's not live but it elicits an...\n",
       " 3267   __label__0  @deadfanclub @danadelany lmao! i put myself on...\n",
       " 1407   __label__0  i'm sick so i had a difflam lozenge and now my...\n",
       " 10475  __label__0  we get it. eliquis has about 1000 different po...\n",
       " ...           ...                                                ...\n",
       " 6471   __label__0  i have four extra metoprolol pills and a stack...\n",
       " 8846   __label__1  ambien 20mg qhs, nortriptyline 50mg qhs, fluph...\n",
       " 6845   __label__0  @dakane3 we were diagramming outfield coverage...\n",
       " 3241   __label__0  fda approves latuda as monotherapy, adjunctive...\n",
       " 7799   __label__0  tecfidera coming in at $460 in the us blows aw...\n",
       " \n",
       " [4144 rows x 2 columns])"
      ]
     },
     "execution_count": 2,
     "metadata": {},
     "output_type": "execute_result"
    }
   ],
   "source": [
    "df = pd.read_csv('task2_en_training.tsv', sep='\\t')[['class', 'tweet']]\n",
    "df['class'] = df['class'].apply(lambda x: '__label__' + str(x))\n",
    "\n",
    "df = shuffle(df)\n",
    "#df[['class', 'tweet']].to_csv('TRAIN.txt', header=False, index=False, sep=\"\\t\")\n",
    "\n",
    "df_train = df[['class', 'tweet']][:16400]\n",
    "df_train[['class', 'tweet']].to_csv('TRAIN.txt', header=False, index=False, sep=\"\\t\")\n",
    "\n",
    "df_test= df[['class', 'tweet']][16400:]\n",
    "df_test[['class', 'tweet']].to_csv('TEST.txt', header=False, index=False, sep=\"\\t\")\n",
    "(df_train, df_test)"
   ]
  },
  {
   "cell_type": "code",
   "execution_count": 3,
   "metadata": {},
   "outputs": [
    {
     "name": "stdout",
     "output_type": "stream",
     "text": [
      "the best accuracy:\n",
      "0.9276061776061776 on the 10 epoch\n"
     ]
    }
   ],
   "source": [
    "import fasttext\n",
    "\n",
    "graph = []\n",
    "maxima, maxima_idx = 0, 0\n",
    "\n",
    "for epoch in range(15):\n",
    "    model = fasttext.train_supervised(input='TRAIN.txt', epoch=epoch)\n",
    "    All, Pos = 0, 0\n",
    "    for (clas, tweet) in zip(df_test['class'], df_test['tweet']):\n",
    "        All += 1\n",
    "        if int(clas[-1]) == int(model.predict(tweet, k=2)[0][0][-1]): \n",
    "            #print(int(clas[-1]),int(model.predict(tweet, k=2)[0][0][-1]))\n",
    "            Pos += 1\n",
    "    graph.append(Pos/All)\n",
    "    if Pos/All > maxima: maxima, maxima_idx = Pos/All, epoch\n",
    "\n",
    "print(\"the best accuracy:\")\n",
    "print(maxima, f'on the {maxima_idx} epoch')\n"
   ]
  },
  {
   "cell_type": "code",
   "execution_count": 4,
   "metadata": {},
   "outputs": [
    {
     "data": {
      "text/plain": [
       "<matplotlib.axes._subplots.AxesSubplot at 0x7faffc4d47d0>"
      ]
     },
     "execution_count": 4,
     "metadata": {},
     "output_type": "execute_result"
    }
   ],
   "source": [
    "graph = pd.DataFrame(graph)\n",
    "graph.plot(figsize=(15,5))"
   ]
  },
  {
   "cell_type": "code",
   "execution_count": 5,
   "metadata": {},
   "outputs": [
    {
     "data": {
      "text/plain": [
       "(['</s>', 'the', 'i', 'to', 'a', 'and', 'of', 'for', 'is', 'in'],\n",
       " array([ 0.00326706, -0.00430413,  0.01399148, -0.00266695,  0.00795278,\n",
       "         0.00895169, -0.00680315,  0.00035657,  0.00389308,  0.00477879,\n",
       "        -0.0037471 , -0.00518909, -0.00321066,  0.00793664, -0.0119857 ,\n",
       "        -0.00665465,  0.002894  ,  0.00566903, -0.00703102, -0.00392427,\n",
       "        -0.00126944,  0.01858267,  0.00607132,  0.00041299, -0.00967281,\n",
       "        -0.0126015 , -0.0032378 , -0.00773381, -0.00756601,  0.00405319,\n",
       "        -0.00555021,  0.00066837, -0.00669392, -0.01311075, -0.019938  ,\n",
       "        -0.00029354, -0.00808612, -0.00168603, -0.00343301, -0.00540919,\n",
       "        -0.00760654,  0.01662572, -0.00161817,  0.01236784,  0.0132695 ,\n",
       "         0.00117704,  0.01189979, -0.00315631, -0.01253506,  0.00957094,\n",
       "        -0.01423809,  0.00327584,  0.00946277,  0.00120247, -0.0074295 ,\n",
       "         0.00619731, -0.00829167, -0.00337309,  0.00340299, -0.00487749,\n",
       "         0.00327013, -0.00106946, -0.00280348,  0.00202286,  0.00717396,\n",
       "        -0.00388157,  0.00034324, -0.00656592, -0.00478363, -0.00241889,\n",
       "        -0.00679129,  0.00920261,  0.00739671, -0.0088561 , -0.00723119,\n",
       "        -0.0077886 ,  0.00915115,  0.01062257,  0.01167266, -0.00094194,\n",
       "        -0.00170524, -0.00136399,  0.00813037,  0.00025196,  0.00519998,\n",
       "         0.00258602, -0.00283152, -0.01015599, -0.0019409 ,  0.00697518,\n",
       "        -0.00033268,  0.00182251, -0.01349472,  0.01269925,  0.0111744 ,\n",
       "         0.01486186, -0.00168926, -0.00734572,  0.00453282,  0.00758466],\n",
       "       dtype=float32))"
      ]
     },
     "execution_count": 5,
     "metadata": {},
     "output_type": "execute_result"
    }
   ],
   "source": [
    "model.words[:10],[model.get_word_vector(word) for word in model.words][1]"
   ]
  },
  {
   "cell_type": "code",
   "execution_count": 6,
   "metadata": {},
   "outputs": [],
   "source": [
    "import numpy as np\n",
    "tweets = df_test['tweet'].to_list()"
   ]
  },
  {
   "cell_type": "code",
   "execution_count": 7,
   "metadata": {},
   "outputs": [
    {
     "name": "stdout",
     "output_type": "stream",
     "text": [
      "SVM Accuracy Score ->  92.73648648648648\n",
      "SVM F1 Score ->  48.370497427101206\n",
      "SVM Roc_auc Score ->  78.69260204081631\n"
     ]
    }
   ],
   "source": [
    "model = fasttext.train_supervised(input='TRAIN.txt', epoch=maxima_idx)\n",
    "predictions = model.predict(tweets, k=2)\n",
    "\n",
    "predictions = [int(pred[0][-1]) for pred in predictions[0]]\n",
    "tests = [int(test[-1]) for test in df_test['class']]\n",
    "\n",
    "from sklearn.metrics import roc_auc_score, accuracy_score, f1_score\n",
    "\n",
    "print(\"SVM Accuracy Score -> \", accuracy_score(predictions, tests)*100)\n",
    "print(\"SVM F1 Score -> \", f1_score(predictions, tests)*100)\n",
    "print(\"SVM Roc_auc Score -> \", roc_auc_score(predictions, tests)*100)"
   ]
  },
  {
   "cell_type": "code",
   "execution_count": null,
   "metadata": {},
   "outputs": [],
   "source": []
  }
 ],
 "metadata": {
  "kernelspec": {
   "display_name": "Python 3",
   "language": "python",
   "name": "python3"
  },
  "language_info": {
   "codemirror_mode": {
    "name": "ipython",
    "version": 3
   },
   "file_extension": ".py",
   "mimetype": "text/x-python",
   "name": "python",
   "nbconvert_exporter": "python",
   "pygments_lexer": "ipython3",
   "version": "3.7.4"
  }
 },
 "nbformat": 4,
 "nbformat_minor": 2
}
