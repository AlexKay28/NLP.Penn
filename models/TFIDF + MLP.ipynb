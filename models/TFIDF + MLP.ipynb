{
 "cells": [
  {
   "cell_type": "code",
   "execution_count": 1,
   "metadata": {},
   "outputs": [
    {
     "name": "stderr",
     "output_type": "stream",
     "text": [
      "Using TensorFlow backend.\n"
     ]
    }
   ],
   "source": [
    "import pandas as pd\n",
    "import numpy as np\n",
    "\n",
    "import matplotlib.pyplot as plt\n",
    "\n",
    "from sklearn.metrics import f1_score\n",
    "from sklearn.feature_extraction.text import TfidfVectorizer\n",
    "from sklearn.preprocessing import LabelEncoder\n",
    "from sklearn.model_selection import train_test_split\n",
    "from sklearn.neural_network import MLPClassifier\n",
    "\n",
    "from keras.layers import Dense, Input, Activation, Conv1D\n",
    "from keras.layers import Dropout, MaxPooling1D, Flatten, Concatenate, Reshape\n",
    "from keras.models import Sequential, Model, load_model\n",
    "from keras.callbacks import ModelCheckpoint, EarlyStopping\n",
    "from keras.utils import np_utils\n",
    "\n",
    "import re\n",
    "import random\n",
    "import os"
   ]
  },
  {
   "cell_type": "code",
   "execution_count": 2,
   "metadata": {},
   "outputs": [
    {
     "name": "stdout",
     "output_type": "stream",
     "text": [
      "<class 'pandas.core.frame.DataFrame'>\n",
      "RangeIndex: 20544 entries, 0 to 20543\n",
      "Data columns (total 2 columns):\n",
      "class    20544 non-null int64\n",
      "tweet    20544 non-null object\n",
      "dtypes: int64(1), object(1)\n",
      "memory usage: 321.1+ KB\n"
     ]
    },
    {
     "data": {
      "text/plain": [
       "(       class                                              tweet\n",
       " 0          0                depression hurts, cymbalta can help\n",
       " 1          0  @jessicama20045 right, but cipro can make thin...\n",
       " 2          0         @fibby1123 are you on paxil .. i need help\n",
       " 3          0  @redicine the lamotrigine and sjs just made ch...\n",
       " 4          0  have decided to skip my #humira shot today. my...\n",
       " ...      ...                                                ...\n",
       " 20539      1  @hornetweb my mri scan shows when it happens b...\n",
       " 20540      1  remember 2003. vioxx costs $65m to ontario dru...\n",
       " 20541      1  asians are at higher risk for severe allergic ...\n",
       " 20542      1  5. so what caused the #estrogen surges in #nuv...\n",
       " 20543      1  @twittalesskels 😂😂😂😂 i'm high off this tamiflu...\n",
       " \n",
       " [20544 rows x 2 columns], None)"
      ]
     },
     "execution_count": 2,
     "metadata": {},
     "output_type": "execute_result"
    }
   ],
   "source": [
    "#Load the data into Pandas dataframe\n",
    "df = pd.read_csv('../task2_data/task2_en_training.tsv', sep='\\t')[['class', 'tweet']]\n",
    "df['class'] = df['class'].apply(lambda x: int(x))\n",
    "df, df.info()"
   ]
  },
  {
   "cell_type": "code",
   "execution_count": 3,
   "metadata": {},
   "outputs": [
    {
     "name": "stdout",
     "output_type": "stream",
     "text": [
      "Stratified K-Fold\n",
      "Model F1 Score ->  70.013\n",
      "Model F1 Score ->  68.599\n",
      "Model F1 Score ->  60.912\n",
      "Model F1 Score ->  72.936\n",
      "Model F1 Score ->  57.482\n",
      "F1 average:\t 65.988 %\n",
      "F1 std:\t 5.821\n",
      "F1 var:\t 33.882\n",
      "\n"
     ]
    }
   ],
   "source": [
    "from sklearn.metrics import classification_report\n",
    "from sklearn.model_selection import StratifiedKFold\n",
    "\n",
    "X = df['tweet']\n",
    "Y = df['class']\n",
    "\n",
    "X_train, X_test, y_train, y_test = train_test_split(X, Y , test_size=0.2)\n",
    "\n",
    "tfidf = TfidfVectorizer()\n",
    "tfidf.fit(X_train)\n",
    "\n",
    "skf = StratifiedKFold(n_splits=5)\n",
    "skf.get_n_splits(X, Y)\n",
    "\n",
    "print('Stratified K-Fold')\n",
    "f1=[] # array of f1 scores \n",
    "for train_index, test_index in skf.split(X, Y):\n",
    "    X_train, X_test = X[train_index], X[test_index]\n",
    "    y_train, y_test = Y[train_index], Y[test_index]\n",
    "    \n",
    "    # vectorization on the each step \n",
    "    tfidf = TfidfVectorizer()\n",
    "    tfidf.fit(X_train)\n",
    "    X_train = tfidf.transform(X_train)\n",
    "    X_test = tfidf.transform(X_test)\n",
    "    \n",
    "    #model\n",
    "    model = MLPClassifier()\n",
    "    model.fit(X_train,y_train)\n",
    "\n",
    "    predictions_model = model.predict(X_test)\n",
    "    f1.append(round(f1_score(predictions_model, y_test, average='macro')*100,3))\n",
    "    print(\"Model F1 Score -> \", f1[-1])\n",
    "\n",
    "# avg f1\n",
    "print(f'F1 average:\\t {round(np.array(f1).mean(), 3)} %')\n",
    "print(f'F1 std:\\t {round(np.array(f1).std(), 3)}')\n",
    "print(f'F1 var:\\t {round(np.array(f1).var(), 3)}')\n",
    "#print(stats.describe(f1))\n",
    "print()"
   ]
  },
  {
   "cell_type": "code",
   "execution_count": null,
   "metadata": {},
   "outputs": [],
   "source": []
  }
 ],
 "metadata": {
  "kernelspec": {
   "display_name": "Python 3",
   "language": "python",
   "name": "python3"
  },
  "language_info": {
   "codemirror_mode": {
    "name": "ipython",
    "version": 3
   },
   "file_extension": ".py",
   "mimetype": "text/x-python",
   "name": "python",
   "nbconvert_exporter": "python",
   "pygments_lexer": "ipython3",
   "version": "3.7.6"
  }
 },
 "nbformat": 4,
 "nbformat_minor": 2
}
