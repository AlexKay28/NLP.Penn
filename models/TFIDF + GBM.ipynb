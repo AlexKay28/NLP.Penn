{
 "cells": [
  {
   "cell_type": "code",
   "execution_count": 1,
   "metadata": {},
   "outputs": [],
   "source": [
    "from sklearn.feature_extraction.text import CountVectorizer, TfidfVectorizer\n",
    "import pandas as pd \n",
    "import numpy as np\n",
    "from sklearn.ensemble import GradientBoostingClassifier\n",
    "from sklearn.metrics import roc_auc_score, accuracy_score, f1_score\n",
    "from sklearn.model_selection import train_test_split"
   ]
  },
  {
   "cell_type": "code",
   "execution_count": 2,
   "metadata": {},
   "outputs": [
    {
     "data": {
      "text/html": [
       "<div>\n",
       "<style scoped>\n",
       "    .dataframe tbody tr th:only-of-type {\n",
       "        vertical-align: middle;\n",
       "    }\n",
       "\n",
       "    .dataframe tbody tr th {\n",
       "        vertical-align: top;\n",
       "    }\n",
       "\n",
       "    .dataframe thead th {\n",
       "        text-align: right;\n",
       "    }\n",
       "</style>\n",
       "<table border=\"1\" class=\"dataframe\">\n",
       "  <thead>\n",
       "    <tr style=\"text-align: right;\">\n",
       "      <th></th>\n",
       "      <th>class</th>\n",
       "      <th>tweet</th>\n",
       "    </tr>\n",
       "  </thead>\n",
       "  <tbody>\n",
       "    <tr>\n",
       "      <td>0</td>\n",
       "      <td>0</td>\n",
       "      <td>depression hurts, cymbalta can help</td>\n",
       "    </tr>\n",
       "    <tr>\n",
       "      <td>1</td>\n",
       "      <td>0</td>\n",
       "      <td>@jessicama20045 right, but cipro can make thin...</td>\n",
       "    </tr>\n",
       "    <tr>\n",
       "      <td>2</td>\n",
       "      <td>0</td>\n",
       "      <td>@fibby1123 are you on paxil .. i need help</td>\n",
       "    </tr>\n",
       "    <tr>\n",
       "      <td>3</td>\n",
       "      <td>0</td>\n",
       "      <td>@redicine the lamotrigine and sjs just made ch...</td>\n",
       "    </tr>\n",
       "    <tr>\n",
       "      <td>4</td>\n",
       "      <td>0</td>\n",
       "      <td>have decided to skip my #humira shot today. my...</td>\n",
       "    </tr>\n",
       "  </tbody>\n",
       "</table>\n",
       "</div>"
      ],
      "text/plain": [
       "   class                                              tweet\n",
       "0      0                depression hurts, cymbalta can help\n",
       "1      0  @jessicama20045 right, but cipro can make thin...\n",
       "2      0         @fibby1123 are you on paxil .. i need help\n",
       "3      0  @redicine the lamotrigine and sjs just made ch...\n",
       "4      0  have decided to skip my #humira shot today. my..."
      ]
     },
     "execution_count": 2,
     "metadata": {},
     "output_type": "execute_result"
    }
   ],
   "source": [
    "#Load the data into Pandas dataframe\n",
    "df = pd.read_csv('../task2_data/task2_en_training.tsv', sep='\\t')[['class', 'tweet']]\n",
    "df['class'] = df['class'].apply(lambda x: int(x))\n",
    "df.head()"
   ]
  },
  {
   "cell_type": "code",
   "execution_count": 3,
   "metadata": {},
   "outputs": [
    {
     "data": {
      "text/html": [
       "<div>\n",
       "<style scoped>\n",
       "    .dataframe tbody tr th:only-of-type {\n",
       "        vertical-align: middle;\n",
       "    }\n",
       "\n",
       "    .dataframe tbody tr th {\n",
       "        vertical-align: top;\n",
       "    }\n",
       "\n",
       "    .dataframe thead th {\n",
       "        text-align: right;\n",
       "    }\n",
       "</style>\n",
       "<table border=\"1\" class=\"dataframe\">\n",
       "  <thead>\n",
       "    <tr style=\"text-align: right;\">\n",
       "      <th></th>\n",
       "      <th>class</th>\n",
       "      <th>tweet</th>\n",
       "    </tr>\n",
       "  </thead>\n",
       "  <tbody>\n",
       "    <tr>\n",
       "      <td>4380</td>\n",
       "      <td>0</td>\n",
       "      <td>@carobean22 hi...how long have you been on tys...</td>\n",
       "    </tr>\n",
       "    <tr>\n",
       "      <td>4977</td>\n",
       "      <td>0</td>\n",
       "      <td>but i would use it if i were asleep on quetiap...</td>\n",
       "    </tr>\n",
       "    <tr>\n",
       "      <td>19045</td>\n",
       "      <td>0</td>\n",
       "      <td>rt@lafulegebyqed: rizzo winery combines toasty...</td>\n",
       "    </tr>\n",
       "    <tr>\n",
       "      <td>10648</td>\n",
       "      <td>0</td>\n",
       "      <td>@betabetic no i'm on symbicort 400/12</td>\n",
       "    </tr>\n",
       "    <tr>\n",
       "      <td>4685</td>\n",
       "      <td>0</td>\n",
       "      <td>fosamax has been linked to many severe side ef...</td>\n",
       "    </tr>\n",
       "  </tbody>\n",
       "</table>\n",
       "</div>"
      ],
      "text/plain": [
       "       class                                              tweet\n",
       "4380       0  @carobean22 hi...how long have you been on tys...\n",
       "4977       0  but i would use it if i were asleep on quetiap...\n",
       "19045      0  rt@lafulegebyqed: rizzo winery combines toasty...\n",
       "10648      0              @betabetic no i'm on symbicort 400/12\n",
       "4685       0  fosamax has been linked to many severe side ef..."
      ]
     },
     "execution_count": 3,
     "metadata": {},
     "output_type": "execute_result"
    }
   ],
   "source": [
    "df = df.iloc[np.random.permutation(len(df))]\n",
    "df.head()"
   ]
  },
  {
   "cell_type": "markdown",
   "metadata": {},
   "source": [
    "https://scikit-learn.org/stable/modules/generated/sklearn.ensemble.GradientBoostingClassifier.html\n",
    "\n",
    "https://www.kaggle.com/beagle01/prediction-with-gradient-boosting-classifier"
   ]
  },
  {
   "cell_type": "code",
   "execution_count": 4,
   "metadata": {},
   "outputs": [
    {
     "name": "stdout",
     "output_type": "stream",
     "text": [
      "Stratified K-Fold\n",
      "Model F1 Score ->  56.144\n",
      "Model F1 Score ->  59.832\n",
      "Model F1 Score ->  59.78\n",
      "Model F1 Score ->  61.428\n",
      "Model F1 Score ->  50.693\n",
      "F1 average:\t 57.575 %\n",
      "F1 std:\t 3.853\n",
      "F1 var:\t 14.842\n",
      "\n"
     ]
    }
   ],
   "source": [
    "from sklearn.metrics import classification_report\n",
    "from sklearn.model_selection import StratifiedKFold\n",
    "\n",
    "X = df['tweet']\n",
    "Y = df['class']\n",
    "\n",
    "X_train, X_test, y_train, y_test = train_test_split(X, Y , test_size=0.2)\n",
    "\n",
    "tfidf = TfidfVectorizer()\n",
    "tfidf.fit(X_train)\n",
    "\n",
    "skf = StratifiedKFold(n_splits=5)\n",
    "skf.get_n_splits(X, Y)\n",
    "\n",
    "print('Stratified K-Fold')\n",
    "f1=[] # array of f1 scores \n",
    "for train_index, test_index in skf.split(X, Y):\n",
    "    X_train, X_test = X[train_index], X[test_index]\n",
    "    y_train, y_test = Y[train_index], Y[test_index]\n",
    "    \n",
    "    # vectorization on the each step \n",
    "    tfidf = TfidfVectorizer()\n",
    "    tfidf.fit(X_train)\n",
    "    X_train = tfidf.transform(X_train)\n",
    "    X_test = tfidf.transform(X_test)\n",
    "    \n",
    "    #model\n",
    "    model = GradientBoostingClassifier()\n",
    "    model.fit(X_train,y_train)\n",
    "\n",
    "    predictions_model = model.predict(X_test)\n",
    "    f1.append(round(f1_score(predictions_model, y_test, average='macro')*100,3))\n",
    "    print(\"Model F1 Score -> \", f1[-1])\n",
    "\n",
    "# avg f1\n",
    "print(f'F1 average:\\t {round(np.array(f1).mean(), 3)} %')\n",
    "print(f'F1 std:\\t {round(np.array(f1).std(), 3)}')\n",
    "print(f'F1 var:\\t {round(np.array(f1).var(), 3)}')\n",
    "#print(stats.describe(f1))\n",
    "print()"
   ]
  },
  {
   "cell_type": "code",
   "execution_count": 5,
   "metadata": {},
   "outputs": [],
   "source": [
    "# # cross_val_score\n",
    "# from sklearn.model_selection import ShuffleSplit, cross_val_score, cross_val_predict\n",
    "# scores = cross_val_score(model, X_train, y_train, cv=5, scoring='f1_macro')\n",
    "# print('Cross val score')\n",
    "# print('Model scores:', scores)\n",
    "# print(f'Model scores mean: {round(scores.mean()*100, 3)} %')\n",
    "# print(f'Model scores std: {round(scores.std()*100, 3)}')"
   ]
  }
 ],
 "metadata": {
  "kernelspec": {
   "display_name": "Python 3",
   "language": "python",
   "name": "python3"
  },
  "language_info": {
   "codemirror_mode": {
    "name": "ipython",
    "version": 3
   },
   "file_extension": ".py",
   "mimetype": "text/x-python",
   "name": "python",
   "nbconvert_exporter": "python",
   "pygments_lexer": "ipython3",
   "version": "3.7.6"
  }
 },
 "nbformat": 4,
 "nbformat_minor": 2
}
