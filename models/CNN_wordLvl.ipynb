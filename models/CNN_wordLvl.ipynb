{
 "cells": [
  {
   "cell_type": "code",
   "execution_count": 1,
   "metadata": {},
   "outputs": [
    {
     "name": "stderr",
     "output_type": "stream",
     "text": [
      "Using TensorFlow backend.\n"
     ]
    }
   ],
   "source": [
    "from sklearn.model_selection import train_test_split\n",
    "from sklearn.preprocessing import LabelEncoder\n",
    "from keras.models import Model\n",
    "\n",
    "from keras.layers import Activation, Dense, Dropout, Input, Embedding, Bidirectional \n",
    "from keras.layers import Flatten, Conv1D, MaxPooling1D\n",
    "from keras.models import Model\n",
    "\n",
    "from keras.optimizers import RMSprop\n",
    "\n",
    "from keras.preprocessing.text import Tokenizer\n",
    "from keras.preprocessing.text import text_to_word_sequence\n",
    "from keras.preprocessing import sequence\n",
    "\n",
    "from keras.layers.normalization import BatchNormalization\n",
    "from keras.callbacks import EarlyStopping, ModelCheckpoint\n",
    "\n",
    "from keras.utils import to_categorical\n",
    "from keras.callbacks import EarlyStopping\n",
    "import pandas as pd\n",
    "import numpy as np\n",
    "\n",
    "from sklearn.utils import shuffle\n",
    "from sklearn.metrics import confusion_matrix\n",
    "\n",
    "import re\n",
    "\n",
    "import gensim\n",
    "#from pymystem3 import Mystem\n",
    "#from stanfordcorenlp import StanfordCoreNLP\n",
    "import spacy_udpipe"
   ]
  },
  {
   "cell_type": "code",
   "execution_count": 2,
   "metadata": {},
   "outputs": [
    {
     "data": {
      "text/html": [
       "<div>\n",
       "<style scoped>\n",
       "    .dataframe tbody tr th:only-of-type {\n",
       "        vertical-align: middle;\n",
       "    }\n",
       "\n",
       "    .dataframe tbody tr th {\n",
       "        vertical-align: top;\n",
       "    }\n",
       "\n",
       "    .dataframe thead th {\n",
       "        text-align: right;\n",
       "    }\n",
       "</style>\n",
       "<table border=\"1\" class=\"dataframe\">\n",
       "  <thead>\n",
       "    <tr style=\"text-align: right;\">\n",
       "      <th></th>\n",
       "      <th>tweet_id</th>\n",
       "      <th>user_id</th>\n",
       "      <th>class</th>\n",
       "      <th>tweet</th>\n",
       "    </tr>\n",
       "  </thead>\n",
       "  <tbody>\n",
       "    <tr>\n",
       "      <th>0</th>\n",
       "      <td>344266386467606528</td>\n",
       "      <td>809439366</td>\n",
       "      <td>0</td>\n",
       "      <td>depression hurts, cymbalta can help</td>\n",
       "    </tr>\n",
       "    <tr>\n",
       "      <th>1</th>\n",
       "      <td>349220537903489025</td>\n",
       "      <td>323112996</td>\n",
       "      <td>0</td>\n",
       "      <td>@jessicama20045 right, but cipro can make thin...</td>\n",
       "    </tr>\n",
       "    <tr>\n",
       "      <th>2</th>\n",
       "      <td>351421773079781378</td>\n",
       "      <td>713100330</td>\n",
       "      <td>0</td>\n",
       "      <td>@fibby1123 are you on paxil .. i need help</td>\n",
       "    </tr>\n",
       "    <tr>\n",
       "      <th>3</th>\n",
       "      <td>326594278472171520</td>\n",
       "      <td>543113070</td>\n",
       "      <td>0</td>\n",
       "      <td>@redicine the lamotrigine and sjs just made ch...</td>\n",
       "    </tr>\n",
       "    <tr>\n",
       "      <th>4</th>\n",
       "      <td>345567138376994816</td>\n",
       "      <td>138795534</td>\n",
       "      <td>0</td>\n",
       "      <td>have decided to skip my #humira shot today. my...</td>\n",
       "    </tr>\n",
       "  </tbody>\n",
       "</table>\n",
       "</div>"
      ],
      "text/plain": [
       "             tweet_id    user_id  class  \\\n",
       "0  344266386467606528  809439366      0   \n",
       "1  349220537903489025  323112996      0   \n",
       "2  351421773079781378  713100330      0   \n",
       "3  326594278472171520  543113070      0   \n",
       "4  345567138376994816  138795534      0   \n",
       "\n",
       "                                               tweet  \n",
       "0                depression hurts, cymbalta can help  \n",
       "1  @jessicama20045 right, but cipro can make thin...  \n",
       "2         @fibby1123 are you on paxil .. i need help  \n",
       "3  @redicine the lamotrigine and sjs just made ch...  \n",
       "4  have decided to skip my #humira shot today. my...  "
      ]
     },
     "execution_count": 2,
     "metadata": {},
     "output_type": "execute_result"
    }
   ],
   "source": [
    "df = pd.read_csv('../../task2_data/task2_en_training.tsv',delimiter='\\t')\n",
    "df.head()"
   ]
  },
  {
   "cell_type": "code",
   "execution_count": 4,
   "metadata": {},
   "outputs": [
    {
     "name": "stdout",
     "output_type": "stream",
     "text": [
      "Already downloaded a model for the 'en' language\n"
     ]
    }
   ],
   "source": [
    "spacy_udpipe.download(\"en\")\n",
    "nlp = spacy_udpipe.load(\"en\")\n",
    "model = gensim.models.KeyedVectors.load_word2vec_format(\"../../Embeddings/model.bin\", binary=True) \n",
    "#model.vocab "
   ]
  },
  {
   "cell_type": "code",
   "execution_count": 5,
   "metadata": {},
   "outputs": [],
   "source": [
    "def lemmatize_with_postag(text = \"\"\"\"Wikipedia is a free online encyclopedia, created and \n",
    "                          edited by volunteers around the world.\"\"\",\n",
    "                          nlp=nlp):\n",
    "    doc = nlp(text)\n",
    "    tagged = []\n",
    "    for token in doc:\n",
    "        lemma = token.lemma_\n",
    "        if lemma[0] in '@?':\n",
    "            continue        \n",
    "        pos = token.pos_\n",
    "        #pos = pos.split('=')[0].strip()\n",
    "        if pos not in [\"PUNCT\"]: #[\"VERB\", \"NUM\", \"ADV\", \"NOUN\", \"ADJ\", \"AUX\", \"PRON\", \"ADP\", \"DET\", \"ADV\", \"INTJ\", \"PROPN\"]:\n",
    "            tagged.append(lemma.lower() + '_' + pos)\n",
    "        #else : print(pos)\n",
    "    return tagged"
   ]
  },
  {
   "cell_type": "raw",
   "metadata": {},
   "source": [
    "X_train = df['tweet']\n",
    "y_train = df['class']\n",
    "\n",
    "Xy = pd.concat([X_train, y_train], axis=1)\n",
    "\n",
    "# paramters of the text praprations\n",
    "n_items_for_train = 500\n",
    "n_items_for_test  = 200\n",
    "max_words         = 4000 \n",
    "\n",
    "# n_items_for_train твитов для тренировки с индексом класса 1\n",
    "df_1 = Xy[Xy['class'] == 1].iloc[:n_items_for_train] \n",
    "# n_items_for_train твитов для тренировки с индексом класса 0\n",
    "df_0 = Xy[Xy['class'] == 0].iloc[:n_items_for_train] \n",
    "\n",
    "Xy_ = shuffle(pd.concat([df_0, df_1]))\n",
    "Xy_train = pd.concat([Xy_[\"tweet\"].apply(lemmatize_with_postag), Xy_[\"class\"]], axis = 1)\n",
    "\n",
    "\n",
    "\n",
    "# n_items_for_test твитов для теста с индексом класса 1\n",
    "df_1 = Xy[Xy['class'] == 1].iloc[n_items_for_train:n_items_for_train+n_items_for_test]\n",
    "# n_items_for_test твитов для теста с индексом класса 0\n",
    "df_0 = Xy[Xy['class'] == 0].iloc[n_items_for_train:n_items_for_train+n_items_for_test]\n",
    "\n",
    "Xy_ = shuffle(pd.concat([df_0, df_1]))\n",
    "Xy_test = pd.concat([Xy_[\"tweet\"].apply(lemmatize_with_postag), Xy_[\"class\"]], axis = 1)\n",
    "\n",
    "print(Xy_train.shape)\n",
    "print(Xy_test.shape)\n",
    "#Xy_train, Xy_test"
   ]
  },
  {
   "cell_type": "code",
   "execution_count": 6,
   "metadata": {},
   "outputs": [
    {
     "name": "stdout",
     "output_type": "stream",
     "text": [
      "(4300, 2)\n",
      "(1303, 2)\n"
     ]
    }
   ],
   "source": [
    "X_train = df['tweet']\n",
    "y_train = df['class']\n",
    "\n",
    "Xy = pd.concat([X_train, y_train], axis=1)\n",
    "\n",
    "\n",
    "\n",
    "# paramters of the text praprations\n",
    "n_items_for_train = 500\n",
    "n_items_for_test  = 200\n",
    "max_words         = 8000 \n",
    "\n",
    "# n_items_for_train твитов для тренировки с индексом класса 1\n",
    "df_1 = Xy[Xy['class'] == 1].iloc[:1500] \n",
    "# n_items_for_train твитов для тренировки с индексом класса 0\n",
    "df_0 = Xy[Xy['class'] == 0].iloc[:2800] \n",
    "\n",
    "Xy_ = shuffle(pd.concat([df_0, df_1]))\n",
    "Xy_train = pd.concat([Xy_[\"tweet\"].apply(lemmatize_with_postag), Xy_[\"class\"]], axis = 1)\n",
    "\n",
    "\n",
    "\n",
    "# n_items_for_test твитов для теста с индексом класса 1\n",
    "df_1 = Xy[Xy['class'] == 1].iloc[1500:]\n",
    "# n_items_for_test твитов для теста с индексом класса 0\n",
    "df_0 = Xy[Xy['class'] == 0].iloc[2000:2900]\n",
    "\n",
    "Xy_ = shuffle(pd.concat([df_0, df_1]))\n",
    "Xy_test = pd.concat([Xy_[\"tweet\"].apply(lemmatize_with_postag), Xy_[\"class\"]], axis = 1)\n",
    "\n",
    "print(Xy_train.shape)\n",
    "print(Xy_test.shape)\n",
    "#Xy_train, Xy_test\n",
    "\n",
    "n_items_for_train = len(Xy_train)\n",
    "n_items_for_test = len(Xy_test)"
   ]
  },
  {
   "cell_type": "code",
   "execution_count": null,
   "metadata": {},
   "outputs": [],
   "source": []
  },
  {
   "cell_type": "code",
   "execution_count": 7,
   "metadata": {},
   "outputs": [
    {
     "name": "stdout",
     "output_type": "stream",
     "text": [
      "AxesSubplot(0.125,0.125;0.775x0.755)\n"
     ]
    },
    {
     "data": {
      "image/png": "[encoded data removed]",
      "text/plain": [
       "<Figure size 432x288 with 1 Axes>"
      ]
     },
     "metadata": {
      "needs_background": "light"
     },
     "output_type": "display_data"
    }
   ],
   "source": [
    "import seaborn as sns\n",
    "print(sns.countplot(Xy_train['class']))"
   ]
  },
  {
   "cell_type": "code",
   "execution_count": 8,
   "metadata": {},
   "outputs": [
    {
     "name": "stdout",
     "output_type": "stream",
     "text": [
      "AxesSubplot(0.125,0.125;0.775x0.755)\n"
     ]
    },
    {
     "data": {
      "image/png": "[encoded data removed]",
      "text/plain": [
       "<Figure size 432x288 with 1 Axes>"
      ]
     },
     "metadata": {
      "needs_background": "light"
     },
     "output_type": "display_data"
    }
   ],
   "source": [
    "print(sns.countplot(Xy_test['class']))"
   ]
  },
  {
   "cell_type": "code",
   "execution_count": 9,
   "metadata": {},
   "outputs": [
    {
     "name": "stdout",
     "output_type": "stream",
     "text": [
      "max_len = 36\n"
     ]
    }
   ],
   "source": [
    "# replcade as parameter in the begining\n",
    "#max_words = 2000 # ограничение вокуабуляра\n",
    "\n",
    "maxima = 0\n",
    "for ar in Xy_train['tweet'].to_list():\n",
    "    if len(ar)>maxima: maxima = len(ar)\n",
    "for ar in Xy_test['tweet']:\n",
    "    if len(ar)>maxima: maxima = len(ar)\n",
    "max_len = maxima + 1\n",
    "print(f'max_len = {max_len}')\n",
    "\n",
    "tok = Tokenizer(num_words=max_words)\n",
    "tok.fit_on_texts(Xy_train[\"tweet\"]) #fit on train\n",
    "\n",
    "# exctrax features from train\n",
    "sequences_train = tok.texts_to_sequences(Xy_train[\"tweet\"])\n",
    "sequences_matrix_train = sequence.pad_sequences(sequences_train, maxlen=max_len)\n",
    "\n",
    "# exctrax features from test\n",
    "sequences_test = tok.texts_to_sequences(Xy_test[\"tweet\"])\n",
    "sequences_matrix_test = sequence.pad_sequences(sequences_test, maxlen=max_len)"
   ]
  },
  {
   "cell_type": "code",
   "execution_count": 10,
   "metadata": {},
   "outputs": [
    {
     "name": "stdout",
     "output_type": "stream",
     "text": [
      "Everything is OK\n",
      "9838\n"
     ]
    }
   ],
   "source": [
    "def fix_word_key(string):\n",
    "    upper_part = (re.findall('_.*',string))[0].upper()\n",
    "    result = re.sub(r'_.*', upper_part, string)\n",
    "    #print(f'was {string} -> became {result}')\n",
    "    return result\n",
    "\n",
    "word_index = tok.word_index\n",
    "#print('Found %s unique tokens' % len(word_index))\n",
    "\n",
    "wi1 = len(word_index)\n",
    "\n",
    "# fix tokenizer problem\n",
    "for key in word_index.keys():\n",
    "    fixed_key = fix_word_key(key)\n",
    "    word_index[fixed_key] = word_index.pop(key)\n",
    "    \n",
    "#print('Found %s unique tokens' % len(word_index))\n",
    "wi2 = len(word_index)\n",
    "\n",
    "if wi1 != wi2:\n",
    "    print()\n",
    "    error = 'lenght of word_index was changed!'\n",
    "    print(error.upper())\n",
    "    raise ValueError\n",
    "else:\n",
    "    print('Everything is OK')\n",
    "    print(len(word_index))"
   ]
  },
  {
   "cell_type": "code",
   "execution_count": 11,
   "metadata": {},
   "outputs": [
    {
     "name": "stdout",
     "output_type": "stream",
     "text": [
      "number of words = 8001\n",
      "(8001, 300)\n",
      "Null word embeddings: 4904\n"
     ]
    }
   ],
   "source": [
    "# делаем Embedding на основе w2v модели\n",
    "\n",
    "nb_words = min(max_words, len(word_index))+1 # проверяем где меньше, в нашем датасете или в токенайзере.\n",
    "EMBEDDING_DIM = 300 # размерность векторов в нашей модели w2v\n",
    "\n",
    "print(f'number of words = {nb_words}')\n",
    "\n",
    "embedding_matrix = np.zeros((nb_words, EMBEDDING_DIM))\n",
    "print(embedding_matrix.shape)\n",
    "\n",
    "counter = 0\n",
    "for word, i in word_index.items():\n",
    "    if i >= nb_words: continue\n",
    "    if word in model.vocab:\n",
    "        #print(model[word])\n",
    "        embedding_matrix[i] = model[word]\n",
    "#     if counter > nb_words: break\n",
    "#     counter += 1\n",
    "\n",
    "\n",
    "print('Null word embeddings: %d' % np.sum(np.sum(embedding_matrix, axis=1) == 0))\n",
    "#pd.DataFrame(embedding_matrix)"
   ]
  },
  {
   "cell_type": "code",
   "execution_count": 12,
   "metadata": {},
   "outputs": [
    {
     "data": {
      "text/plain": [
       "4300"
      ]
     },
     "execution_count": 12,
     "metadata": {},
     "output_type": "execute_result"
    }
   ],
   "source": [
    "len(sequences_matrix_train)"
   ]
  },
  {
   "cell_type": "markdown",
   "metadata": {},
   "source": [
    "# CNN"
   ]
  },
  {
   "cell_type": "code",
   "execution_count": 13,
   "metadata": {
    "scrolled": true
   },
   "outputs": [],
   "source": [
    "rate_drop_dense = 0.15 + np.random.rand() * 0.25\n",
    "act = 'relu'\n",
    "\n",
    "embedding_layer      = Embedding(nb_words,\n",
    "                                EMBEDDING_DIM,\n",
    "                                weights=[embedding_matrix],\n",
    "                                input_length=max_len,\n",
    "                                trainable=False) \n",
    "\n",
    "# CONFIGURATION OF CNN\n",
    "sequence_1_input     = Input(shape=(max_len,), dtype='int32')\n",
    "x                    = embedding_layer(sequence_1_input)\n",
    "\n",
    "x                    = Conv1D(filters=300, kernel_size=3, activation='relu', input_shape=(x.shape))(x)\n",
    "x                    = Dropout(0.5)(x)\n",
    "x                    = MaxPooling1D(pool_size=2)(x)\n",
    "\n",
    "x                    = Conv1D(filters=300, kernel_size=5, activation='relu', input_shape=(x.shape))(x)\n",
    "x                    = Dropout(0.5)(x)\n",
    "x                    = MaxPooling1D(pool_size=1)(x)\n",
    "\n",
    "# for filter_num, filter_size, pooling_size in conv_layers:\n",
    "#     x = Conv1D(filter_num, filter_size)(x)\n",
    "#     x = Activation('relu')(x)\n",
    "#     if pooling_size != -1:\n",
    "#         x = MaxPooling1D(pool_size=pooling_size)(x)\n",
    "        \n",
    "x                    = Flatten()(x)\n",
    "\n",
    "# for dense_size in fully_connected_layers:\n",
    "#     x = Dense(dense_size, activation='relu')(x)\n",
    "#     x = Dropout(dropout_p)(x)\n",
    "\n",
    "merged               = Dropout(rate_drop_dense)(x)\n",
    "merged               = BatchNormalization()(merged)\n",
    "merged               = Dense(32, activation=act)(merged)\n",
    "merged               = Dropout(rate_drop_dense)(merged)\n",
    "merged               = BatchNormalization()(merged)\n",
    "preds                = Dense(2, activation='softmax')(merged)"
   ]
  },
  {
   "cell_type": "code",
   "execution_count": 14,
   "metadata": {},
   "outputs": [
    {
     "name": "stdout",
     "output_type": "stream",
     "text": [
      "Model: \"model_1\"\n",
      "_________________________________________________________________\n",
      "Layer (type)                 Output Shape              Param #   \n",
      "=================================================================\n",
      "input_1 (InputLayer)         (None, 36)                0         \n",
      "_________________________________________________________________\n",
      "embedding_1 (Embedding)      (None, 36, 300)           2400300   \n",
      "_________________________________________________________________\n",
      "conv1d_1 (Conv1D)            (None, 34, 300)           270300    \n",
      "_________________________________________________________________\n",
      "dropout_1 (Dropout)          (None, 34, 300)           0         \n",
      "_________________________________________________________________\n",
      "max_pooling1d_1 (MaxPooling1 (None, 17, 300)           0         \n",
      "_________________________________________________________________\n",
      "conv1d_2 (Conv1D)            (None, 13, 300)           450300    \n",
      "_________________________________________________________________\n",
      "dropout_2 (Dropout)          (None, 13, 300)           0         \n",
      "_________________________________________________________________\n",
      "max_pooling1d_2 (MaxPooling1 (None, 13, 300)           0         \n",
      "_________________________________________________________________\n",
      "flatten_1 (Flatten)          (None, 3900)              0         \n",
      "_________________________________________________________________\n",
      "dropout_3 (Dropout)          (None, 3900)              0         \n",
      "_________________________________________________________________\n",
      "batch_normalization_1 (Batch (None, 3900)              15600     \n",
      "_________________________________________________________________\n",
      "dense_1 (Dense)              (None, 32)                124832    \n",
      "_________________________________________________________________\n",
      "dropout_4 (Dropout)          (None, 32)                0         \n",
      "_________________________________________________________________\n",
      "batch_normalization_2 (Batch (None, 32)                128       \n",
      "_________________________________________________________________\n",
      "dense_2 (Dense)              (None, 2)                 66        \n",
      "=================================================================\n",
      "Total params: 3,261,526\n",
      "Trainable params: 853,362\n",
      "Non-trainable params: 2,408,164\n",
      "_________________________________________________________________\n",
      "CNN\n",
      "\n"
     ]
    }
   ],
   "source": [
    "STAMP = 'CNN'\n",
    "\n",
    "model = Model(inputs=[sequence_1_input], outputs=preds)\n",
    "model.compile(loss='binary_crossentropy', \n",
    "              optimizer='rmsprop', \n",
    "              metrics=['acc'])\n",
    "model.summary()\n",
    "print(STAMP, end='\\n\\n')"
   ]
  },
  {
   "cell_type": "code",
   "execution_count": 15,
   "metadata": {},
   "outputs": [],
   "source": [
    "from keras.utils import to_categorical\n",
    "\n",
    "Xy_train = to_categorical(Xy_train['class'], num_classes=2)\n",
    "Xy_test = to_categorical(Xy_test['class'], num_classes=2)"
   ]
  },
  {
   "cell_type": "code",
   "execution_count": 16,
   "metadata": {
    "scrolled": true
   },
   "outputs": [
    {
     "name": "stdout",
     "output_type": "stream",
     "text": [
      "Train on 4300 samples, validate on 651 samples\n",
      "Epoch 1/10\n",
      "4300/4300 [==============================] - 9s 2ms/step - loss: 0.7547 - acc: 0.6253 - val_loss: 0.5945 - val_acc: 0.7127\n",
      "Epoch 2/10\n",
      "4300/4300 [==============================] - 7s 2ms/step - loss: 0.5972 - acc: 0.7098 - val_loss: 0.5672 - val_acc: 0.7127\n",
      "Epoch 3/10\n",
      "4300/4300 [==============================] - 6s 1ms/step - loss: 0.5176 - acc: 0.7616 - val_loss: 0.5403 - val_acc: 0.7573\n",
      "Epoch 4/10\n",
      "4300/4300 [==============================] - 7s 2ms/step - loss: 0.4574 - acc: 0.7984 - val_loss: 0.5067 - val_acc: 0.7742\n",
      "Epoch 5/10\n",
      "4300/4300 [==============================] - 6s 2ms/step - loss: 0.4260 - acc: 0.8119 - val_loss: 0.4784 - val_acc: 0.7757\n",
      "Epoch 6/10\n",
      "4300/4300 [==============================] - 7s 2ms/step - loss: 0.3904 - acc: 0.8258 - val_loss: 0.4622 - val_acc: 0.7834\n",
      "Epoch 7/10\n",
      "4300/4300 [==============================] - 7s 2ms/step - loss: 0.3495 - acc: 0.8440 - val_loss: 0.4364 - val_acc: 0.8003\n",
      "Epoch 8/10\n",
      "4300/4300 [==============================] - 7s 2ms/step - loss: 0.3109 - acc: 0.8721 - val_loss: 0.4969 - val_acc: 0.7788\n",
      "Epoch 9/10\n",
      "4300/4300 [==============================] - 7s 2ms/step - loss: 0.2829 - acc: 0.8786 - val_loss: 0.4519 - val_acc: 0.8049\n",
      "Epoch 10/10\n",
      "4300/4300 [==============================] - 7s 2ms/step - loss: 0.2500 - acc: 0.9009 - val_loss: 0.4589 - val_acc: 0.8065\n"
     ]
    }
   ],
   "source": [
    "epochs = 10\n",
    "batch_size = 64\n",
    "patience = 20\n",
    "\n",
    "\n",
    "early_stopping =EarlyStopping(monitor='val_loss', patience=patience)\n",
    "bst_model_path = STAMP + '.h5'\n",
    "model_checkpoint = ModelCheckpoint(bst_model_path, save_best_only=True, save_weights_only=True)\n",
    "\n",
    "history = model.fit(sequences_matrix_train, Xy_train, \n",
    "                 validation_data=(sequences_matrix_test[:n_items_for_test//2], \n",
    "                                  Xy_test[:n_items_for_test//2]), \n",
    "                 epochs=epochs, batch_size=batch_size, shuffle=True,\n",
    "                 callbacks=[early_stopping, model_checkpoint])"
   ]
  },
  {
   "cell_type": "code",
   "execution_count": 18,
   "metadata": {},
   "outputs": [
    {
     "data": {
      "text/plain": [
       "0.8064516186714172"
      ]
     },
     "execution_count": 18,
     "metadata": {},
     "output_type": "execute_result"
    }
   ],
   "source": [
    "history.history['val_acc'][-1]"
   ]
  },
  {
   "cell_type": "code",
   "execution_count": null,
   "metadata": {},
   "outputs": [],
   "source": [
    "import matplotlib.pyplot as plt\n",
    "%matplotlib inline\n",
    "plt.rcParams[\"figure.figsize\"] = (10, 8) \n",
    "\n",
    "# summarize history for accuracy\n",
    "plt.plot(history.history['acc'])\n",
    "plt.plot(history.history['val_acc'])\n",
    "plt.title('model accuracy')\n",
    "plt.ylabel('acc')\n",
    "plt.xlabel('epoch')\n",
    "plt.legend(['train', 'test'], loc='upper left')\n",
    "plt.show()\n",
    "\n",
    "# # summarize history for loss\n",
    "# plt.plot(history.history['loss'])\n",
    "# plt.plot(history.history['val_loss'])\n",
    "# plt.title('model loss')\n",
    "# plt.ylabel('loss')\n",
    "# plt.xlabel('epoch')\n",
    "# plt.legend(['train', 'test'], loc='upper left')\n",
    "# plt.show()"
   ]
  },
  {
   "cell_type": "code",
   "execution_count": null,
   "metadata": {},
   "outputs": [],
   "source": [
    "pred = model.predict(sequences_matrix_test[n_items_for_test//2:])\n",
    "pred.shape\n",
    "bin_pred, real = [], np.array(Xy_test)[n_items_for_test//2:]\n",
    "for i in range(len(pred)):\n",
    "    #print(f'pred = {int(round(float(pred[i][0]), 0))},\\t real = {real[i]}')\n",
    "    bin_pred.append(int(round(float(pred[i][0]), 0))) "
   ]
  },
  {
   "cell_type": "code",
   "execution_count": null,
   "metadata": {},
   "outputs": [],
   "source": [
    "len(bin_pred), len(real), len(pred)"
   ]
  },
  {
   "cell_type": "code",
   "execution_count": null,
   "metadata": {},
   "outputs": [],
   "source": [
    "from sklearn.metrics import classification_report\n",
    "print(classification_report([r[0] for r in real], bin_pred))"
   ]
  },
  {
   "cell_type": "code",
   "execution_count": null,
   "metadata": {},
   "outputs": [],
   "source": [
    "pd.DataFrame(confusion_matrix([r[0] for r in real], bin_pred), columns=['Pos', 'Neg'])"
   ]
  },
  {
   "cell_type": "code",
   "execution_count": null,
   "metadata": {},
   "outputs": [],
   "source": []
  }
 ],
 "metadata": {
  "kernelspec": {
   "display_name": "Python 3",
   "language": "python",
   "name": "python3"
  },
  "language_info": {
   "codemirror_mode": {
    "name": "ipython",
    "version": 3
   },
   "file_extension": ".py",
   "mimetype": "text/x-python",
   "name": "python",
   "nbconvert_exporter": "python",
   "pygments_lexer": "ipython3",
   "version": "3.7.6"
  }
 },
 "nbformat": 4,
 "nbformat_minor": 2
}
