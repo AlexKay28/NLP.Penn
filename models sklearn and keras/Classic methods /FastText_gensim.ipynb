{
 "cells": [
  {
   "cell_type": "code",
   "execution_count": 1,
   "metadata": {},
   "outputs": [
    {
     "name": "stderr",
     "output_type": "stream",
     "text": [
      "Using TensorFlow backend.\n"
     ]
    }
   ],
   "source": [
    "#visualisation and work with dfs\n",
    "import pandas as pd\n",
    "import numpy as np\n",
    "import matplotlib.pyplot as plt\n",
    "import seaborn as sns\n",
    "\n",
    "from sklearn.model_selection import train_test_split\n",
    "from sklearn.preprocessing import LabelEncoder\n",
    "from sklearn.metrics import classification_report\n",
    "\n",
    "from keras.models import Model, Sequential\n",
    "from keras.layers import LSTM, Activation, Dense, Dropout, Input, Embedding, Bidirectional, TimeDistributed, Flatten\n",
    "from keras.optimizers import RMSprop\n",
    "from keras.preprocessing.text import Tokenizer\n",
    "from keras.preprocessing import sequence\n",
    "from keras.utils import to_categorical\n",
    "from keras.callbacks import EarlyStopping\n",
    "\n",
    "from gensim.models.fasttext import FastText as FT_gensim\n",
    "from gensim.test.utils import datapath\n",
    "\n",
    "%matplotlib inline"
   ]
  },
  {
   "cell_type": "code",
   "execution_count": 2,
   "metadata": {},
   "outputs": [
    {
     "name": "stdout",
     "output_type": "stream",
     "text": [
      "<gensim.models.fasttext.FastText object at 0x7f6efc9d85d0>\n"
     ]
    }
   ],
   "source": [
    "from pprint import pprint as print\n",
    "from gensim.models.fasttext import FastText as FT_gensim\n",
    "from gensim.test.utils import datapath\n",
    "\n",
    "model = FT_gensim(size=100)\n",
    "corpus_file = '../task2_data/task2_en_training.tsv'\n",
    "\n",
    "model.build_vocab(corpus_file=corpus_file)\n",
    "\n",
    "model.train(\n",
    "    corpus_file=corpus_file, \n",
    "    epochs=model.epochs,\n",
    "    total_examples=model.corpus_count, \n",
    "    total_words=model.corpus_total_words, \n",
    "    size=100,\n",
    "    window = 9)\n",
    "\n",
    "print(model)"
   ]
  },
  {
   "cell_type": "code",
   "execution_count": 3,
   "metadata": {},
   "outputs": [
    {
     "name": "stdout",
     "output_type": "stream",
     "text": [
      "True\n"
     ]
    }
   ],
   "source": [
    "print('night' in model.wv.vocab)"
   ]
  },
  {
   "cell_type": "code",
   "execution_count": 6,
   "metadata": {},
   "outputs": [
    {
     "name": "stdout",
     "output_type": "stream",
     "text": [
      "[('866911130', 0.4320991337299347),\n",
      " ('&lt;3', 0.39985495805740356),\n",
      " ('pharmaceutical', 0.32335901260375977),\n",
      " ('sucks.', 0.32074928283691406),\n",
      " ('way', 0.3157516121864319),\n",
      " ('to,', 0.3111726939678192),\n",
      " ('over.', 0.31085073947906494),\n",
      " ('receives', 0.31052887439727783),\n",
      " ('pain.', 0.30470094084739685),\n",
      " ('#meded', 0.29581016302108765)]\n"
     ]
    },
    {
     "name": "stderr",
     "output_type": "stream",
     "text": [
      "/home/alexkay/anaconda3/lib/python3.7/site-packages/ipykernel_launcher.py:1: DeprecationWarning: Call to deprecated `most_similar` (Method will be removed in 4.0.0, use self.wv.most_similar() instead).\n",
      "  \"\"\"Entry point for launching an IPython kernel.\n"
     ]
    }
   ],
   "source": [
    "print(model.most_similar(\"fuck\"))"
   ]
  },
  {
   "cell_type": "code",
   "execution_count": 9,
   "metadata": {},
   "outputs": [],
   "source": [
    "# train the model\n",
    "model.train(\n",
    "    corpus_file=corpus_file, \n",
    "    epochs=model.epochs,\n",
    "    total_examples=model.corpus_count, \n",
    "    total_words=model.corpus_total_words, \n",
    "    size=100,\n",
    "    window = 9)"
   ]
  },
  {
   "cell_type": "code",
   "execution_count": 10,
   "metadata": {},
   "outputs": [
    {
     "name": "stderr",
     "output_type": "stream",
     "text": [
      "/home/alexkay/anaconda3/lib/python3.7/site-packages/ipykernel_launcher.py:1: DeprecationWarning: Call to deprecated `most_similar` (Method will be removed in 4.0.0, use self.wv.most_similar() instead).\n",
      "  \"\"\"Entry point for launching an IPython kernel.\n"
     ]
    },
    {
     "name": "stdout",
     "output_type": "stream",
     "text": [
      "[('fuckn', 0.9811417460441589),\n",
      " ('fuck,', 0.9698376655578613),\n",
      " ('fuck.', 0.9594419002532959),\n",
      " ('fucks', 0.9554578065872192),\n",
      " ('fuckin', 0.9330096244812012),\n",
      " ('ass-fuck', 0.9051220417022705),\n",
      " ('shit', 0.8695719838142395),\n",
      " ('shit.', 0.8554075360298157),\n",
      " ('shit!', 0.8502891659736633),\n",
      " ('suck', 0.8465182185173035)]\n"
     ]
    }
   ],
   "source": [
    "print(model.most_similar(\"fuck\"))"
   ]
  },
  {
   "cell_type": "code",
   "execution_count": 11,
   "metadata": {},
   "outputs": [
    {
     "name": "stdout",
     "output_type": "stream",
     "text": [
      "array([-0.50582165, -1.5102742 ,  0.672839  , -0.0151691 ,  0.1271936 ,\n",
      "       -0.28207093, -0.7421758 ,  0.06128871,  0.5110728 ,  0.46582833,\n",
      "       -0.25324714,  0.89752203, -1.3324379 , -1.0434059 ,  0.4764836 ,\n",
      "       -0.25662744, -0.263473  ,  0.08779418, -0.174473  , -0.30265224,\n",
      "        0.26002598, -0.32885602, -0.06042639,  0.4587137 , -1.3043164 ,\n",
      "       -0.03024818,  0.25693208, -1.202926  ,  0.77092385, -0.50631815,\n",
      "        0.76894546,  1.7099093 , -0.9769523 ,  0.52944076, -0.4547456 ,\n",
      "        0.8228138 ,  1.2998    ,  0.31841037, -0.8483324 ,  0.7148099 ,\n",
      "        1.2362643 ,  0.9965187 ,  1.0309702 ,  0.3976921 ,  0.4633956 ,\n",
      "       -0.7276835 ,  0.16019905, -0.39954194, -0.4545231 , -0.22163124,\n",
      "        0.66494983,  0.95900553,  0.7866461 , -0.9951551 ,  0.8169058 ,\n",
      "        0.19395642, -0.38210478, -0.07744524,  1.2773311 , -1.0859917 ,\n",
      "        0.58738625, -0.3565184 ,  0.7685865 , -0.79482216,  0.29312068,\n",
      "       -0.19142532,  0.2680492 , -1.6869785 ,  0.3976368 , -0.7301035 ,\n",
      "        0.65821135, -0.73701006,  0.07652006,  0.41220817, -0.5455193 ,\n",
      "        0.02423096,  1.1398982 ,  0.7768658 ,  0.142082  ,  0.4454641 ,\n",
      "        1.0220745 , -0.05935691, -0.28563598, -0.7429745 ,  0.7045864 ,\n",
      "        0.33595207, -0.3077227 ,  1.0875875 ,  0.7036589 ,  0.22820143,\n",
      "        0.6924837 ,  0.847604  , -1.7807552 ,  1.6170105 ,  0.413252  ,\n",
      "       -0.463169  , -0.7970823 ,  0.01114294, -0.53023   , -1.36737   ],\n",
      "      dtype=float32)\n"
     ]
    },
    {
     "name": "stderr",
     "output_type": "stream",
     "text": [
      "/home/alexkay/anaconda3/lib/python3.7/site-packages/ipykernel_launcher.py:1: DeprecationWarning: Call to deprecated `__getitem__` (Method will be removed in 4.0.0, use self.wv.__getitem__() instead).\n",
      "  \"\"\"Entry point for launching an IPython kernel.\n"
     ]
    }
   ],
   "source": [
    "print(model['fuck'])"
   ]
  },
  {
   "cell_type": "code",
   "execution_count": null,
   "metadata": {},
   "outputs": [],
   "source": []
  }
 ],
 "metadata": {
  "kernelspec": {
   "display_name": "Python 3",
   "language": "python",
   "name": "python3"
  },
  "language_info": {
   "codemirror_mode": {
    "name": "ipython",
    "version": 3
   },
   "file_extension": ".py",
   "mimetype": "text/x-python",
   "name": "python",
   "nbconvert_exporter": "python",
   "pygments_lexer": "ipython3",
   "version": "3.7.4"
  }
 },
 "nbformat": 4,
 "nbformat_minor": 2
}
