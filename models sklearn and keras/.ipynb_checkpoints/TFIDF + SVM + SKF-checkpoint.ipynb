{
 "cells": [
  {
   "cell_type": "code",
   "execution_count": 20,
   "metadata": {},
   "outputs": [],
   "source": [
    "import pandas as pd \n",
    "import numpy as np\n",
    "\n",
    "from sklearn.feature_extraction.text import CountVectorizer, TfidfVectorizer\n",
    "from sklearn.svm import SVC\n",
    "from sklearn.metrics import roc_auc_score, accuracy_score, f1_score, classification_report\n",
    "from sklearn.model_selection import train_test_split, StratifiedKFold\n",
    "\n",
    "from scipy import stats\n"
   ]
  },
  {
   "cell_type": "code",
   "execution_count": 37,
   "metadata": {},
   "outputs": [
    {
     "data": {
      "text/html": [
       "<div>\n",
       "<style scoped>\n",
       "    .dataframe tbody tr th:only-of-type {\n",
       "        vertical-align: middle;\n",
       "    }\n",
       "\n",
       "    .dataframe tbody tr th {\n",
       "        vertical-align: top;\n",
       "    }\n",
       "\n",
       "    .dataframe thead th {\n",
       "        text-align: right;\n",
       "    }\n",
       "</style>\n",
       "<table border=\"1\" class=\"dataframe\">\n",
       "  <thead>\n",
       "    <tr style=\"text-align: right;\">\n",
       "      <th></th>\n",
       "      <th>class</th>\n",
       "      <th>tweet</th>\n",
       "    </tr>\n",
       "  </thead>\n",
       "  <tbody>\n",
       "    <tr>\n",
       "      <td>0</td>\n",
       "      <td>0</td>\n",
       "      <td>depression hurts, cymbalta can help</td>\n",
       "    </tr>\n",
       "    <tr>\n",
       "      <td>1</td>\n",
       "      <td>0</td>\n",
       "      <td>@jessicama20045 right, but cipro can make thin...</td>\n",
       "    </tr>\n",
       "    <tr>\n",
       "      <td>2</td>\n",
       "      <td>0</td>\n",
       "      <td>@fibby1123 are you on paxil .. i need help</td>\n",
       "    </tr>\n",
       "    <tr>\n",
       "      <td>3</td>\n",
       "      <td>0</td>\n",
       "      <td>@redicine the lamotrigine and sjs just made ch...</td>\n",
       "    </tr>\n",
       "    <tr>\n",
       "      <td>4</td>\n",
       "      <td>0</td>\n",
       "      <td>have decided to skip my #humira shot today. my...</td>\n",
       "    </tr>\n",
       "    <tr>\n",
       "      <td>...</td>\n",
       "      <td>...</td>\n",
       "      <td>...</td>\n",
       "    </tr>\n",
       "    <tr>\n",
       "      <td>21376</td>\n",
       "      <td>0</td>\n",
       "      <td>rt @15stephen15: #todolist 1-finish throat loz...</td>\n",
       "    </tr>\n",
       "    <tr>\n",
       "      <td>21377</td>\n",
       "      <td>0</td>\n",
       "      <td>me: how is your depression now that you�re on ...</td>\n",
       "    </tr>\n",
       "    <tr>\n",
       "      <td>21378</td>\n",
       "      <td>1</td>\n",
       "      <td>rt @ianibbo: finding out i'm allergic to fluox...</td>\n",
       "    </tr>\n",
       "    <tr>\n",
       "      <td>21379</td>\n",
       "      <td>0</td>\n",
       "      <td>@theantimyth @crossfitchemist unexpected and p...</td>\n",
       "    </tr>\n",
       "    <tr>\n",
       "      <td>21380</td>\n",
       "      <td>0</td>\n",
       "      <td>rt @escardio: dronedarone not recommended for ...</td>\n",
       "    </tr>\n",
       "  </tbody>\n",
       "</table>\n",
       "<p>21381 rows × 2 columns</p>\n",
       "</div>"
      ],
      "text/plain": [
       "       class                                              tweet\n",
       "0          0                depression hurts, cymbalta can help\n",
       "1          0  @jessicama20045 right, but cipro can make thin...\n",
       "2          0         @fibby1123 are you on paxil .. i need help\n",
       "3          0  @redicine the lamotrigine and sjs just made ch...\n",
       "4          0  have decided to skip my #humira shot today. my...\n",
       "...      ...                                                ...\n",
       "21376      0  rt @15stephen15: #todolist 1-finish throat loz...\n",
       "21377      0  me: how is your depression now that you�re on ...\n",
       "21378      1  rt @ianibbo: finding out i'm allergic to fluox...\n",
       "21379      0  @theantimyth @crossfitchemist unexpected and p...\n",
       "21380      0  rt @escardio: dronedarone not recommended for ...\n",
       "\n",
       "[21381 rows x 2 columns]"
      ]
     },
     "execution_count": 37,
     "metadata": {},
     "output_type": "execute_result"
    }
   ],
   "source": [
    "# Train set 3\n",
    "df = pd.read_csv('../task2_data/task2_en_training.tsv', sep='\\t')[['class', 'tweet']]\n",
    "df_ex = pd.read_csv('../task2_data/data2_ex.csv')[['class', 'tweet']]\n",
    "df_ex"
   ]
  },
  {
   "cell_type": "code",
   "execution_count": 36,
   "metadata": {
    "scrolled": false
   },
   "outputs": [
    {
     "name": "stdout",
     "output_type": "stream",
     "text": [
      "working with dataset2...\n",
      "StratifiedKFold(n_splits=5, random_state=None, shuffle=False)\n",
      "Stratified K-Fold\n",
      "SVM F1 Score ->  62.211\n",
      "SVM F1 Score ->  67.014\n",
      "SVM F1 Score ->  68.334\n",
      "SVM F1 Score ->  70.48\n",
      "SVM F1 Score ->  53.6\n",
      "F1 average:\t 64.328 %\n",
      "F1 std:\t 6.011\n",
      "F1 var:\t 36.136\n",
      "\n",
      "==================================================\n",
      "working with dataset2_extended\n",
      "StratifiedKFold(n_splits=5, random_state=None, shuffle=False)\n",
      "Stratified K-Fold\n",
      "SVM F1 Score ->  78.061\n",
      "SVM F1 Score ->  77.27\n",
      "SVM F1 Score ->  75.222\n",
      "SVM F1 Score ->  74.173\n",
      "SVM F1 Score ->  70.368\n",
      "F1 average:\t 75.019 %\n",
      "F1 std:\t 2.71\n",
      "F1 var:\t 7.342\n",
      "\n"
     ]
    }
   ],
   "source": [
    "def Model(df):\n",
    "    Train = df.iloc[np.random.permutation(len(df))]\n",
    "    df['class'] = df['class'].apply(lambda x: int(x))\n",
    "\n",
    "    # Tokenization \n",
    "    X = Train['tweet']\n",
    "    Y = Train['class']\n",
    "\n",
    "    X_train, X_test, y_train, y_test = train_test_split(X, Y , test_size=0.2)\n",
    "    tfidf = TfidfVectorizer()\n",
    "\n",
    "    skf = StratifiedKFold(n_splits=5)\n",
    "    skf.get_n_splits(X, Y)\n",
    "    print(skf) \n",
    "\n",
    "    print('Stratified K-Fold')\n",
    "    f1=[] # array of f1 scores \n",
    "    for train_index, test_index in skf.split(X, Y):\n",
    "        X_train, X_test = X[train_index], X[test_index]\n",
    "        y_train, y_test = Y[train_index], Y[test_index]\n",
    "\n",
    "        tfidf.fit(X_train)\n",
    "        X_train = tfidf.transform(X_train)\n",
    "        X_test = tfidf.transform(X_test)\n",
    "\n",
    "        SVM = SVC(kernel='linear')\n",
    "        SVM.fit(X_train,y_train)\n",
    "\n",
    "        predictions_SVM = SVM.predict(X_test)\n",
    "        f1.append(round(f1_score(predictions_SVM, y_test, average='macro')*100,3))\n",
    "        print(\"SVM F1 Score -> \", f1[-1])\n",
    "\n",
    "    # avg f1\n",
    "    print(f'F1 average:\\t {round(np.array(f1).mean(), 3)} %')\n",
    "    print(f'F1 std:\\t {round(np.array(f1).std(), 3)}')\n",
    "    print(f'F1 var:\\t {round(np.array(f1).var(), 3)}')\n",
    "    #print(stats.describe(f1))\n",
    "    print()\n",
    "\n",
    "print('working with dataset2...')\n",
    "Model(df)\n",
    "print('='*50)\n",
    "print('working with dataset2_extended')\n",
    "Model(df_ex)"
   ]
  },
  {
   "cell_type": "code",
   "execution_count": null,
   "metadata": {},
   "outputs": [],
   "source": []
  },
  {
   "cell_type": "markdown",
   "metadata": {},
   "source": [
    "# Dataset task_3"
   ]
  },
  {
   "cell_type": "code",
   "execution_count": 38,
   "metadata": {},
   "outputs": [
    {
     "name": "stdout",
     "output_type": "stream",
     "text": [
      "(2246, 2) (2246, 2)\n",
      "(560, 2) (560, 2)\n"
     ]
    },
    {
     "data": {
      "text/html": [
       "<div>\n",
       "<style scoped>\n",
       "    .dataframe tbody tr th:only-of-type {\n",
       "        vertical-align: middle;\n",
       "    }\n",
       "\n",
       "    .dataframe tbody tr th {\n",
       "        vertical-align: top;\n",
       "    }\n",
       "\n",
       "    .dataframe thead th {\n",
       "        text-align: right;\n",
       "    }\n",
       "</style>\n",
       "<table border=\"1\" class=\"dataframe\">\n",
       "  <thead>\n",
       "    <tr style=\"text-align: right;\">\n",
       "      <th></th>\n",
       "      <th>type</th>\n",
       "      <th>tweet</th>\n",
       "    </tr>\n",
       "  </thead>\n",
       "  <tbody>\n",
       "    <tr>\n",
       "      <td>1259</td>\n",
       "      <td>1</td>\n",
       "      <td>levaquin sucks. blinding headaches. vomiting. ...</td>\n",
       "    </tr>\n",
       "    <tr>\n",
       "      <td>664</td>\n",
       "      <td>0</td>\n",
       "      <td>@foodnetwork bravo for dumping dean. you won a...</td>\n",
       "    </tr>\n",
       "    <tr>\n",
       "      <td>2139</td>\n",
       "      <td>0</td>\n",
       "      <td>headed to work, got a solid 3 hours of sleep l...</td>\n",
       "    </tr>\n",
       "    <tr>\n",
       "      <td>343</td>\n",
       "      <td>1</td>\n",
       "      <td>@rachelhatesjazz watch your eyesight with lami...</td>\n",
       "    </tr>\n",
       "    <tr>\n",
       "      <td>1058</td>\n",
       "      <td>0</td>\n",
       "      <td>seriously want to hear of others experiences w...</td>\n",
       "    </tr>\n",
       "    <tr>\n",
       "      <td>495</td>\n",
       "      <td>1</td>\n",
       "      <td>my nigga dante addicted to that nicotine</td>\n",
       "    </tr>\n",
       "    <tr>\n",
       "      <td>1781</td>\n",
       "      <td>1</td>\n",
       "      <td>08.26 day 14 rivaroxaban diary. just been to c...</td>\n",
       "    </tr>\n",
       "    <tr>\n",
       "      <td>2072</td>\n",
       "      <td>1</td>\n",
       "      <td>i need to start taking my viibryd again but it...</td>\n",
       "    </tr>\n",
       "    <tr>\n",
       "      <td>1175</td>\n",
       "      <td>1</td>\n",
       "      <td>humira why you burn my veins</td>\n",
       "    </tr>\n",
       "    <tr>\n",
       "      <td>613</td>\n",
       "      <td>1</td>\n",
       "      <td>i stopped taking my seroquel because i hate it...</td>\n",
       "    </tr>\n",
       "  </tbody>\n",
       "</table>\n",
       "</div>"
      ],
      "text/plain": [
       "      type                                              tweet\n",
       "1259     1  levaquin sucks. blinding headaches. vomiting. ...\n",
       "664      0  @foodnetwork bravo for dumping dean. you won a...\n",
       "2139     0  headed to work, got a solid 3 hours of sleep l...\n",
       "343      1  @rachelhatesjazz watch your eyesight with lami...\n",
       "1058     0  seriously want to hear of others experiences w...\n",
       "495      1           my nigga dante addicted to that nicotine\n",
       "1781     1  08.26 day 14 rivaroxaban diary. just been to c...\n",
       "2072     1  i need to start taking my viibryd again but it...\n",
       "1175     1                       humira why you burn my veins\n",
       "613      1  i stopped taking my seroquel because i hate it..."
      ]
     },
     "execution_count": 38,
     "metadata": {},
     "output_type": "execute_result"
    }
   ],
   "source": [
    "#Load the data into Pandas dataframe\n",
    "df1 = pd.read_csv('../task3_data/task3_training.tsv', sep='\\t')[['type', 'tweet']]\n",
    "df1 = df1.fillna(0)\n",
    "df1 = df1.replace('ADR', 1)\n",
    "df1 = df1.iloc[np.random.permutation(len(df1))]\n",
    "Train = df1\n",
    "\n",
    "df2 = pd.read_csv('../task3_data/task3_validation.tsv', sep='\\t')[['type', 'tweet']]\n",
    "df2 = df2.fillna(0)\n",
    "df2 = df2.replace('ADR', 1)\n",
    "df2 = df2.iloc[np.random.permutation(len(df2))]\n",
    "df2 = df2.dropna()\n",
    "Test = df2\n",
    "\n",
    "print(Train.shape, Train.shape)\n",
    "print(Test.shape, Test.shape)\n",
    "\n",
    "Train.head(10)"
   ]
  },
  {
   "cell_type": "code",
   "execution_count": 39,
   "metadata": {},
   "outputs": [
    {
     "name": "stdout",
     "output_type": "stream",
     "text": [
      "SVM F1 Score ->  74.321\n"
     ]
    }
   ],
   "source": [
    "X_train = Train['tweet']\n",
    "y_train = Train['type']\n",
    "\n",
    "X_test = Test['tweet']\n",
    "y_test = Test['type']\n",
    "\n",
    "tfidf = TfidfVectorizer()\n",
    "tfidf.fit(X_train)\n",
    "\n",
    "X_train = tfidf.transform(X_train)\n",
    "X_test = tfidf.transform(X_test)\n",
    "\n",
    "f1=[]\n",
    "SVM = SVC(kernel='linear')\n",
    "SVM.fit(X_train,y_train)\n",
    "predictions_SVM = SVM.predict(X_test)\n",
    "f1.append(round(f1_score(predictions_SVM, y_test, average='macro')*100,3))\n",
    "print(\"SVM F1 Score -> \", f1[-1])"
   ]
  },
  {
   "cell_type": "code",
   "execution_count": 40,
   "metadata": {},
   "outputs": [
    {
     "name": "stdout",
     "output_type": "stream",
     "text": [
      "              precision    recall  f1-score   support\n",
      "\n",
      "           0       0.74      0.57      0.65       195\n",
      "           1       0.80      0.89      0.84       365\n",
      "\n",
      "    accuracy                           0.78       560\n",
      "   macro avg       0.77      0.73      0.74       560\n",
      "weighted avg       0.78      0.78      0.77       560\n",
      "\n"
     ]
    }
   ],
   "source": [
    "print(classification_report(y_test, predictions_SVM))"
   ]
  },
  {
   "cell_type": "code",
   "execution_count": 98,
   "metadata": {},
   "outputs": [
    {
     "data": {
      "text/plain": [
       "<1x5730 sparse matrix of type '<class 'numpy.float64'>'\n",
       "\twith 14 stored elements in Compressed Sparse Row format>"
      ]
     },
     "execution_count": 98,
     "metadata": {},
     "output_type": "execute_result"
    }
   ],
   "source": [
    "X_train[1]"
   ]
  },
  {
   "cell_type": "markdown",
   "metadata": {},
   "source": [
    "# FastText vactorized data"
   ]
  },
  {
   "cell_type": "code",
   "execution_count": 100,
   "metadata": {},
   "outputs": [
    {
     "data": {
      "text/html": [
       "<div>\n",
       "<style scoped>\n",
       "    .dataframe tbody tr th:only-of-type {\n",
       "        vertical-align: middle;\n",
       "    }\n",
       "\n",
       "    .dataframe tbody tr th {\n",
       "        vertical-align: top;\n",
       "    }\n",
       "\n",
       "    .dataframe thead th {\n",
       "        text-align: right;\n",
       "    }\n",
       "</style>\n",
       "<table border=\"1\" class=\"dataframe\">\n",
       "  <thead>\n",
       "    <tr style=\"text-align: right;\">\n",
       "      <th></th>\n",
       "      <th>class</th>\n",
       "      <th>tweet</th>\n",
       "    </tr>\n",
       "  </thead>\n",
       "  <tbody>\n",
       "    <tr>\n",
       "      <td>10803</td>\n",
       "      <td>0</td>\n",
       "      <td>[ 1.72466622e-03  1.04556698e-02  6.72125432e-...</td>\n",
       "    </tr>\n",
       "    <tr>\n",
       "      <td>12224</td>\n",
       "      <td>0</td>\n",
       "      <td>[-4.25047416e-04  9.64675378e-03 -2.68500275e-...</td>\n",
       "    </tr>\n",
       "    <tr>\n",
       "      <td>9983</td>\n",
       "      <td>0</td>\n",
       "      <td>[ 0.00193846 -0.0139621   0.00483886  0.005657...</td>\n",
       "    </tr>\n",
       "    <tr>\n",
       "      <td>9086</td>\n",
       "      <td>0</td>\n",
       "      <td>[ 0.00102627  0.00243027 -0.00176164 -0.002496...</td>\n",
       "    </tr>\n",
       "    <tr>\n",
       "      <td>5347</td>\n",
       "      <td>0</td>\n",
       "      <td>[ 1.5524051e-03 -9.0453317e-03  3.5807174e-03 ...</td>\n",
       "    </tr>\n",
       "    <tr>\n",
       "      <td>...</td>\n",
       "      <td>...</td>\n",
       "      <td>...</td>\n",
       "    </tr>\n",
       "    <tr>\n",
       "      <td>20673</td>\n",
       "      <td>0</td>\n",
       "      <td>[-6.0362910e-04 -2.8384433e-03  4.1719177e-03 ...</td>\n",
       "    </tr>\n",
       "    <tr>\n",
       "      <td>20181</td>\n",
       "      <td>1</td>\n",
       "      <td>[-0.00051116 -0.01081371  0.00475729  0.005804...</td>\n",
       "    </tr>\n",
       "    <tr>\n",
       "      <td>17338</td>\n",
       "      <td>0</td>\n",
       "      <td>[ 4.08772612e-04  1.10184364e-02 -3.80635750e-...</td>\n",
       "    </tr>\n",
       "    <tr>\n",
       "      <td>4897</td>\n",
       "      <td>0</td>\n",
       "      <td>[ 1.30958867e-03  1.38866045e-02 -5.62700583e-...</td>\n",
       "    </tr>\n",
       "    <tr>\n",
       "      <td>7814</td>\n",
       "      <td>0</td>\n",
       "      <td>[ 2.2501017e-03 -4.1656690e-03  1.9396499e-03 ...</td>\n",
       "    </tr>\n",
       "  </tbody>\n",
       "</table>\n",
       "<p>21147 rows × 2 columns</p>\n",
       "</div>"
      ],
      "text/plain": [
       "       class                                              tweet\n",
       "10803      0  [ 1.72466622e-03  1.04556698e-02  6.72125432e-...\n",
       "12224      0  [-4.25047416e-04  9.64675378e-03 -2.68500275e-...\n",
       "9983       0  [ 0.00193846 -0.0139621   0.00483886  0.005657...\n",
       "9086       0  [ 0.00102627  0.00243027 -0.00176164 -0.002496...\n",
       "5347       0  [ 1.5524051e-03 -9.0453317e-03  3.5807174e-03 ...\n",
       "...      ...                                                ...\n",
       "20673      0  [-6.0362910e-04 -2.8384433e-03  4.1719177e-03 ...\n",
       "20181      1  [-0.00051116 -0.01081371  0.00475729  0.005804...\n",
       "17338      0  [ 4.08772612e-04  1.10184364e-02 -3.80635750e-...\n",
       "4897       0  [ 1.30958867e-03  1.38866045e-02 -5.62700583e-...\n",
       "7814       0  [ 2.2501017e-03 -4.1656690e-03  1.9396499e-03 ...\n",
       "\n",
       "[21147 rows x 2 columns]"
      ]
     },
     "execution_count": 100,
     "metadata": {},
     "output_type": "execute_result"
    }
   ],
   "source": [
    "import fasttext\n",
    "\n",
    "\n",
    "df_fasttext = pd.read_csv('../task2_data/data2_ex_fasttext.csv')[['class', 'tweet']]\n",
    "df_fasttext['class'] = df_fasttext['class'].apply(lambda x: int(x))\n",
    "df_fasttext['tweet'] = df_fasttext['tweet'].apply(lambda x: np.array(x))\n",
    "\n",
    "Train = df_fasttext.iloc[np.random.permutation(len(df_fasttext))]\n",
    "Train"
   ]
  },
  {
   "cell_type": "code",
   "execution_count": 101,
   "metadata": {},
   "outputs": [
    {
     "data": {
      "text/plain": [
       "((16917,), (4230,), (16917,), (4230,))"
      ]
     },
     "execution_count": 101,
     "metadata": {},
     "output_type": "execute_result"
    }
   ],
   "source": [
    "X = Train['tweet']\n",
    "Y = Train['class']\n",
    "\n",
    "\n",
    "# tfidf = TfidfVectorizer()\n",
    "# tfidf.fit(X_train)\n",
    "\n",
    "# X_train = tfidf.transform(X_train)\n",
    "# X_test = tfidf.transform(X_test)\n",
    "X_train, X_test, y_train, y_test = train_test_split(X, Y , test_size=0.2)\n",
    "X_train.shape, X_test.shape, y_train.shape, y_test.shape"
   ]
  },
  {
   "cell_type": "code",
   "execution_count": 102,
   "metadata": {},
   "outputs": [
    {
     "data": {
      "text/plain": [
       "5760     [ 8.4203895e-04 -8.1642478e-04  1.0820375e-03 ...\n",
       "10058    [ 0.00149613  0.00555444 -0.00300463 -0.005840...\n",
       "1740     [ 0.00240864  0.01360526 -0.0042684  -0.006971...\n",
       "3386     [ 0.00082583  0.01619679 -0.00402853 -0.010228...\n",
       "6010     [ 0.00370547  0.03346064 -0.01379369 -0.018577...\n",
       "                               ...                        \n",
       "20751    [ 1.4772103e-03  1.8447092e-04 -2.4529296e-04 ...\n",
       "15516    [ 0.00297261  0.02018336 -0.004667   -0.011547...\n",
       "18963    [ 0.00024215  0.02325715 -0.01034474 -0.013331...\n",
       "16063    [-1.0613265e-03  3.4231944e-03 -2.4256518e-03 ...\n",
       "1775     [ 0.00077729 -0.01174619  0.00479401  0.006003...\n",
       "Name: tweet, Length: 16917, dtype: object"
      ]
     },
     "execution_count": 102,
     "metadata": {},
     "output_type": "execute_result"
    }
   ],
   "source": [
    "#X_train = np.array(X_train)\n",
    "X_train"
   ]
  },
  {
   "cell_type": "code",
   "execution_count": 104,
   "metadata": {},
   "outputs": [
    {
     "ename": "TypeError",
     "evalue": "cannot convert the series to <class 'float'>",
     "output_type": "error",
     "traceback": [
      "\u001b[0;31m---------------------------------------------------------------------------\u001b[0m",
      "\u001b[0;31mTypeError\u001b[0m                                 Traceback (most recent call last)",
      "\u001b[0;32m<ipython-input-104-62fe52ed1c75>\u001b[0m in \u001b[0;36m<module>\u001b[0;34m\u001b[0m\n\u001b[1;32m      1\u001b[0m \u001b[0mSVM\u001b[0m \u001b[0;34m=\u001b[0m \u001b[0mSVC\u001b[0m\u001b[0;34m(\u001b[0m\u001b[0mkernel\u001b[0m\u001b[0;34m=\u001b[0m\u001b[0;34m'linear'\u001b[0m\u001b[0;34m)\u001b[0m\u001b[0;34m\u001b[0m\u001b[0;34m\u001b[0m\u001b[0m\n\u001b[0;32m----> 2\u001b[0;31m \u001b[0mSVM\u001b[0m\u001b[0;34m.\u001b[0m\u001b[0mfit\u001b[0m\u001b[0;34m(\u001b[0m\u001b[0mfloat\u001b[0m\u001b[0;34m(\u001b[0m\u001b[0mX_train\u001b[0m\u001b[0;34m)\u001b[0m\u001b[0;34m,\u001b[0m\u001b[0my_train\u001b[0m\u001b[0;34m)\u001b[0m\u001b[0;34m\u001b[0m\u001b[0;34m\u001b[0m\u001b[0m\n\u001b[0m",
      "\u001b[0;32m~/anaconda3/lib/python3.7/site-packages/pandas/core/series.py\u001b[0m in \u001b[0;36mwrapper\u001b[0;34m(self)\u001b[0m\n\u001b[1;32m    129\u001b[0m         \u001b[0;32mif\u001b[0m \u001b[0mlen\u001b[0m\u001b[0;34m(\u001b[0m\u001b[0mself\u001b[0m\u001b[0;34m)\u001b[0m \u001b[0;34m==\u001b[0m \u001b[0;36m1\u001b[0m\u001b[0;34m:\u001b[0m\u001b[0;34m\u001b[0m\u001b[0;34m\u001b[0m\u001b[0m\n\u001b[1;32m    130\u001b[0m             \u001b[0;32mreturn\u001b[0m \u001b[0mconverter\u001b[0m\u001b[0;34m(\u001b[0m\u001b[0mself\u001b[0m\u001b[0;34m.\u001b[0m\u001b[0miloc\u001b[0m\u001b[0;34m[\u001b[0m\u001b[0;36m0\u001b[0m\u001b[0;34m]\u001b[0m\u001b[0;34m)\u001b[0m\u001b[0;34m\u001b[0m\u001b[0;34m\u001b[0m\u001b[0m\n\u001b[0;32m--> 131\u001b[0;31m         \u001b[0;32mraise\u001b[0m \u001b[0mTypeError\u001b[0m\u001b[0;34m(\u001b[0m\u001b[0;34m\"cannot convert the series to \"\u001b[0m \u001b[0;34m\"{0}\"\u001b[0m\u001b[0;34m.\u001b[0m\u001b[0mformat\u001b[0m\u001b[0;34m(\u001b[0m\u001b[0mstr\u001b[0m\u001b[0;34m(\u001b[0m\u001b[0mconverter\u001b[0m\u001b[0;34m)\u001b[0m\u001b[0;34m)\u001b[0m\u001b[0;34m)\u001b[0m\u001b[0;34m\u001b[0m\u001b[0;34m\u001b[0m\u001b[0m\n\u001b[0m\u001b[1;32m    132\u001b[0m \u001b[0;34m\u001b[0m\u001b[0m\n\u001b[1;32m    133\u001b[0m     \u001b[0mwrapper\u001b[0m\u001b[0;34m.\u001b[0m\u001b[0m__name__\u001b[0m \u001b[0;34m=\u001b[0m \u001b[0;34m\"__{name}__\"\u001b[0m\u001b[0;34m.\u001b[0m\u001b[0mformat\u001b[0m\u001b[0;34m(\u001b[0m\u001b[0mname\u001b[0m\u001b[0;34m=\u001b[0m\u001b[0mconverter\u001b[0m\u001b[0;34m.\u001b[0m\u001b[0m__name__\u001b[0m\u001b[0;34m)\u001b[0m\u001b[0;34m\u001b[0m\u001b[0;34m\u001b[0m\u001b[0m\n",
      "\u001b[0;31mTypeError\u001b[0m: cannot convert the series to <class 'float'>"
     ]
    }
   ],
   "source": [
    "SVM = SVC(kernel='linear')\n",
    "SVM.fit(float(X_train),y_train)"
   ]
  },
  {
   "cell_type": "code",
   "execution_count": 69,
   "metadata": {},
   "outputs": [
    {
     "name": "stdout",
     "output_type": "stream",
     "text": [
      "SVM F1 Score ->  74.321\n"
     ]
    }
   ],
   "source": [
    "predictions_SVM = SVM.predict(X_test)\n",
    "f1.append(round(f1_score(predictions_SVM, y_test, average='macro')*100,3))\n",
    "print(\"SVM F1 Score -> \", f1[-1])"
   ]
  },
  {
   "cell_type": "code",
   "execution_count": null,
   "metadata": {},
   "outputs": [],
   "source": []
  }
 ],
 "metadata": {
  "kernelspec": {
   "display_name": "Python 3",
   "language": "python",
   "name": "python3"
  },
  "language_info": {
   "codemirror_mode": {
    "name": "ipython",
    "version": 3
   },
   "file_extension": ".py",
   "mimetype": "text/x-python",
   "name": "python",
   "nbconvert_exporter": "python",
   "pygments_lexer": "ipython3",
   "version": "3.7.4"
  }
 },
 "nbformat": 4,
 "nbformat_minor": 2
}
