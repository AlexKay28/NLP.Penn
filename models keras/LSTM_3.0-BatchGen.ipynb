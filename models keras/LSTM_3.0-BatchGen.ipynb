{
 "cells": [
  {
   "cell_type": "code",
   "execution_count": 1,
   "metadata": {},
   "outputs": [
    {
     "name": "stderr",
     "output_type": "stream",
     "text": [
      "Using TensorFlow backend.\n"
     ]
    }
   ],
   "source": [
    "from sklearn.model_selection import train_test_split\n",
    "from sklearn.preprocessing import LabelEncoder\n",
    "from keras.models import Model\n",
    "from keras.layers import LSTM, Activation, Dense, Dropout, Input, Embedding, Bidirectional \n",
    "from keras.optimizers import RMSprop\n",
    "\n",
    "from keras.preprocessing.text import Tokenizer\n",
    "from keras.preprocessing.text import text_to_word_sequence\n",
    "from keras.preprocessing import sequence\n",
    "\n",
    "from keras.layers.normalization import BatchNormalization\n",
    "from keras.callbacks import EarlyStopping, ModelCheckpoint\n",
    "\n",
    "from keras.utils import to_categorical\n",
    "from keras.callbacks import EarlyStopping\n",
    "import pandas as pd\n",
    "import numpy as np\n",
    "\n",
    "from sklearn.utils import shuffle\n",
    "from sklearn.metrics import confusion_matrix\n",
    "\n",
    "import re\n",
    "\n",
    "import gensim\n",
    "#from pymystem3 import Mystem\n",
    "#from stanfordcorenlp import StanfordCoreNLP\n",
    "import spacy_udpipe"
   ]
  },
  {
   "cell_type": "code",
   "execution_count": 2,
   "metadata": {},
   "outputs": [
    {
     "data": {
      "text/html": [
       "<div>\n",
       "<style scoped>\n",
       "    .dataframe tbody tr th:only-of-type {\n",
       "        vertical-align: middle;\n",
       "    }\n",
       "\n",
       "    .dataframe tbody tr th {\n",
       "        vertical-align: top;\n",
       "    }\n",
       "\n",
       "    .dataframe thead th {\n",
       "        text-align: right;\n",
       "    }\n",
       "</style>\n",
       "<table border=\"1\" class=\"dataframe\">\n",
       "  <thead>\n",
       "    <tr style=\"text-align: right;\">\n",
       "      <th></th>\n",
       "      <th>tweet_id</th>\n",
       "      <th>user_id</th>\n",
       "      <th>class</th>\n",
       "      <th>tweet</th>\n",
       "    </tr>\n",
       "  </thead>\n",
       "  <tbody>\n",
       "    <tr>\n",
       "      <th>0</th>\n",
       "      <td>344266386467606528</td>\n",
       "      <td>809439366</td>\n",
       "      <td>0</td>\n",
       "      <td>depression hurts, cymbalta can help</td>\n",
       "    </tr>\n",
       "    <tr>\n",
       "      <th>1</th>\n",
       "      <td>349220537903489025</td>\n",
       "      <td>323112996</td>\n",
       "      <td>0</td>\n",
       "      <td>@jessicama20045 right, but cipro can make thin...</td>\n",
       "    </tr>\n",
       "    <tr>\n",
       "      <th>2</th>\n",
       "      <td>351421773079781378</td>\n",
       "      <td>713100330</td>\n",
       "      <td>0</td>\n",
       "      <td>@fibby1123 are you on paxil .. i need help</td>\n",
       "    </tr>\n",
       "    <tr>\n",
       "      <th>3</th>\n",
       "      <td>326594278472171520</td>\n",
       "      <td>543113070</td>\n",
       "      <td>0</td>\n",
       "      <td>@redicine the lamotrigine and sjs just made ch...</td>\n",
       "    </tr>\n",
       "    <tr>\n",
       "      <th>4</th>\n",
       "      <td>345567138376994816</td>\n",
       "      <td>138795534</td>\n",
       "      <td>0</td>\n",
       "      <td>have decided to skip my #humira shot today. my...</td>\n",
       "    </tr>\n",
       "  </tbody>\n",
       "</table>\n",
       "</div>"
      ],
      "text/plain": [
       "             tweet_id    user_id  class  \\\n",
       "0  344266386467606528  809439366      0   \n",
       "1  349220537903489025  323112996      0   \n",
       "2  351421773079781378  713100330      0   \n",
       "3  326594278472171520  543113070      0   \n",
       "4  345567138376994816  138795534      0   \n",
       "\n",
       "                                               tweet  \n",
       "0                depression hurts, cymbalta can help  \n",
       "1  @jessicama20045 right, but cipro can make thin...  \n",
       "2         @fibby1123 are you on paxil .. i need help  \n",
       "3  @redicine the lamotrigine and sjs just made ch...  \n",
       "4  have decided to skip my #humira shot today. my...  "
      ]
     },
     "execution_count": 2,
     "metadata": {},
     "output_type": "execute_result"
    }
   ],
   "source": [
    "df = pd.read_csv('../task2_data/task2_en_training.tsv',delimiter='\\t')\n",
    "df.head()"
   ]
  },
  {
   "cell_type": "code",
   "execution_count": 3,
   "metadata": {},
   "outputs": [
    {
     "name": "stdout",
     "output_type": "stream",
     "text": [
      "Already downloaded a model for the 'en' language\n"
     ]
    }
   ],
   "source": [
    "spacy_udpipe.download(\"en\")\n",
    "nlp = spacy_udpipe.load(\"en\")\n",
    "w2v_model = gensim.models.KeyedVectors.load_word2vec_format(\"../Embeddings/model.bin\", binary=True) \n",
    "#model.vocab "
   ]
  },
  {
   "cell_type": "code",
   "execution_count": 4,
   "metadata": {},
   "outputs": [],
   "source": [
    "def lemmatize_with_postag(text = \"\"\"\"Wikipedia is a free online encyclopedia, created and \n",
    "                          edited by volunteers around the world.\"\"\",\n",
    "                          nlp=nlp):\n",
    "    doc = nlp(text)\n",
    "    tagged = []\n",
    "    for token in doc:\n",
    "        lemma = token.lemma_\n",
    "        pos = token.pos_\n",
    "        #[\"VERB\", \"NUM\", \"ADV\", \"NOUN\", \"ADJ\", \"AUX\", \"PRON\", \"ADP\", \"DET\", \"ADV\", \"INTJ\", \"PROPN\"]:\n",
    "        if pos not in [\"PUNCT\"]: \n",
    "            tagged.append(lemma.lower() + '_' + pos)\n",
    "    return tagged"
   ]
  },
  {
   "cell_type": "code",
   "execution_count": 5,
   "metadata": {},
   "outputs": [
    {
     "name": "stdout",
     "output_type": "stream",
     "text": [
      "(1000, 2)\n",
      "(400, 2)\n"
     ]
    }
   ],
   "source": [
    "X_train = df['tweet']\n",
    "y_train = df['class']\n",
    "\n",
    "Xy = pd.concat([X_train, y_train], axis=1)\n",
    "\n",
    "# paramters of the text praprations\n",
    "n_items_for_train = 500\n",
    "n_items_for_test  = 200\n",
    "max_words         = 2000 \n",
    "\n",
    "# n_items_for_train твитов для тренировки с индексом класса 1\n",
    "df_1 = Xy[Xy['class'] == 1].iloc[:n_items_for_train] \n",
    "# n_items_for_train твитов для тренировки с индексом класса 0\n",
    "df_0 = Xy[Xy['class'] == 0].iloc[:n_items_for_train] \n",
    "\n",
    "Xy_ = shuffle(pd.concat([df_0, df_1]))\n",
    "Xy_train = pd.concat([Xy_[\"tweet\"].apply(lemmatize_with_postag), Xy_[\"class\"]], axis = 1)\n",
    "\n",
    "\n",
    "\n",
    "# n_items_for_test твитов для теста с индексом класса 1\n",
    "df_1 = Xy[Xy['class'] == 1].iloc[n_items_for_train:n_items_for_train+n_items_for_test]\n",
    "# n_items_for_test твитов для теста с индексом класса 0\n",
    "df_0 = Xy[Xy['class'] == 0].iloc[n_items_for_train:n_items_for_train+n_items_for_test]\n",
    "\n",
    "Xy_ = shuffle(pd.concat([df_0, df_1]))\n",
    "Xy_test = pd.concat([Xy_[\"tweet\"].apply(lemmatize_with_postag), Xy_[\"class\"]], axis = 1)\n",
    "\n",
    "print(Xy_train.shape)\n",
    "print(Xy_test.shape)\n",
    "#Xy_train, Xy_test"
   ]
  },
  {
   "cell_type": "code",
   "execution_count": 6,
   "metadata": {},
   "outputs": [
    {
     "name": "stdout",
     "output_type": "stream",
     "text": [
      "max_len = 36\n"
     ]
    }
   ],
   "source": [
    "# replcade as parameter in the begining\n",
    "#max_words = 2000 # ограничение вокуабуляра\n",
    "\n",
    "maxima = 0\n",
    "for ar in Xy_train['tweet'].to_list():\n",
    "    if len(ar)>maxima: maxima = len(ar)\n",
    "for ar in Xy_test['tweet']:\n",
    "    if len(ar)>maxima: maxima = len(ar)\n",
    "max_len = maxima + 1\n",
    "print(f'max_len = {max_len}')\n",
    "\n",
    "tok = Tokenizer(num_words=max_words)\n",
    "tok.fit_on_texts(Xy_train[\"tweet\"]) #fit on train\n",
    "\n",
    "# exctrax features from train\n",
    "sequences_train = tok.texts_to_sequences(Xy_train[\"tweet\"])\n",
    "sequences_matrix_train = sequence.pad_sequences(sequences_train, maxlen=max_len)\n",
    "\n",
    "# exctrax features from test\n",
    "sequences_test = tok.texts_to_sequences(Xy_test[\"tweet\"])\n",
    "sequences_matrix_test = sequence.pad_sequences(sequences_test, maxlen=max_len)"
   ]
  },
  {
   "cell_type": "code",
   "execution_count": 7,
   "metadata": {},
   "outputs": [
    {
     "name": "stdout",
     "output_type": "stream",
     "text": [
      "Everything is OK\n",
      "4169\n"
     ]
    }
   ],
   "source": [
    "def fix_word_key(string):\n",
    "    upper_part = (re.findall('_.*',string))[0].upper()\n",
    "    result = re.sub(r'_.*', upper_part, string)\n",
    "    #print(f'was {string} -> became {result}')\n",
    "    return result\n",
    "\n",
    "word_index = tok.word_index\n",
    "#print('Found %s unique tokens' % len(word_index))\n",
    "\n",
    "wi1 = len(word_index)\n",
    "\n",
    "# fix tokenizer problem\n",
    "for key in word_index.keys():\n",
    "    fixed_key = fix_word_key(key)\n",
    "    word_index[fixed_key] = word_index.pop(key)\n",
    "    \n",
    "#print('Found %s unique tokens' % len(word_index))\n",
    "wi2 = len(word_index)\n",
    "\n",
    "if wi1 != wi2:\n",
    "    print()\n",
    "    error = 'lenght of word_index was changed!'\n",
    "    print(error.upper())\n",
    "    raise ValueError\n",
    "else:\n",
    "    print('Everything is OK')\n",
    "    print(len(word_index))"
   ]
  },
  {
   "cell_type": "code",
   "execution_count": 8,
   "metadata": {},
   "outputs": [
    {
     "name": "stdout",
     "output_type": "stream",
     "text": [
      "number of words = 2001\n",
      "(2001, 300)\n",
      "Null word embeddings: 1173\n"
     ]
    }
   ],
   "source": [
    "# делаем Embedding на основе w2v модели\n",
    "\n",
    "nb_words = min(max_words, len(word_index))+1 # проверяем где меньше, в нашем датасете или в токенайзере.\n",
    "EMBEDDING_DIM = 300                          # размерность векторов в нашей модели w2v\n",
    "\n",
    "print(f'number of words = {nb_words}')\n",
    "\n",
    "embedding_matrix = np.zeros((nb_words, EMBEDDING_DIM))\n",
    "print(embedding_matrix.shape)\n",
    "\n",
    "counter = 0\n",
    "for word, i in word_index.items():\n",
    "    if i >= nb_words: continue\n",
    "    if word in w2v_model.vocab:\n",
    "        embedding_matrix[i] = w2v_model[word]\n",
    "\n",
    "\n",
    "print('Null word embeddings: %d' % np.sum(np.sum(embedding_matrix, axis=1) == 0))\n",
    "#pd.DataFrame(embedding_matrix)"
   ]
  },
  {
   "cell_type": "markdown",
   "metadata": {},
   "source": [
    "# BI-LSTM (3.0)\n",
    "\n",
    "https://stackoverflow.com/questions/44924690/keras-the-difference-between-lstm-dropout-and-lstm-recurrent-dropout"
   ]
  },
  {
   "cell_type": "code",
   "execution_count": 9,
   "metadata": {},
   "outputs": [],
   "source": [
    "rate_drop_lstm  = 0.15 + np.random.rand() * 0.25\n",
    "rate_drop_dense = 0.15 + np.random.rand() * 0.25\n",
    "act = 'relu'\n",
    "\n",
    "\n",
    "embedding_layer      = Embedding(nb_words,\n",
    "                                EMBEDDING_DIM,\n",
    "                                weights=[embedding_matrix],\n",
    "                                input_length=max_len,\n",
    "                                trainable=False) \n",
    "lstm_layer           = Bidirectional(LSTM(64, dropout=rate_drop_lstm, recurrent_dropout=rate_drop_lstm))\n",
    "\n",
    "# CONFIGURATION OF BI-LSTM\n",
    "sequence_1_input     = Input(shape=(max_len,), dtype='int32')\n",
    "embedded_sequences_1 = embedding_layer(sequence_1_input)\n",
    "x1                   = lstm_layer(embedded_sequences_1)\n",
    "merged               = Dropout(rate_drop_dense)(x1)\n",
    "merged               = BatchNormalization()(merged)\n",
    "merged               = Dense(32, activation=act)(merged)\n",
    "merged               = Dropout(rate_drop_dense)(merged)\n",
    "merged               = BatchNormalization()(merged)\n",
    "preds                = Dense(1, activation='sigmoid')(merged)"
   ]
  },
  {
   "cell_type": "code",
   "execution_count": 10,
   "metadata": {},
   "outputs": [],
   "source": [
    "STAMP = 'lstm_%d_%d_%.2f_%.2f'%(10, 10, rate_drop_lstm, rate_drop_dense)\n",
    "\n",
    "model = Model(inputs=[sequence_1_input], outputs=preds)\n",
    "model.compile(loss='binary_crossentropy', \n",
    "              optimizer='rmsprop', \n",
    "              metrics=['acc'])\n",
    "# model.summary()\n",
    "# print(STAMP, end='\\n\\n')"
   ]
  },
  {
   "cell_type": "code",
   "execution_count": 11,
   "metadata": {
    "scrolled": false
   },
   "outputs": [],
   "source": [
    "from myclass import DataGenerator\n",
    "\n",
    "epochs = 200\n",
    "batch_size = 32\n",
    "patience = 20\n",
    "\n",
    "\n",
    "early_stopping =EarlyStopping(monitor='val_loss', patience=patience)\n",
    "bst_model_path = STAMP + '.h5'\n",
    "model_checkpoint = ModelCheckpoint(bst_model_path, save_best_only=True, save_weights_only=True)\n",
    "\n",
    "# Parameters\n",
    "params = {'batch_size': batch_size, #(n_items_for_train, max_len, EMBEDDING_DIM)\n",
    "          'dim': max_len,\n",
    "          'n_classes': 1,\n",
    "          'shuffle': True}\n",
    "\n",
    "# Datasets\n",
    "partition_train = sequences_matrix_train\n",
    "partition_val   = sequences_matrix_test[:n_items_for_test//2]\n",
    "partition_test  = sequences_matrix_test[n_items_for_test//2:]\n",
    "\n",
    "labels_train = np.array(Xy_train[\"class\"]).tolist()\n",
    "labels_val   = np.array(Xy_test[\"class\"]).tolist()[:n_items_for_test//2]\n",
    "\n",
    "# Generators\n",
    "training_generator   = DataGenerator(partition_train, labels_train, **params)\n",
    "validation_generator = DataGenerator(partition_val, labels_val, **params)"
   ]
  },
  {
   "cell_type": "code",
   "execution_count": 12,
   "metadata": {},
   "outputs": [
    {
     "name": "stdout",
     "output_type": "stream",
     "text": [
      "Epoch 1/200\n",
      "15/15 [==============================] - 5s 365ms/step - loss: 0.8093 - acc: 0.5750 - val_loss: 0.6900 - val_acc: 0.6250\n",
      "Epoch 2/200\n",
      "15/15 [==============================] - 1s 87ms/step - loss: 0.7448 - acc: 0.5667 - val_loss: 0.6910 - val_acc: 0.5938\n",
      "Epoch 3/200\n",
      "Epoch 2/200\n",
      "15/15 [==============================] - 1s 94ms/step - loss: 0.7059 - acc: 0.6229 - val_loss: 0.6891 - val_acc: 0.5938\n",
      "Epoch 4/200\n",
      "15/15 [==============================] - 1s 80ms/step - loss: 0.6216 - acc: 0.6542 - val_loss: 0.6835 - val_acc: 0.6458\n",
      "Epoch 5/200\n",
      "15/15 [==============================] - 1s 87ms/step - loss: 0.6617 - acc: 0.6354 - val_loss: 0.6878 - val_acc: 0.6250\n",
      "Epoch 6/200\n",
      "15/15 [==============================] - 1s 81ms/step - loss: 0.6211 - acc: 0.6792 - val_loss: 0.6822 - val_acc: 0.6458\n",
      "Epoch 7/200\n",
      "15/15 [==============================] - 2s 120ms/step - loss: 0.5507 - acc: 0.7417 - val_loss: 0.6693 - val_acc: 0.6146\n",
      "Epoch 8/200\n",
      "15/15 [==============================] - 1s 84ms/step - loss: 0.5530 - acc: 0.7312 - val_loss: 0.6592 - val_acc: 0.7292\n",
      "Epoch 9/200\n",
      "15/15 [==============================] - 1s 96ms/step - loss: 0.5518 - acc: 0.7479 - val_loss: 0.6631 - val_acc: 0.6667\n",
      "Epoch 10/200\n",
      "15/15 [==============================] - 1s 76ms/step - loss: 0.5605 - acc: 0.7437 - val_loss: 0.6554 - val_acc: 0.6771\n",
      "Epoch 11/200\n",
      "15/15 [==============================] - 1s 94ms/step - loss: 0.5530 - acc: 0.7396 - val_loss: 0.6677 - val_acc: 0.6354\n",
      "Epoch 12/200\n",
      "15/15 [==============================] - 1s 85ms/step - loss: 0.5417 - acc: 0.7563 - val_loss: 0.6429 - val_acc: 0.7292\n",
      "Epoch 13/200\n",
      "15/15 [==============================] - 1s 93ms/step - loss: 0.5045 - acc: 0.7521 - val_loss: 0.7009 - val_acc: 0.5104\n",
      "Epoch 14/200\n",
      "15/15 [==============================] - 1s 79ms/step - loss: 0.5169 - acc: 0.7625 - val_loss: 0.6463 - val_acc: 0.6667\n",
      "Epoch 15/200\n",
      "15/15 [==============================] - 2s 102ms/step - loss: 0.4712 - acc: 0.7875 - val_loss: 0.6688 - val_acc: 0.6667\n",
      "Epoch 16/200\n",
      "15/15 [==============================] - 1s 86ms/step - loss: 0.5111 - acc: 0.7563 - val_loss: 0.6429 - val_acc: 0.5625\n",
      "Epoch 17/200\n",
      "15/15 [==============================] - 1s 85ms/step - loss: 0.4543 - acc: 0.7875 - val_loss: 0.6511 - val_acc: 0.5521\n",
      "Epoch 18/200\n",
      "15/15 [==============================] - 1s 81ms/step - loss: 0.4878 - acc: 0.7750 - val_loss: 0.6709 - val_acc: 0.5938\n",
      "Epoch 19/200\n",
      "15/15 [==============================] - 1s 89ms/step - loss: 0.4293 - acc: 0.7958 - val_loss: 0.6863 - val_acc: 0.5417\n",
      "Epoch 20/200\n",
      "15/15 [==============================] - 1s 87ms/step - loss: 0.4153 - acc: 0.8000 - val_loss: 0.6164 - val_acc: 0.6042\n",
      "Epoch 21/200\n",
      "15/15 [==============================] - 1s 99ms/step - loss: 0.4184 - acc: 0.8146 - val_loss: 0.6372 - val_acc: 0.6562\n",
      "Epoch 22/200\n",
      "15/15 [==============================] - 1s 89ms/step - loss: 0.4744 - acc: 0.7896 - val_loss: 0.6246 - val_acc: 0.6458\n",
      "Epoch 23/200\n",
      "15/15 [==============================] - 2s 103ms/step - loss: 0.4327 - acc: 0.7875 - val_loss: 0.6188 - val_acc: 0.6771\n",
      "Epoch 24/200\n",
      "15/15 [==============================] - 1s 82ms/step - loss: 0.3710 - acc: 0.8375 - val_loss: 0.6288 - val_acc: 0.6458\n",
      "Epoch 25/200\n",
      "15/15 [==============================] - 1s 100ms/step - loss: 0.4221 - acc: 0.8188 - val_loss: 0.5610 - val_acc: 0.6250\n",
      "Epoch 26/200\n",
      "15/15 [==============================] - 1s 80ms/step - loss: 0.4469 - acc: 0.7896 - val_loss: 0.6946 - val_acc: 0.6146\n",
      "Epoch 27/200\n",
      "15/15 [==============================] - 1s 87ms/step - loss: 0.3706 - acc: 0.8250 - val_loss: 0.5913 - val_acc: 0.6458\n",
      "Epoch 28/200\n",
      "Epoch 27/200\n",
      "15/15 [==============================] - 1s 83ms/step - loss: 0.4004 - acc: 0.8271 - val_loss: 0.5352 - val_acc: 0.6250\n",
      "Epoch 29/200\n",
      "15/15 [==============================] - 1s 82ms/step - loss: 0.4121 - acc: 0.8188 - val_loss: 0.5889 - val_acc: 0.6771\n",
      "Epoch 30/200\n",
      "15/15 [==============================] - 1s 86ms/step - loss: 0.3860 - acc: 0.8208 - val_loss: 0.7022 - val_acc: 0.6562\n",
      "Epoch 31/200\n",
      "15/15 [==============================] - 1s 90ms/step - loss: 0.3637 - acc: 0.8396 - val_loss: 0.4892 - val_acc: 0.6875\n",
      "Epoch 32/200\n",
      "15/15 [==============================] - 1s 84ms/step - loss: 0.3494 - acc: 0.8417 - val_loss: 0.5247 - val_acc: 0.6458\n",
      "Epoch 33/200\n",
      "Epoch 32/200\n",
      "15/15 [==============================] - 1s 77ms/step - loss: 0.4048 - acc: 0.8021 - val_loss: 0.3991 - val_acc: 0.7188\n",
      "Epoch 34/200\n",
      "15/15 [==============================] - 1s 83ms/step - loss: 0.3397 - acc: 0.8438 - val_loss: 0.5283 - val_acc: 0.6979\n",
      "Epoch 35/200\n",
      "15/15 [==============================] - 1s 81ms/step - loss: 0.3963 - acc: 0.8313 - val_loss: 0.5802 - val_acc: 0.6250\n",
      "Epoch 36/200\n",
      "15/15 [==============================] - 1s 95ms/step - loss: 0.3562 - acc: 0.8292 - val_loss: 0.6856 - val_acc: 0.6771\n",
      "Epoch 37/200\n",
      "15/15 [==============================] - 1s 89ms/step - loss: 0.4045 - acc: 0.8250 - val_loss: 0.7471 - val_acc: 0.6875\n",
      "Epoch 38/200\n",
      "15/15 [==============================] - 1s 92ms/step - loss: 0.3351 - acc: 0.8562 - val_loss: 0.6423 - val_acc: 0.6354\n",
      "Epoch 39/200\n",
      "15/15 [==============================] - 1s 90ms/step - loss: 0.3946 - acc: 0.8292 - val_loss: 0.5741 - val_acc: 0.7083\n",
      "Epoch 40/200\n",
      "15/15 [==============================] - 1s 94ms/step - loss: 0.3805 - acc: 0.8083 - val_loss: 0.4964 - val_acc: 0.7083\n",
      "Epoch 41/200\n",
      "15/15 [==============================] - 1s 82ms/step - loss: 0.3406 - acc: 0.8854 - val_loss: 0.7306 - val_acc: 0.6146\n",
      "Epoch 42/200\n",
      "15/15 [==============================] - 1s 99ms/step - loss: 0.3606 - acc: 0.8479 - val_loss: 0.5840 - val_acc: 0.6250\n",
      "Epoch 43/200\n",
      "15/15 [==============================] - 1s 78ms/step - loss: 0.3593 - acc: 0.8500 - val_loss: 0.7073 - val_acc: 0.6354\n",
      "Epoch 44/200\n",
      "15/15 [==============================] - 2s 104ms/step - loss: 0.3664 - acc: 0.8396 - val_loss: 0.5478 - val_acc: 0.6771\n",
      "Epoch 45/200\n",
      "15/15 [==============================] - 1s 84ms/step - loss: 0.3059 - acc: 0.8792 - val_loss: 0.7229 - val_acc: 0.6667\n",
      "Epoch 46/200\n",
      "15/15 [==============================] - 1s 96ms/step - loss: 0.3161 - acc: 0.8438 - val_loss: 0.5424 - val_acc: 0.6771\n",
      "Epoch 47/200\n",
      "15/15 [==============================] - 1s 82ms/step - loss: 0.3124 - acc: 0.8646 - val_loss: 0.6586 - val_acc: 0.7292\n",
      "Epoch 48/200\n",
      "15/15 [==============================] - 2s 103ms/step - loss: 0.3111 - acc: 0.8583 - val_loss: 0.6498 - val_acc: 0.7396\n",
      "Epoch 49/200\n",
      "15/15 [==============================] - 1s 79ms/step - loss: 0.3281 - acc: 0.8542 - val_loss: 0.5211 - val_acc: 0.7604\n",
      "Epoch 50/200\n",
      "15/15 [==============================] - 1s 86ms/step - loss: 0.3073 - acc: 0.8500 - val_loss: 0.5279 - val_acc: 0.6875\n",
      "Epoch 51/200\n",
      "15/15 [==============================] - 1s 75ms/step - loss: 0.3313 - acc: 0.8667 - val_loss: 0.5608 - val_acc: 0.6979\n",
      "Epoch 52/200\n",
      "15/15 [==============================] - 1s 94ms/step - loss: 0.3194 - acc: 0.8604 - val_loss: 0.5016 - val_acc: 0.7604\n",
      "Epoch 53/200\n",
      "15/15 [==============================] - 1s 72ms/step - loss: 0.3254 - acc: 0.8604 - val_loss: 0.5154 - val_acc: 0.6771\n"
     ]
    }
   ],
   "source": [
    "# Train model on dataset\n",
    "coeff = 1\n",
    "steps_per_epoch = coeff * (n_items_for_train // batch_size)\n",
    "\n",
    "history = model.fit_generator(generator=training_generator,\n",
    "                              validation_data=validation_generator,\n",
    "                              steps_per_epoch=steps_per_epoch,\n",
    "                              use_multiprocessing=True, workers=4,\n",
    "                              epochs=epochs, shuffle=True,\n",
    "                              callbacks=[early_stopping, model_checkpoint])"
   ]
  },
  {
   "cell_type": "code",
   "execution_count": 13,
   "metadata": {},
   "outputs": [
    {
     "data": {
      "image/png": "[encoded data removed]",
      "text/plain": [
       "<Figure size 720x576 with 1 Axes>"
      ]
     },
     "metadata": {
      "needs_background": "light"
     },
     "output_type": "display_data"
    },
    {
     "data": {
      "image/png": "[encoded data removed]",
      "text/plain": [
       "<Figure size 720x576 with 1 Axes>"
      ]
     },
     "metadata": {
      "needs_background": "light"
     },
     "output_type": "display_data"
    }
   ],
   "source": [
    "import matplotlib.pyplot as plt\n",
    "%matplotlib inline\n",
    "plt.rcParams[\"figure.figsize\"] = (10, 8) \n",
    "\n",
    "# summarize history for accuracy\n",
    "plt.plot(history.history['acc'])\n",
    "plt.plot(history.history['val_acc'])\n",
    "plt.title('model accuracy')\n",
    "plt.ylabel('acc')\n",
    "plt.xlabel('epoch')\n",
    "plt.legend(['train', 'test'], loc='upper left')\n",
    "plt.show()\n",
    "\n",
    "# summarize history for loss\n",
    "plt.plot(history.history['loss'])\n",
    "plt.plot(history.history['val_loss'])\n",
    "plt.title('model loss')\n",
    "plt.ylabel('loss')\n",
    "plt.xlabel('epoch')\n",
    "plt.legend(['train', 'test'], loc='upper left')\n",
    "plt.show()"
   ]
  },
  {
   "cell_type": "code",
   "execution_count": 14,
   "metadata": {},
   "outputs": [
    {
     "name": "stdout",
     "output_type": "stream",
     "text": [
      "              precision    recall  f1-score   support\n",
      "\n",
      "           0       0.79      0.70      0.75       148\n",
      "           1       0.74      0.82      0.78       152\n",
      "\n",
      "    accuracy                           0.76       300\n",
      "   macro avg       0.77      0.76      0.76       300\n",
      "weighted avg       0.77      0.76      0.76       300\n",
      "\n"
     ]
    }
   ],
   "source": [
    "pred = model.predict(sequences_matrix_test[n_items_for_test//2:])\n",
    "pred.shape\n",
    "bin_pred, real = [], np.array(Xy_test[\"class\"]).tolist()[n_items_for_test//2:]\n",
    "for i in range(len(pred)):\n",
    "    #print(f'pred = {int(round(float(pred[i][0]), 0))},\\t real = {real[i]}')\n",
    "    bin_pred.append(int(round(float(pred[i][0]), 0))) \n",
    "#np.array(Xy_test[\"class\"]).tolist()\n",
    "bin_pred, real\n",
    "from sklearn.metrics import classification_report\n",
    "print(classification_report(real, bin_pred))"
   ]
  },
  {
   "cell_type": "code",
   "execution_count": 15,
   "metadata": {},
   "outputs": [
    {
     "data": {
      "text/html": [
       "<div>\n",
       "<style scoped>\n",
       "    .dataframe tbody tr th:only-of-type {\n",
       "        vertical-align: middle;\n",
       "    }\n",
       "\n",
       "    .dataframe tbody tr th {\n",
       "        vertical-align: top;\n",
       "    }\n",
       "\n",
       "    .dataframe thead th {\n",
       "        text-align: right;\n",
       "    }\n",
       "</style>\n",
       "<table border=\"1\" class=\"dataframe\">\n",
       "  <thead>\n",
       "    <tr style=\"text-align: right;\">\n",
       "      <th></th>\n",
       "      <th>Pos</th>\n",
       "      <th>Neg</th>\n",
       "    </tr>\n",
       "  </thead>\n",
       "  <tbody>\n",
       "    <tr>\n",
       "      <th>0</th>\n",
       "      <td>104</td>\n",
       "      <td>44</td>\n",
       "    </tr>\n",
       "    <tr>\n",
       "      <th>1</th>\n",
       "      <td>27</td>\n",
       "      <td>125</td>\n",
       "    </tr>\n",
       "  </tbody>\n",
       "</table>\n",
       "</div>"
      ],
      "text/plain": [
       "   Pos  Neg\n",
       "0  104   44\n",
       "1   27  125"
      ]
     },
     "execution_count": 15,
     "metadata": {},
     "output_type": "execute_result"
    }
   ],
   "source": [
    "pd.DataFrame(confusion_matrix(real, bin_pred), columns=['Pos', 'Neg'])"
   ]
  },
  {
   "cell_type": "code",
   "execution_count": null,
   "metadata": {},
   "outputs": [],
   "source": []
  }
 ],
 "metadata": {
  "kernelspec": {
   "display_name": "Python 3",
   "language": "python",
   "name": "python3"
  },
  "language_info": {
   "codemirror_mode": {
    "name": "ipython",
    "version": 3
   },
   "file_extension": ".py",
   "mimetype": "text/x-python",
   "name": "python",
   "nbconvert_exporter": "python",
   "pygments_lexer": "ipython3",
   "version": "3.7.6"
  }
 },
 "nbformat": 4,
 "nbformat_minor": 2
}
