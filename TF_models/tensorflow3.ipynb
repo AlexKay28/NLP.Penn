{
 "cells": [
  {
   "cell_type": "code",
   "execution_count": 1,
   "metadata": {},
   "outputs": [],
   "source": [
    "%load_ext tensorboard\n",
    "!rm -rf ./logs/\n",
    "\n",
    "import pandas as pd\n",
    "import numpy as np\n",
    "\n",
    "import tensorflow as tf\n",
    "import tensorflow_addons as tfa\n",
    "\n",
    "from sklearn.model_selection import train_test_split\n",
    "\n",
    "import matplotlib.pyplot as plt"
   ]
  },
  {
   "cell_type": "code",
   "execution_count": 2,
   "metadata": {},
   "outputs": [],
   "source": [
    "#https://stackoverflow.com/questions/37213388/keras-accuracy-does-not-change"
   ]
  },
  {
   "cell_type": "markdown",
   "metadata": {},
   "source": [
    "# Load data"
   ]
  },
  {
   "cell_type": "code",
   "execution_count": 3,
   "metadata": {},
   "outputs": [
    {
     "data": {
      "text/html": [
       "<div>\n",
       "<style scoped>\n",
       "    .dataframe tbody tr th:only-of-type {\n",
       "        vertical-align: middle;\n",
       "    }\n",
       "\n",
       "    .dataframe tbody tr th {\n",
       "        vertical-align: top;\n",
       "    }\n",
       "\n",
       "    .dataframe thead th {\n",
       "        text-align: right;\n",
       "    }\n",
       "</style>\n",
       "<table border=\"1\" class=\"dataframe\">\n",
       "  <thead>\n",
       "    <tr style=\"text-align: right;\">\n",
       "      <th></th>\n",
       "      <th>Unnamed: 0</th>\n",
       "      <th>class</th>\n",
       "      <th>tweet</th>\n",
       "    </tr>\n",
       "  </thead>\n",
       "  <tbody>\n",
       "    <tr>\n",
       "      <th>0</th>\n",
       "      <td>0</td>\n",
       "      <td>0</td>\n",
       "      <td>depression hurts, cymbalta can help</td>\n",
       "    </tr>\n",
       "    <tr>\n",
       "      <th>1</th>\n",
       "      <td>5</td>\n",
       "      <td>0</td>\n",
       "      <td>@jessicama20045 right, but cipro can make thin...</td>\n",
       "    </tr>\n",
       "    <tr>\n",
       "      <th>2</th>\n",
       "      <td>6</td>\n",
       "      <td>0</td>\n",
       "      <td>@fibby1123 are you on paxil .. i need help</td>\n",
       "    </tr>\n",
       "    <tr>\n",
       "      <th>3</th>\n",
       "      <td>7</td>\n",
       "      <td>0</td>\n",
       "      <td>@redicine the lamotrigine and sjs just made ch...</td>\n",
       "    </tr>\n",
       "    <tr>\n",
       "      <th>4</th>\n",
       "      <td>8</td>\n",
       "      <td>0</td>\n",
       "      <td>have decided to skip my #humira shot today. my...</td>\n",
       "    </tr>\n",
       "    <tr>\n",
       "      <th>...</th>\n",
       "      <td>...</td>\n",
       "      <td>...</td>\n",
       "      <td>...</td>\n",
       "    </tr>\n",
       "    <tr>\n",
       "      <th>21376</th>\n",
       "      <td>21703</td>\n",
       "      <td>0</td>\n",
       "      <td>rt @15stephen15: #todolist 1-finish throat loz...</td>\n",
       "    </tr>\n",
       "    <tr>\n",
       "      <th>21377</th>\n",
       "      <td>21704</td>\n",
       "      <td>0</td>\n",
       "      <td>me: how is your depression now that you�re on ...</td>\n",
       "    </tr>\n",
       "    <tr>\n",
       "      <th>21378</th>\n",
       "      <td>21705</td>\n",
       "      <td>1</td>\n",
       "      <td>rt @ianibbo: finding out i'm allergic to fluox...</td>\n",
       "    </tr>\n",
       "    <tr>\n",
       "      <th>21379</th>\n",
       "      <td>21706</td>\n",
       "      <td>0</td>\n",
       "      <td>@theantimyth @crossfitchemist unexpected and p...</td>\n",
       "    </tr>\n",
       "    <tr>\n",
       "      <th>21380</th>\n",
       "      <td>21707</td>\n",
       "      <td>0</td>\n",
       "      <td>rt @escardio: dronedarone not recommended for ...</td>\n",
       "    </tr>\n",
       "  </tbody>\n",
       "</table>\n",
       "<p>21381 rows × 3 columns</p>\n",
       "</div>"
      ],
      "text/plain": [
       "       Unnamed: 0  class                                              tweet\n",
       "0               0      0                depression hurts, cymbalta can help\n",
       "1               5      0  @jessicama20045 right, but cipro can make thin...\n",
       "2               6      0         @fibby1123 are you on paxil .. i need help\n",
       "3               7      0  @redicine the lamotrigine and sjs just made ch...\n",
       "4               8      0  have decided to skip my #humira shot today. my...\n",
       "...           ...    ...                                                ...\n",
       "21376       21703      0  rt @15stephen15: #todolist 1-finish throat loz...\n",
       "21377       21704      0  me: how is your depression now that you�re on ...\n",
       "21378       21705      1  rt @ianibbo: finding out i'm allergic to fluox...\n",
       "21379       21706      0  @theantimyth @crossfitchemist unexpected and p...\n",
       "21380       21707      0  rt @escardio: dronedarone not recommended for ...\n",
       "\n",
       "[21381 rows x 3 columns]"
      ]
     },
     "execution_count": 3,
     "metadata": {},
     "output_type": "execute_result"
    }
   ],
   "source": [
    "path = '/home/alexkay/NLP.Penn/task2_data/data2_ex.csv'\n",
    "df = pd.read_csv(path)\n",
    "df"
   ]
  },
  {
   "cell_type": "code",
   "execution_count": 4,
   "metadata": {},
   "outputs": [],
   "source": [
    "df_0 = df[df['class']==0][:2500]\n",
    "df_1 = df[df['class']==1][:2500]\n",
    "\n",
    "df = pd.concat([df_0, df_1])"
   ]
  },
  {
   "cell_type": "code",
   "execution_count": 5,
   "metadata": {},
   "outputs": [
    {
     "name": "stdout",
     "output_type": "stream",
     "text": [
      "(5000, 3)\n"
     ]
    },
    {
     "data": {
      "text/html": [
       "<div>\n",
       "<style scoped>\n",
       "    .dataframe tbody tr th:only-of-type {\n",
       "        vertical-align: middle;\n",
       "    }\n",
       "\n",
       "    .dataframe tbody tr th {\n",
       "        vertical-align: top;\n",
       "    }\n",
       "\n",
       "    .dataframe thead th {\n",
       "        text-align: right;\n",
       "    }\n",
       "</style>\n",
       "<table border=\"1\" class=\"dataframe\">\n",
       "  <thead>\n",
       "    <tr style=\"text-align: right;\">\n",
       "      <th></th>\n",
       "      <th>tweet</th>\n",
       "      <th>class</th>\n",
       "    </tr>\n",
       "  </thead>\n",
       "  <tbody>\n",
       "    <tr>\n",
       "      <th>0</th>\n",
       "      <td>depression hurts, cymbalta can help</td>\n",
       "      <td>0</td>\n",
       "    </tr>\n",
       "    <tr>\n",
       "      <th>1</th>\n",
       "      <td>@jessicama20045 right, but cipro can make thin...</td>\n",
       "      <td>0</td>\n",
       "    </tr>\n",
       "    <tr>\n",
       "      <th>2</th>\n",
       "      <td>@fibby1123 are you on paxil .. i need help</td>\n",
       "      <td>0</td>\n",
       "    </tr>\n",
       "    <tr>\n",
       "      <th>3</th>\n",
       "      <td>@redicine the lamotrigine and sjs just made ch...</td>\n",
       "      <td>0</td>\n",
       "    </tr>\n",
       "    <tr>\n",
       "      <th>4</th>\n",
       "      <td>have decided to skip my #humira shot today. my...</td>\n",
       "      <td>0</td>\n",
       "    </tr>\n",
       "  </tbody>\n",
       "</table>\n",
       "</div>"
      ],
      "text/plain": [
       "                                               tweet  class\n",
       "0                depression hurts, cymbalta can help      0\n",
       "1  @jessicama20045 right, but cipro can make thin...      0\n",
       "2         @fibby1123 are you on paxil .. i need help      0\n",
       "3  @redicine the lamotrigine and sjs just made ch...      0\n",
       "4  have decided to skip my #humira shot today. my...      0"
      ]
     },
     "execution_count": 5,
     "metadata": {},
     "output_type": "execute_result"
    }
   ],
   "source": [
    "print(df.shape)\n",
    "data = df[['tweet', 'class']]\n",
    "data.head()"
   ]
  },
  {
   "cell_type": "code",
   "execution_count": 6,
   "metadata": {},
   "outputs": [
    {
     "data": {
      "text/plain": [
       "((4250,), (4250,), (750,), (750,))"
      ]
     },
     "execution_count": 6,
     "metadata": {},
     "output_type": "execute_result"
    }
   ],
   "source": [
    "X_train, X_test, y_train, y_test = train_test_split(data['tweet'], data['class'], test_size=0.15, random_state=5)\n",
    "X_train.shape, y_train.shape, X_test.shape, y_test.shape"
   ]
  },
  {
   "cell_type": "markdown",
   "metadata": {},
   "source": [
    "# Tokenize data"
   ]
  },
  {
   "cell_type": "code",
   "execution_count": 7,
   "metadata": {},
   "outputs": [],
   "source": [
    "num_words = 10_000"
   ]
  },
  {
   "cell_type": "code",
   "execution_count": 8,
   "metadata": {},
   "outputs": [],
   "source": [
    "tokenizer = tf.keras.preprocessing.text.Tokenizer(num_words=num_words, \n",
    "                                                  oov_token='<OOV>', \n",
    "                                                  filters='!\"#$%&()*+,-./:;<=>?@[\\\\]^_`{|}~\\t\\n')"
   ]
  },
  {
   "cell_type": "code",
   "execution_count": 9,
   "metadata": {},
   "outputs": [],
   "source": [
    "tokenizer.fit_on_texts(X_train)"
   ]
  },
  {
   "cell_type": "code",
   "execution_count": 10,
   "metadata": {},
   "outputs": [],
   "source": [
    "word_index = tokenizer.word_index"
   ]
  },
  {
   "cell_type": "code",
   "execution_count": 11,
   "metadata": {},
   "outputs": [],
   "source": [
    "x_train = tokenizer.texts_to_sequences(X_train)\n",
    "x_test = tokenizer.texts_to_sequences(X_test)"
   ]
  },
  {
   "cell_type": "code",
   "execution_count": 12,
   "metadata": {},
   "outputs": [
    {
     "data": {
      "text/plain": [
       "33"
      ]
     },
     "execution_count": 12,
     "metadata": {},
     "output_type": "execute_result"
    }
   ],
   "source": [
    "max_len1 = max([len(el) for el in x_train])\n",
    "max_len2 = max([len(el) for el in x_test])\n",
    "max_len = max(max_len1, max_len2)\n",
    "max_len"
   ]
  },
  {
   "cell_type": "code",
   "execution_count": 13,
   "metadata": {},
   "outputs": [],
   "source": [
    "x_train = tf.keras.preprocessing.sequence.pad_sequences(x_train, maxlen=max_len, padding='post')\n",
    "x_test = tf.keras.preprocessing.sequence.pad_sequences(x_test, maxlen=max_len, padding='post')"
   ]
  },
  {
   "cell_type": "code",
   "execution_count": 14,
   "metadata": {},
   "outputs": [
    {
     "data": {
      "text/plain": [
       "(array([[2523,    2,   19, ...,    0,    0,    0],\n",
       "        [ 226,   12,    3, ...,    0,    0,    0],\n",
       "        [  37, 1559,   12, ...,    0,    0,    0],\n",
       "        ...,\n",
       "        [3420,  235,  156, ...,    0,    0,    0],\n",
       "        [  18,   98,    5, ...,    0,    0,    0],\n",
       "        [   2,   82,   28, ...,    0,    0,    0]], dtype=int32),\n",
       " array([[6230,  241,   36, ...,    0,    0,    0],\n",
       "        [  33,   47,  295, ...,    0,    0,    0],\n",
       "        [  36,  180,  347, ...,    0,    0,    0],\n",
       "        ...,\n",
       "        [   1, 1003, 1722, ...,    0,    0,    0],\n",
       "        [   1,   22,  885, ...,    0,    0,    0],\n",
       "        [ 172,  190,  163, ...,    0,    0,    0]], dtype=int32))"
      ]
     },
     "execution_count": 14,
     "metadata": {},
     "output_type": "execute_result"
    }
   ],
   "source": [
    "x_train, x_test"
   ]
  },
  {
   "cell_type": "code",
   "execution_count": 15,
   "metadata": {},
   "outputs": [],
   "source": [
    "y_train = tf.keras.utils.to_categorical(y_train, num_classes=2)\n",
    "y_test = tf.keras.utils.to_categorical(y_test, num_classes=2)"
   ]
  },
  {
   "cell_type": "code",
   "execution_count": 16,
   "metadata": {},
   "outputs": [
    {
     "data": {
      "text/plain": [
       "((4250, 2), (750, 2))"
      ]
     },
     "execution_count": 16,
     "metadata": {},
     "output_type": "execute_result"
    }
   ],
   "source": [
    "y_train.shape, y_test.shape"
   ]
  },
  {
   "cell_type": "code",
   "execution_count": 17,
   "metadata": {},
   "outputs": [],
   "source": [
    "BATCH_SIZE = 64\n",
    "BUF_SIZE = 2000\n",
    "\n",
    "train_dataset = tf.data.Dataset.from_tensor_slices((x_train, y_train)).shuffle(BUF_SIZE).padded_batch(\n",
    "                                                                            BATCH_SIZE, drop_remainder=True)\n",
    "test_dataset = tf.data.Dataset.from_tensor_slices((x_test, y_test)).padded_batch(\n",
    "                                                                            BATCH_SIZE, drop_remainder=True)"
   ]
  },
  {
   "cell_type": "code",
   "execution_count": 18,
   "metadata": {},
   "outputs": [
    {
     "data": {
      "text/plain": [
       "(<PaddedBatchDataset shapes: ((64, 33), (64, 2)), types: (tf.int32, tf.float32)>,\n",
       " <PaddedBatchDataset shapes: ((64, 33), (64, 2)), types: (tf.int32, tf.float32)>)"
      ]
     },
     "execution_count": 18,
     "metadata": {},
     "output_type": "execute_result"
    }
   ],
   "source": [
    "train_dataset, test_dataset"
   ]
  },
  {
   "cell_type": "markdown",
   "metadata": {},
   "source": [
    "# Prepare embedding with fasttext"
   ]
  },
  {
   "cell_type": "code",
   "execution_count": 19,
   "metadata": {},
   "outputs": [],
   "source": [
    "from gensim.models.fasttext import FastText \n",
    "from gensim.test.utils import datapath"
   ]
  },
  {
   "cell_type": "code",
   "execution_count": 20,
   "metadata": {},
   "outputs": [],
   "source": [
    "#del model_gensim, model"
   ]
  },
  {
   "cell_type": "code",
   "execution_count": 21,
   "metadata": {},
   "outputs": [],
   "source": [
    "corpus_file = datapath(path)"
   ]
  },
  {
   "cell_type": "code",
   "execution_count": 22,
   "metadata": {},
   "outputs": [],
   "source": [
    "vec_size = 128"
   ]
  },
  {
   "cell_type": "code",
   "execution_count": 23,
   "metadata": {},
   "outputs": [],
   "source": [
    "model_FastText = FastText(size=vec_size)"
   ]
  },
  {
   "cell_type": "code",
   "execution_count": 24,
   "metadata": {},
   "outputs": [],
   "source": [
    "model_FastText.build_vocab(corpus_file=corpus_file)"
   ]
  },
  {
   "cell_type": "code",
   "execution_count": 25,
   "metadata": {},
   "outputs": [],
   "source": [
    "model_FastText.train(\n",
    "    corpus_file=corpus_file, \n",
    "    epochs=10,\n",
    "    total_examples=model_FastText.corpus_count, \n",
    "    total_words=model_FastText.corpus_total_words,\n",
    "    model='skipgram',\n",
    "    min_count=3\n",
    ")"
   ]
  },
  {
   "cell_type": "code",
   "execution_count": 26,
   "metadata": {},
   "outputs": [
    {
     "data": {
      "text/plain": [
       "(10765, 10000)"
      ]
     },
     "execution_count": 26,
     "metadata": {},
     "output_type": "execute_result"
    }
   ],
   "source": [
    "vocab_size = len(tokenizer.word_index)\n",
    "vocab_size, num_words"
   ]
  },
  {
   "cell_type": "code",
   "execution_count": 27,
   "metadata": {},
   "outputs": [
    {
     "data": {
      "text/plain": [
       "(10000, 128)"
      ]
     },
     "execution_count": 27,
     "metadata": {},
     "output_type": "execute_result"
    }
   ],
   "source": [
    "embedding_matrix = np.zeros((num_words, vec_size))\n",
    "embedding_matrix.shape"
   ]
  },
  {
   "cell_type": "code",
   "execution_count": 28,
   "metadata": {},
   "outputs": [
    {
     "name": "stderr",
     "output_type": "stream",
     "text": [
      "/home/alexkay/anaconda3/lib/python3.7/site-packages/ipykernel_launcher.py:3: DeprecationWarning: Call to deprecated `__getitem__` (Method will be removed in 4.0.0, use self.wv.__getitem__() instead).\n",
      "  This is separate from the ipykernel package so we can avoid doing imports until\n",
      "/home/alexkay/anaconda3/lib/python3.7/site-packages/ipykernel_launcher.py:5: DeprecationWarning: Call to deprecated `__getitem__` (Method will be removed in 4.0.0, use self.wv.__getitem__() instead).\n",
      "  \"\"\"\n"
     ]
    },
    {
     "data": {
      "text/plain": [
       "((10000, 128), (128,))"
      ]
     },
     "execution_count": 28,
     "metadata": {},
     "output_type": "execute_result"
    }
   ],
   "source": [
    "for i, word in enumerate(tokenizer.word_index):\n",
    "    if i == num_words: break\n",
    "    embedding_matrix[i] = model_FastText[word]\n",
    "    \n",
    "embedding_matrix.shape, model['<OOV>'].shape"
   ]
  },
  {
   "cell_type": "markdown",
   "metadata": {},
   "source": [
    "# Model"
   ]
  },
  {
   "cell_type": "code",
   "execution_count": 29,
   "metadata": {},
   "outputs": [],
   "source": [
    "num_words = num_words\n",
    "embedding_dim = vec_size\n",
    "units = 64\n",
    "BATCH_SIZE = BATCH_SIZE\n",
    "EPOCHS = 200\n",
    "lr = 1e-3\n",
    "\n",
    "rate_drop_lstm  = 0.15 + np.random.rand() * 0.25\n",
    "rate_drop_dense = 0.15 + np.random.rand() * 0.25\n",
    "\n",
    "try:\n",
    "    if model:\n",
    "        del model\n",
    "except NameError:\n",
    "    print('poh')\n",
    "    \n",
    "\n",
    "class MyModel(tf.keras.Model):\n",
    "    \n",
    "    def __init__(self, num_words, embedding_dim, embedding_matrix):\n",
    "        super(MyModel, self).__init__()\n",
    "        \n",
    "        units_lstm = 64\n",
    "        dropout_lstm = 0.15 + np.random.rand() * 0.25\n",
    "\n",
    "        activation_denses = 'relu'\n",
    "        units_dense1 = 64\n",
    "        units_dense2 = 64\n",
    "        dropout_layers = 0.2\n",
    "        trainable = True\n",
    "    \n",
    "        self.num_words = num_words\n",
    "        self.embedding_dim = embedding_dim\n",
    "        self.embedding_matrix = embedding_matrix\n",
    "        \n",
    "        self.embedding_layer = tf.keras.layers.Embedding(self.num_words,\n",
    "                                                         128,\n",
    "                                                         #self.embedding_dim,\n",
    "                                                         #weights=[self.embedding_matrix],\n",
    "                                                         trainable=trainable)\n",
    "        self.lstm_layer = tf.keras.layers.LSTM(units_lstm, dropout=dropout_lstm)\n",
    "        self.bi_dir = tf.keras.layers.Bidirectional(self.lstm_layer)\n",
    "        self.dense1 = tf.keras.layers.Dense(units_dense1, activation=activation_denses,\n",
    "                                               kernel_regularizer=tf.keras.regularizers.l2(0.001))\n",
    "        self.dense2= tf.keras.layers.Dense(units_dense2, activation=activation_denses,\n",
    "                                               kernel_regularizer=tf.keras.regularizers.l2(0.001))\n",
    "        self.dropout = tf.keras.layers.Dropout(dropout_layers)\n",
    "        self.output_layer = tf.keras.layers.Dense(2, activation='softmax')\n",
    "        \n",
    "    def call(self, inputs, training_mode=True):\n",
    "        x = self.embedding_layer(inputs)\n",
    "        x = self.bi_dir(x)\n",
    "        x = self.dense1(x)\n",
    "        if training_mode:\n",
    "            x = self.dropout(x)\n",
    "        x = self.dense2(x)\n",
    "        if training_mode:\n",
    "            x = self.dropout(x)\n",
    "        output = self.output_layer(x)\n",
    "        return output\n",
    "    \n",
    "model = MyModel(num_words, embedding_dim, embedding_matrix)"
   ]
  },
  {
   "cell_type": "markdown",
   "metadata": {},
   "source": [
    "# TensorBoard"
   ]
  },
  {
   "cell_type": "code",
   "execution_count": 30,
   "metadata": {},
   "outputs": [
    {
     "name": "stdout",
     "output_type": "stream",
     "text": [
      "logs  tensorflow1.ipynb  tensorflow2.ipynb\r\n"
     ]
    }
   ],
   "source": [
    "import datetime\n",
    "\n",
    "current_time = datetime.datetime.now().strftime(\"%Y%m%d-%H%M%S\")\n",
    "train_log_dir = 'logs/gradient_tape/' + current_time + '/train'\n",
    "test_log_dir = 'logs/gradient_tape/' + current_time + '/test'\n",
    "train_summary_writer = tf.summary.create_file_writer(train_log_dir)\n",
    "test_summary_writer = tf.summary.create_file_writer(test_log_dir)\n",
    "\n",
    "!ls"
   ]
  },
  {
   "cell_type": "markdown",
   "metadata": {},
   "source": [
    "# LR schedule"
   ]
  },
  {
   "cell_type": "code",
   "execution_count": 31,
   "metadata": {},
   "outputs": [
    {
     "data": {
      "text/plain": [
       "Text(0.5, 0, 'Train Step')"
      ]
     },
     "execution_count": 31,
     "metadata": {},
     "output_type": "execute_result"
    },
    {
     "data": {
      "image/png": "[encoded data removed]",
      "text/plain": [
       "<Figure size 432x288 with 1 Axes>"
      ]
     },
     "metadata": {
      "needs_background": "light"
     },
     "output_type": "display_data"
    }
   ],
   "source": [
    "class CustomSchedule(tf.keras.optimizers.schedules.LearningRateSchedule):\n",
    "    def __init__(self, warmup_steps=5):\n",
    "        super(CustomSchedule, self).__init__()\n",
    "\n",
    "    def __call__(self, step):\n",
    "        return tf.math.maximum(0.001 - 0.000001 * step, 0.0001)\n",
    "\n",
    "learning_rate = CustomSchedule()\n",
    "\n",
    "plt.plot(learning_rate(tf.range(50, dtype=tf.float32)))\n",
    "plt.ylabel(\"Learning Rate\")\n",
    "plt.xlabel(\"Train Step\")"
   ]
  },
  {
   "cell_type": "markdown",
   "metadata": {},
   "source": [
    "# Loss_obj, Optimizer, Train-Test steps"
   ]
  },
  {
   "cell_type": "code",
   "execution_count": 32,
   "metadata": {},
   "outputs": [],
   "source": [
    "loss_object = tf.keras.losses.BinaryCrossentropy()\n",
    "optimizer = tf.keras.optimizers.Adam(1e-3) #, beta_1=0.9, beta_2=0.98, epsilon=1e-9)\n",
    "\n",
    "train_loss = tf.keras.metrics.Mean(name='train_loss')\n",
    "train_acc = tfa.metrics.F1Score(2, name='f1_score')\n",
    "\n",
    "test_loss = tf.keras.metrics.Mean(name='test_loss')\n",
    "test_acc = tfa.metrics.F1Score(2, name='val_f1_score')"
   ]
  },
  {
   "cell_type": "code",
   "execution_count": 33,
   "metadata": {},
   "outputs": [],
   "source": [
    "@tf.function\n",
    "def train_step(values, labels):\n",
    "    print('make train step...')\n",
    "    with tf.GradientTape() as tape:\n",
    "        predictions = model(values)\n",
    "        loss = loss_object(labels, predictions)\n",
    "    gradients = tape.gradient(loss, model.trainable_variables)\n",
    "    optimizer.apply_gradients(zip(gradients, model.trainable_variables))\n",
    "    train_loss(loss)\n",
    "    train_acc(labels, predictions)\n",
    "\n",
    "    \n",
    "@tf.function\n",
    "def test_step(values, labels):\n",
    "    print('make test step...')\n",
    "    predictions = model(values)\n",
    "    t_loss = loss_object(labels, predictions)\n",
    "    test_loss(t_loss)\n",
    "    test_acc(labels, predictions)\n"
   ]
  },
  {
   "cell_type": "markdown",
   "metadata": {},
   "source": [
    "# Train loop"
   ]
  },
  {
   "cell_type": "code",
   "execution_count": 34,
   "metadata": {
    "scrolled": true
   },
   "outputs": [
    {
     "name": "stdout",
     "output_type": "stream",
     "text": [
      "make train step...\n",
      "make train step...\n",
      "make test step...tch:64 loss:0.6161041259765625\n",
      "EPOCH:0/100 loss:0.6707 f1:0.6427 val_loss:4.0240 val_f1:0.7773\n",
      "pat + epoch#4 batch:10 loss:0.442734420299530037\n",
      "EPOCH:5/100 loss:0.2282 f1:0.8997 val_loss:1.3692 val_f1:0.8185\n",
      "pat + epoch#7 batch:10 loss:0.528852045536041312\n",
      "pat + epoch#8 batch:10 loss:0.566664516925811894\n",
      "pat + epoch#9 batch:10 loss:0.601818501949310364\n",
      "EPOCH:10/100 loss:0.1363 f1:0.9387 val_loss:0.8175 val_f1:0.8183\n",
      "pat +\n",
      "pat + epoch#11 batch:10 loss:0.684738099575042771\n",
      "Patience counter was exceeded...!\n",
      "Last epoch:11 with best f1-score = 0.8186545372009277\n",
      "Best f1-score = 0.8186545372009277\n"
     ]
    }
   ],
   "source": [
    "EPOCHS = 100\n",
    "pat, PATIENCE_MAX, best = 0, 5, 0\n",
    "\n",
    "f1train, f1test = [], []\n",
    "ltrain, ltest = [], []\n",
    "for epoch in range(EPOCHS):\n",
    "    \n",
    "    total_loss_train, total_acc_train = 0, 0\n",
    "    total_loss_test,  total_acc_test  = 0, 0\n",
    "    \n",
    "    batch_counter1, batch_counter2 = 0, 0\n",
    "    \n",
    "    #print(f'Epoch:{epoch}/{EPOCHS}\\n')\n",
    "    for batch, (train_tweet, train_label) in enumerate(train_dataset):\n",
    "        train_step(train_tweet, train_label)\n",
    "        s_loss = train_loss.result()\n",
    "        total_loss_train += train_loss.result()\n",
    "        batch_counter1 += 1\n",
    "        if batch % 2 == 0:\n",
    "            print(f'TRAIN: epoch#{epoch} batch:{batch} loss:{s_loss}', end='\\r')\n",
    "    with train_summary_writer.as_default():\n",
    "        tf.summary.scalar('loss', total_loss_train, step=epoch)\n",
    "        tf.summary.scalar('accuracy', sum(train_acc.result())/2, step=epoch)\n",
    "            \n",
    "    for batch, (test_tweet, test_label) in enumerate(test_dataset):\n",
    "        test_step(test_tweet, test_label)\n",
    "        s_loss = test_loss.result()\n",
    "        total_loss_test += test_loss.result()\n",
    "        batch_counter2 += 1\n",
    "        if batch % 2 == 0:\n",
    "            print(f'TEST: epoch#{epoch} batch:{batch} loss:{s_loss}', end='\\r')\n",
    "    with test_summary_writer.as_default():\n",
    "        tf.summary.scalar('loss', total_loss_test, step=epoch)\n",
    "        tf.summary.scalar('accuracy', sum(test_acc.result())/2, step=epoch)\n",
    "      \n",
    "    trainL = total_loss_train/batch_counter1\n",
    "    trainA = sum(train_acc.result())/2\n",
    "    ltrain.append(trainL)\n",
    "    f1train.append(trainA)\n",
    "    \n",
    "    testL = total_loss_train/batch_counter2\n",
    "    testA = sum(test_acc.result())/2\n",
    "    ltest.append(testL)\n",
    "    f1test.append(testA)\n",
    "    \n",
    "    if  epoch % 5 == 0:\n",
    "        print(f'EPOCH:{epoch}/{EPOCHS} loss:{trainL:.4f} f1:{trainA:.4f} val_loss:{testL:.4f} val_f1:{testA:.4f}')\n",
    "     \n",
    "    if epoch > 1 and best >= f1test[-1]:\n",
    "        print('pat +')\n",
    "        pat += 1\n",
    "        if pat >= PATIENCE_MAX:\n",
    "            print('Patience counter was exceeded...!')\n",
    "            print(f'Last epoch:{epoch} with best f1-score = {best}')\n",
    "            break\n",
    "    else:\n",
    "        best = f1test[-1]\n",
    "        pat = 0\n",
    "    \n",
    "print(f'Best f1-score = {best}')"
   ]
  },
  {
   "cell_type": "code",
   "execution_count": 35,
   "metadata": {},
   "outputs": [
    {
     "data": {
      "text/html": [
       "\n",
       "      <iframe id=\"tensorboard-frame-1ddaa70dfc84b695\" width=\"100%\" height=\"800\" frameborder=\"0\">\n",
       "      </iframe>\n",
       "      <script>\n",
       "        (function() {\n",
       "          const frame = document.getElementById(\"tensorboard-frame-1ddaa70dfc84b695\");\n",
       "          const url = new URL(\"/\", window.location);\n",
       "          url.port = 6006;\n",
       "          frame.src = url;\n",
       "        })();\n",
       "      </script>\n",
       "  "
      ],
      "text/plain": [
       "<IPython.core.display.HTML object>"
      ]
     },
     "metadata": {},
     "output_type": "display_data"
    }
   ],
   "source": [
    "%tensorboard --logdir logs/gradient_tape"
   ]
  },
  {
   "cell_type": "code",
   "execution_count": 36,
   "metadata": {},
   "outputs": [
    {
     "data": {
      "image/png": "[encoded data removed]",
      "text/plain": [
       "<Figure size 720x576 with 1 Axes>"
      ]
     },
     "metadata": {
      "needs_background": "light"
     },
     "output_type": "display_data"
    },
    {
     "data": {
      "image/png": "[encoded data removed]",
      "text/plain": [
       "<Figure size 720x576 with 1 Axes>"
      ]
     },
     "metadata": {
      "needs_background": "light"
     },
     "output_type": "display_data"
    }
   ],
   "source": [
    "import matplotlib.pyplot as plt\n",
    "%matplotlib inline\n",
    "plt.rcParams[\"figure.figsize\"] = (10, 8) \n",
    "\n",
    "# summarize history for accuracy128\n",
    "plt.grid(True)\n",
    "plt.plot(f1train)\n",
    "plt.plot(f1test)\n",
    "plt.title('F1_score')\n",
    "plt.ylabel('acc')\n",
    "plt.xlabel('epoch')\n",
    "plt.legend(['train', 'test'], loc='upper left')\n",
    "plt.show()\n",
    "\n",
    "# summarize history for loss\n",
    "plt.grid(True)\n",
    "plt.plot(ltrain)\n",
    "plt.plot(ltest)\n",
    "plt.title('model loss')\n",
    "plt.ylabel('loss')\n",
    "plt.xlabel('epoch')\n",
    "plt.legend(['train', 'test'], loc='upper left')\n",
    "plt.show()"
   ]
  },
  {
   "cell_type": "code",
   "execution_count": null,
   "metadata": {},
   "outputs": [],
   "source": []
  },
  {
   "cell_type": "code",
   "execution_count": null,
   "metadata": {},
   "outputs": [],
   "source": []
  }
 ],
 "metadata": {
  "kernelspec": {
   "display_name": "Python 3",
   "language": "python",
   "name": "python3"
  },
  "language_info": {
   "codemirror_mode": {
    "name": "ipython",
    "version": 3
   },
   "file_extension": ".py",
   "mimetype": "text/x-python",
   "name": "python",
   "nbconvert_exporter": "python",
   "pygments_lexer": "ipython3",
   "version": "3.7.6"
  }
 },
 "nbformat": 4,
 "nbformat_minor": 4
}
