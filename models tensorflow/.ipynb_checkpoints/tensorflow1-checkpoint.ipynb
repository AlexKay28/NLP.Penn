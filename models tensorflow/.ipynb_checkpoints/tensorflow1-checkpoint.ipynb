{
 "cells": [
  {
   "cell_type": "code",
   "execution_count": 1,
   "metadata": {},
   "outputs": [],
   "source": [
    "import pandas as pd\n",
    "import numpy as np\n",
    "\n",
    "import tensorflow as tf\n",
    "\n",
    "from sklearn.model_selection import train_test_split"
   ]
  },
  {
   "cell_type": "markdown",
   "metadata": {},
   "source": [
    "# Load data"
   ]
  },
  {
   "cell_type": "code",
   "execution_count": 2,
   "metadata": {},
   "outputs": [
    {
     "data": {
      "text/html": [
       "<div>\n",
       "<style scoped>\n",
       "    .dataframe tbody tr th:only-of-type {\n",
       "        vertical-align: middle;\n",
       "    }\n",
       "\n",
       "    .dataframe tbody tr th {\n",
       "        vertical-align: top;\n",
       "    }\n",
       "\n",
       "    .dataframe thead th {\n",
       "        text-align: right;\n",
       "    }\n",
       "</style>\n",
       "<table border=\"1\" class=\"dataframe\">\n",
       "  <thead>\n",
       "    <tr style=\"text-align: right;\">\n",
       "      <th></th>\n",
       "      <th>Unnamed: 0</th>\n",
       "      <th>class</th>\n",
       "      <th>tweet</th>\n",
       "    </tr>\n",
       "  </thead>\n",
       "  <tbody>\n",
       "    <tr>\n",
       "      <th>0</th>\n",
       "      <td>0</td>\n",
       "      <td>0</td>\n",
       "      <td>depression hurts, cymbalta can help</td>\n",
       "    </tr>\n",
       "    <tr>\n",
       "      <th>1</th>\n",
       "      <td>5</td>\n",
       "      <td>0</td>\n",
       "      <td>@jessicama20045 right, but cipro can make thin...</td>\n",
       "    </tr>\n",
       "    <tr>\n",
       "      <th>2</th>\n",
       "      <td>6</td>\n",
       "      <td>0</td>\n",
       "      <td>@fibby1123 are you on paxil .. i need help</td>\n",
       "    </tr>\n",
       "    <tr>\n",
       "      <th>3</th>\n",
       "      <td>7</td>\n",
       "      <td>0</td>\n",
       "      <td>@redicine the lamotrigine and sjs just made ch...</td>\n",
       "    </tr>\n",
       "    <tr>\n",
       "      <th>4</th>\n",
       "      <td>8</td>\n",
       "      <td>0</td>\n",
       "      <td>have decided to skip my #humira shot today. my...</td>\n",
       "    </tr>\n",
       "    <tr>\n",
       "      <th>...</th>\n",
       "      <td>...</td>\n",
       "      <td>...</td>\n",
       "      <td>...</td>\n",
       "    </tr>\n",
       "    <tr>\n",
       "      <th>21376</th>\n",
       "      <td>21703</td>\n",
       "      <td>0</td>\n",
       "      <td>rt @15stephen15: #todolist 1-finish throat loz...</td>\n",
       "    </tr>\n",
       "    <tr>\n",
       "      <th>21377</th>\n",
       "      <td>21704</td>\n",
       "      <td>0</td>\n",
       "      <td>me: how is your depression now that you�re on ...</td>\n",
       "    </tr>\n",
       "    <tr>\n",
       "      <th>21378</th>\n",
       "      <td>21705</td>\n",
       "      <td>1</td>\n",
       "      <td>rt @ianibbo: finding out i'm allergic to fluox...</td>\n",
       "    </tr>\n",
       "    <tr>\n",
       "      <th>21379</th>\n",
       "      <td>21706</td>\n",
       "      <td>0</td>\n",
       "      <td>@theantimyth @crossfitchemist unexpected and p...</td>\n",
       "    </tr>\n",
       "    <tr>\n",
       "      <th>21380</th>\n",
       "      <td>21707</td>\n",
       "      <td>0</td>\n",
       "      <td>rt @escardio: dronedarone not recommended for ...</td>\n",
       "    </tr>\n",
       "  </tbody>\n",
       "</table>\n",
       "<p>21381 rows × 3 columns</p>\n",
       "</div>"
      ],
      "text/plain": [
       "       Unnamed: 0  class                                              tweet\n",
       "0               0      0                depression hurts, cymbalta can help\n",
       "1               5      0  @jessicama20045 right, but cipro can make thin...\n",
       "2               6      0         @fibby1123 are you on paxil .. i need help\n",
       "3               7      0  @redicine the lamotrigine and sjs just made ch...\n",
       "4               8      0  have decided to skip my #humira shot today. my...\n",
       "...           ...    ...                                                ...\n",
       "21376       21703      0  rt @15stephen15: #todolist 1-finish throat loz...\n",
       "21377       21704      0  me: how is your depression now that you�re on ...\n",
       "21378       21705      1  rt @ianibbo: finding out i'm allergic to fluox...\n",
       "21379       21706      0  @theantimyth @crossfitchemist unexpected and p...\n",
       "21380       21707      0  rt @escardio: dronedarone not recommended for ...\n",
       "\n",
       "[21381 rows x 3 columns]"
      ]
     },
     "execution_count": 2,
     "metadata": {},
     "output_type": "execute_result"
    }
   ],
   "source": [
    "path = '/home/alexkay/NLP.Penn/task2_data/data2_ex.csv'\n",
    "df = pd.read_csv(path)\n",
    "df"
   ]
  },
  {
   "cell_type": "code",
   "execution_count": 34,
   "metadata": {},
   "outputs": [],
   "source": [
    "df_0 = df[df['class']==0][:2500]\n",
    "df_1 = df[df['class']==1][:2500]\n",
    "\n",
    "df = pd.concat([df_0, df_1])"
   ]
  },
  {
   "cell_type": "code",
   "execution_count": 4,
   "metadata": {},
   "outputs": [
    {
     "name": "stdout",
     "output_type": "stream",
     "text": [
      "(5000, 3)\n"
     ]
    },
    {
     "data": {
      "text/html": [
       "<div>\n",
       "<style scoped>\n",
       "    .dataframe tbody tr th:only-of-type {\n",
       "        vertical-align: middle;\n",
       "    }\n",
       "\n",
       "    .dataframe tbody tr th {\n",
       "        vertical-align: top;\n",
       "    }\n",
       "\n",
       "    .dataframe thead th {\n",
       "        text-align: right;\n",
       "    }\n",
       "</style>\n",
       "<table border=\"1\" class=\"dataframe\">\n",
       "  <thead>\n",
       "    <tr style=\"text-align: right;\">\n",
       "      <th></th>\n",
       "      <th>tweet</th>\n",
       "      <th>class</th>\n",
       "    </tr>\n",
       "  </thead>\n",
       "  <tbody>\n",
       "    <tr>\n",
       "      <th>0</th>\n",
       "      <td>depression hurts, cymbalta can help</td>\n",
       "      <td>0</td>\n",
       "    </tr>\n",
       "    <tr>\n",
       "      <th>1</th>\n",
       "      <td>@jessicama20045 right, but cipro can make thin...</td>\n",
       "      <td>0</td>\n",
       "    </tr>\n",
       "    <tr>\n",
       "      <th>2</th>\n",
       "      <td>@fibby1123 are you on paxil .. i need help</td>\n",
       "      <td>0</td>\n",
       "    </tr>\n",
       "    <tr>\n",
       "      <th>3</th>\n",
       "      <td>@redicine the lamotrigine and sjs just made ch...</td>\n",
       "      <td>0</td>\n",
       "    </tr>\n",
       "    <tr>\n",
       "      <th>4</th>\n",
       "      <td>have decided to skip my #humira shot today. my...</td>\n",
       "      <td>0</td>\n",
       "    </tr>\n",
       "  </tbody>\n",
       "</table>\n",
       "</div>"
      ],
      "text/plain": [
       "                                               tweet  class\n",
       "0                depression hurts, cymbalta can help      0\n",
       "1  @jessicama20045 right, but cipro can make thin...      0\n",
       "2         @fibby1123 are you on paxil .. i need help      0\n",
       "3  @redicine the lamotrigine and sjs just made ch...      0\n",
       "4  have decided to skip my #humira shot today. my...      0"
      ]
     },
     "execution_count": 4,
     "metadata": {},
     "output_type": "execute_result"
    }
   ],
   "source": [
    "print(df.shape)\n",
    "data = df[['tweet', 'class']]\n",
    "data.head()"
   ]
  },
  {
   "cell_type": "code",
   "execution_count": 5,
   "metadata": {},
   "outputs": [
    {
     "data": {
      "text/plain": [
       "((4250,), (4250,), (750,), (750,))"
      ]
     },
     "execution_count": 5,
     "metadata": {},
     "output_type": "execute_result"
    }
   ],
   "source": [
    "X_train, X_test, y_train, y_test = train_test_split(data['tweet'], data['class'], test_size=0.15, random_state=5)\n",
    "X_train.shape, y_train.shape, X_test.shape, y_test.shape"
   ]
  },
  {
   "cell_type": "markdown",
   "metadata": {},
   "source": [
    "# Tokenize data"
   ]
  },
  {
   "cell_type": "code",
   "execution_count": 6,
   "metadata": {},
   "outputs": [],
   "source": [
    "num_words = 10_000"
   ]
  },
  {
   "cell_type": "code",
   "execution_count": 7,
   "metadata": {},
   "outputs": [],
   "source": [
    "tokenizer = tf.keras.preprocessing.text.Tokenizer(num_words=num_words, \n",
    "                                                  oov_token='<OOV>', \n",
    "                                                  filters='!\"#$%&()*+,-./:;<=>?@[\\\\]^_`{|}~\\t\\n')"
   ]
  },
  {
   "cell_type": "code",
   "execution_count": 8,
   "metadata": {},
   "outputs": [],
   "source": [
    "tokenizer.fit_on_texts(X_train)"
   ]
  },
  {
   "cell_type": "code",
   "execution_count": 9,
   "metadata": {},
   "outputs": [],
   "source": [
    "word_index = tokenizer.word_index"
   ]
  },
  {
   "cell_type": "code",
   "execution_count": 10,
   "metadata": {},
   "outputs": [],
   "source": [
    "x_train = tokenizer.texts_to_sequences(X_train)\n",
    "x_test = tokenizer.texts_to_sequences(X_test)"
   ]
  },
  {
   "cell_type": "code",
   "execution_count": 11,
   "metadata": {},
   "outputs": [
    {
     "data": {
      "text/plain": [
       "33"
      ]
     },
     "execution_count": 11,
     "metadata": {},
     "output_type": "execute_result"
    }
   ],
   "source": [
    "max_len1 = max([len(el) for el in x_train])\n",
    "max_len2 = max([len(el) for el in x_test])\n",
    "max_len = max(max_len1, max_len2)\n",
    "max_len"
   ]
  },
  {
   "cell_type": "code",
   "execution_count": 12,
   "metadata": {},
   "outputs": [],
   "source": [
    "x_train = tf.keras.preprocessing.sequence.pad_sequences(x_train, maxlen=max_len, padding='post')\n",
    "x_test = tf.keras.preprocessing.sequence.pad_sequences(x_test, maxlen=max_len, padding='post')"
   ]
  },
  {
   "cell_type": "code",
   "execution_count": 13,
   "metadata": {},
   "outputs": [
    {
     "data": {
      "text/plain": [
       "(array([[2523,    2,   19, ...,    0,    0,    0],\n",
       "        [ 226,   12,    3, ...,    0,    0,    0],\n",
       "        [  37, 1559,   12, ...,    0,    0,    0],\n",
       "        ...,\n",
       "        [3420,  235,  156, ...,    0,    0,    0],\n",
       "        [  18,   98,    5, ...,    0,    0,    0],\n",
       "        [   2,   82,   28, ...,    0,    0,    0]], dtype=int32),\n",
       " array([[6230,  241,   36, ...,    0,    0,    0],\n",
       "        [  33,   47,  295, ...,    0,    0,    0],\n",
       "        [  36,  180,  347, ...,    0,    0,    0],\n",
       "        ...,\n",
       "        [   1, 1003, 1722, ...,    0,    0,    0],\n",
       "        [   1,   22,  885, ...,    0,    0,    0],\n",
       "        [ 172,  190,  163, ...,    0,    0,    0]], dtype=int32))"
      ]
     },
     "execution_count": 13,
     "metadata": {},
     "output_type": "execute_result"
    }
   ],
   "source": [
    "x_train, x_test"
   ]
  },
  {
   "cell_type": "code",
   "execution_count": 14,
   "metadata": {},
   "outputs": [],
   "source": [
    "y_train = tf.keras.utils.to_categorical(y_train, num_classes=2)\n",
    "y_test = tf.keras.utils.to_categorical(y_test, num_classes=2)"
   ]
  },
  {
   "cell_type": "code",
   "execution_count": 15,
   "metadata": {},
   "outputs": [
    {
     "data": {
      "text/plain": [
       "((4250, 2), (750, 2))"
      ]
     },
     "execution_count": 15,
     "metadata": {},
     "output_type": "execute_result"
    }
   ],
   "source": [
    "y_train.shape, y_test.shape"
   ]
  },
  {
   "cell_type": "code",
   "execution_count": 16,
   "metadata": {},
   "outputs": [],
   "source": [
    "BATCH_SIZE = 128\n",
    "BUF_SIZE = 2000\n",
    "\n",
    "train_dataset = tf.data.Dataset.from_tensor_slices((x_train, y_train)).shuffle(BUF_SIZE).padded_batch(\n",
    "                                                                            BATCH_SIZE, drop_remainder=True)\n",
    "test_dataset = tf.data.Dataset.from_tensor_slices((x_test, y_test)).padded_batch(\n",
    "                                                                            BATCH_SIZE, drop_remainder=True)"
   ]
  },
  {
   "cell_type": "code",
   "execution_count": 17,
   "metadata": {},
   "outputs": [
    {
     "data": {
      "text/plain": [
       "(<PaddedBatchDataset shapes: ((128, 33), (128, 2)), types: (tf.int32, tf.float32)>,\n",
       " <PaddedBatchDataset shapes: ((128, 33), (128, 2)), types: (tf.int32, tf.float32)>)"
      ]
     },
     "execution_count": 17,
     "metadata": {},
     "output_type": "execute_result"
    }
   ],
   "source": [
    "train_dataset, test_dataset"
   ]
  },
  {
   "cell_type": "markdown",
   "metadata": {},
   "source": [
    "# Prepare embedding with fasttext"
   ]
  },
  {
   "cell_type": "code",
   "execution_count": 18,
   "metadata": {},
   "outputs": [],
   "source": [
    "from gensim.models.fasttext import FastText \n",
    "from gensim.test.utils import datapath"
   ]
  },
  {
   "cell_type": "code",
   "execution_count": 19,
   "metadata": {},
   "outputs": [],
   "source": [
    "#del model_gensim, model"
   ]
  },
  {
   "cell_type": "code",
   "execution_count": 20,
   "metadata": {},
   "outputs": [],
   "source": [
    "corpus_file = datapath(path)"
   ]
  },
  {
   "cell_type": "code",
   "execution_count": 21,
   "metadata": {},
   "outputs": [],
   "source": [
    "vec_size = 100"
   ]
  },
  {
   "cell_type": "code",
   "execution_count": 22,
   "metadata": {},
   "outputs": [],
   "source": [
    "model = FastText(size=vec_size)"
   ]
  },
  {
   "cell_type": "code",
   "execution_count": 23,
   "metadata": {},
   "outputs": [],
   "source": [
    "model.build_vocab(corpus_file=corpus_file)"
   ]
  },
  {
   "cell_type": "code",
   "execution_count": 24,
   "metadata": {},
   "outputs": [],
   "source": [
    "model.train(\n",
    "    corpus_file=corpus_file, \n",
    "    epochs=10,\n",
    "    total_examples=model.corpus_count, \n",
    "    total_words=model.corpus_total_words,\n",
    "    model='CBOW',\n",
    "    min_count=3\n",
    ")"
   ]
  },
  {
   "cell_type": "code",
   "execution_count": 25,
   "metadata": {},
   "outputs": [
    {
     "data": {
      "text/plain": [
       "(10765, 10000)"
      ]
     },
     "execution_count": 25,
     "metadata": {},
     "output_type": "execute_result"
    }
   ],
   "source": [
    "vocab_size = len(tokenizer.word_index)\n",
    "vocab_size, num_words"
   ]
  },
  {
   "cell_type": "code",
   "execution_count": 26,
   "metadata": {},
   "outputs": [
    {
     "data": {
      "text/plain": [
       "(10000, 100)"
      ]
     },
     "execution_count": 26,
     "metadata": {},
     "output_type": "execute_result"
    }
   ],
   "source": [
    "embedding_matrix = np.zeros((num_words, vec_size))\n",
    "embedding_matrix.shape"
   ]
  },
  {
   "cell_type": "code",
   "execution_count": 27,
   "metadata": {},
   "outputs": [
    {
     "name": "stderr",
     "output_type": "stream",
     "text": [
      "/home/alexkay/anaconda3/lib/python3.7/site-packages/ipykernel_launcher.py:3: DeprecationWarning: Call to deprecated `__getitem__` (Method will be removed in 4.0.0, use self.wv.__getitem__() instead).\n",
      "  This is separate from the ipykernel package so we can avoid doing imports until\n",
      "/home/alexkay/anaconda3/lib/python3.7/site-packages/ipykernel_launcher.py:5: DeprecationWarning: Call to deprecated `__getitem__` (Method will be removed in 4.0.0, use self.wv.__getitem__() instead).\n",
      "  \"\"\"\n"
     ]
    },
    {
     "data": {
      "text/plain": [
       "((10000, 100), (100,))"
      ]
     },
     "execution_count": 27,
     "metadata": {},
     "output_type": "execute_result"
    }
   ],
   "source": [
    "for i, word in enumerate(tokenizer.word_index):\n",
    "    if i == num_words: break\n",
    "    embedding_matrix[i] = model[word]\n",
    "    \n",
    "embedding_matrix.shape, model['<OOV>'].shape"
   ]
  },
  {
   "cell_type": "markdown",
   "metadata": {},
   "source": [
    "# Model"
   ]
  },
  {
   "cell_type": "code",
   "execution_count": 28,
   "metadata": {},
   "outputs": [
    {
     "name": "stdout",
     "output_type": "stream",
     "text": [
      "Model: \"sequential\"\n",
      "_________________________________________________________________\n",
      "Layer (type)                 Output Shape              Param #   \n",
      "=================================================================\n",
      "embedding (Embedding)        (None, None, 100)         1000000   \n",
      "_________________________________________________________________\n",
      "bidirectional (Bidirectional (None, 128)               84480     \n",
      "_________________________________________________________________\n",
      "dense (Dense)                (None, 64)                8256      \n",
      "_________________________________________________________________\n",
      "dropout (Dropout)            (None, 64)                0         \n",
      "_________________________________________________________________\n",
      "dense_1 (Dense)              (None, 64)                4160      \n",
      "_________________________________________________________________\n",
      "dropout_1 (Dropout)          (None, 64)                0         \n",
      "_________________________________________________________________\n",
      "dense_2 (Dense)              (None, 2)                 130       \n",
      "=================================================================\n",
      "Total params: 1,097,026\n",
      "Trainable params: 1,097,026\n",
      "Non-trainable params: 0\n",
      "_________________________________________________________________\n"
     ]
    }
   ],
   "source": [
    "num_words = num_words\n",
    "embedding_dim = vec_size\n",
    "units = 64\n",
    "BATCH_SIZE = BATCH_SIZE\n",
    "patience = 5\n",
    "EPOCHS = 40\n",
    "lr = 1e-4\n",
    "\n",
    "rate_drop_lstm  = 0.15 + np.random.rand() * 0.25\n",
    "rate_drop_dense = 0.15 + np.random.rand() * 0.25\n",
    "\n",
    "if model:\n",
    "    del model\n",
    "    \n",
    "def build_model(num_words, embedding_dim, units, batch_size):\n",
    "    model = tf.keras.models.Sequential([\n",
    "        tf.keras.layers.Embedding(num_words, \n",
    "                                  embedding_dim, \n",
    "                                  #batch_input_shape=[BATCH_SIZE, max_len],\n",
    "                                  weights=[embedding_matrix],\n",
    "                                  trainable=True),\n",
    "        tf.keras.layers.Bidirectional(\n",
    "                tf.keras.layers.LSTM(64, dropout=rate_drop_lstm, recurrent_dropout=rate_drop_lstm)),\n",
    "        tf.keras.layers.Dense(64, activation='relu'),\n",
    "        tf.keras.layers.Dropout(0.1),\n",
    "        tf.keras.layers.Dense(64, activation='relu'),\n",
    "        tf.keras.layers.Dropout(0.1),\n",
    "        tf.keras.layers.Dense(2, activation='softmax')\n",
    "    ])\n",
    "    return model\n",
    "\n",
    "\n",
    "model = build_model(num_words, embedding_dim, units, BATCH_SIZE)\n",
    "model.summary()"
   ]
  },
  {
   "cell_type": "code",
   "execution_count": 29,
   "metadata": {},
   "outputs": [],
   "source": [
    "#https://stackoverflow.com/questions/37213388/keras-accuracy-does-not-change\n",
    "import tensorflow_addons as tfa\n",
    "model.compile(loss=tf.keras.losses.BinaryCrossentropy(name='BC_loss'),\n",
    "              optimizer=tf.keras.optimizers.Adam(lr),\n",
    "              metrics=tfa.metrics.F1Score(2))"
   ]
  },
  {
   "cell_type": "code",
   "execution_count": 30,
   "metadata": {},
   "outputs": [],
   "source": [
    "early_stopping = tf.keras.callbacks.EarlyStopping(monitor='val_loss', patience=patience)"
   ]
  },
  {
   "cell_type": "code",
   "execution_count": 31,
   "metadata": {
    "scrolled": true
   },
   "outputs": [
    {
     "name": "stdout",
     "output_type": "stream",
     "text": [
      "Epoch 1/40\n",
      "33/33 [==============================] - 8s 228ms/step - loss: 0.6946 - f1_score: 0.4899 - val_loss: 0.6866 - val_f1_score: 0.5685\n",
      "Epoch 2/40\n",
      "33/33 [==============================] - 6s 193ms/step - loss: 0.6855 - f1_score: 0.5558 - val_loss: 0.6745 - val_f1_score: 0.5807\n",
      "Epoch 3/40\n",
      "33/33 [==============================] - 6s 168ms/step - loss: 0.6765 - f1_score: 0.5761 - val_loss: 0.6596 - val_f1_score: 0.6148\n",
      "Epoch 4/40\n",
      "33/33 [==============================] - 6s 167ms/step - loss: 0.6630 - f1_score: 0.6072 - val_loss: 0.6455 - val_f1_score: 0.6366\n",
      "Epoch 5/40\n",
      "33/33 [==============================] - 6s 167ms/step - loss: 0.6512 - f1_score: 0.6370 - val_loss: 0.6298 - val_f1_score: 0.6485\n",
      "Epoch 6/40\n",
      "33/33 [==============================] - 6s 173ms/step - loss: 0.6399 - f1_score: 0.6436 - val_loss: 0.6166 - val_f1_score: 0.6530\n",
      "Epoch 7/40\n",
      "33/33 [==============================] - 6s 180ms/step - loss: 0.6280 - f1_score: 0.6584 - val_loss: 0.6136 - val_f1_score: 0.6600\n",
      "Epoch 8/40\n",
      "33/33 [==============================] - 6s 175ms/step - loss: 0.6159 - f1_score: 0.6657 - val_loss: 0.5980 - val_f1_score: 0.6838\n",
      "Epoch 9/40\n",
      "33/33 [==============================] - 6s 173ms/step - loss: 0.6057 - f1_score: 0.6739 - val_loss: 0.5929 - val_f1_score: 0.6866\n",
      "Epoch 10/40\n",
      "33/33 [==============================] - 6s 172ms/step - loss: 0.5950 - f1_score: 0.6829 - val_loss: 0.5727 - val_f1_score: 0.7201\n",
      "Epoch 11/40\n",
      "33/33 [==============================] - 6s 187ms/step - loss: 0.5799 - f1_score: 0.7021 - val_loss: 0.5725 - val_f1_score: 0.7020\n",
      "Epoch 12/40\n",
      "33/33 [==============================] - 7s 210ms/step - loss: 0.5632 - f1_score: 0.7134 - val_loss: 0.5758 - val_f1_score: 0.7035\n",
      "Epoch 13/40\n",
      "33/33 [==============================] - 6s 185ms/step - loss: 0.5554 - f1_score: 0.7187 - val_loss: 0.5477 - val_f1_score: 0.7422\n",
      "Epoch 14/40\n",
      "33/33 [==============================] - 6s 173ms/step - loss: 0.5312 - f1_score: 0.7401 - val_loss: 0.5555 - val_f1_score: 0.7307\n",
      "Epoch 15/40\n",
      "33/33 [==============================] - 6s 181ms/step - loss: 0.5116 - f1_score: 0.7506 - val_loss: 0.5262 - val_f1_score: 0.7436\n",
      "Epoch 16/40\n",
      "33/33 [==============================] - 7s 205ms/step - loss: 0.5118 - f1_score: 0.7537 - val_loss: 0.5378 - val_f1_score: 0.7425\n",
      "Epoch 17/40\n",
      "33/33 [==============================] - 6s 186ms/step - loss: 0.4927 - f1_score: 0.7646 - val_loss: 0.5159 - val_f1_score: 0.7593\n",
      "Epoch 18/40\n",
      "33/33 [==============================] - 7s 197ms/step - loss: 0.4790 - f1_score: 0.7733 - val_loss: 0.5066 - val_f1_score: 0.7656\n",
      "Epoch 19/40\n",
      "33/33 [==============================] - 8s 228ms/step - loss: 0.4547 - f1_score: 0.7826 - val_loss: 0.5006 - val_f1_score: 0.7859\n",
      "Epoch 20/40\n",
      "33/33 [==============================] - 8s 245ms/step - loss: 0.4432 - f1_score: 0.8016 - val_loss: 0.4949 - val_f1_score: 0.7781\n",
      "Epoch 21/40\n",
      "33/33 [==============================] - 6s 194ms/step - loss: 0.4289 - f1_score: 0.8006 - val_loss: 0.4864 - val_f1_score: 0.7795\n",
      "Epoch 22/40\n",
      "33/33 [==============================] - 6s 175ms/step - loss: 0.4115 - f1_score: 0.8129 - val_loss: 0.4851 - val_f1_score: 0.7906\n",
      "Epoch 23/40\n",
      "33/33 [==============================] - 6s 190ms/step - loss: 0.3977 - f1_score: 0.8224 - val_loss: 0.4852 - val_f1_score: 0.7776\n",
      "Epoch 24/40\n",
      "33/33 [==============================] - 6s 169ms/step - loss: 0.3776 - f1_score: 0.8385 - val_loss: 0.4877 - val_f1_score: 0.7773\n",
      "Epoch 25/40\n",
      "33/33 [==============================] - 6s 179ms/step - loss: 0.3648 - f1_score: 0.8456 - val_loss: 0.4788 - val_f1_score: 0.7966\n",
      "Epoch 26/40\n",
      "33/33 [==============================] - 6s 174ms/step - loss: 0.3560 - f1_score: 0.8463 - val_loss: 0.4739 - val_f1_score: 0.7871\n",
      "Epoch 27/40\n",
      "33/33 [==============================] - 6s 181ms/step - loss: 0.3524 - f1_score: 0.8497 - val_loss: 0.4621 - val_f1_score: 0.8078\n",
      "Epoch 28/40\n",
      "33/33 [==============================] - 6s 180ms/step - loss: 0.3358 - f1_score: 0.8553 - val_loss: 0.4701 - val_f1_score: 0.7963\n",
      "Epoch 29/40\n",
      "33/33 [==============================] - 6s 175ms/step - loss: 0.3133 - f1_score: 0.8693 - val_loss: 0.4563 - val_f1_score: 0.8108\n",
      "Epoch 30/40\n",
      "33/33 [==============================] - 6s 173ms/step - loss: 0.3077 - f1_score: 0.8759 - val_loss: 0.4575 - val_f1_score: 0.8013\n",
      "Epoch 31/40\n",
      "33/33 [==============================] - 6s 179ms/step - loss: 0.2921 - f1_score: 0.8769 - val_loss: 0.4478 - val_f1_score: 0.8124\n",
      "Epoch 32/40\n",
      "33/33 [==============================] - 6s 180ms/step - loss: 0.2891 - f1_score: 0.8795 - val_loss: 0.4543 - val_f1_score: 0.7997\n",
      "Epoch 33/40\n",
      "33/33 [==============================] - 6s 171ms/step - loss: 0.2757 - f1_score: 0.8833 - val_loss: 0.4493 - val_f1_score: 0.8109\n",
      "Epoch 34/40\n",
      "33/33 [==============================] - 6s 171ms/step - loss: 0.2721 - f1_score: 0.8880 - val_loss: 0.4478 - val_f1_score: 0.8125\n",
      "Epoch 35/40\n",
      "33/33 [==============================] - 6s 189ms/step - loss: 0.2764 - f1_score: 0.8866 - val_loss: 0.4479 - val_f1_score: 0.8043\n",
      "Epoch 36/40\n",
      "33/33 [==============================] - 6s 187ms/step - loss: 0.2530 - f1_score: 0.8958 - val_loss: 0.4452 - val_f1_score: 0.8125\n",
      "Epoch 37/40\n",
      "33/33 [==============================] - 7s 210ms/step - loss: 0.2513 - f1_score: 0.8982 - val_loss: 0.4433 - val_f1_score: 0.8281\n",
      "Epoch 38/40\n",
      "33/33 [==============================] - 7s 212ms/step - loss: 0.2335 - f1_score: 0.9017 - val_loss: 0.4469 - val_f1_score: 0.8281\n",
      "Epoch 39/40\n",
      "33/33 [==============================] - 6s 173ms/step - loss: 0.2409 - f1_score: 0.9001 - val_loss: 0.4508 - val_f1_score: 0.8107\n",
      "Epoch 40/40\n",
      "33/33 [==============================] - 6s 174ms/step - loss: 0.2281 - f1_score: 0.9131 - val_loss: 0.4469 - val_f1_score: 0.8107\n"
     ]
    }
   ],
   "source": [
    "history = model.fit(train_dataset, \n",
    "                    validation_data=test_dataset, \n",
    "                    epochs=EPOCHS, \n",
    "                    callbacks=[early_stopping],\n",
    "                    verbose=1)"
   ]
  },
  {
   "cell_type": "code",
   "execution_count": 33,
   "metadata": {},
   "outputs": [
    {
     "data": {
      "image/png": "[encoded data removed]",
      "text/plain": [
       "<Figure size 720x576 with 1 Axes>"
      ]
     },
     "metadata": {
      "needs_background": "light"
     },
     "output_type": "display_data"
    },
    {
     "data": {
      "image/png": "[encoded data removed]",
      "text/plain": [
       "<Figure size 720x576 with 1 Axes>"
      ]
     },
     "metadata": {
      "needs_background": "light"
     },
     "output_type": "display_data"
    }
   ],
   "source": [
    "import matplotlib.pyplot as plt\n",
    "%matplotlib inline\n",
    "plt.rcParams[\"figure.figsize\"] = (10, 8) \n",
    "\n",
    "# summarize history for accuracy\n",
    "plt.plot(history.history['f1_score'])\n",
    "plt.plot(history.history['val_f1_score'])\n",
    "plt.title('model accuracy')\n",
    "plt.ylabel('acc')\n",
    "plt.xlabel('epoch')\n",
    "plt.legend(['train', 'test'], loc='upper left')\n",
    "plt.show()\n",
    "\n",
    "# summarize history for loss\n",
    "plt.plot(history.history['loss'])\n",
    "plt.plot(history.history['val_loss'])\n",
    "plt.title('model loss')\n",
    "plt.ylabel('loss')\n",
    "plt.xlabel('epoch')\n",
    "plt.legend(['train', 'test'], loc='upper left')\n",
    "plt.show()"
   ]
  },
  {
   "cell_type": "code",
   "execution_count": null,
   "metadata": {},
   "outputs": [],
   "source": []
  },
  {
   "cell_type": "code",
   "execution_count": null,
   "metadata": {},
   "outputs": [],
   "source": []
  }
 ],
 "metadata": {
  "kernelspec": {
   "display_name": "Python 3",
   "language": "python",
   "name": "python3"
  },
  "language_info": {
   "codemirror_mode": {
    "name": "ipython",
    "version": 3
   },
   "file_extension": ".py",
   "mimetype": "text/x-python",
   "name": "python",
   "nbconvert_exporter": "python",
   "pygments_lexer": "ipython3",
   "version": "3.7.6"
  }
 },
 "nbformat": 4,
 "nbformat_minor": 4
}
