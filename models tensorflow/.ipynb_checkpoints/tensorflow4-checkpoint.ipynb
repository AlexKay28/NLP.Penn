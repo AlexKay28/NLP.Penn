{
 "cells": [
  {
   "cell_type": "code",
   "execution_count": 1,
   "metadata": {},
   "outputs": [
    {
     "name": "stderr",
     "output_type": "stream",
     "text": [
      "/home/alexkay/anaconda3/lib/python3.7/site-packages/tensorflow_addons/utils/ensure_tf_install.py:68: UserWarning: Tensorflow Addons supports using Python ops for all Tensorflow versions above or equal to 2.2.0 and strictly below 2.3.0 (nightly versions are not supported). \n",
      " The versions of TensorFlow you are currently using is 2.3.0 and is not supported. \n",
      "Some things might work, some things might not.\n",
      "If you were to encounter a bug, do not file an issue.\n",
      "If you want to make sure you're using a tested and supported configuration, either change the TensorFlow version or the TensorFlow Addons's version. \n",
      "You can find the compatibility matrix in TensorFlow Addon's readme:\n",
      "https://github.com/tensorflow/addons\n",
      "  UserWarning,\n"
     ]
    }
   ],
   "source": [
    "%load_ext tensorboard\n",
    "!rm -rf ./logs/\n",
    "\n",
    "import pandas as pd\n",
    "import swifter\n",
    "import numpy as np\n",
    "\n",
    "import tensorflow as tf\n",
    "import tensorflow_addons as tfa\n",
    "\n",
    "from sklearn.model_selection import train_test_split\n",
    "\n",
    "import matplotlib.pyplot as plt\n",
    "\n",
    "import re\n",
    "\n",
    "import spacy_udpipe\n",
    "\n",
    "from nltk.tokenize import TweetTokenizer\n",
    "\n",
    "import time\n",
    "import os"
   ]
  },
  {
   "cell_type": "code",
   "execution_count": 2,
   "metadata": {},
   "outputs": [
    {
     "data": {
      "text/html": [
       "<div>\n",
       "<style scoped>\n",
       "    .dataframe tbody tr th:only-of-type {\n",
       "        vertical-align: middle;\n",
       "    }\n",
       "\n",
       "    .dataframe tbody tr th {\n",
       "        vertical-align: top;\n",
       "    }\n",
       "\n",
       "    .dataframe thead th {\n",
       "        text-align: right;\n",
       "    }\n",
       "</style>\n",
       "<table border=\"1\" class=\"dataframe\">\n",
       "  <thead>\n",
       "    <tr style=\"text-align: right;\">\n",
       "      <th></th>\n",
       "      <th>tweet</th>\n",
       "      <th>class</th>\n",
       "    </tr>\n",
       "  </thead>\n",
       "  <tbody>\n",
       "    <tr>\n",
       "      <th>0</th>\n",
       "      <td>depression_NOUN hurts_NOUN cymbalta_NOUN can_A...</td>\n",
       "      <td>0</td>\n",
       "    </tr>\n",
       "    <tr>\n",
       "      <th>1</th>\n",
       "      <td>right_INTJ but_CCONJ cipro_NOUN can_AUX make_V...</td>\n",
       "      <td>0</td>\n",
       "    </tr>\n",
       "    <tr>\n",
       "      <th>2</th>\n",
       "      <td>be_AUX you_PRON paxil_NOUN I_PRON need_VERB he...</td>\n",
       "      <td>0</td>\n",
       "    </tr>\n",
       "    <tr>\n",
       "      <th>3</th>\n",
       "      <td>lamotrigine_NOUN and_CCONJ sj_NOUN just_ADV ma...</td>\n",
       "      <td>0</td>\n",
       "    </tr>\n",
       "  </tbody>\n",
       "</table>\n",
       "</div>"
      ],
      "text/plain": [
       "                                               tweet  class\n",
       "0  depression_NOUN hurts_NOUN cymbalta_NOUN can_A...      0\n",
       "1  right_INTJ but_CCONJ cipro_NOUN can_AUX make_V...      0\n",
       "2  be_AUX you_PRON paxil_NOUN I_PRON need_VERB he...      0\n",
       "3  lamotrigine_NOUN and_CCONJ sj_NOUN just_ADV ma...      0"
      ]
     },
     "execution_count": 2,
     "metadata": {},
     "output_type": "execute_result"
    }
   ],
   "source": [
    "data = pd.read_csv('lemmatized_train.csv')\n",
    "data = data.dropna()\n",
    "data.head(4)"
   ]
  },
  {
   "cell_type": "code",
   "execution_count": 3,
   "metadata": {},
   "outputs": [
    {
     "data": {
      "text/plain": [
       "((4839,), (4839,), (309,), (309,))"
      ]
     },
     "execution_count": 3,
     "metadata": {},
     "output_type": "execute_result"
    }
   ],
   "source": [
    "X_train, X_test, Y_train, Y_test = train_test_split(data['tweet'], data['class'], test_size=0.06)\n",
    "X_train.shape, Y_train.shape, X_test.shape, Y_test.shape"
   ]
  },
  {
   "cell_type": "markdown",
   "metadata": {},
   "source": [
    "# Tokenize data"
   ]
  },
  {
   "cell_type": "code",
   "execution_count": 4,
   "metadata": {},
   "outputs": [
    {
     "data": {
      "text/plain": [
       "((4839, 62), (4839, 2), (309, 62), (309, 2))"
      ]
     },
     "execution_count": 4,
     "metadata": {},
     "output_type": "execute_result"
    }
   ],
   "source": [
    "num_words = 10_000\n",
    "tokenizer = tf.keras.preprocessing.text.Tokenizer(num_words=num_words, oov_token=\"<OOV>\")\n",
    "tokenizer.fit_on_texts(X_train)\n",
    "word_index = tokenizer.word_index\n",
    "\n",
    "x_train = tokenizer.texts_to_sequences(X_train)\n",
    "x_test  = tokenizer.texts_to_sequences(X_test)\n",
    "\n",
    "max_len = max(max([len(el) for el in x_train]), max([len(el) for el in x_test]))\n",
    "\n",
    "x_train = tf.keras.preprocessing.sequence.pad_sequences(x_train, maxlen=max_len)\n",
    "x_test  = tf.keras.preprocessing.sequence.pad_sequences(x_test,  maxlen=max_len)\n",
    "\n",
    "num_classes = 2\n",
    "y_train = tf.keras.utils.to_categorical(Y_train, num_classes=num_classes)\n",
    "y_test  = tf.keras.utils.to_categorical(Y_test, num_classes=num_classes)\n",
    "\n",
    "x_train.shape, y_train.shape, x_test.shape, y_test.shape"
   ]
  },
  {
   "cell_type": "code",
   "execution_count": 5,
   "metadata": {},
   "outputs": [
    {
     "data": {
      "text/plain": [
       "(<PaddedBatchDataset shapes: ((128, 62), (128, 2)), types: (tf.int32, tf.float32)>,\n",
       " <PaddedBatchDataset shapes: ((128, 62), (128, 2)), types: (tf.int32, tf.float32)>)"
      ]
     },
     "execution_count": 5,
     "metadata": {},
     "output_type": "execute_result"
    }
   ],
   "source": [
    "BATCH_SIZE, BUF_SIZE = 128, 3000\n",
    "\n",
    "train_dataset = tf.data.Dataset.from_tensor_slices((x_train, y_train))\n",
    "train_dataset = train_dataset.shuffle(BUF_SIZE)\n",
    "train_dataset = train_dataset.padded_batch(BATCH_SIZE, drop_remainder=True)\n",
    "\n",
    "test_dataset = tf.data.Dataset.from_tensor_slices((x_test, y_test))\n",
    "test_dataset = test_dataset.padded_batch(BATCH_SIZE, drop_remainder=True)\n",
    "\n",
    "train_dataset, test_dataset"
   ]
  },
  {
   "cell_type": "markdown",
   "metadata": {},
   "source": [
    "# Model"
   ]
  },
  {
   "cell_type": "code",
   "execution_count": 6,
   "metadata": {},
   "outputs": [],
   "source": [
    "embedding_dim = 256\n",
    "num_words = num_words\n",
    "\n",
    "\n",
    "class MyModel(tf.keras.Model):\n",
    "    \n",
    "    def __init__(self, num_words, embedding_dim):\n",
    "        super(MyModel, self).__init__()\n",
    "\n",
    "        self.emb = tf.keras.layers.Embedding(num_words, embedding_dim)\n",
    "        self.conv = tf.keras.layers.Conv1D(10, 3, activation='relu')\n",
    "        self.lstm = tf.keras.layers.LSTM(128)\n",
    "        self.dense1 = tf.keras.layers.Dense(64, activation='relu')\n",
    "        self.dense2 = tf.keras.layers.Dense(32, activation='relu')\n",
    "        self.out = tf.keras.layers.Dense(2, activation='softmax')\n",
    "        \n",
    "    def call(self, inputs, training_mode=True):\n",
    "        x = self.emb(inputs)\n",
    "        x = self.conv(x)\n",
    "        x = self.lstm(x)\n",
    "        x = self.dense1(x)\n",
    "        x = self.dense2(x)\n",
    "        out = self.out(x)\n",
    "        return out\n",
    "    \n",
    "model = MyModel(num_words, embedding_dim)"
   ]
  },
  {
   "cell_type": "markdown",
   "metadata": {},
   "source": [
    "# TenorBoard"
   ]
  },
  {
   "cell_type": "code",
   "execution_count": 7,
   "metadata": {},
   "outputs": [],
   "source": [
    "import datetime\n",
    "\n",
    "current_time = datetime.datetime.now().strftime(\"%Y%m%d-%H%M%S\")\n",
    "train_log_dir = 'logs/gradient_tape/' + current_time + '/train'\n",
    "test_log_dir = 'logs/gradient_tape/' + current_time + '/test'\n",
    "train_summary_writer = tf.summary.create_file_writer(train_log_dir)\n",
    "test_summary_writer = tf.summary.create_file_writer(test_log_dir)"
   ]
  },
  {
   "cell_type": "markdown",
   "metadata": {},
   "source": [
    "# LR schedule"
   ]
  },
  {
   "cell_type": "code",
   "execution_count": 8,
   "metadata": {},
   "outputs": [
    {
     "data": {
      "text/plain": [
       "Text(0.5, 0, 'Train Step')"
      ]
     },
     "execution_count": 8,
     "metadata": {},
     "output_type": "execute_result"
    },
    {
     "data": {
      "image/png": "[encoded data removed]",
      "text/plain": [
       "<Figure size 432x288 with 1 Axes>"
      ]
     },
     "metadata": {
      "needs_background": "light"
     },
     "output_type": "display_data"
    }
   ],
   "source": [
    "class CustomSchedule(tf.keras.optimizers.schedules.LearningRateSchedule):\n",
    "    def __init__(self, warmup_steps=5):\n",
    "        super(CustomSchedule, self).__init__()\n",
    "\n",
    "    def __call__(self, step):\n",
    "        minimal = 1e-4\n",
    "        #return tf.math.maximum(0.001 - 0.000001 * step, 0.0001)\n",
    "        return tf.math.minimum(minimal/step**0.05, minimal)\n",
    "        \n",
    "learning_rate = CustomSchedule()\n",
    "\n",
    "plt.plot(learning_rate(tf.range(50, dtype=tf.float32)))\n",
    "plt.ylabel(\"Learning Rate\")\n",
    "plt.xlabel(\"Train Step\")"
   ]
  },
  {
   "cell_type": "markdown",
   "metadata": {},
   "source": [
    "# Loss, Opt, Steps"
   ]
  },
  {
   "cell_type": "code",
   "execution_count": 9,
   "metadata": {},
   "outputs": [],
   "source": [
    "loss_object = tf.keras.losses.BinaryCrossentropy()\n",
    "optimizer = tf.keras.optimizers.Adam(learning_rate)\n",
    "\n",
    "train_loss = tf.keras.metrics.Mean(name='TrainL')\n",
    "train_acc = tfa.metrics.F1Score(2, name='TrainF1')\n",
    "test_loss = tf.keras.metrics.Mean(name='TestL')\n",
    "test_acc = tfa.metrics.F1Score(2, name='TestF1')"
   ]
  },
  {
   "cell_type": "code",
   "execution_count": 10,
   "metadata": {},
   "outputs": [],
   "source": [
    "@tf.function\n",
    "def train_step(values, labels):\n",
    "    print('creating train step!')\n",
    "    with tf.GradientTape() as tape:\n",
    "        predictions = model(values)\n",
    "        loss = loss_object(labels, predictions)\n",
    "    gradients = tape.gradient(loss, model.trainable_variables)\n",
    "    optimizer.apply_gradients(zip(gradients, model.trainable_variables))\n",
    "    train_loss(loss)\n",
    "    train_acc(labels, predictions)\n",
    "    \n",
    "@tf.function\n",
    "def test_step(values, labels):\n",
    "    print('creating test step!')\n",
    "    predictions = model(values)\n",
    "    t_loss = loss_object(labels, predictions)\n",
    "    test_loss(t_loss)\n",
    "    test_acc(labels, predictions)"
   ]
  },
  {
   "cell_type": "markdown",
   "metadata": {},
   "source": [
    "# Train loop"
   ]
  },
  {
   "cell_type": "code",
   "execution_count": 12,
   "metadata": {},
   "outputs": [
    {
     "data": {
      "text/plain": [
       "Reusing TensorBoard on port 6006 (pid 32217), started 0:42:25 ago. (Use '!kill 32217' to kill it.)"
      ]
     },
     "metadata": {},
     "output_type": "display_data"
    },
    {
     "data": {
      "text/html": [
       "\n",
       "      <iframe id=\"tensorboard-frame-11b542160bec90a7\" width=\"100%\" height=\"800\" frameborder=\"0\">\n",
       "      </iframe>\n",
       "      <script>\n",
       "        (function() {\n",
       "          const frame = document.getElementById(\"tensorboard-frame-11b542160bec90a7\");\n",
       "          const url = new URL(\"/\", window.location);\n",
       "          const port = 6006;\n",
       "          if (port) {\n",
       "            url.port = port;\n",
       "          }\n",
       "          frame.src = url;\n",
       "        })();\n",
       "      </script>\n",
       "    "
      ],
      "text/plain": [
       "<IPython.core.display.HTML object>"
      ]
     },
     "metadata": {},
     "output_type": "display_data"
    },
    {
     "name": "stdout",
     "output_type": "stream",
     "text": [
      "EPOCH:0/100 loss:0.6919 f1:0.5652 val_loss:12.8008 val_f1:0.6347\n",
      "EPOCH:2/100 loss:0.6783 f1:0.6031 val_loss:12.5489 val_f1:0.6385\n",
      "EPOCH:4/100 loss:0.6520 f1:0.6374 val_loss:12.0620 val_f1:0.6587\n",
      "EPOCH:6/100 loss:0.5964 f1:0.6865 val_loss:11.0336 val_f1:0.7025\n",
      "EPOCH:8/100 loss:0.5361 f1:0.7255 val_loss:9.9187 val_f1:0.7285\n",
      "EPOCH:10/100 loss:0.4831 f1:0.7578 val_loss:8.9373 val_f1:0.7492\n",
      "EPOCH:12/100 loss:0.4382 f1:0.7834 val_loss:8.1073 val_f1:0.7638\n",
      "EPOCH:14/100 loss:0.4010 f1:0.8041 val_loss:7.4190 val_f1:0.7705\n",
      "EPOCH:16/100 loss:0.3696 f1:0.8208 val_loss:6.8369 val_f1:0.7764\n",
      "EPOCH:18/100 loss:0.3433 f1:0.8347 val_loss:6.3506 val_f1:0.7792\n",
      "EPOCH:20/100 loss:0.3202 f1:0.8464 val_loss:5.9239 val_f1:0.7820\n",
      "EPOCH:22/100 loss:0.3007 f1:0.8564 val_loss:5.5630 val_f1:0.7846\n",
      "EPOCH:24/100 loss:0.2831 f1:0.8652 val_loss:5.2369 val_f1:0.7866\n",
      "EPOCH:26/100 loss:0.2676 f1:0.8729 val_loss:4.9508 val_f1:0.7875\n",
      "EPOCH:28/100 loss:0.2536 f1:0.8798 val_loss:4.6912 val_f1:0.7877\n",
      "EPOCH:30/100 loss:0.2413 f1:0.8858 val_loss:4.4645 val_f1:0.7892\n",
      "EPOCH:32/100 loss:0.2303 f1:0.8913 val_loss:4.2601 val_f1:0.7905\n",
      "EPOCH:34/100 loss:0.2201 f1:0.8962 val_loss:4.0720 val_f1:0.7914\n",
      "EPOCH:36/100 loss:0.2109 f1:0.9006 val_loss:3.9012 val_f1:0.7923\n",
      "EPOCH:38/100 loss:0.2024 f1:0.9046 val_loss:3.7449 val_f1:0.7933\n",
      "EPOCH:40/100 loss:0.1949 f1:0.9083 val_loss:3.6050 val_f1:0.7941\n",
      "EPOCH:42/100 loss:0.1879 f1:0.9116 val_loss:3.4770 val_f1:0.7945\n",
      "EPOCH:44/100 loss:0.1815 f1:0.9147 val_loss:3.3581 val_f1:0.7944\n",
      "EPOCH:46/100 loss:0.1756 f1:0.9175 val_loss:3.2494 val_f1:0.7948\n",
      "EPOCH:48/100 loss:0.1700 f1:0.9201 val_loss:3.1459 val_f1:0.7953\n",
      "EPOCH:50/100 loss:0.1649 f1:0.9225 val_loss:3.0504 val_f1:0.7957\n",
      "EPOCH:52/100 loss:0.1602 f1:0.9248 val_loss:2.9644 val_f1:0.7960\n",
      "EPOCH:54/100 loss:0.1557 f1:0.9269 val_loss:2.8811 val_f1:0.7965\n",
      "EPOCH:56/100 loss:0.1516 f1:0.9289 val_loss:2.8039 val_f1:0.7970\n",
      "EPOCH:58/100 loss:0.1477 f1:0.9308 val_loss:2.7316 val_f1:0.7975\n",
      "EPOCH:60/100 loss:0.1440 f1:0.9324 val_loss:2.6632 val_f1:0.7977\n",
      "EPOCH:62/100 loss:0.1405 f1:0.9341 val_loss:2.5986 val_f1:0.7978\n",
      "EPOCH:64/100 loss:0.1373 f1:0.9357 val_loss:2.5409 val_f1:0.7979\n",
      "EPOCH:66/100 loss:0.1342 f1:0.9371 val_loss:2.4832 val_f1:0.7983\n",
      "EPOCH:68/100 loss:0.1312 f1:0.9385 val_loss:2.4280 val_f1:0.7988\n",
      "EPOCH:70/100 loss:0.1286 f1:0.9398 val_loss:2.3789 val_f1:0.7990\n",
      "EPOCH:72/100 loss:0.1259 f1:0.9409 val_loss:2.3299 val_f1:0.7993\n",
      "EPOCH:74/100 loss:0.1234 f1:0.9421 val_loss:2.2826 val_f1:0.7996\n",
      "EPOCH:76/100 loss:0.1210 f1:0.9432 val_loss:2.2376 val_f1:0.7998\n",
      "EPOCH:78/100 loss:0.1186 f1:0.9443 val_loss:2.1944 val_f1:0.7999\n",
      "EPOCH:80/100 loss:0.1165 f1:0.9453 val_loss:2.1547 val_f1:0.7999\n",
      "EPOCH:82/100 loss:0.1144 f1:0.9462 val_loss:2.1165 val_f1:0.8002\n",
      "EPOCH:84/100 loss:0.1124 f1:0.9471 val_loss:2.0795 val_f1:0.8002\n",
      "EPOCH:86/100 loss:0.1105 f1:0.9480 val_loss:2.0439 val_f1:0.8004\n",
      "EPOCH:88/100 loss:0.1087 f1:0.9488 val_loss:2.0115 val_f1:0.8003\n",
      "EPOCH:90/100 loss:0.1070 f1:0.9496 val_loss:1.9788 val_f1:0.8004\n",
      "EPOCH:92/100 loss:0.1053 f1:0.9503 val_loss:1.9477 val_f1:0.8005\n",
      "EPOCH:94/100 loss:0.1037 f1:0.9511 val_loss:1.9184 val_f1:0.8005\n",
      "EPOCH:96/100 loss:0.1022 f1:0.9518 val_loss:1.8899 val_f1:0.8005\n",
      "EPOCH:98/100 loss:0.1007 f1:0.9524 val_loss:1.8624 val_f1:0.8007\n",
      "Best f1-score = 0.800715804100036697\n"
     ]
    }
   ],
   "source": [
    "%tensorboard --logdir logs\n",
    "\n",
    "EPOCHS = 100\n",
    "pat, PATIENCE_MAX, best = 0, 5, 0\n",
    "\n",
    "f1test = []\n",
    "\n",
    "for epoch in range(EPOCHS):\n",
    "    \n",
    "    total_loss_train, total_acc_train = 0, 0\n",
    "    total_loss_test,  total_acc_test  = 0, 0\n",
    "    \n",
    "    batch_counter1, batch_counter2 = 0, 0\n",
    "    \n",
    "    #print(f'Epoch:{epoch}/{EPOCHS}\\n')\n",
    "    for batch, (train_tweet, train_label) in enumerate(train_dataset):\n",
    "        train_step(train_tweet, train_label)\n",
    "        s_loss = train_loss.result()\n",
    "        total_loss_train += train_loss.result()\n",
    "        batch_counter1 += 1\n",
    "        if batch % 2 == 0:\n",
    "            print(f'TRAIN: epoch:{epoch} batch:{batch} loss:{s_loss:.4f}', end='\\r')\n",
    "    with train_summary_writer.as_default():\n",
    "        tf.summary.scalar('loss', total_loss_train, step=epoch)\n",
    "        tf.summary.scalar('f1_score', sum(train_acc.result())/2, step=epoch)\n",
    "            \n",
    "    for batch, (test_tweet, test_label) in enumerate(test_dataset):\n",
    "        test_step(test_tweet, test_label)\n",
    "        s_loss = test_loss.result()\n",
    "        total_loss_test += test_loss.result()\n",
    "        batch_counter2 += 1\n",
    "        if batch % 2 == 0:\n",
    "            print(f'TEST: epoch:{epoch} batch:{batch} loss:{s_loss:.4f}', end='\\r')\n",
    "    with test_summary_writer.as_default():\n",
    "        tf.summary.scalar('loss', total_loss_test, step=epoch)\n",
    "        tf.summary.scalar('f1_score', sum(test_acc.result())/2, step=epoch)\n",
    "\n",
    "    trainL = total_loss_train/batch_counter1\n",
    "    trainA = sum(train_acc.result())/2\n",
    "    testL = total_loss_train/batch_counter2\n",
    "    testA = sum(test_acc.result())/2\n",
    "    f1test.append(testA)\n",
    "    \n",
    "    if  epoch % 2 == 0:\n",
    "        print(f'EPOCH:{epoch}/{EPOCHS} loss:{trainL:.4f} f1:{trainA:.4f} val_loss:{testL:.4f} val_f1:{testA:.4f}')\n",
    "     \n",
    "    if epoch > 1 and best >= f1test[-1]:\n",
    "        pat += 1\n",
    "        if pat >= PATIENCE_MAX:\n",
    "            print('\\nPatience counter was exceeded...!')\n",
    "            print(f'Last epoch:{epoch} with best f1-score = {best}')\n",
    "            break\n",
    "    else:\n",
    "        best = f1test[-1]\n",
    "        pat = 0\n",
    "    \n",
    "print(f'Best f1-score = {best}')"
   ]
  },
  {
   "cell_type": "code",
   "execution_count": null,
   "metadata": {},
   "outputs": [],
   "source": []
  },
  {
   "cell_type": "code",
   "execution_count": null,
   "metadata": {},
   "outputs": [],
   "source": []
  },
  {
   "cell_type": "code",
   "execution_count": null,
   "metadata": {},
   "outputs": [],
   "source": []
  }
 ],
 "metadata": {
  "kernelspec": {
   "display_name": "Python 3",
   "language": "python",
   "name": "python3"
  },
  "language_info": {
   "codemirror_mode": {
    "name": "ipython",
    "version": 3
   },
   "file_extension": ".py",
   "mimetype": "text/x-python",
   "name": "python",
   "nbconvert_exporter": "python",
   "pygments_lexer": "ipython3",
   "version": "3.7.6"
  }
 },
 "nbformat": 4,
 "nbformat_minor": 4
}
